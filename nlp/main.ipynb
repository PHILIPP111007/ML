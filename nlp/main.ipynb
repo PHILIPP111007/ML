{
 "cells": [
  {
   "cell_type": "code",
   "execution_count": null,
   "id": "b29502f2",
   "metadata": {},
   "outputs": [],
   "source": [
    "!pip install torch==2.7.0 --index-url https://download.pytorch.org/whl/cu118"
   ]
  },
  {
   "cell_type": "code",
   "execution_count": null,
   "id": "31495654",
   "metadata": {},
   "outputs": [],
   "source": [
    "import torch\n",
    "from transformers import pipeline, set_seed\n",
    "from googletrans import Translator\n",
    "\n",
    "\n",
    "set_seed(42)"
   ]
  },
  {
   "cell_type": "code",
   "execution_count": 8,
   "id": "fa6414c8",
   "metadata": {},
   "outputs": [],
   "source": [
    "device = torch.device(\"cpu\")"
   ]
  },
  {
   "cell_type": "code",
   "execution_count": 9,
   "id": "d013e55c",
   "metadata": {},
   "outputs": [
    {
     "name": "stderr",
     "output_type": "stream",
     "text": [
      "Device set to use cpu\n"
     ]
    }
   ],
   "source": [
    "generator = pipeline(\"text-generation\", model=\"kurakurai/Luth-LFM2-700M\", trust_remote_code=True, device=device)"
   ]
  },
  {
   "cell_type": "code",
   "execution_count": 10,
   "id": "1d4f8c16",
   "metadata": {},
   "outputs": [],
   "source": [
    "translator = Translator()\n",
    "\n",
    "\n",
    "async def translate_text_from_english_to_russian(text: str):\n",
    "    coroutine = await translator.translate(text, dest=\"ru\")\n",
    "    return coroutine.text\n",
    "\n",
    "\n",
    "async def translate_text_from_russian_to_english(text: str):\n",
    "    coroutine = await translator.translate(text, dest=\"en\")\n",
    "    return coroutine.text"
   ]
  },
  {
   "cell_type": "code",
   "execution_count": null,
   "id": "a9acc75a",
   "metadata": {},
   "outputs": [],
   "source": [
    "async def _generate(prompt: str, question: str):\n",
    "\n",
    "    prompt += question\n",
    "\n",
    "    coroutine = translate_text_from_russian_to_english(prompt)\n",
    "    prompt = await coroutine\n",
    "\n",
    "    message = [\n",
    "        {\"role\": \"user\", \"content\": prompt},\n",
    "    ]\n",
    "\n",
    "    generated_answer = generator(message)\n",
    "    generated_answer = generated_answer[0]['generated_text']\n",
    "\n",
    "    answer_assistant = \"\"\n",
    "    for item in generated_answer:\n",
    "        if item[\"role\"] == \"assistant\":\n",
    "            answer_assistant = item[\"content\"]\n",
    "            break\n",
    "\n",
    "    coroutine = translate_text_from_english_to_russian(answer_assistant)\n",
    "    answer_assistant = await coroutine\n",
    "\n",
    "    return answer_assistant"
   ]
  },
  {
   "cell_type": "code",
   "execution_count": null,
   "id": "9944726e",
   "metadata": {},
   "outputs": [],
   "source": [
    "from prompts.science import question, query\n",
    "\n",
    "\n",
    "async def add_prompts(prompt: str):\n",
    "    science = await _generate(prompt, question)\n",
    "    print(science)\n",
    "    return query"
   ]
  },
  {
   "cell_type": "code",
   "execution_count": null,
   "id": "a2c974c8",
   "metadata": {},
   "outputs": [],
   "source": [
    "async def generate(prompt: str):\n",
    "\n",
    "    prompt += add_prompts()\n",
    "\n",
    "    coroutine = translate_text_from_russian_to_english(prompt)\n",
    "    prompt = await coroutine\n",
    "\n",
    "    message = [\n",
    "        {\"role\": \"user\", \"content\": prompt},\n",
    "    ]\n",
    "\n",
    "    generated_answer = generator(message)\n",
    "    generated_answer = generated_answer[0]['generated_text']\n",
    "\n",
    "    answer_assistant = \"\"\n",
    "    for item in generated_answer:\n",
    "        if item[\"role\"] == \"assistant\":\n",
    "            answer_assistant = item[\"content\"]\n",
    "            break\n",
    "\n",
    "    coroutine = translate_text_from_english_to_russian(answer_assistant)\n",
    "    answer_assistant = await coroutine\n",
    "\n",
    "    return answer_assistant"
   ]
  },
  {
   "cell_type": "code",
   "execution_count": null,
   "id": "9b04bfc4",
   "metadata": {},
   "outputs": [
    {
     "name": "stdout",
     "output_type": "stream",
     "text": [
      "У меня все хорошо, спасибо! А ты?\n"
     ]
    }
   ],
   "source": [
    "prompt = \"Как у тебя дела?\"\n",
    "\n",
    "\n",
    "answer = generate(prompt)\n",
    "print(answer)"
   ]
  }
 ],
 "metadata": {
  "kernelspec": {
   "display_name": "nlp",
   "language": "python",
   "name": "python3"
  },
  "language_info": {
   "codemirror_mode": {
    "name": "ipython",
    "version": 3
   },
   "file_extension": ".py",
   "mimetype": "text/x-python",
   "name": "python",
   "nbconvert_exporter": "python",
   "pygments_lexer": "ipython3",
   "version": "3.12.11"
  }
 },
 "nbformat": 4,
 "nbformat_minor": 5
}
