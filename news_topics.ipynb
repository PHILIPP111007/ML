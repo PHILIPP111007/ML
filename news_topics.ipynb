{
  "cells": [
    {
      "cell_type": "markdown",
      "source": [
        "# GoogleDrive"
      ],
      "metadata": {
        "id": "XiD0DNdalWC-"
      }
    },
    {
      "cell_type": "code",
      "execution_count": 1,
      "metadata": {
        "colab": {
          "base_uri": "https://localhost:8080/"
        },
        "id": "OWMcxKHHTYqr",
        "outputId": "89f07380-18b0-4d08-9ca9-b6789f7c1e6b"
      },
      "outputs": [
        {
          "output_type": "stream",
          "name": "stdout",
          "text": [
            "Mounted at /content/drive/\n"
          ]
        }
      ],
      "source": [
        "from google.colab import drive\n",
        "\n",
        "drive.mount('/content/drive/')"
      ]
    },
    {
      "cell_type": "markdown",
      "source": [
        "# Main"
      ],
      "metadata": {
        "id": "OB_Zo1qIlaTB"
      }
    },
    {
      "cell_type": "code",
      "execution_count": 2,
      "metadata": {
        "id": "WuSDZ8SaEyQJ"
      },
      "outputs": [],
      "source": [
        "import ast\n",
        "import logging\n",
        "import multiprocessing\n",
        "\n",
        "import pandas as pd\n",
        "import numpy as np\n",
        "import seaborn as sns\n",
        "\n",
        "import requests\n",
        "import datetime\n",
        "from datetime import datetime, date, timedelta"
      ]
    },
    {
      "cell_type": "code",
      "source": [
        "# logging.root.level = logging.ERROR # disable word2vec eblans warnings\n",
        "logging.root.level = logging.DEBUG\n",
        "\n",
        "random_state = 42\n",
        "\n",
        "BASE_PATH = 'drive/MyDrive/Colab Notebooks/studcamp/' # for google drive\n",
        "# BASE_PATH = '' # for local\n",
        "\n",
        "data_path = BASE_PATH + 'data.csv'\n",
        "data_pickle_path = BASE_PATH + 'data.pkl'\n",
        "\n",
        "date_format = '%Y/%m/%d'"
      ],
      "metadata": {
        "id": "fvBOCMiWlGIM"
      },
      "execution_count": 3,
      "outputs": []
    },
    {
      "cell_type": "code",
      "source": [
        "def save_df(df: pd.DataFrame):\n",
        "    df.to_csv(data_path, index=False)\n",
        "\n",
        "\n",
        "def read_df() -> pd.DataFrame:\n",
        "    return pd.read_csv(data_path)\n",
        "\n",
        "\n",
        "def save_df_pickle(df: pd.DataFrame):\n",
        "    df.to_pickle(data_pickle_path)\n",
        "\n",
        "\n",
        "def read_df_pickle() -> pd.DataFrame:\n",
        "    return pd.read_pickle(data_pickle_path)"
      ],
      "metadata": {
        "id": "Up8642HdlNES"
      },
      "execution_count": 4,
      "outputs": []
    },
    {
      "cell_type": "code",
      "source": [
        "labels = {\n",
        "    'Общество': 0,\n",
        "    'Россия': 0,\n",
        "\n",
        "    'Экономика': 1,\n",
        "    'Силовые структуры': 2,\n",
        "    'Бывший СССР': 3,\n",
        "    'Спорт': 4,\n",
        "    'Забота о себе': 5,\n",
        "    'Строительство': 6,\n",
        "\n",
        "    'Туризм': 7,\n",
        "    'Путешествия': 7,\n",
        "\n",
        "    'Наука и техника': 8,\n",
        "}\n",
        "\n",
        "labels_set = set(labels.keys())\n",
        "labels_set"
      ],
      "metadata": {
        "colab": {
          "base_uri": "https://localhost:8080/"
        },
        "id": "bI9In9p1lKKk",
        "outputId": "f65ff13f-7667-4d7c-eac8-239838320ce9"
      },
      "execution_count": 5,
      "outputs": [
        {
          "output_type": "execute_result",
          "data": {
            "text/plain": [
              "{'Бывший СССР',\n",
              " 'Забота о себе',\n",
              " 'Наука и техника',\n",
              " 'Общество',\n",
              " 'Путешествия',\n",
              " 'Россия',\n",
              " 'Силовые структуры',\n",
              " 'Спорт',\n",
              " 'Строительство',\n",
              " 'Туризм',\n",
              " 'Экономика'}"
            ]
          },
          "metadata": {},
          "execution_count": 5
        }
      ]
    },
    {
      "cell_type": "code",
      "source": [
        "# df = pd.DataFrame(columns=['topic', 'article'])\n",
        "\n",
        "# df = read_df()"
      ],
      "metadata": {
        "id": "BkGsvlbSlRVW"
      },
      "execution_count": 13,
      "outputs": []
    },
    {
      "cell_type": "code",
      "source": [
        "save_df(df)"
      ],
      "metadata": {
        "id": "N4S6aTx3zbL_"
      },
      "execution_count": null,
      "outputs": []
    },
    {
      "cell_type": "code",
      "source": [
        "df = read_df_pickle()"
      ],
      "metadata": {
        "id": "pPmLj5R-Ay51"
      },
      "execution_count": 6,
      "outputs": []
    },
    {
      "cell_type": "code",
      "source": [
        "save_df_pickle(df)"
      ],
      "metadata": {
        "id": "vCoDzaVNAnpf"
      },
      "execution_count": 78,
      "outputs": []
    },
    {
      "cell_type": "code",
      "source": [
        "len(df)"
      ],
      "metadata": {
        "colab": {
          "base_uri": "https://localhost:8080/"
        },
        "id": "3djnXbsplm6w",
        "outputId": "6af09d00-7cb5-42ee-82c0-61cc2bbdb604"
      },
      "execution_count": 7,
      "outputs": [
        {
          "output_type": "execute_result",
          "data": {
            "text/plain": [
              "6661"
            ]
          },
          "metadata": {},
          "execution_count": 7
        }
      ]
    },
    {
      "cell_type": "code",
      "source": [
        "df"
      ],
      "metadata": {
        "colab": {
          "base_uri": "https://localhost:8080/",
          "height": 423
        },
        "id": "EIA9VUilSlfF",
        "outputId": "46dfa78e-56d8-4ee0-ec27-cb636ba11bb2"
      },
      "execution_count": 79,
      "outputs": [
        {
          "output_type": "execute_result",
          "data": {
            "text/plain": [
              "                  topic                                            article  \\\n",
              "0     Силовые структуры  «Я возил им оружие из Махачкалы» Что удалось у...   \n",
              "1             Экономика  Россияне массово скупают золото. Почему в него...   \n",
              "2             Экономика  Запретная упаковка. В России хотят отменить че...   \n",
              "3       Наука и техника  «Порочные методы следствия» После смерти Стали...   \n",
              "4       Наука и техника  Уникальный гаджет поступил в продажу в России....   \n",
              "...                 ...                                                ...   \n",
              "6656          Экономика  Прогноз по году Оценки роста ВВП в 2010 году в...   \n",
              "6657        Бывший СССР  Кому она нужна? Безделье в украинской Раде обр...   \n",
              "6658    Наука и техника  Фантастическая четверка Микки-Маусов Disney до...   \n",
              "6659          Экономика  Неинтересно Популярность негосударственных пен...   \n",
              "6660    Наука и техника  Всего ничего У человека нашли только три гена,...   \n",
              "\n",
              "      topic_id                               article_preprocessed  \\\n",
              "0            2  [возить, оружие, махачкала, удаваться, узнават...   \n",
              "1            1  [россиянин, массово, скупать, золото, почему, ...   \n",
              "2            1  [запретный, упаковка, россия, хотеть, отменять...   \n",
              "3            8  [порочный, метод, следствие, смерть, сталин, с...   \n",
              "4            8  [уникальный, гаджет, поступать, продажа, росси...   \n",
              "...        ...                                                ...   \n",
              "6656         1  [прогноз, год, оценка, рост, ввп, год, вновь, ...   \n",
              "6657         3  [нужный, безделье, украинский, рада, обретать,...   \n",
              "6658         8  [фантастический, четверка, микки, маусов, дого...   \n",
              "6659         1  [неинтересно, популярность, негосударственный,...   \n",
              "6660         8  [ничто, человек, находить, ген, отличать, шимп...   \n",
              "\n",
              "                                                 vector  \n",
              "0     [0.60661364, -0.24199635, -0.0969362, -0.34536...  \n",
              "1     [-0.25460634, -0.36730328, -0.2412432, -0.8133...  \n",
              "2     [-0.07687777, -0.34758478, 0.25802106, -0.9753...  \n",
              "3     [0.23195523, -0.26264107, 0.31117004, 0.044719...  \n",
              "4     [0.034427293, 0.015680952, -0.21674196, -0.415...  \n",
              "...                                                 ...  \n",
              "6656  [0.14905669, -0.33300966, 0.11172507, -0.28476...  \n",
              "6657  [-0.22620815, -0.5205046, 0.22890382, 0.072475...  \n",
              "6658  [0.3764503, 0.08406858, -0.07813962, -0.684656...  \n",
              "6659  [-0.14288117, -0.44632474, -0.3792301, -1.0764...  \n",
              "6660  [0.5749739, 0.19654325, -0.106479675, -0.50531...  \n",
              "\n",
              "[6661 rows x 5 columns]"
            ],
            "text/html": [
              "\n",
              "  <div id=\"df-9d6c64c0-ca3c-4e7b-bccc-f376caae98f0\" class=\"colab-df-container\">\n",
              "    <div>\n",
              "<style scoped>\n",
              "    .dataframe tbody tr th:only-of-type {\n",
              "        vertical-align: middle;\n",
              "    }\n",
              "\n",
              "    .dataframe tbody tr th {\n",
              "        vertical-align: top;\n",
              "    }\n",
              "\n",
              "    .dataframe thead th {\n",
              "        text-align: right;\n",
              "    }\n",
              "</style>\n",
              "<table border=\"1\" class=\"dataframe\">\n",
              "  <thead>\n",
              "    <tr style=\"text-align: right;\">\n",
              "      <th></th>\n",
              "      <th>topic</th>\n",
              "      <th>article</th>\n",
              "      <th>topic_id</th>\n",
              "      <th>article_preprocessed</th>\n",
              "      <th>vector</th>\n",
              "    </tr>\n",
              "  </thead>\n",
              "  <tbody>\n",
              "    <tr>\n",
              "      <th>0</th>\n",
              "      <td>Силовые структуры</td>\n",
              "      <td>«Я возил им оружие из Махачкалы» Что удалось у...</td>\n",
              "      <td>2</td>\n",
              "      <td>[возить, оружие, махачкала, удаваться, узнават...</td>\n",
              "      <td>[0.60661364, -0.24199635, -0.0969362, -0.34536...</td>\n",
              "    </tr>\n",
              "    <tr>\n",
              "      <th>1</th>\n",
              "      <td>Экономика</td>\n",
              "      <td>Россияне массово скупают золото. Почему в него...</td>\n",
              "      <td>1</td>\n",
              "      <td>[россиянин, массово, скупать, золото, почему, ...</td>\n",
              "      <td>[-0.25460634, -0.36730328, -0.2412432, -0.8133...</td>\n",
              "    </tr>\n",
              "    <tr>\n",
              "      <th>2</th>\n",
              "      <td>Экономика</td>\n",
              "      <td>Запретная упаковка. В России хотят отменить че...</td>\n",
              "      <td>1</td>\n",
              "      <td>[запретный, упаковка, россия, хотеть, отменять...</td>\n",
              "      <td>[-0.07687777, -0.34758478, 0.25802106, -0.9753...</td>\n",
              "    </tr>\n",
              "    <tr>\n",
              "      <th>3</th>\n",
              "      <td>Наука и техника</td>\n",
              "      <td>«Порочные методы следствия» После смерти Стали...</td>\n",
              "      <td>8</td>\n",
              "      <td>[порочный, метод, следствие, смерть, сталин, с...</td>\n",
              "      <td>[0.23195523, -0.26264107, 0.31117004, 0.044719...</td>\n",
              "    </tr>\n",
              "    <tr>\n",
              "      <th>4</th>\n",
              "      <td>Наука и техника</td>\n",
              "      <td>Уникальный гаджет поступил в продажу в России....</td>\n",
              "      <td>8</td>\n",
              "      <td>[уникальный, гаджет, поступать, продажа, росси...</td>\n",
              "      <td>[0.034427293, 0.015680952, -0.21674196, -0.415...</td>\n",
              "    </tr>\n",
              "    <tr>\n",
              "      <th>...</th>\n",
              "      <td>...</td>\n",
              "      <td>...</td>\n",
              "      <td>...</td>\n",
              "      <td>...</td>\n",
              "      <td>...</td>\n",
              "    </tr>\n",
              "    <tr>\n",
              "      <th>6656</th>\n",
              "      <td>Экономика</td>\n",
              "      <td>Прогноз по году Оценки роста ВВП в 2010 году в...</td>\n",
              "      <td>1</td>\n",
              "      <td>[прогноз, год, оценка, рост, ввп, год, вновь, ...</td>\n",
              "      <td>[0.14905669, -0.33300966, 0.11172507, -0.28476...</td>\n",
              "    </tr>\n",
              "    <tr>\n",
              "      <th>6657</th>\n",
              "      <td>Бывший СССР</td>\n",
              "      <td>Кому она нужна? Безделье в украинской Раде обр...</td>\n",
              "      <td>3</td>\n",
              "      <td>[нужный, безделье, украинский, рада, обретать,...</td>\n",
              "      <td>[-0.22620815, -0.5205046, 0.22890382, 0.072475...</td>\n",
              "    </tr>\n",
              "    <tr>\n",
              "      <th>6658</th>\n",
              "      <td>Наука и техника</td>\n",
              "      <td>Фантастическая четверка Микки-Маусов Disney до...</td>\n",
              "      <td>8</td>\n",
              "      <td>[фантастический, четверка, микки, маусов, дого...</td>\n",
              "      <td>[0.3764503, 0.08406858, -0.07813962, -0.684656...</td>\n",
              "    </tr>\n",
              "    <tr>\n",
              "      <th>6659</th>\n",
              "      <td>Экономика</td>\n",
              "      <td>Неинтересно Популярность негосударственных пен...</td>\n",
              "      <td>1</td>\n",
              "      <td>[неинтересно, популярность, негосударственный,...</td>\n",
              "      <td>[-0.14288117, -0.44632474, -0.3792301, -1.0764...</td>\n",
              "    </tr>\n",
              "    <tr>\n",
              "      <th>6660</th>\n",
              "      <td>Наука и техника</td>\n",
              "      <td>Всего ничего У человека нашли только три гена,...</td>\n",
              "      <td>8</td>\n",
              "      <td>[ничто, человек, находить, ген, отличать, шимп...</td>\n",
              "      <td>[0.5749739, 0.19654325, -0.106479675, -0.50531...</td>\n",
              "    </tr>\n",
              "  </tbody>\n",
              "</table>\n",
              "<p>6661 rows × 5 columns</p>\n",
              "</div>\n",
              "    <div class=\"colab-df-buttons\">\n",
              "\n",
              "  <div class=\"colab-df-container\">\n",
              "    <button class=\"colab-df-convert\" onclick=\"convertToInteractive('df-9d6c64c0-ca3c-4e7b-bccc-f376caae98f0')\"\n",
              "            title=\"Convert this dataframe to an interactive table.\"\n",
              "            style=\"display:none;\">\n",
              "\n",
              "  <svg xmlns=\"http://www.w3.org/2000/svg\" height=\"24px\" viewBox=\"0 -960 960 960\">\n",
              "    <path d=\"M120-120v-720h720v720H120Zm60-500h600v-160H180v160Zm220 220h160v-160H400v160Zm0 220h160v-160H400v160ZM180-400h160v-160H180v160Zm440 0h160v-160H620v160ZM180-180h160v-160H180v160Zm440 0h160v-160H620v160Z\"/>\n",
              "  </svg>\n",
              "    </button>\n",
              "\n",
              "  <style>\n",
              "    .colab-df-container {\n",
              "      display:flex;\n",
              "      gap: 12px;\n",
              "    }\n",
              "\n",
              "    .colab-df-convert {\n",
              "      background-color: #E8F0FE;\n",
              "      border: none;\n",
              "      border-radius: 50%;\n",
              "      cursor: pointer;\n",
              "      display: none;\n",
              "      fill: #1967D2;\n",
              "      height: 32px;\n",
              "      padding: 0 0 0 0;\n",
              "      width: 32px;\n",
              "    }\n",
              "\n",
              "    .colab-df-convert:hover {\n",
              "      background-color: #E2EBFA;\n",
              "      box-shadow: 0px 1px 2px rgba(60, 64, 67, 0.3), 0px 1px 3px 1px rgba(60, 64, 67, 0.15);\n",
              "      fill: #174EA6;\n",
              "    }\n",
              "\n",
              "    .colab-df-buttons div {\n",
              "      margin-bottom: 4px;\n",
              "    }\n",
              "\n",
              "    [theme=dark] .colab-df-convert {\n",
              "      background-color: #3B4455;\n",
              "      fill: #D2E3FC;\n",
              "    }\n",
              "\n",
              "    [theme=dark] .colab-df-convert:hover {\n",
              "      background-color: #434B5C;\n",
              "      box-shadow: 0px 1px 3px 1px rgba(0, 0, 0, 0.15);\n",
              "      filter: drop-shadow(0px 1px 2px rgba(0, 0, 0, 0.3));\n",
              "      fill: #FFFFFF;\n",
              "    }\n",
              "  </style>\n",
              "\n",
              "    <script>\n",
              "      const buttonEl =\n",
              "        document.querySelector('#df-9d6c64c0-ca3c-4e7b-bccc-f376caae98f0 button.colab-df-convert');\n",
              "      buttonEl.style.display =\n",
              "        google.colab.kernel.accessAllowed ? 'block' : 'none';\n",
              "\n",
              "      async function convertToInteractive(key) {\n",
              "        const element = document.querySelector('#df-9d6c64c0-ca3c-4e7b-bccc-f376caae98f0');\n",
              "        const dataTable =\n",
              "          await google.colab.kernel.invokeFunction('convertToInteractive',\n",
              "                                                    [key], {});\n",
              "        if (!dataTable) return;\n",
              "\n",
              "        const docLinkHtml = 'Like what you see? Visit the ' +\n",
              "          '<a target=\"_blank\" href=https://colab.research.google.com/notebooks/data_table.ipynb>data table notebook</a>'\n",
              "          + ' to learn more about interactive tables.';\n",
              "        element.innerHTML = '';\n",
              "        dataTable['output_type'] = 'display_data';\n",
              "        await google.colab.output.renderOutput(dataTable, element);\n",
              "        const docLink = document.createElement('div');\n",
              "        docLink.innerHTML = docLinkHtml;\n",
              "        element.appendChild(docLink);\n",
              "      }\n",
              "    </script>\n",
              "  </div>\n",
              "\n",
              "\n",
              "<div id=\"df-a285943f-f5fb-448b-8fae-9f58582330e4\">\n",
              "  <button class=\"colab-df-quickchart\" onclick=\"quickchart('df-a285943f-f5fb-448b-8fae-9f58582330e4')\"\n",
              "            title=\"Suggest charts\"\n",
              "            style=\"display:none;\">\n",
              "\n",
              "<svg xmlns=\"http://www.w3.org/2000/svg\" height=\"24px\"viewBox=\"0 0 24 24\"\n",
              "     width=\"24px\">\n",
              "    <g>\n",
              "        <path d=\"M19 3H5c-1.1 0-2 .9-2 2v14c0 1.1.9 2 2 2h14c1.1 0 2-.9 2-2V5c0-1.1-.9-2-2-2zM9 17H7v-7h2v7zm4 0h-2V7h2v10zm4 0h-2v-4h2v4z\"/>\n",
              "    </g>\n",
              "</svg>\n",
              "  </button>\n",
              "\n",
              "<style>\n",
              "  .colab-df-quickchart {\n",
              "      --bg-color: #E8F0FE;\n",
              "      --fill-color: #1967D2;\n",
              "      --hover-bg-color: #E2EBFA;\n",
              "      --hover-fill-color: #174EA6;\n",
              "      --disabled-fill-color: #AAA;\n",
              "      --disabled-bg-color: #DDD;\n",
              "  }\n",
              "\n",
              "  [theme=dark] .colab-df-quickchart {\n",
              "      --bg-color: #3B4455;\n",
              "      --fill-color: #D2E3FC;\n",
              "      --hover-bg-color: #434B5C;\n",
              "      --hover-fill-color: #FFFFFF;\n",
              "      --disabled-bg-color: #3B4455;\n",
              "      --disabled-fill-color: #666;\n",
              "  }\n",
              "\n",
              "  .colab-df-quickchart {\n",
              "    background-color: var(--bg-color);\n",
              "    border: none;\n",
              "    border-radius: 50%;\n",
              "    cursor: pointer;\n",
              "    display: none;\n",
              "    fill: var(--fill-color);\n",
              "    height: 32px;\n",
              "    padding: 0;\n",
              "    width: 32px;\n",
              "  }\n",
              "\n",
              "  .colab-df-quickchart:hover {\n",
              "    background-color: var(--hover-bg-color);\n",
              "    box-shadow: 0 1px 2px rgba(60, 64, 67, 0.3), 0 1px 3px 1px rgba(60, 64, 67, 0.15);\n",
              "    fill: var(--button-hover-fill-color);\n",
              "  }\n",
              "\n",
              "  .colab-df-quickchart-complete:disabled,\n",
              "  .colab-df-quickchart-complete:disabled:hover {\n",
              "    background-color: var(--disabled-bg-color);\n",
              "    fill: var(--disabled-fill-color);\n",
              "    box-shadow: none;\n",
              "  }\n",
              "\n",
              "  .colab-df-spinner {\n",
              "    border: 2px solid var(--fill-color);\n",
              "    border-color: transparent;\n",
              "    border-bottom-color: var(--fill-color);\n",
              "    animation:\n",
              "      spin 1s steps(1) infinite;\n",
              "  }\n",
              "\n",
              "  @keyframes spin {\n",
              "    0% {\n",
              "      border-color: transparent;\n",
              "      border-bottom-color: var(--fill-color);\n",
              "      border-left-color: var(--fill-color);\n",
              "    }\n",
              "    20% {\n",
              "      border-color: transparent;\n",
              "      border-left-color: var(--fill-color);\n",
              "      border-top-color: var(--fill-color);\n",
              "    }\n",
              "    30% {\n",
              "      border-color: transparent;\n",
              "      border-left-color: var(--fill-color);\n",
              "      border-top-color: var(--fill-color);\n",
              "      border-right-color: var(--fill-color);\n",
              "    }\n",
              "    40% {\n",
              "      border-color: transparent;\n",
              "      border-right-color: var(--fill-color);\n",
              "      border-top-color: var(--fill-color);\n",
              "    }\n",
              "    60% {\n",
              "      border-color: transparent;\n",
              "      border-right-color: var(--fill-color);\n",
              "    }\n",
              "    80% {\n",
              "      border-color: transparent;\n",
              "      border-right-color: var(--fill-color);\n",
              "      border-bottom-color: var(--fill-color);\n",
              "    }\n",
              "    90% {\n",
              "      border-color: transparent;\n",
              "      border-bottom-color: var(--fill-color);\n",
              "    }\n",
              "  }\n",
              "</style>\n",
              "\n",
              "  <script>\n",
              "    async function quickchart(key) {\n",
              "      const quickchartButtonEl =\n",
              "        document.querySelector('#' + key + ' button');\n",
              "      quickchartButtonEl.disabled = true;  // To prevent multiple clicks.\n",
              "      quickchartButtonEl.classList.add('colab-df-spinner');\n",
              "      try {\n",
              "        const charts = await google.colab.kernel.invokeFunction(\n",
              "            'suggestCharts', [key], {});\n",
              "      } catch (error) {\n",
              "        console.error('Error during call to suggestCharts:', error);\n",
              "      }\n",
              "      quickchartButtonEl.classList.remove('colab-df-spinner');\n",
              "      quickchartButtonEl.classList.add('colab-df-quickchart-complete');\n",
              "    }\n",
              "    (() => {\n",
              "      let quickchartButtonEl =\n",
              "        document.querySelector('#df-a285943f-f5fb-448b-8fae-9f58582330e4 button');\n",
              "      quickchartButtonEl.style.display =\n",
              "        google.colab.kernel.accessAllowed ? 'block' : 'none';\n",
              "    })();\n",
              "  </script>\n",
              "</div>\n",
              "    </div>\n",
              "  </div>\n"
            ],
            "application/vnd.google.colaboratory.intrinsic+json": {
              "type": "dataframe",
              "variable_name": "df",
              "summary": "{\n  \"name\": \"df\",\n  \"rows\": 6661,\n  \"fields\": [\n    {\n      \"column\": \"topic\",\n      \"properties\": {\n        \"dtype\": \"category\",\n        \"num_unique_values\": 8,\n        \"samples\": [\n          \"\\u042d\\u043a\\u043e\\u043d\\u043e\\u043c\\u0438\\u043a\\u0430\",\n          \"\\u0420\\u043e\\u0441\\u0441\\u0438\\u044f\",\n          \"\\u0421\\u0438\\u043b\\u043e\\u0432\\u044b\\u0435 \\u0441\\u0442\\u0440\\u0443\\u043a\\u0442\\u0443\\u0440\\u044b\"\n        ],\n        \"semantic_type\": \"\",\n        \"description\": \"\"\n      }\n    },\n    {\n      \"column\": \"article\",\n      \"properties\": {\n        \"dtype\": \"string\",\n        \"num_unique_values\": 6658,\n        \"samples\": [\n          \"\\u0411\\u043e\\u043b\\u044c\\u0448\\u043e\\u0435 \\u0431\\u0443\\u0434\\u0443\\u0449\\u0435\\u0435 \\u041d\\u0430\\u0443\\u0447\\u043d\\u044b\\u0435 \\u0438\\u0442\\u043e\\u0433\\u0438 2010 \\u0433\\u043e\\u0434\\u0430\\u0412 2010 \\u0433\\u043e\\u0434\\u0443 \\u043d\\u0430\\u0443\\u043a\\u0430 \\u0431\\u043e\\u0434\\u0440\\u043e \\u0440\\u0430\\u0437\\u0432\\u0438\\u0432\\u0430\\u043b\\u0430\\u0441\\u044c \\u0432\\u043e \\u0432\\u0441\\u0435\\u0445 \\u043e\\u0431\\u043b\\u0430\\u0441\\u0442\\u044f\\u0445. \\u0424\\u0438\\u0437\\u0438\\u043a\\u0438 \\u0441\\u0443\\u043c\\u0435\\u043b\\u0438 \\u043f\\u043e\\u0439\\u043c\\u0430\\u0442\\u044c \\u0432 \\u043b\\u043e\\u0432\\u0443\\u0448\\u043a\\u0443 \\u0430\\u0442\\u043e\\u043c\\u044b \\u0430\\u043d\\u0442\\u0438\\u043c\\u0430\\u0442\\u0435\\u0440\\u0438\\u0438, \\u0430\\u0441\\u0442\\u0440\\u043e\\u043d\\u043e\\u043c\\u044b \\u043f\\u043e\\u0447\\u0442\\u0438 \\u043d\\u0430\\u0448\\u043b\\u0438 \\u043f\\u043b\\u0430\\u043d\\u0435\\u0442\\u044b, \\u043d\\u0430 \\u043a\\u043e\\u0442\\u043e\\u0440\\u044b\\u0445 \\u043c\\u043e\\u0433\\u043b\\u0430 \\u0431\\u044b \\u0437\\u0430\\u0432\\u0435\\u0441\\u0442\\u0438\\u0441\\u044c \\u0436\\u0438\\u0437\\u043d\\u044c, \\u0431\\u0438\\u043e\\u043b\\u043e\\u0433\\u0438 \\u0440\\u0430\\u0441\\u0448\\u0438\\u0444\\u0440\\u043e\\u0432\\u044b\\u0432\\u0430\\u043b\\u0438 \\u0433\\u0435\\u043d\\u043e\\u043c\\u044b \\u043d\\u043e\\u0432\\u044b\\u0445 \\u0432\\u0438\\u0434\\u043e\\u0432 \\u043b\\u044e\\u0434\\u0435\\u0439, \\u0430 \\u0438\\u043d\\u0436\\u0435\\u043d\\u0435\\u0440\\u044b \\u0437\\u0430\\u043f\\u0443\\u0441\\u043a\\u0430\\u043b\\u0438 \\u0447\\u0430\\u0441\\u0442\\u043d\\u044b\\u0435 \\u043a\\u043e\\u0441\\u043c\\u0438\\u0447\\u0435\\u0441\\u043a\\u0438\\u0435 \\u043a\\u043e\\u0440\\u0430\\u0431\\u043b\\u0438. \\u0412\\u0441\\u0435 \\u044d\\u0442\\u0438 \\u0438 \\u0434\\u0440\\u0443\\u0433\\u0438\\u0435 \\u0438\\u043d\\u0442\\u0435\\u0440\\u0435\\u0441\\u043d\\u044b\\u0435 \\u0441\\u043e\\u0431\\u044b\\u0442\\u0438\\u044f \\u0443\\u0445\\u043e\\u0434\\u044f\\u0449\\u0435\\u0433\\u043e \\u0433\\u043e\\u0434\\u0430 \\u043f\\u0440\\u0435\\u0434\\u0441\\u0442\\u0430\\u0432\\u043b\\u0435\\u043d\\u044b \\u0432 \\u043a\\u0440\\u0430\\u0442\\u043a\\u043e\\u043c \\u043e\\u0431\\u0437\\u043e\\u0440\\u0435 \\u043d\\u0430\\u0443\\u0447\\u043d\\u044b\\u0445 \\u0438\\u0442\\u043e\\u0433\\u043e\\u0432 \\u0443\\u0445\\u043e\\u0434\\u044f\\u0449\\u0435\\u0433\\u043e \\u0433\\u043e\\u0434\\u0430.\\u0410\\u0441\\u0442\\u0440\\u043e\\u043d\\u043e\\u043c\\u0438\\u044f\\u0410\\u0441\\u0442\\u0440\\u043e\\u043d\\u043e\\u043c\\u0438\\u0447\\u0435\\u0441\\u043a\\u0438\\u0435 \\u043d\\u043e\\u0432\\u043e\\u0441\\u0442\\u0438 \\u0442\\u0440\\u0430\\u0434\\u0438\\u0446\\u0438\\u043e\\u043d\\u043d\\u043e \\u0437\\u0430\\u043d\\u0438\\u043c\\u0430\\u044e\\u0442 \\u0441\\u0430\\u043c\\u044b\\u0435 \\u043f\\u0440\\u0438\\u0432\\u0438\\u043b\\u0435\\u0433\\u0438\\u0440\\u043e\\u0432\\u0430\\u043d\\u043d\\u044b\\u0435 \\u043c\\u0435\\u0441\\u0442\\u0430 \\u043d\\u0430 \\u043f\\u043e\\u043b\\u043e\\u0441\\u0430\\u0445 \\u0432\\u0441\\u0435\\u0445 \\u043d\\u0430\\u0443\\u0447\\u043d\\u044b\\u0445 \\u0421\\u041c\\u0418 \\u2013 \\u0435\\u0449\\u0435 \\u0431\\u044b, \\u043e\\u0442\\u043a\\u0440\\u044b\\u0442\\u0438\\u044f \\u0430\\u0441\\u0442\\u0440\\u043e\\u043d\\u043e\\u043c\\u043e\\u0432 \\u043e\\u0442\\u043b\\u0438\\u0447\\u0430\\u044e\\u0442\\u0441\\u044f \\u043c\\u0430\\u0441\\u0448\\u0442\\u0430\\u0431\\u043d\\u043e\\u0441\\u0442\\u044c\\u044e \\u0438 \\u0440\\u043e\\u043c\\u0430\\u043d\\u0442\\u0438\\u0447\\u0435\\u0441\\u043a\\u043e\\u0439 \\u0437\\u0430\\u0433\\u0430\\u0434\\u043e\\u0447\\u043d\\u043e\\u0441\\u0442\\u044c\\u044e. \\u0412 2010 \\u0433\\u043e\\u0434\\u0443 \\u0438\\u0441\\u0441\\u043b\\u0435\\u0434\\u043e\\u0432\\u0430\\u0442\\u0435\\u043b\\u0438 \\u043a\\u043e\\u0441\\u043c\\u043e\\u0441\\u0430 \\u043d\\u0435 \\u0440\\u0430\\u0437 \\u043e\\u043f\\u0440\\u0430\\u0432\\u0434\\u0430\\u043b\\u0438 \\u043e\\u0436\\u0438\\u0434\\u0430\\u043d\\u0438\\u044f \\u0438\\u043d\\u0442\\u0435\\u0440\\u0435\\u0441\\u0443\\u044e\\u0449\\u0438\\u0445\\u0441\\u044f \\u043d\\u0430\\u0443\\u043a\\u043e\\u0439 \\u0447\\u0438\\u0442\\u0430\\u0442\\u0435\\u043b\\u0435\\u0439 \\u2013 \\u043d\\u0430\\u043f\\u0440\\u0438\\u043c\\u0435\\u0440, \\u0441\\u043e\\u043e\\u0431\\u0449\\u0435\\u043d\\u0438\\u0435\\u043c \\u043e\\u0431 \\u043e\\u0431\\u043d\\u0430\\u0440\\u0443\\u0436\\u0435\\u043d\\u0438\\u0438 \\u0441\\u0430\\u043c\\u043e\\u0433\\u043e \\u0443\\u0434\\u0430\\u043b\\u0435\\u043d\\u043d\\u043e\\u0433\\u043e \\u043e\\u0431\\u044a\\u0435\\u043a\\u0442\\u0430 \\u0432\\u043e \\u0412\\u0441\\u0435\\u043b\\u0435\\u043d\\u043d\\u043e\\u0439 (\\u0430, \\u0437\\u043d\\u0430\\u0447\\u0438\\u0442, \\u0438 \\u0441\\u0430\\u043c\\u043e\\u0433\\u043e \\u0441\\u0442\\u0430\\u0440\\u043e\\u0433\\u043e \\u0438\\u0437 \\u0438\\u0437\\u0432\\u0435\\u0441\\u0442\\u043d\\u044b\\u0445). \\u0418\\u043c \\u043e\\u043a\\u0430\\u0437\\u0430\\u043b\\u0430\\u0441\\u044c \\u0433\\u0430\\u043b\\u0430\\u043a\\u0442\\u0438\\u043a\\u0430 \\u0441\\u043e \\u0441\\u043b\\u043e\\u0436\\u043d\\u044b\\u043c \\u043d\\u0430\\u0437\\u0432\\u0430\\u043d\\u0438\\u0435\\u043c UDFy-38135539, \\u043a\\u043e\\u0442\\u043e\\u0440\\u0430\\u044f \\u043e\\u0431\\u0440\\u0430\\u0437\\u043e\\u0432\\u0430\\u043b\\u0430\\u0441\\u044c \\u0441\\u043f\\u0443\\u0441\\u0442\\u044f \\u043a\\u0430\\u043a\\u0438\\u0445-\\u0442\\u043e 600 \\u043c\\u0438\\u043b\\u043b\\u0438\\u043e\\u043d\\u043e\\u0432 \\u043b\\u0435\\u0442 \\u043f\\u043e\\u0441\\u043b\\u0435 \\u0411\\u043e\\u043b\\u044c\\u0448\\u043e\\u0433\\u043e \\u0432\\u0437\\u0440\\u044b\\u0432\\u0430 (\\u0442\\u043e \\u0435\\u0441\\u0442\\u044c \\u0441\\u0435\\u0439\\u0447\\u0430\\u0441 \\u0435\\u0439 13,1 \\u043c\\u0438\\u043b\\u043b\\u0438\\u0430\\u0440\\u0434\\u0430 \\u043b\\u0435\\u0442), \\u0438 \\u0441\\u043c\\u0435\\u0441\\u0442\\u0438\\u043b\\u0430 \\u0441 \\u043f\\u044c\\u0435\\u0434\\u0435\\u0441\\u0442\\u0430\\u043b\\u0430 \\u043f\\u0440\\u0435\\u0434\\u044b\\u0434\\u0443\\u0449\\u0435\\u0433\\u043e \\u0440\\u0435\\u043a\\u043e\\u0440\\u0434\\u0441\\u043c\\u0435\\u043d\\u0430 \\u2013 \\u0433\\u0430\\u043c\\u043c\\u0430-\\u0432\\u0441\\u043f\\u043b\\u0435\\u0441\\u043a \\u0432\\u043e\\u0437\\u0440\\u0430\\u0441\\u0442\\u043e\\u043c 13 \\u043c\\u0438\\u043b\\u043b\\u0438\\u0430\\u0440\\u0434\\u043e\\u0432 \\u043b\\u0435\\u0442.\\u0418\\u0437 \\u0434\\u0440\\u0443\\u0433\\u0438\\u0445 \\u0440\\u0435\\u043a\\u043e\\u0440\\u0434\\u043e\\u0432 \\u043c\\u043e\\u0436\\u043d\\u043e \\u043f\\u0435\\u0440\\u0435\\u0447\\u0438\\u0441\\u043b\\u0438\\u0442\\u044c \\u0441\\u0430\\u043c\\u0443\\u044e \\u0442\\u044f\\u0436\\u0435\\u043b\\u0443\\u044e \\u0437\\u0432\\u0435\\u0437\\u0434\\u0443 (\\u043c\\u0430\\u0441\\u0441\\u0430 \\u201c\\u043f\\u044b\\u0448\\u043a\\u0438\\u201d RMC 136a1 \\u0440\\u0430\\u0432\\u043d\\u0430 \\u043c\\u0430\\u0441\\u0441\\u0435 265 \\u0421\\u043e\\u043b\\u043d\\u0446), \\u0441\\u0430\\u043c\\u0443\\u044e \\u043c\\u043e\\u043b\\u043e\\u0434\\u0443\\u044e \\u0437\\u0432\\u0435\\u0437\\u0434\\u0443 (\\u0441\\u0432\\u0435\\u0442\\u0438\\u043b\\u043e L1448-IRS2E \\u043d\\u0430\\u0445\\u043e\\u0434\\u0438\\u0442\\u0441\\u044f \\u043c\\u0435\\u0436\\u0434\\u0443 \\u0441\\u0442\\u0430\\u0434\\u0438\\u044f\\u043c\\u0438 \\\"\\u043d\\u0435\\u0434\\u043e\\u0437\\u0432\\u0435\\u0437\\u0434\\u044b\\\" \\u0438 \\\"\\u043f\\u0440\\u043e\\u0442\\u043e\\u0437\\u0432\\u0435\\u0437\\u0434\\u044b\\\"), \\u0441\\u0430\\u043c\\u0443\\u044e \\u043c\\u0430\\u0441\\u0441\\u0438\\u0432\\u043d\\u0443\\u044e \\u043d\\u0435\\u0439\\u0442\\u0440\\u043e\\u043d\\u043d\\u0443\\u044e \\u0437\\u0432\\u0435\\u0437\\u0434\\u0443, \\u043a\\u043e\\u0442\\u043e\\u0440\\u0430\\u044f \\u043d\\u0435 \\u0443\\u043a\\u043b\\u0430\\u0434\\u044b\\u0432\\u0430\\u0435\\u0442\\u0441\\u044f \\u0432 \\u0440\\u0430\\u043c\\u043a\\u0438 \\u0441\\u0443\\u0449\\u0435\\u0441\\u0442\\u0432\\u0443\\u044e\\u0449\\u0438\\u0445 \\u0442\\u0435\\u043e\\u0440\\u0438\\u0439 \\u043e\\u0431\\u0440\\u0430\\u0437\\u043e\\u0432\\u0430\\u043d\\u0438\\u044f \\u044d\\u0442\\u0438\\u0445 \\u043e\\u0431\\u044a\\u0435\\u043a\\u0442\\u043e\\u0432, \\u0438 \\u0441\\u0430\\u043c\\u0443\\u044e \\u043c\\u043e\\u043b\\u043e\\u0434\\u0443\\u044e \\u044d\\u043a\\u0437\\u043e\\u043f\\u043b\\u0430\\u043d\\u0435\\u0442\\u0443 \\u043f\\u043e\\u0434 \\u043d\\u0430\\u0437\\u0432\\u0430\\u043d\\u0438\\u0435\\u043c BD+20 1790b, \\u043a\\u043e\\u0442\\u043e\\u0440\\u0430\\u044f \\u0435\\u0434\\u0432\\u0430-\\u0435\\u0434\\u0432\\u0430 \\u0440\\u0430\\u0437\\u043c\\u0435\\u043d\\u044f\\u043b\\u0430 36-\\u0439 \\u043c\\u0438\\u043b\\u043b\\u0438\\u043e\\u043d \\u043b\\u0435\\u0442.\\u0412 2010 \\u0433\\u043e\\u0434\\u0443 \\u043e\\u0444\\u043e\\u0440\\u043c\\u0438\\u043b\\u0430\\u0441\\u044c \\u043e\\u0434\\u043d\\u0430 \\u043d\\u0435\\u043e\\u0431\\u044b\\u0447\\u043d\\u0430\\u044f \\u0442\\u0435\\u043d\\u0434\\u0435\\u043d\\u0446\\u0438\\u044f, \\u043a\\u043e\\u0442\\u043e\\u0440\\u0430\\u044f \\u043d\\u0435 \\u0432\\u043f\\u0438\\u0441\\u044b\\u0432\\u0430\\u0435\\u0442\\u0441\\u044f \\u0432 \\u0432\\u044b\\u0431\\u0440\\u0430\\u043d\\u043d\\u043e\\u0435 \\u0434\\u043b\\u044f \\u044d\\u0442\\u043e\\u0433\\u043e \\u043e\\u0431\\u0437\\u043e\\u0440\\u0430 \\u0434\\u0435\\u043b\\u0435\\u043d\\u0438\\u0435 \\u043d\\u0430 \\u0440\\u0430\\u0437\\u0434\\u0435\\u043b\\u044b. \\u0423\\u0447\\u0435\\u043d\\u044b\\u0435-\\u0431\\u0438\\u043e\\u043b\\u043e\\u0433\\u0438, \\u0437\\u0430\\u043d\\u0438\\u043c\\u0430\\u044e\\u0449\\u0438\\u0435\\u0441\\u044f \\u0440\\u0430\\u0437\\u0434\\u0435\\u043b\\u0430\\u043c\\u0438 \\u043d\\u0430\\u0443\\u043a\\u0438, \\u0442\\u0440\\u0435\\u0431\\u0443\\u044e\\u0449\\u0438\\u043c\\u0438 \\u043c\\u043e\\u043d\\u043e\\u0442\\u043e\\u043d\\u043d\\u043e\\u0433\\u043e \\u043f\\u0435\\u0440\\u0435\\u0431\\u043e\\u0440\\u0430 \\u0440\\u0430\\u0437\\u043b\\u0438\\u0447\\u043d\\u044b\\u0445 \\u0432\\u0430\\u0440\\u0438\\u0430\\u043d\\u0442\\u043e\\u0432 (\\u0430 \\u0438\\u043c\\u0435\\u043d\\u043d\\u043e \\u043e\\u043f\\u0440\\u0435\\u0434\\u0435\\u043b\\u0435\\u043d\\u0438\\u0435\\u043c \\u0442\\u0440\\u0435\\u0445\\u043c\\u0435\\u0440\\u043d\\u043e\\u0439 \\u0441\\u0442\\u0440\\u0443\\u043a\\u0442\\u0443\\u0440\\u044b \\u0431\\u0435\\u043b\\u043a\\u043e\\u0432 \\u0438 \\u0432\\u044b\\u0440\\u0430\\u0432\\u043d\\u0438\\u0432\\u0430\\u043d\\u0438\\u0435\\u043c \\u043f\\u043e\\u0441\\u043b\\u0435\\u0434\\u043e\\u0432\\u0430\\u0442\\u0435\\u043b\\u044c\\u043d\\u043e\\u0441\\u0442\\u0435\\u0439 \\u0414\\u041d\\u041a), \\u043f\\u0440\\u0438\\u0432\\u043b\\u0435\\u043a\\u043b\\u0438 \\u0434\\u043b\\u044f \\u0441\\u0432\\u043e\\u0438\\u0445 \\u0438\\u0441\\u0441\\u043b\\u0435\\u0434\\u043e\\u0432\\u0430\\u043d\\u0438\\u0439 \\u0433\\u0435\\u0439\\u043c\\u0435\\u0440\\u043e\\u0432. \\u0418\\u0441\\u0441\\u043b\\u0435\\u0434\\u043e\\u0432\\u0430\\u0442\\u0435\\u043b\\u0438 \\u0440\\u0430\\u0437\\u0440\\u0430\\u0431\\u043e\\u0442\\u0430\\u043b\\u0438 \\u0438\\u0433\\u0440\\u044b, \\u0443\\u0447\\u0430\\u0441\\u0442\\u043d\\u0438\\u043a\\u0438 \\u043a\\u043e\\u0442\\u043e\\u0440\\u044b\\u0445 \\u0434\\u043e\\u0431\\u0440\\u043e\\u0432\\u043e\\u043b\\u044c\\u043d\\u043e \\u0440\\u0435\\u0448\\u0430\\u044e\\u0442 \\u043d\\u0430\\u0443\\u0447\\u043d\\u044b\\u0435 \\u0437\\u0430\\u0434\\u0430\\u0447\\u0438, \\u043f\\u043e\\u043b\\u0443\\u0447\\u0430\\u044f \\u0437\\u0430 \\u044d\\u0442\\u043e \\u0431\\u043e\\u043d\\u0443\\u0441\\u044b. \\u041e\\u043a\\u0430\\u0437\\u0430\\u043b\\u043e\\u0441\\u044c, \\u0447\\u0442\\u043e \\u0433\\u0435\\u0439\\u043c\\u0435\\u0440\\u044b \\u0432\\u044b\\u043f\\u043e\\u043b\\u043d\\u044f\\u044e\\u0442 \\u0442\\u0440\\u0435\\u0431\\u0443\\u0435\\u043c\\u044b\\u0435 \\u043e\\u043f\\u0435\\u0440\\u0430\\u0446\\u0438\\u0438 \\u043d\\u0430\\u043c\\u043d\\u043e\\u0433\\u043e \\u0431\\u044b\\u0441\\u0442\\u0440\\u0435\\u0435 \\u043e\\u0431\\u044b\\u0447\\u043d\\u044b\\u0445 \\u0438 \\u0434\\u0430\\u0436\\u0435 \\u0441\\u0443\\u043f\\u0435\\u0440\\u043a\\u043e\\u043c\\u043f\\u044c\\u044e\\u0442\\u0435\\u0440\\u043e\\u0432. \\u041f\\u043e\\u0434\\u0440\\u043e\\u0431\\u043d\\u0435\\u0435 \\u043e \\u043d\\u043e\\u0432\\u043e\\u043c \\u043d\\u0430\\u043f\\u0440\\u0430\\u0432\\u043b\\u0435\\u043d\\u0438\\u0438 \\u0438\\u0433\\u0440\\u043e\\u0432\\u043e\\u0439 \\u0438\\u043d\\u0434\\u0443\\u0441\\u0442\\u0440\\u0438\\u0438 \\u043c\\u043e\\u0436\\u043d\\u043e \\u043f\\u0440\\u043e\\u0447\\u0438\\u0442\\u0430\\u0442\\u044c \\u0442\\u0443\\u0442 \\u0438 \\u0442\\u0443\\u0442.\\r\\u041a\\u0440\\u043e\\u043c\\u0435 \\u0442\\u043e\\u0433\\u043e, \\u0432 \\u0443\\u0445\\u043e\\u0434\\u044f\\u0449\\u0435\\u043c \\u0433\\u043e\\u0434\\u0443 \\u0430\\u0441\\u0442\\u0440\\u043e\\u043d\\u043e\\u043c\\u044b \\u0441\\u043e\\u043e\\u0431\\u0449\\u0438\\u043b\\u0438, \\u0447\\u0442\\u043e \\u0438\\u043c \\u0432\\u043f\\u0435\\u0440\\u0432\\u044b\\u0435 \\u0443\\u0434\\u0430\\u043b\\u043e\\u0441\\u044c \\u043f\\u0440\\u0430\\u043a\\u0442\\u0438\\u0447\\u0435\\u0441\\u043a\\u0438 \\u043f\\u043e\\u043f\\u0440\\u0438\\u0441\\u0443\\u0442\\u0441\\u0442\\u0432\\u043e\\u0432\\u0430\\u0442\\u044c \\u043f\\u0440\\u0438 \\u0440\\u043e\\u0436\\u0434\\u0435\\u043d\\u0438\\u0438 \\u0447\\u0435\\u0440\\u043d\\u043e\\u0439 \\u0434\\u044b\\u0440\\u044b - \\u0432 1979 \\u0433\\u043e\\u0434\\u0443 \\u0443\\u0447\\u0435\\u043d\\u044b\\u0435 \\u0437\\u0430\\u0440\\u0435\\u0433\\u0438\\u0441\\u0442\\u0440\\u0438\\u0440\\u043e\\u0432\\u0430\\u043b\\u0438 \\u0432 \\u0433\\u0430\\u043b\\u0430\\u043a\\u0442\\u0438\\u043a\\u0435 M100 \\u0432\\u0437\\u0440\\u044b\\u0432 \\u0441\\u0432\\u0435\\u0440\\u0445\\u043d\\u043e\\u0432\\u043e\\u0439 (\\u0441\\u043e\\u0431\\u044b\\u0442\\u0438\\u0435, \\u043e\\u0447\\u0435\\u043d\\u044c \\u0447\\u0430\\u0441\\u0442\\u043e \\u0437\\u0430\\u0432\\u0435\\u0440\\u0448\\u0430\\u044e\\u0449\\u0435\\u0435\\u0441\\u044f \\u043e\\u0431\\u0440\\u0430\\u0437\\u043e\\u0432\\u0430\\u043d\\u0438\\u0435\\u043c \\u0447\\u0435\\u0440\\u043d\\u043e\\u0439 \\u0434\\u044b\\u0440\\u044b), \\u0432 1995 \\u0438 2007 \\u0433\\u043e\\u0434\\u0430\\u0445 \\u0442\\u0435\\u043b\\u0435\\u0441\\u043a\\u043e\\u043f\\u044b \\u0443\\u043b\\u043e\\u0432\\u0438\\u043b\\u0438 \\u0438\\u0437\\u043b\\u0443\\u0447\\u0435\\u043d\\u0438\\u0435 \\u043d\\u043e\\u0432\\u043e\\u0440\\u043e\\u0436\\u0434\\u0435\\u043d\\u043d\\u043e\\u0439 \\u0434\\u044b\\u0440\\u044b. \\u0418\\u0437 \\u0442\\u043e\\u0433\\u043e, \\u0447\\u0442\\u043e \\u0435\\u0449\\u0435 \\u0432 2010 \\u0433\\u043e\\u0434\\u0443 \\u0443\\u0434\\u0430\\u043b\\u043e\\u0441\\u044c \\u0441\\u0434\\u0435\\u043b\\u0430\\u0442\\u044c \\u0432\\u043f\\u0435\\u0440\\u0432\\u044b\\u0435, \\u0441\\u0442\\u043e\\u0438\\u0442 \\u0443\\u043f\\u043e\\u043c\\u044f\\u043d\\u0443\\u0442\\u044c \\u043f\\u0440\\u044f\\u043c\\u043e\\u0435 \\u0438\\u0437\\u043c\\u0435\\u0440\\u0435\\u043d\\u0438\\u0435 \\u0441\\u043f\\u0435\\u043a\\u0442\\u0440\\u0430 \\u044d\\u043a\\u0437\\u043e\\u043f\\u043b\\u0430\\u043d\\u0435\\u0442\\u044b. \\u041d\\u0435\\u0441\\u043c\\u043e\\u0442\\u0440\\u044f \\u043d\\u0430 \\u0442\\u043e \\u0447\\u0442\\u043e \\u043f\\u0435\\u0440\\u0432\\u0443\\u044e \\u043f\\u043b\\u0430\\u043d\\u0435\\u0442\\u0443, \\u043e\\u0431\\u0440\\u0430\\u0449\\u0430\\u044e\\u0449\\u0443\\u044e\\u0441\\u044f \\u0432\\u043e\\u043a\\u0440\\u0443\\u0433 \\u0434\\u0440\\u0443\\u0433\\u043e\\u0439 \\u0437\\u0432\\u0435\\u0437\\u0434\\u044b, \\u0430\\u0441\\u0442\\u0440\\u043e\\u043d\\u043e\\u043c\\u044b \\u043e\\u0431\\u043d\\u0430\\u0440\\u0443\\u0436\\u0438\\u043b\\u0438 \\u0435\\u0449\\u0435 \\u0432 1992 \\u0433\\u043e\\u0434\\u0443, \\u0430 \\u0441\\u0435\\u0433\\u043e\\u0434\\u043d\\u044f \\u0447\\u0438\\u0441\\u043b\\u043e \\u044d\\u043a\\u0437\\u043e\\u043f\\u043b\\u0430\\u043d\\u0435\\u0442 \\u043f\\u0435\\u0440\\u0435\\u0432\\u0430\\u043b\\u0438\\u043b\\u043e \\u0437\\u0430 \\u043f\\u044f\\u0442\\u044c \\u0441\\u043e\\u0442\\u0435\\u043d, \\u0443\\u0447\\u0435\\u043d\\u044b\\u0435 \\u0438\\u0441\\u0441\\u043b\\u0435\\u0434\\u0443\\u044e\\u0442 \\u044d\\u0442\\u0438 \\u043e\\u0431\\u044a\\u0435\\u043a\\u0442\\u044b \\u043f\\u0440\\u0435\\u0438\\u043c\\u0443\\u0449\\u0435\\u0441\\u0442\\u0432\\u0435\\u043d\\u043d\\u043e \\u043a\\u043e\\u0441\\u0432\\u0435\\u043d\\u043d\\u044b\\u043c\\u0438 (\\u0442\\u043e \\u0435\\u0441\\u0442\\u044c \\u043d\\u0435 \\u0441\\u0430\\u043c\\u044b\\u043c\\u0438 \\u043d\\u0430\\u0434\\u0435\\u0436\\u043d\\u044b\\u043c\\u0438) \\u043c\\u0435\\u0442\\u043e\\u0434\\u0430\\u043c\\u0438. \\u0418\\u0437\\u0443\\u0447\\u0430\\u0442\\u044c \\u0441\\u043e\\u0431\\u0441\\u0442\\u0432\\u0435\\u043d\\u043d\\u044b\\u0435 \\u0441\\u043f\\u0435\\u043a\\u0442\\u0440\\u044b \\u043f\\u043b\\u0430\\u043d\\u0435\\u0442 \\u043d\\u0430\\u043f\\u0440\\u044f\\u043c\\u0443\\u044e \\u0431\\u044b\\u043b\\u043e \\u043d\\u0435\\u0432\\u043e\\u0437\\u043c\\u043e\\u0436\\u043d\\u043e, \\u0442\\u0430\\u043a \\u043a\\u0430\\u043a \\u0438\\u0445 \\u201c\\u0437\\u0430\\u0431\\u0438\\u0432\\u0430\\u043b\\u043e\\u201d \\u0447\\u0440\\u0435\\u0437\\u0432\\u044b\\u0447\\u0430\\u0439\\u043d\\u043e \\u044f\\u0440\\u043a\\u043e\\u0435 \\u0438\\u0437\\u043b\\u0443\\u0447\\u0435\\u043d\\u0438\\u0435 \\u0437\\u0432\\u0435\\u0437\\u0434\\u044b, \\u043d\\u043e \\u0432 2010 \\u0433\\u043e\\u0434\\u0443 \\u0430\\u0441\\u0442\\u0440\\u043e\\u043d\\u043e\\u043c\\u044b \\u043d\\u0430\\u0448\\u043b\\u0438 \\u0441\\u043f\\u043e\\u0441\\u043e\\u0431 \\u043f\\u0440\\u0435\\u043e\\u0434\\u043e\\u043b\\u0435\\u0442\\u044c \\u044d\\u0442\\u043e \\u0437\\u0430\\u0442\\u0440\\u0443\\u0434\\u043d\\u0435\\u043d\\u0438\\u0435. \\u0410\\u043d\\u0430\\u043b\\u0438\\u0437 \\u0441\\u043f\\u0435\\u043a\\u0442\\u0440\\u043e\\u0432 \\u0432\\u043d\\u0435\\u0441\\u043e\\u043b\\u043d\\u0435\\u0447\\u043d\\u044b\\u0445 \\u043f\\u043b\\u0430\\u043d\\u0435\\u0442 \\u0434\\u0430\\u0441\\u0442 \\u0443\\u0447\\u0435\\u043d\\u044b\\u043c \\u0438\\u043d\\u0444\\u043e\\u0440\\u043c\\u0430\\u0446\\u0438\\u044e \\u043e\\u0431 \\u0438\\u0445 \\u0441\\u043e\\u0441\\u0442\\u0430\\u0432\\u0435 \\u0438 \\u0441\\u043e\\u0441\\u0442\\u0430\\u0432\\u0435 \\u0438\\u0445 \\u0430\\u0442\\u043c\\u043e\\u0441\\u0444\\u0435\\u0440\\u044b.\\u0412 2010 \\u0433\\u043e\\u0434\\u0443 \\u0430\\u0441\\u0442\\u0440\\u043e\\u043d\\u043e\\u043c\\u044b \\u043d\\u0430\\u0448\\u043b\\u0438, \\u043d\\u043e \\u043f\\u043e\\u0447\\u0442\\u0438 \\u0441\\u0440\\u0430\\u0437\\u0443 \\u0436\\u0435 \\u043f\\u043e\\u0442\\u0435\\u0440\\u044f\\u043b\\u0438 \\u043f\\u043e\\u0442\\u0435\\u043d\\u0446\\u0438\\u0430\\u043b\\u044c\\u043d\\u043e \\u043e\\u0431\\u0438\\u0442\\u0430\\u0435\\u043c\\u0443\\u044e \\u043f\\u043b\\u0430\\u043d\\u0435\\u0442\\u0443 Gilese 581g. \\u0417\\u0430\\u0442\\u043e \\u043f\\u043e\\u0434 \\u0441\\u0430\\u043c\\u044b\\u0439 \\u043a\\u043e\\u043d\\u0435\\u0446 \\u0433\\u043e\\u0434\\u0430 \\u0443\\u0447\\u0435\\u043d\\u044b\\u0435 \\u0432\\u043d\\u043e\\u0432\\u044c \\u043f\\u0440\\u0438\\u0448\\u043b\\u0438 \\u043a \\u0432\\u044b\\u0432\\u043e\\u0434\\u0443, \\u0447\\u0442\\u043e \\u043d\\u0430 \\u201c\\u0441\\u043e\\u0441\\u0435\\u0434\\u043a\\u0435\\u201d \\u043d\\u0435\\u043d\\u0430\\u0434\\u0435\\u0436\\u043d\\u043e\\u0439 Gilese 581g \\u0432\\u043f\\u043e\\u043b\\u043d\\u0435 \\u043c\\u043e\\u0436\\u0435\\u0442 \\u0441\\u0443\\u0449\\u0435\\u0441\\u0442\\u0432\\u043e\\u0432\\u0430\\u0442\\u044c \\u0436\\u0438\\u0434\\u043a\\u0430\\u044f \\u0432\\u043e\\u0434\\u0430 \\u2013 \\u043d\\u0435\\u043e\\u0431\\u0445\\u043e\\u0434\\u0438\\u043c\\u044b\\u0439 \\u044d\\u043b\\u0435\\u043c\\u0435\\u043d\\u0442 \\u0434\\u043b\\u044f \\u0433\\u0438\\u043f\\u043e\\u0442\\u0435\\u0442\\u0438\\u0447\\u0435\\u0441\\u043a\\u0438\\u0445 \\u043e\\u0431\\u0438\\u0442\\u0430\\u0442\\u0435\\u043b\\u0435\\u0439 \\u043f\\u043b\\u0430\\u043d\\u0435\\u0442\\u044b. \\u0421\\u0430\\u043c\\u043e\\u0435 \\u043f\\u0440\\u0438\\u044f\\u0442\\u043d\\u043e\\u0435, \\u0447\\u0442\\u043e \\u0441\\u0438\\u0441\\u0442\\u0435\\u043c\\u0430 \\u0437\\u0432\\u0435\\u0437\\u0434\\u044b Gilese 581 \\u0440\\u0430\\u0441\\u043f\\u043e\\u043b\\u043e\\u0436\\u0435\\u043d\\u0430 \\u043e\\u0442\\u043d\\u043e\\u0441\\u0438\\u0442\\u0435\\u043b\\u044c\\u043d\\u043e \\u043d\\u0435\\u0434\\u0430\\u043b\\u0435\\u043a\\u043e \\u043e\\u0442 \\u0417\\u0435\\u043c\\u043b\\u0438 \\u2013 \\u0441\\u0432\\u0435\\u0442 \\u0434\\u043e\\u0431\\u0438\\u0440\\u0430\\u0435\\u0442\\u0441\\u044f \\u0442\\u0443\\u0434\\u0430 \\u0432\\u0441\\u0435\\u0433\\u043e 20,5 \\u043b\\u0435\\u0442.\\u041f\\u043e\\u043c\\u0438\\u043c\\u043e \\u0431\\u043e\\u043b\\u0435\\u0435 \\u0438\\u043b\\u0438 \\u043c\\u0435\\u043d\\u0435\\u0435 \\u0443\\u0434\\u0430\\u043b\\u0435\\u043d\\u043d\\u044b\\u0445 \\u043e\\u0431\\u044a\\u0435\\u043a\\u0442\\u043e\\u0432 \\u0430\\u0441\\u0442\\u0440\\u043e\\u043d\\u043e\\u043c\\u044b \\u0438\\u0437\\u0443\\u0447\\u0430\\u043b\\u0438 \\u0438 \\u0431\\u043b\\u0438\\u0436\\u043d\\u0435\\u0435 \\u043a\\u043e\\u0441\\u043c\\u0438\\u0447\\u0435\\u0441\\u043a\\u043e\\u0435 \\u043f\\u0440\\u043e\\u0441\\u0442\\u0440\\u0430\\u043d\\u0441\\u0442\\u0432\\u043e. \\u0410\\u043f\\u043f\\u0430\\u0440\\u0430\\u0442 NASA \\u043f\\u043e\\u0434 \\u043d\\u0430\\u0437\\u0432\\u0430\\u043d\\u0438\\u0435\\u043c Deep Impact \\u0447\\u0435\\u0442\\u0432\\u0435\\u0440\\u0442\\u043e\\u0433\\u043e \\u043d\\u043e\\u044f\\u0431\\u0440\\u044f \\u043f\\u0440\\u043e\\u043b\\u0435\\u0442\\u0435\\u043b \\u043d\\u0430 \\u0441\\u043c\\u0435\\u0448\\u043d\\u043e\\u043c, \\u043f\\u043e \\u043a\\u043e\\u0441\\u043c\\u0438\\u0447\\u0435\\u0441\\u043a\\u0438\\u043c \\u043c\\u0435\\u0440\\u043a\\u0430\\u043c, \\u0440\\u0430\\u0441\\u0441\\u0442\\u043e\\u044f\\u043d\\u0438\\u0438 \\u0432 700 \\u043a\\u0438\\u043b\\u043e\\u043c\\u0435\\u0442\\u0440\\u043e\\u0432 \\u043e\\u0442 \\u043a\\u043e\\u043c\\u0435\\u0442\\u044b \\u0425\\u0430\\u0440\\u0442\\u043b\\u0438-2 (\\u043f\\u0440\\u0438 \\u0442\\u043e\\u043c, \\u0447\\u0442\\u043e \\u0435\\u0449\\u0435 \\u0432 \\u0441\\u0435\\u043d\\u0442\\u044f\\u0431\\u0440\\u0435 \\u0438\\u0445 \\u0440\\u0430\\u0437\\u0434\\u0435\\u043b\\u044f\\u043b\\u043e 60 \\u043c\\u0438\\u043b\\u043b\\u0438\\u043e\\u043d\\u043e\\u0432 (sic!) \\u043a\\u0438\\u043b\\u043e\\u043c\\u0435\\u0442\\u0440\\u043e\\u0432). \\u0412\\u043e \\u0432\\u0440\\u0435\\u043c\\u044f \\u0441\\u0431\\u043b\\u0438\\u0436\\u0435\\u043d\\u0438\\u044f \\u0441 \\u043a\\u043e\\u043c\\u0435\\u0442\\u043e\\u0439 \\u0437\\u043e\\u043d\\u0434 \\u043f\\u043e\\u043b\\u0443\\u0447\\u0438\\u043b \\u043c\\u0430\\u0441\\u0441\\u0443 \\u0444\\u043e\\u0442\\u043e\\u0433\\u0440\\u0430\\u0444\\u0438\\u0439, \\u043a\\u043e\\u0442\\u043e\\u0440\\u044b\\u0435 \\u0430\\u0441\\u0442\\u0440\\u043e\\u043d\\u043e\\u043c\\u0430\\u043c \\u0442\\u043e\\u043b\\u044c\\u043a\\u043e \\u043f\\u0440\\u0435\\u0434\\u0441\\u0442\\u043e\\u0438\\u0442 \\u0438\\u0437\\u0443\\u0447\\u0438\\u0442\\u044c, \\u0430 \\u0442\\u0430\\u043a\\u0436\\u0435 \\u0432\\u044b\\u044f\\u0441\\u043d\\u0438\\u043b, \\u0447\\u0442\\u043e \\u0425\\u0430\\u0440\\u0442\\u043b\\u0438-2 \\u201c\\u0440\\u0430\\u0431\\u043e\\u0442\\u0430\\u0435\\u0442\\u201d \\u043d\\u0430 \\u0437\\u0430\\u043c\\u0435\\u0440\\u0437\\u0448\\u0435\\u043c \\u0443\\u0433\\u043b\\u0435\\u043a\\u0438\\u0441\\u043b\\u043e\\u043c \\u0433\\u0430\\u0437\\u0435, \\u0430 \\u043d\\u0435 \\u043d\\u0430 \\u0432\\u043e\\u0434\\u044f\\u043d\\u043e\\u043c \\u043b\\u044c\\u0434\\u0443, \\u0438 \\u043f\\u043b\\u044e\\u0435\\u0442\\u0441\\u044f \\u0446\\u0438\\u0430\\u043d\\u0438\\u0434\\u0430\\u043c\\u0438.\\u042f\\u0434\\u0440\\u043e \\u043a\\u043e\\u043c\\u0435\\u0442\\u044b \\u0425\\u0430\\u0440\\u0442\\u043b\\u0438 2. \\u0424\\u043e\\u0442\\u043e NASA/JPL-Caltech/UMDLenta.ru\\u0415\\u0449\\u0435 \\u043e\\u0434\\u0438\\u043d \\u0440\\u0430\\u0441\\u043f\\u043e\\u043b\\u043e\\u0436\\u0435\\u043d\\u043d\\u044b\\u0439 \\u043f\\u043e \\u0441\\u043e\\u0441\\u0435\\u0434\\u0441\\u0442\\u0432\\u0443 \\u043e\\u0431\\u044a\\u0435\\u043a\\u0442, \\u043a\\u043e\\u0442\\u043e\\u0440\\u044b\\u0439 \\u043f\\u0440\\u0438\\u043d\\u0435\\u0441 \\u0430\\u0441\\u0442\\u0440\\u043e\\u043d\\u043e\\u043c\\u0430\\u043c \\u043c\\u043d\\u043e\\u0433\\u043e \\u0441\\u044e\\u0440\\u043f\\u0440\\u0438\\u0437\\u043e\\u0432 \\u0432 2010 \\u0433\\u043e\\u0434\\u0443 \\u2013 \\u044d\\u0442\\u043e \\u041b\\u0443\\u043d\\u0430. \\u0412 2009 \\u0433\\u043e\\u0434\\u0443 NASA \\u0441\\u0431\\u0440\\u043e\\u0441\\u0438\\u043b\\u043e \\u043d\\u0430 \\u0435\\u0435 \\u043f\\u043e\\u0432\\u0435\\u0440\\u0445\\u043d\\u043e\\u0441\\u0442\\u044c \\u0441\\u0440\\u0430\\u0437\\u0443 \\u0434\\u0432\\u0430 \\u201c\\u0441\\u043d\\u0430\\u0440\\u044f\\u0434\\u0430\\u201d, \\u043a\\u043e\\u0442\\u043e\\u0440\\u044b\\u0435 \\u043f\\u043e\\u0434\\u043d\\u044f\\u043b\\u0438 \\u043e\\u0431\\u043b\\u0430\\u043a\\u043e \\u043f\\u044b\\u043b\\u0438. \\u0423\\u0436\\u0435 \\u0447\\u0435\\u0440\\u0435\\u0437 \\u0434\\u0432\\u0430 \\u043c\\u0435\\u0441\\u044f\\u0446\\u0430 \\u043f\\u043e\\u0441\\u043b\\u0435 \\u0431\\u043e\\u043c\\u0431\\u0430\\u0440\\u0434\\u0438\\u0440\\u043e\\u0432\\u043a\\u0438 \\u0443\\u0447\\u0435\\u043d\\u044b\\u0435 \\u0441\\u043e\\u043e\\u0431\\u0449\\u0438\\u043b\\u0438, \\u0447\\u0442\\u043e \\u0432 \\u0432\\u044b\\u0431\\u0440\\u043e\\u0448\\u0435\\u043d\\u043d\\u043e\\u043c \\u043f\\u0440\\u0438 \\u043f\\u0430\\u0434\\u0435\\u043d\\u0438\\u0438 \\u201c\\u0441\\u043d\\u0430\\u0440\\u044f\\u0434\\u043e\\u0432\\u201d \\u043b\\u0443\\u043d\\u043d\\u043e\\u043c \\u0433\\u0440\\u0443\\u043d\\u0442\\u0435 \\u0435\\u0441\\u0442\\u044c \\u0432\\u043e\\u0434\\u0430. \\u0412 \\u043e\\u043a\\u0442\\u044f\\u0431\\u0440\\u0435 2010 \\u0433\\u043e\\u0434\\u0430 \\u0438\\u0441\\u0441\\u043b\\u0435\\u0434\\u043e\\u0432\\u0430\\u0442\\u0435\\u043b\\u0438 \\u043f\\u0440\\u0435\\u0434\\u0441\\u0442\\u0430\\u0432\\u0438\\u043b\\u0438 \\u0440\\u0435\\u0437\\u0443\\u043b\\u044c\\u0442\\u0430\\u0442\\u044b \\u0431\\u043e\\u043b\\u0435\\u0435 \\u043f\\u043e\\u043b\\u043d\\u043e\\u0433\\u043e \\u0430\\u043d\\u0430\\u043b\\u0438\\u0437\\u0430, \\u043a\\u043e\\u0442\\u043e\\u0440\\u044b\\u0435 \\u043f\\u043e\\u043a\\u0430\\u0437\\u0430\\u043b\\u0438, \\u0447\\u0442\\u043e \\u0432\\u043e\\u0434\\u044b \\u0432 \\u043d\\u0435\\u043a\\u043e\\u0442\\u043e\\u0440\\u044b\\u0445 \\u0440\\u0435\\u0433\\u0438\\u043e\\u043d\\u0430\\u0445 \\u041b\\u0443\\u043d\\u044b \\u0432\\u0434\\u0432\\u043e\\u0435 \\u0431\\u043e\\u043b\\u044c\\u0448\\u0435, \\u0447\\u0435\\u043c \\u0432 \\u043f\\u0443\\u0441\\u0442\\u044b\\u043d\\u0435 \\u0421\\u0430\\u0445\\u0430\\u0440\\u0430. \\u041a\\u0440\\u043e\\u043c\\u0435 \\u0442\\u043e\\u0433\\u043e, \\u0440\\u0435\\u0433\\u043e\\u043b\\u0438\\u0442, \\u043a\\u0430\\u043a \\u0435\\u0449\\u0435 \\u043d\\u0430\\u0437\\u044b\\u0432\\u0430\\u044e\\u0442 \\u043f\\u043e\\u0432\\u0435\\u0440\\u0445\\u043d\\u043e\\u0441\\u0442\\u043d\\u044b\\u0439 \\u0441\\u043b\\u043e\\u0439 \\u0437\\u0435\\u043c\\u043d\\u043e\\u0433\\u043e \\u0441\\u043f\\u0443\\u0442\\u043d\\u0438\\u043a\\u0430, \\u0441\\u043e\\u0434\\u0435\\u0440\\u0436\\u0438\\u0442 \\u043e\\u0447\\u0435\\u043d\\u044c \\u0441\\u043e\\u043b\\u0438\\u0434\\u043d\\u044b\\u0435 \\u0437\\u0430\\u043f\\u0430\\u0441\\u044b \\u0441\\u0435\\u0440\\u0435\\u0431\\u0440\\u0430, \\u043c\\u0430\\u0433\\u043d\\u0438\\u044f, \\u0440\\u0442\\u0443\\u0442\\u0438, \\u043a\\u0430\\u043b\\u044c\\u0446\\u0438\\u044f, \\u043c\\u043e\\u043d\\u043e\\u043e\\u043a\\u0441\\u0438\\u0434\\u0430 \\u0443\\u0433\\u043b\\u0435\\u0440\\u043e\\u0434\\u0430 \\u0438 \\u0434\\u0440\\u0443\\u0433\\u0438\\u0445 \\u0432\\u0435\\u0449\\u0435\\u0441\\u0442\\u0432, \\u043a\\u043e\\u0442\\u043e\\u0440\\u044b\\u0435 \\u0432\\u043f\\u043e\\u043b\\u043d\\u0435 \\u043f\\u0440\\u0438\\u0433\\u043e\\u0434\\u0438\\u043b\\u0438\\u0441\\u044c \\u0431\\u044b \\u0432 \\u043f\\u043e\\u043b\\u0435\\u0432\\u043e\\u0439 \\u043b\\u0430\\u0431\\u043e\\u0440\\u0430\\u0442\\u043e\\u0440\\u0438\\u0438 \\u0431\\u0443\\u0434\\u0443\\u0449\\u0438\\u0445 \\u043b\\u0443\\u043d\\u043d\\u044b\\u0445 \\u043f\\u043e\\u0441\\u0435\\u043b\\u0435\\u043d\\u0446\\u0435\\u0432. \\u0415\\u0449\\u0435 \\u043e\\u0434\\u043d\\u043e \\u201c\\u043b\\u0443\\u043d\\u043d\\u043e\\u0435\\u201d \\u0434\\u043e\\u0441\\u0442\\u0438\\u0436\\u0435\\u043d\\u0438\\u0435 \\u0443\\u0445\\u043e\\u0434\\u044f\\u0449\\u0435\\u0433\\u043e \\u0433\\u043e\\u0434\\u0430 - \\u044d\\u0442\\u043e \\u0441\\u043e\\u0441\\u0442\\u0430\\u0432\\u043b\\u0435\\u043d\\u0438\\u0435 \\u0441\\u0430\\u043c\\u043e\\u0439 \\u0442\\u043e\\u0447\\u043d\\u043e\\u0439 \\u0438\\u0437 \\u0441\\u0443\\u0449\\u0435\\u0441\\u0442\\u0432\\u0443\\u044e\\u0449\\u0438\\u0445 \\u043a\\u0430\\u0440\\u0442\\u044b \\u0437\\u0435\\u043c\\u043d\\u043e\\u0433\\u043e \\u0441\\u043f\\u0443\\u0442\\u043d\\u0438\\u043a\\u0430.\\u041e\\u0434\\u043d\\u0438\\u043c \\u0438\\u0437 \\u0441\\u0430\\u043c\\u044b\\u0445 \\u0437\\u0430\\u043c\\u0435\\u0447\\u0430\\u0442\\u0435\\u043b\\u044c\\u043d\\u044b\\u0445 \\u043e\\u0442\\u043a\\u0440\\u044b\\u0442\\u0438\\u0439 2010 \\u0433\\u043e\\u0434\\u0430 \\u0441\\u0442\\u0430\\u043b\\u043e \\u043e\\u0431\\u043d\\u0430\\u0440\\u0443\\u0436\\u0435\\u043d\\u0438\\u0435 \\u0432 \\u043a\\u0430\\u043b\\u0438\\u0444\\u043e\\u0440\\u043d\\u0438\\u0439\\u0441\\u043a\\u043e\\u043c \\u043e\\u0437\\u0435\\u0440\\u0435 \\u041c\\u043e\\u043d\\u043e \\u0431\\u0430\\u043a\\u0442\\u0435\\u0440\\u0438\\u0439, \\u0432 \\u0431\\u0443\\u043a\\u0432\\u0430\\u043b\\u044c\\u043d\\u043e\\u043c \\u0441\\u043c\\u044b\\u0441\\u043b\\u0435, \\u0436\\u0438\\u0432\\u0443\\u0449\\u0438\\u0445 \\u043d\\u0430 \\u043c\\u044b\\u0448\\u044c\\u044f\\u043a\\u0435. \\u0421\\u0442\\u0440\\u0430\\u043d\\u043d\\u044b\\u0435 \\u043c\\u0438\\u043a\\u0440\\u043e\\u043e\\u0440\\u0433\\u0430\\u043d\\u0438\\u0437\\u043c\\u044b \\u043d\\u0430\\u0443\\u0447\\u0438\\u043b\\u0438\\u0441\\u044c \\u0438\\u0441\\u043f\\u043e\\u043b\\u044c\\u0437\\u043e\\u0432\\u0430\\u0442\\u044c \\u044f\\u0434\\u043e\\u0432\\u0438\\u0442\\u044b\\u0439 \\u044d\\u043b\\u0435\\u043c\\u0435\\u043d\\u0442 \\u0432\\u043c\\u0435\\u0441\\u0442\\u043e \\u0444\\u043e\\u0441\\u0444\\u043e\\u0440\\u0430 \\u0438 \\u0432\\u0441\\u0442\\u0440\\u0430\\u0438\\u0432\\u0430\\u0442\\u044c \\u0435\\u0433\\u043e \\u0432 \\u0441\\u0430\\u043c\\u044b\\u0435 \\u0432\\u0430\\u0436\\u043d\\u044b\\u0435 \\u0441\\u0432\\u043e\\u0438 \\u043c\\u043e\\u043b\\u0435\\u043a\\u0443\\u043b\\u044b \\u2013 \\u0432 \\u043c\\u043e\\u043b\\u0435\\u043a\\u0443\\u043b\\u044b \\u0414\\u041d\\u041a. \\u041a\\u0430\\u0437\\u0430\\u043b\\u043e\\u0441\\u044c \\u0431\\u044b, \\u044d\\u0442\\u043e \\u043e\\u0442\\u043a\\u0440\\u044b\\u0442\\u0438\\u0435 \\u0438\\u043c\\u0435\\u0435\\u0442 \\u043c\\u0430\\u043b\\u043e \\u043e\\u0442\\u043d\\u043e\\u0448\\u0435\\u043d\\u0438\\u044f \\u043a \\u0430\\u0441\\u0442\\u0440\\u043e\\u043d\\u043e\\u043c\\u0438\\u0438 \\u2013 \\u043d\\u043e \\u0435\\u0441\\u043b\\u0438 \\u043a\\u043e\\u043f\\u043d\\u0443\\u0442\\u044c \\u0447\\u0443\\u0442\\u044c \\u0433\\u043b\\u0443\\u0431\\u0436\\u0435, \\u0442\\u043e \\u0442\\u0430\\u043a\\u043e\\u0435 \\u043c\\u043d\\u0435\\u043d\\u0438\\u0435 \\u043e\\u043a\\u0430\\u0437\\u044b\\u0432\\u0430\\u0435\\u0442\\u0441\\u044f \\u043e\\u0448\\u0438\\u0431\\u043e\\u0447\\u043d\\u044b\\u043c. \\u0421\\u0443\\u0449\\u0435\\u0441\\u0442\\u0432\\u043e\\u0432\\u0430\\u043d\\u0438\\u0435 \\u043d\\u0430\\u0441\\u0442\\u043e\\u043b\\u044c\\u043a\\u043e \\u043d\\u0435\\u043e\\u0431\\u044b\\u0447\\u043d\\u044b\\u0445 \\u043e\\u0440\\u0433\\u0430\\u043d\\u0438\\u0437\\u043c\\u043e\\u0432 \\u043c\\u043e\\u0436\\u0435\\u0442 \\u0441\\u043b\\u0443\\u0436\\u0438\\u0442\\u044c \\u043a\\u043e\\u0441\\u0432\\u0435\\u043d\\u043d\\u044b\\u043c \\u0434\\u043e\\u043a\\u0430\\u0437\\u0430\\u0442\\u0435\\u043b\\u044c\\u0441\\u0442\\u0432\\u043e\\u043c \\u0432 \\u043f\\u043e\\u043b\\u044c\\u0437\\u0443 \\u0442\\u043e\\u0433\\u043e, \\u0447\\u0442\\u043e \\u0436\\u0438\\u0437\\u043d\\u044c \\u0432\\u043e \\u0412\\u0441\\u0435\\u043b\\u0435\\u043d\\u043d\\u043e\\u0439 \\u0432\\u043e\\u0437\\u043c\\u043e\\u0436\\u043d\\u0430 \\u043d\\u0435 \\u0442\\u043e\\u043b\\u044c\\u043a\\u043e \\u0432 \\u043f\\u0440\\u0438\\u0432\\u044b\\u0447\\u043d\\u043e\\u0439 \\u0437\\u0435\\u043c\\u043d\\u044b\\u043c \\u0443\\u0447\\u0435\\u043d\\u044b\\u043c \\u0444\\u043e\\u0440\\u043c\\u0435, \\u043a\\u043e\\u0433\\u0434\\u0430 \\u043a\\u043b\\u044e\\u0447\\u0435\\u0432\\u044b\\u043c\\u0438 \\u044d\\u043b\\u0435\\u043c\\u0435\\u043d\\u0442\\u0430\\u043c\\u0438 \\u044f\\u0432\\u043b\\u044f\\u044e\\u0442\\u0441\\u044f \\u0443\\u0433\\u043b\\u0435\\u0440\\u043e\\u0434, \\u043a\\u0438\\u0441\\u043b\\u043e\\u0440\\u043e\\u0434, \\u0432\\u043e\\u0434\\u043e\\u0440\\u043e\\u0434, \\u0430\\u0437\\u043e\\u0442 \\u0438 \\u0444\\u043e\\u0441\\u0444\\u043e\\u0440. \\u0410, \\u0437\\u043d\\u0430\\u0447\\u0438\\u0442, \\u0443 \\u0441\\u043f\\u0435\\u0446\\u0438\\u0430\\u043b\\u0438\\u0441\\u0442\\u043e\\u0432 \\u0435\\u0441\\u0442\\u044c \\u0448\\u0430\\u043d\\u0441\\u044b \\u043d\\u0430\\u0439\\u0442\\u0438 \\u0435\\u0435 \\u043d\\u0430 \\u0441\\u0430\\u043c\\u044b\\u0445 \\u043d\\u0435\\u043f\\u0440\\u0438\\u0432\\u043b\\u0435\\u043a\\u0430\\u0442\\u0435\\u043b\\u044c\\u043d\\u044b\\u0445 \\u0434\\u043b\\u044f \\u0437\\u0435\\u043c\\u043d\\u044b\\u0445 \\u043e\\u0440\\u0433\\u0430\\u043d\\u0438\\u0437\\u043c\\u043e\\u0432 \\u043f\\u043b\\u0430\\u043d\\u0435\\u0442\\u0430\\u0445. \\u0412\\u043f\\u0440\\u043e\\u0447\\u0435\\u043c, \\u0432\\u0441\\u043a\\u043e\\u0440\\u0435 \\u043f\\u043e\\u0441\\u043b\\u0435 \\u0432\\u044b\\u0445\\u043e\\u0434\\u0430 \\u0441\\u0442\\u0430\\u0442\\u044c\\u0438 \\u0441 \\u043e\\u043f\\u0438\\u0441\\u0430\\u043d\\u0438\\u0435\\u043c \\u0436\\u0438\\u0432\\u0443\\u0449\\u0438\\u0445 \\u043d\\u0430 \\u0417\\u0435\\u043c\\u043b\\u0435 \\u201c\\u0438\\u043d\\u043e\\u043f\\u043b\\u0430\\u043d\\u0435\\u0442\\u044f\\u043d\\u201d, \\u043a\\u043e\\u043b\\u043b\\u0435\\u0433\\u0438 \\u0430\\u0432\\u0442\\u043e\\u0440\\u043e\\u0432 \\u0440\\u0430\\u0441\\u043a\\u0440\\u0438\\u0442\\u0438\\u043a\\u043e\\u0432\\u0430\\u043b\\u0438 \\u0438\\u0441\\u0441\\u043b\\u0435\\u0434\\u043e\\u0432\\u0430\\u043d\\u0438\\u0435, \\u043d\\u0430\\u0439\\u0434\\u044f \\u0432 \\u0441\\u0442\\u0430\\u0442\\u044c\\u0435 \\u0440\\u044f\\u0434 \\u0441\\u0435\\u0440\\u044c\\u0435\\u0437\\u043d\\u044b\\u0445 \\u043d\\u0435\\u0434\\u043e\\u0440\\u0430\\u0431\\u043e\\u0442\\u043e\\u043a, \\u043a\\u043e\\u0442\\u043e\\u0440\\u044b\\u0435 \\u043d\\u0435 \\u043f\\u043e\\u0437\\u0432\\u043e\\u043b\\u044f\\u044e\\u0442 \\u043d\\u0430\\u0437\\u0432\\u0430\\u0442\\u044c \\u0441\\u0434\\u0435\\u043b\\u0430\\u043d\\u043d\\u044b\\u0435 \\u0432\\u044b\\u0432\\u043e\\u0434\\u044b \\u0434\\u043e\\u0441\\u0442\\u043e\\u0432\\u0435\\u0440\\u043d\\u044b\\u043c\\u0438.\\u041d\\u0430\\u043a\\u043e\\u043d\\u0435\\u0446, \\u0432 2010 \\u0433\\u043e\\u0434\\u0443 \\u043d\\u0430 \\u0417\\u0435\\u043c\\u043b\\u044e \\u043f\\u043e\\u043f\\u0430\\u043b\\u0438 \\u0447\\u0430\\u0441\\u0442\\u0438\\u0446\\u044b \\u043f\\u044b\\u043b\\u0438 \\u0441 \\u0441\\u0430\\u043c\\u043e\\u0433\\u043e \\u043d\\u0430\\u0441\\u0442\\u043e\\u044f\\u0449\\u0435\\u0433\\u043e \\u0432\\u043d\\u0435\\u0437\\u0435\\u043c\\u043d\\u043e\\u0433\\u043e \\u043e\\u0431\\u044a\\u0435\\u043a\\u0442\\u0430 - \\u044f\\u043f\\u043e\\u043d\\u0441\\u043a\\u0438\\u0439 \\u0437\\u043e\\u043d\\u0434 \\\"\\u0425\\u0430\\u044f\\u0431\\u0443\\u0441\\u0430\\\" \\u043f\\u0440\\u0438\\u043d\\u0435\\u0441 \\u0432 \\u0441\\u0432\\u043e\\u0435\\u043c \\u043a\\u043e\\u043d\\u0442\\u0435\\u0439\\u043d\\u0435\\u0440\\u0435 \\u043e\\u043a\\u043e\\u043b\\u043e 1,5 \\u0442\\u044b\\u0441\\u044f\\u0447 \\u043c\\u0435\\u043b\\u043a\\u0438\\u0445 \\u0447\\u0430\\u0441\\u0442\\u0438\\u0446 \\u0441 \\u043f\\u043e\\u0432\\u0435\\u0440\\u0445\\u043d\\u043e\\u0441\\u0442\\u0438 \\u0430\\u0441\\u0442\\u0435\\u0440\\u043e\\u0438\\u0434\\u0430 \\u0418\\u0442\\u043e\\u043a\\u0430\\u0432\\u0430. \\u041f\\u0440\\u0435\\u0434\\u043f\\u043e\\u043b\\u0430\\u0433\\u0430\\u043b\\u043e\\u0441\\u044c, \\u0447\\u0442\\u043e \\\"\\u0425\\u0430\\u044f\\u0431\\u0443\\u0441\\u0430\\\" \\u0441\\u043e\\u0431\\u0435\\u0440\\u0435\\u0442 \\u0431\\u043e\\u043b\\u044c\\u0448\\u0435 \\u043f\\u044b\\u043b\\u0438, \\u043d\\u043e \\u0438\\u0437-\\u0437\\u0430 \\u0442\\u0435\\u0445\\u043d\\u0438\\u0447\\u0435\\u0441\\u043a\\u0438\\u0445 \\u043d\\u0435\\u043f\\u043e\\u043b\\u0430\\u0434\\u043e\\u043a \\u043c\\u0438\\u0441\\u0441\\u0438\\u044f \\u043f\\u0440\\u043e\\u0448\\u043b\\u0430 \\u043d\\u0435 \\u043f\\u043e \\u043f\\u043b\\u0430\\u043d\\u0443. \\u0421\\u043e\\u0437\\u0434\\u0430\\u043d\\u043d\\u044b\\u0439 \\u043b\\u044e\\u0434\\u044c\\u043c\\u0438 \\u0430\\u043f\\u043f\\u0430\\u0440\\u0430\\u0442 \\u0432\\u043f\\u0435\\u0440\\u0432\\u044b\\u0435 \\u0434\\u043e\\u0441\\u0442\\u0430\\u0432\\u0438\\u043b \\u043d\\u0430 \\u0417\\u0435\\u043c\\u043b\\u044e \\u0444\\u0440\\u0430\\u0433\\u043c\\u0435\\u043d\\u0442\\u044b \\u0430\\u0441\\u0442\\u0435\\u0440\\u043e\\u0438\\u0434\\u0430 - \\u0430 \\u0432 \\u043e\\u0431\\u0449\\u0435\\u043c \\u0441\\u043f\\u0438\\u0441\\u043a\\u0435 \\u0437\\u043e\\u043d\\u0434\\u043e\\u0432, \\u043f\\u0440\\u0438\\u043d\\u0435\\u0441\\u0448\\u0438\\u0445 \\u043d\\u0430 \\u043f\\u043b\\u0430\\u043d\\u0435\\u0442\\u0443 \\u0438\\u043d\\u043e\\u043f\\u043b\\u0430\\u043d\\u0435\\u0442\\u043d\\u044b\\u0439 \\u0433\\u0440\\u0443\\u043d\\u0442, \\\"\\u0425\\u0430\\u044f\\u0431\\u0443\\u0441\\u0430\\\" \\u0441\\u0442\\u0430\\u043b \\u0448\\u0435\\u0441\\u0442\\u044b\\u043c.\\u0424\\u0438\\u0437\\u0438\\u043a\\u0430\\u0424\\u0438\\u0437\\u0438\\u043a\\u0438 \\u0432 2010 \\u0433\\u043e\\u0434\\u0443 \\u043f\\u0440\\u0430\\u043a\\u0442\\u0438\\u0447\\u0435\\u0441\\u043a\\u0438 \\u0434\\u043e\\u0433\\u043d\\u0430\\u043b\\u0438 \\u0430\\u0441\\u0442\\u0440\\u043e\\u043d\\u043e\\u043c\\u043e\\u0432 \\u043f\\u043e \\u0447\\u0430\\u0441\\u0442\\u043e\\u0442\\u0435 \\u0443\\u043f\\u043e\\u043c\\u0438\\u043d\\u0430\\u043d\\u0438\\u044f \\u0432 \\u0421\\u041c\\u0418. \\u0413\\u043b\\u0430\\u0432\\u043d\\u044b\\u043c\\u0438 \\u201c\\u043f\\u0430\\u0440\\u043e\\u0432\\u043e\\u0437\\u0430\\u043c\\u0438\\u201d \\u0444\\u0438\\u0437\\u0438\\u0447\\u0435\\u0441\\u043a\\u0438\\u0445 \\u043d\\u043e\\u0432\\u043e\\u0441\\u0442\\u0435\\u0439 \\u0431\\u044b\\u043b\\u0438 \\u043a\\u043e\\u043b\\u043b\\u0430\\u0439\\u0434\\u0435\\u0440\\u044b \\u2013 \\u0437\\u043d\\u0430\\u043c\\u0435\\u043d\\u0438\\u0442\\u044b\\u0439 \\u0411\\u043e\\u043b\\u044c\\u0448\\u043e\\u0439 \\u0430\\u0434\\u0440\\u043e\\u043d\\u043d\\u044b\\u0439 \\u043a\\u043e\\u043b\\u043b\\u0430\\u0439\\u0434\\u0435\\u0440, \\u043f\\u043e\\u0441\\u0442\\u0440\\u043e\\u0435\\u043d\\u043d\\u044b\\u0439 \\u043d\\u0430 \\u0433\\u0440\\u0430\\u043d\\u0438\\u0446\\u0435 \\u0428\\u0432\\u0435\\u0439\\u0446\\u0430\\u0440\\u0438\\u0438 \\u0438 \\u0424\\u0440\\u0430\\u043d\\u0446\\u0438\\u0438, \\u0438 \\u043c\\u0435\\u043d\\u0435\\u0435 \\u0440\\u0430\\u0441\\u043a\\u0440\\u0443\\u0447\\u0435\\u043d\\u043d\\u044b\\u0439, \\u043d\\u043e \\u043d\\u0435 \\u043c\\u0435\\u043d\\u0435\\u0435 \\u0437\\u0430\\u0441\\u043b\\u0443\\u0436\\u0435\\u043d\\u043d\\u044b\\u0439 \\u0430\\u043c\\u0435\\u0440\\u0438\\u043a\\u0430\\u043d\\u0441\\u043a\\u0438\\u0439 \\u0422\\u044d\\u0432\\u0430\\u0442\\u0440\\u043e\\u043d. \\u0412 \\u043e\\u043a\\u0442\\u044f\\u0431\\u0440\\u0435 \\u043f\\u043e\\u044f\\u0432\\u0438\\u043b\\u043e\\u0441\\u044c \\u0441\\u043e\\u043e\\u0431\\u0449\\u0435\\u043d\\u0438\\u0435, \\u0447\\u0442\\u043e \\u043d\\u0430 \\u043e\\u0434\\u043d\\u043e\\u043c \\u0438\\u0437 \\u0434\\u0435\\u0442\\u0435\\u043a\\u0442\\u043e\\u0440\\u043e\\u0432 \\u0411\\u0410\\u041a \\u2013 \\u0430 \\u0438\\u043c\\u0435\\u043d\\u043d\\u043e, \\u043d\\u0430 \\u0434\\u0435\\u0442\\u0435\\u043a\\u0442\\u043e\\u0440\\u0435 CMS \\u2013 \\u0431\\u044b\\u043b \\u0437\\u0430\\u0440\\u0435\\u0433\\u0438\\u0441\\u0442\\u0440\\u0438\\u0440\\u043e\\u0432\\u0430\\u043d \\u0441\\u0442\\u0440\\u0430\\u043d\\u043d\\u044b\\u0439 \\u044d\\u0444\\u0444\\u0435\\u043a\\u0442 - \\u043f\\u0440\\u0438 \\u043d\\u0435\\u043a\\u043e\\u0442\\u043e\\u0440\\u044b\\u0445 \\u0441\\u0442\\u043e\\u043b\\u043a\\u043d\\u043e\\u0432\\u0435\\u043d\\u0438\\u044f\\u0445 \\u043f\\u0440\\u043e\\u0442\\u043e\\u043d\\u043e\\u0432 \\u043e\\u0431\\u0440\\u0430\\u0437\\u0443\\u044e\\u0449\\u0438\\u0435\\u0441\\u044f \\u0447\\u0430\\u0441\\u0442\\u0438\\u0446\\u044b \\u0440\\u0430\\u0437\\u043b\\u0435\\u0442\\u0430\\u043b\\u0438\\u0441\\u044c \\u043e\\u0442 \\u043c\\u0435\\u0441\\u0442\\u0430 \\u0440\\u043e\\u0436\\u0434\\u0435\\u043d\\u0438\\u044f \\u043d\\u0435 \\u0430\\u0431\\u0441\\u043e\\u043b\\u044e\\u0442\\u043d\\u043e \\u043d\\u0435\\u0437\\u0430\\u0432\\u0438\\u0441\\u0438\\u043c\\u043e \\u0434\\u0440\\u0443\\u0433 \\u043e\\u0442 \\u0434\\u0440\\u0443\\u0433\\u0430 (\\u0442\\u0430\\u043a\\u043e\\u0435 \\u043f\\u043e\\u0432\\u0435\\u0434\\u0435\\u043d\\u0438\\u0435 \\u0447\\u0430\\u0441\\u0442\\u0438\\u0446 \\u043d\\u0430\\u0437\\u044b\\u0432\\u0430\\u044e\\u0442 \\u0441\\u043a\\u043e\\u0440\\u0440\\u0435\\u043b\\u0438\\u0440\\u043e\\u0432\\u0430\\u043d\\u043d\\u044b\\u043c). \\u0423\\u0447\\u0435\\u043d\\u044b\\u0435 \\u043f\\u0440\\u0435\\u0434\\u043b\\u043e\\u0436\\u0438\\u043b\\u0438 \\u043d\\u0435\\u0441\\u043a\\u043e\\u043b\\u044c\\u043a\\u043e \\u0432\\u043e\\u0437\\u043c\\u043e\\u0436\\u043d\\u044b\\u0445 \\u043e\\u0431\\u044a\\u044f\\u0441\\u043d\\u0435\\u043d\\u0438\\u0439 \\u043d\\u0430\\u0431\\u043b\\u044e\\u0434\\u0430\\u0435\\u043c\\u043e\\u0433\\u043e \\u044f\\u0432\\u043b\\u0435\\u043d\\u0438\\u044f, \\u043e\\u0434\\u043d\\u0430\\u043a\\u043e \\u043f\\u0440\\u043e\\u044f\\u0441\\u043d\\u0438\\u0442\\u044c \\u0435\\u0433\\u043e \\u043f\\u0440\\u0438\\u0440\\u043e\\u0434\\u0443 \\u043c\\u043e\\u0436\\u043d\\u043e \\u0431\\u0443\\u0434\\u0435\\u0442 \\u0442\\u043e\\u043b\\u044c\\u043a\\u043e \\u043f\\u043e\\u0441\\u043b\\u0435 \\u0434\\u043e\\u043f\\u043e\\u043b\\u043d\\u0438\\u0442\\u0435\\u043b\\u044c\\u043d\\u044b\\u0445 \\u044d\\u043a\\u0441\\u043f\\u0435\\u0440\\u0438\\u043c\\u0435\\u043d\\u0442\\u043e\\u0432.\\u0412 \\u0438\\u044e\\u043b\\u0435 \\u0432 \\u0438\\u043d\\u0442\\u0435\\u0440\\u043d\\u0435\\u0442\\u0435 \\u043f\\u043e\\u044f\\u0432\\u0438\\u043b\\u0438\\u0441\\u044c \\u0441\\u043e\\u043e\\u0431\\u0449\\u0435\\u043d\\u0438\\u044f, \\u0447\\u0442\\u043e \\u0432 \\u044d\\u043a\\u0441\\u043f\\u0435\\u0440\\u0438\\u043c\\u0435\\u043d\\u0442\\u0430\\u0445 \\u043d\\u0430 \\u0422\\u044d\\u0432\\u0430\\u0442\\u0440\\u043e\\u043d\\u0435 \\u0443\\u0434\\u0430\\u043b\\u043e\\u0441\\u044c \\u0437\\u0430\\u0440\\u0435\\u0433\\u0438\\u0441\\u0442\\u0440\\u0438\\u0440\\u043e\\u0432\\u0430\\u0442\\u044c \\u0440\\u043e\\u0436\\u0434\\u0435\\u043d\\u0438\\u0435 \\u0431\\u043e\\u0437\\u043e\\u043d\\u0430 \\u0425\\u0438\\u0433\\u0433\\u0441\\u0430 \\u2013 \\u043e \\u0441\\u0435\\u043d\\u0441\\u0430\\u0446\\u0438\\u043e\\u043d\\u043d\\u044b\\u0445 \\u0440\\u0435\\u0437\\u0443\\u043b\\u044c\\u0442\\u0430\\u0442\\u0430\\u0445 \\u043f\\u0438\\u0441\\u0430\\u043b \\u0440\\u0430\\u0431\\u043e\\u0442\\u0430\\u044e\\u0449\\u0438\\u0439 \\u043d\\u0430 \\u043a\\u043e\\u043b\\u043b\\u0430\\u0439\\u0434\\u0435\\u0440\\u0435 \\u0422\\u044d\\u0432\\u0430\\u0442\\u0440\\u043e\\u043d \\u0438\\u0442\\u0430\\u043b\\u044c\\u044f\\u043d\\u0441\\u043a\\u0438\\u0439 \\u0444\\u0438\\u0437\\u0438\\u043a. \\u041f\\u043e\\u0437\\u0436\\u0435 \\u043a\\u043e\\u043b\\u043b\\u0435\\u0433\\u0438 \\u0438\\u0442\\u0430\\u043b\\u044c\\u044f\\u043d\\u0446\\u0430 \\u043e\\u043f\\u0440\\u043e\\u0432\\u0435\\u0440\\u0433\\u043b\\u0438 \\u0435\\u0433\\u043e \\u0441\\u043b\\u043e\\u0432\\u0430, \\u043d\\u0430\\u0437\\u0432\\u0430\\u0432 \\u0438\\u0445 \\u0432\\u0441\\u0435\\u0433\\u043e \\u043b\\u0438\\u0448\\u044c \\u043d\\u0435\\u043f\\u043e\\u0434\\u0442\\u0432\\u0435\\u0440\\u0436\\u0434\\u0435\\u043d\\u043d\\u044b\\u043c\\u0438 \\u0441\\u043b\\u0443\\u0445\\u0430\\u043c\\u0438. \\u0427\\u0443\\u0442\\u044c \\u043f\\u043e\\u0437\\u0436\\u0435 \\u0444\\u0438\\u0437\\u0438\\u043a\\u0438 \\u0441 \\u0422\\u044d\\u0432\\u0430\\u0442\\u0440\\u043e\\u043d\\u0430 \\u043f\\u0440\\u0435\\u0434\\u0441\\u0442\\u0430\\u0432\\u0438\\u043b\\u0438 \\u043d\\u0430\\u0434\\u0435\\u0436\\u043d\\u044b\\u0435 \\u0438 \\u043c\\u043d\\u043e\\u0433\\u043e\\u043a\\u0440\\u0430\\u0442\\u043d\\u043e \\u043f\\u0435\\u0440\\u0435\\u043f\\u0440\\u043e\\u0432\\u0435\\u0440\\u0435\\u043d\\u043d\\u044b\\u0435 \\u0434\\u0430\\u043d\\u043d\\u044b\\u0435 \\u0443\\u0442\\u043e\\u0447\\u043d\\u044f\\u044e\\u0449\\u0438\\u0435 \\u043c\\u0430\\u0441\\u0441\\u0443 \\u0431\\u043e\\u0437\\u043e\\u043d\\u0430 \\u0425\\u0438\\u0433\\u0433\\u0441\\u0430. \\u041d\\u0430 \\u0432\\u043e\\u043b\\u043d\\u0435 \\u044d\\u0442\\u043e\\u0433\\u043e \\u0443\\u0441\\u043f\\u0435\\u0445\\u0430 \\u0443\\u0447\\u0435\\u043d\\u044b\\u0435 \\u0441\\u043c\\u043e\\u0433\\u043b\\u0438 \\u0441\\u043e\\u0431\\u0440\\u0430\\u0442\\u044c \\u0434\\u0435\\u043d\\u0435\\u0433 \\u043d\\u0430 \\u043f\\u0440\\u043e\\u0434\\u043b\\u0435\\u043d\\u0438\\u0435 \\u0440\\u0430\\u0431\\u043e\\u0442\\u044b \\u0422\\u044d\\u0432\\u0430\\u0442\\u0440\\u043e\\u043d\\u0430.\\u0412 \\u043d\\u043e\\u044f\\u0431\\u0440\\u0435 \\u0444\\u0438\\u0437\\u0438\\u043a\\u0438, \\u0430\\u043d\\u0430\\u043b\\u0438\\u0437\\u0438\\u0440\\u0443\\u044e\\u0449\\u0438\\u0435 \\u0441\\u043e\\u0431\\u0440\\u0430\\u043d\\u043d\\u044b\\u0435 \\u043d\\u0430 \\u0411\\u0410\\u041a \\u0434\\u0430\\u043d\\u043d\\u044b\\u0435, \\u0437\\u0430\\u044f\\u0432\\u0438\\u043b\\u0438 \\u043e \\u0440\\u0435\\u0433\\u0438\\u0441\\u0442\\u0440\\u0430\\u0446\\u0438\\u0438 \\u044f\\u0432\\u043b\\u0435\\u043d\\u0438\\u044f, \\u0432\\u0430\\u0436\\u043d\\u043e\\u0433\\u043e \\u0434\\u043b\\u044f \\u043f\\u043e\\u0438\\u043c\\u043a\\u0438 \\u043f\\u0440\\u0435\\u0441\\u043b\\u043e\\u0432\\u0443\\u0442\\u043e\\u0433\\u043e \\u0431\\u043e\\u0437\\u043e\\u043d\\u0430 \\u0425\\u0438\\u0433\\u0433\\u0441\\u0430 \\u2013 \\u0447\\u0430\\u0441\\u0442\\u0438\\u0446\\u044b, \\u043a\\u043e\\u0442\\u043e\\u0440\\u0430\\u044f \\u043e\\u0442\\u0432\\u0435\\u0447\\u0430\\u0435\\u0442 \\u0437\\u0430 \\u043d\\u0430\\u043b\\u0438\\u0447\\u0438\\u0435 \\u043c\\u0430\\u0441\\u0441\\u044b \\u0443 \\u0432\\u0441\\u0435\\u0445 \\u0434\\u0440\\u0443\\u0433\\u0438\\u0445 \\u0447\\u0430\\u0441\\u0442\\u0438\\u0446 (\\u0432 \\u0442\\u043e\\u043c \\u0441\\u043b\\u0443\\u0447\\u0430\\u0435, \\u043a\\u043e\\u043d\\u0435\\u0447\\u043d\\u043e, \\u0435\\u0441\\u043b\\u0438 \\u043d\\u044b\\u043d\\u0435\\u0448\\u043d\\u0438\\u0435 \\u043c\\u043e\\u0434\\u0435\\u043b\\u0438, \\u043e\\u0431\\u044a\\u044f\\u0441\\u043d\\u044f\\u044e\\u0449\\u0438\\u0435 \\u0443\\u0441\\u0442\\u0440\\u043e\\u0439\\u0441\\u0442\\u0432\\u043e \\u0444\\u0438\\u0437\\u0438\\u0447\\u0435\\u0441\\u043a\\u043e\\u0433\\u043e \\u043c\\u0438\\u0440\\u0430, \\u0432\\u0435\\u0440\\u043d\\u044b). \\u0423\\u0447\\u0435\\u043d\\u044b\\u0435 \\u0437\\u0430\\u0444\\u0438\\u043a\\u0441\\u0438\\u0440\\u043e\\u0432\\u0430\\u043b\\u0438 \\u0440\\u043e\\u0436\\u0434\\u0435\\u043d\\u0438\\u0435 \\u043f\\u0430\\u0440 Z-\\u0431\\u043e\\u0437\\u043e\\u043d\\u043e\\u0432 \\u2013 \\u044d\\u0442\\u0438 \\u044d\\u043b\\u0435\\u043c\\u0435\\u043d\\u0442\\u0430\\u0440\\u043d\\u044b\\u0435 \\u0447\\u0430\\u0441\\u0442\\u0438\\u0446\\u044b \\u043c\\u043e\\u0433\\u0443\\u0442 \\u043e\\u0431\\u0440\\u0430\\u0437\\u043e\\u0432\\u044b\\u0432\\u0430\\u0442\\u044c\\u0441\\u044f, \\u0432 \\u0447\\u0430\\u0441\\u0442\\u043d\\u043e\\u0441\\u0442\\u0438, \\u043f\\u0440\\u0438 \\u0440\\u0430\\u0441\\u043f\\u0430\\u0434\\u0435 \\u0431\\u043e\\u0437\\u043e\\u043d\\u0430 \\u0425\\u0438\\u0433\\u0433\\u0441\\u0430. \\u041e\\u043f\\u044f\\u0442\\u044c-\\u0442\\u0430\\u043a\\u0438, \\u043f\\u043e\\u043a\\u0430 \\u0433\\u043e\\u0432\\u043e\\u0440\\u0438\\u0442\\u044c \\u043e \\u043f\\u043e\\u0438\\u043c\\u043a\\u0435 \\u0441\\u0430\\u043c\\u043e\\u0433\\u043e \\u0431\\u043e\\u0437\\u043e\\u043d\\u0430 \\u0425\\u0438\\u0433\\u0433\\u0441\\u0430 \\u0440\\u0430\\u043d\\u043e \\u2013 \\u0434\\u043b\\u044f \\u0442\\u0430\\u043a\\u0438\\u0445 \\u0443\\u0442\\u0432\\u0435\\u0440\\u0436\\u0434\\u0435\\u043d\\u0438\\u0439 \\u043d\\u0435\\u043e\\u0431\\u0445\\u043e\\u0434\\u0438\\u043c\\u043e \\u0437\\u0430\\u0444\\u0438\\u043a\\u0441\\u0438\\u0440\\u043e\\u0432\\u0430\\u0442\\u044c \\u0435\\u0449\\u0435 \\u043c\\u043d\\u043e\\u0436\\u0435\\u0441\\u0442\\u0432\\u043e \\u0441\\u043e\\u0431\\u044b\\u0442\\u0438\\u0439 \\u0440\\u043e\\u0436\\u0434\\u0435\\u043d\\u0438\\u044f Z-\\u0431\\u043e\\u0437\\u043e\\u043d\\u043e\\u0432.\\u0411\\u0435\\u0437\\u0443\\u0441\\u043b\\u043e\\u0432\\u043d\\u044b\\u043c \\u0444\\u0438\\u0437\\u0438\\u0447\\u0435\\u0441\\u043a\\u0438\\u043c \\u043f\\u0440\\u043e\\u0440\\u044b\\u0432\\u043e\\u043c 2010 \\u0433\\u043e\\u0434\\u0430 \\u043c\\u043e\\u0436\\u043d\\u043e \\u043d\\u0430\\u0437\\u0432\\u0430\\u0442\\u044c \\u0443\\u0434\\u0435\\u0440\\u0436\\u0430\\u043d\\u0438\\u0435 \\u0430\\u0442\\u043e\\u043c\\u043e\\u0432 \\u0430\\u043d\\u0442\\u0438\\u0432\\u0435\\u0449\\u0435\\u0441\\u0442\\u0432\\u0430 \\u0432 \\u0441\\u043f\\u0435\\u0446\\u0438\\u0430\\u043b\\u044c\\u043d\\u043e\\u0439 \\u043b\\u043e\\u0432\\u0443\\u0448\\u043a\\u0435 \\u0432 \\u0442\\u0435\\u0447\\u0435\\u043d\\u0438\\u0435 \\u0434\\u043b\\u0438\\u0442\\u0435\\u043b\\u044c\\u043d\\u043e\\u0433\\u043e \\u0432\\u0440\\u0435\\u043c\\u0435\\u043d\\u0438. \\u0423\\u0447\\u0435\\u043d\\u044b\\u043c \\u0438\\u0437 \\u0415\\u0432\\u0440\\u043e\\u043f\\u0435\\u0439\\u0441\\u043a\\u043e\\u0433\\u043e \\u0446\\u0435\\u043d\\u0442\\u0440\\u0430 \\u044f\\u0434\\u0435\\u0440\\u043d\\u044b\\u0445 \\u0438\\u0441\\u0441\\u043b\\u0435\\u0434\\u043e\\u0432\\u0430\\u043d\\u0438\\u0439 (CERN \\u2013 \\u044d\\u0442\\u0430 \\u0436\\u0435 \\u043e\\u0440\\u0433\\u0430\\u043d\\u0438\\u0437\\u0430\\u0446\\u0438\\u044f \\u043a\\u0443\\u0440\\u0438\\u0440\\u0443\\u0435\\u0442 \\u0440\\u0430\\u0431\\u043e\\u0442\\u0443 \\u0411\\u0410\\u041a) \\u0443\\u0434\\u0430\\u043b\\u043e\\u0441\\u044c \\u0441\\u0438\\u043d\\u0442\\u0435\\u0437\\u0438\\u0440\\u043e\\u0432\\u0430\\u0442\\u044c \\u0430\\u0442\\u043e\\u043c\\u044b \\u0430\\u043d\\u0442\\u0438\\u0432\\u043e\\u0434\\u043e\\u0440\\u043e\\u0434\\u0430 (\\u0432\\u043f\\u0435\\u0440\\u0432\\u044b\\u0435 \\u044d\\u0442\\u043e \\u0431\\u044b\\u043b\\u043e \\u0441\\u0434\\u0435\\u043b\\u0430\\u043d\\u043e \\u0432 CERN \\u0432 2002 \\u0433\\u043e\\u0434\\u0443) \\u0438 \\u0443\\u0434\\u0435\\u0440\\u0436\\u0430\\u0442\\u044c 38 \\u0438\\u0437 \\u043d\\u0438\\u0445 \\u0432 \\u043b\\u043e\\u0432\\u0443\\u0448\\u043a\\u0435 \\u0432 \\u0442\\u0435\\u0447\\u0435\\u043d\\u0438\\u0435 \\u0434\\u0435\\u0441\\u044f\\u0442\\u044b\\u0445 \\u0434\\u043e\\u043b\\u0435\\u0439 \\u0441\\u0435\\u043a\\u0443\\u043d\\u0434\\u044b. \\u0418\\u0441\\u043f\\u043e\\u043b\\u044c\\u0437\\u0443\\u044f \\u043d\\u043e\\u0432\\u0443\\u044e \\u0442\\u0435\\u0445\\u043d\\u043e\\u043b\\u043e\\u0433\\u0438\\u044e, \\u0444\\u0438\\u0437\\u0438\\u043a\\u0438, \\u0442\\u0435\\u043e\\u0440\\u0435\\u0442\\u0438\\u0447\\u0435\\u0441\\u043a\\u0438, \\u0441\\u043c\\u043e\\u0433\\u0443\\u0442 \\u043f\\u043e\\u043b\\u0443\\u0447\\u0438\\u0442\\u044c \\u0441\\u043f\\u0435\\u043a\\u0442\\u0440 \\u0430\\u043d\\u0442\\u0438\\u0432\\u043e\\u0434\\u043e\\u0440\\u043e\\u0434\\u0430, \\u043a\\u043e\\u0442\\u043e\\u0440\\u044b\\u0439 \\u043f\\u043e\\u043c\\u043e\\u0436\\u0435\\u0442 \\u0438\\u043c \\u043f\\u043e\\u0434\\u0442\\u0432\\u0435\\u0440\\u0434\\u0438\\u0442\\u044c \\u0438\\u043b\\u0438 \\u043e\\u043f\\u0440\\u043e\\u0432\\u0435\\u0440\\u0433\\u043d\\u0443\\u0442\\u044c \\u043f\\u0440\\u0438\\u043d\\u0446\\u0438\\u043f CPT-\\u0441\\u0438\\u043c\\u043c\\u0435\\u0442\\u0440\\u0438\\u0438 \\u0438 \\u0437\\u0430\\u043e\\u0434\\u043d\\u043e \\u043e\\u0431\\u0449\\u0438\\u0435 \\u043f\\u0440\\u0435\\u0434\\u0441\\u0442\\u0430\\u0432\\u043b\\u0435\\u043d\\u0438\\u044f \\u043e\\u0431 \\u043e\\u0440\\u0433\\u0430\\u043d\\u0438\\u0437\\u0430\\u0446\\u0438\\u0438 \\u0412\\u0441\\u0435\\u043b\\u0435\\u043d\\u043d\\u043e\\u0439.\\u041a\\u043e\\u043d\\u0434\\u0435\\u043d\\u0441\\u0430\\u0442 \\u0411\\u043e\\u0437\\u0435-\\u042d\\u0439\\u043d\\u0448\\u0442\\u0435\\u0439\\u043d\\u0430, \\u043a\\u043e\\u0442\\u043e\\u0440\\u044b\\u0439 \\u0438\\u043d\\u043e\\u0433\\u0434\\u0430 \\u043d\\u0430\\u0437\\u044b\\u0432\\u0430\\u044e\\u0442 \\u043f\\u044f\\u0442\\u044b\\u043c \\u0441\\u043e\\u0441\\u0442\\u043e\\u044f\\u043d\\u0438\\u0435\\u043c \\u043c\\u0430\\u0442\\u0435\\u0440\\u0438\\u0438, - \\u044d\\u0442\\u043e \\u0441\\u043e\\u0441\\u0442\\u043e\\u044f\\u043d\\u0438\\u0435, \\u0432 \\u043a\\u043e\\u0442\\u043e\\u0440\\u043e\\u0435 \\u0432\\u0435\\u0449\\u0435\\u0441\\u0442\\u0432\\u043e \\u043f\\u0435\\u0440\\u0435\\u0445\\u043e\\u0434\\u0438\\u0442 \\u043f\\u0440\\u0438 \\u0442\\u0435\\u043c\\u043f\\u0435\\u0440\\u0430\\u0442\\u0443\\u0440\\u0430\\u0445, \\u0431\\u043b\\u0438\\u0437\\u043a\\u0438\\u0445 \\u043a \\u0430\\u0431\\u0441\\u043e\\u043b\\u044e\\u0442\\u043d\\u043e\\u043c\\u0443 \\u043d\\u0443\\u043b\\u044e, \\u0438 \\u0432 \\u043a\\u043e\\u0442\\u043e\\u0440\\u043e\\u043c \\u043e\\u043d\\u043e \\u043d\\u0430\\u0447\\u0438\\u043d\\u0430\\u0435\\u0442 \\u0432\\u0435\\u0441\\u0442\\u0438 \\u0441\\u0435\\u0431\\u044f \\u043a\\u0430\\u043a \\u0433\\u0438\\u0433\\u0430\\u043d\\u0442\\u0441\\u043a\\u0430\\u044f \\u043a\\u0432\\u0430\\u043d\\u0442\\u043e\\u0432\\u0430\\u044f \\u0447\\u0430\\u0441\\u0442\\u0438\\u0446\\u0430.\\r\\u0415\\u0449\\u0435 \\u043e\\u0434\\u043d\\u0430 \\u0443\\u0434\\u0438\\u0432\\u0438\\u0442\\u0435\\u043b\\u044c\\u043d\\u0430\\u044f \\u043d\\u043e\\u0432\\u043e\\u0441\\u0442\\u044c \\u043f\\u0440\\u043e\\u0448\\u0435\\u0434\\u0448\\u0435\\u0433\\u043e \\u0433\\u043e\\u0434\\u0430 \\u2013 \\u0443\\u043c\\u0435\\u043d\\u044c\\u0448\\u0435\\u043d\\u0438\\u0435 \\u0440\\u0430\\u0437\\u043c\\u0435\\u0440\\u0430 \\u043f\\u0440\\u043e\\u0442\\u043e\\u043d\\u0430. \\u041f\\u043e \\u0438\\u0442\\u043e\\u0433\\u0430\\u043c \\u0441\\u0430\\u043c\\u044b\\u0445 \\u0442\\u043e\\u0447\\u043d\\u044b\\u0445 \\u043d\\u0430 \\u0441\\u0435\\u0433\\u043e\\u0434\\u043d\\u044f\\u0448\\u043d\\u0438\\u0439 \\u0434\\u0435\\u043d\\u044c \\u0438\\u0437\\u043c\\u0435\\u0440\\u0435\\u043d\\u0438\\u0439, \\u0438\\u0441\\u0441\\u043b\\u0435\\u0434\\u043e\\u0432\\u0430\\u0442\\u0435\\u043b\\u0438 \\u0437\\u0430\\u043a\\u043b\\u044e\\u0447\\u0438\\u043b\\u0438, \\u0447\\u0442\\u043e \\u0440\\u0430\\u0434\\u0438\\u0443\\u0441 \\u044d\\u0442\\u043e\\u0439 \\u0447\\u0430\\u0441\\u0442\\u0438\\u0446\\u044b \\u043d\\u0430 \\u0447\\u0435\\u0442\\u044b\\u0440\\u0435 \\u043f\\u0440\\u043e\\u0446\\u0435\\u043d\\u0442\\u0430 \\u043c\\u0435\\u043d\\u044c\\u0448\\u0435, \\u0447\\u0435\\u043c \\u0431\\u044b\\u043b\\u043e \\u043f\\u0440\\u0438\\u043d\\u044f\\u0442\\u043e \\u0434\\u0443\\u043c\\u0430\\u0442\\u044c, \\u0438 \\u0441\\u043e\\u0441\\u0442\\u0430\\u0432\\u043b\\u044f\\u0435\\u0442 0,84184 \\u0444\\u0435\\u043c\\u0442\\u043e\\u043c\\u0435\\u0442\\u0440\\u0430 (\\u0444\\u0435\\u043c\\u0442\\u043e\\u043c\\u0435\\u0442\\u0440 - \\u044d\\u0442\\u043e 10-15 \\u043c\\u0435\\u0442\\u0440\\u0430). \\u0414\\u0432\\u0430 \\u0434\\u0440\\u0443\\u0433\\u0438\\u0445 \\u0434\\u043e\\u0441\\u0442\\u0438\\u0436\\u0435\\u043d\\u0438\\u044f \\u043e\\u0442\\u043d\\u043e\\u0441\\u044f\\u0442\\u0441\\u044f \\u043a \\u043a\\u0432\\u0430\\u043d\\u0442\\u043e\\u0432\\u043e\\u0439 \\u043c\\u0435\\u0445\\u0430\\u043d\\u0438\\u043a\\u0435 \\u2013 \\u0443\\u0447\\u0435\\u043d\\u044b\\u043c \\u0432\\u043f\\u0435\\u0440\\u0432\\u044b\\u0435 \\u0443\\u0434\\u0430\\u043b\\u043e\\u0441\\u044c \\u043f\\u043e\\u043b\\u0443\\u0447\\u0438\\u0442\\u044c \\u043a\\u043e\\u043d\\u0434\\u0435\\u043d\\u0441\\u0430\\u0442 \\u0411\\u043e\\u0437\\u0435-\\u042d\\u0439\\u043d\\u0448\\u0442\\u0435\\u0439\\u043d\\u0430 \\u043d\\u0430 \\u043e\\u0441\\u043d\\u043e\\u0432\\u0435 \\u0444\\u043e\\u0442\\u043e\\u043d\\u043e\\u0432 \\u0438 \\u043f\\u0440\\u043e\\u0434\\u0435\\u043c\\u043e\\u043d\\u0441\\u0442\\u0440\\u0438\\u0440\\u043e\\u0432\\u0430\\u0442\\u044c \\u043a\\u0432\\u0430\\u043d\\u0442\\u043e\\u0432\\u044b\\u0435 \\u044d\\u0444\\u0444\\u0435\\u043a\\u0442\\u044b \\u0434\\u043b\\u044f \\u043f\\u043e\\u0447\\u0442\\u0438 \\u043c\\u0430\\u043a\\u0440\\u043e\\u0441\\u043a\\u043e\\u043f\\u0438\\u0447\\u0435\\u0441\\u043a\\u043e\\u0433\\u043e \\u043e\\u0431\\u044a\\u0435\\u043a\\u0442\\u0430.\\u0412 2010 \\u0433\\u043e\\u0434\\u0443 \\u043f\\u0440\\u043e\\u0433\\u0440\\u0435\\u0441\\u0441 \\u0432 \\u0440\\u0430\\u0437\\u0432\\u0438\\u0442\\u0438\\u0438 \\u0442\\u0435\\u0445\\u043d\\u043e\\u043b\\u043e\\u0433\\u0438\\u0439 \\u043c\\u0438\\u043a\\u0440\\u043e\\u0441\\u043a\\u043e\\u043f\\u0438\\u0438 \\u043f\\u043e\\u0437\\u0432\\u043e\\u043b\\u0438\\u043b \\u0443\\u0447\\u0435\\u043d\\u044b\\u043c \\u0440\\u0430\\u0437\\u0433\\u043b\\u044f\\u0434\\u0435\\u0442\\u044c \\u043e\\u0442\\u0434\\u0435\\u043b\\u044c\\u043d\\u044b\\u0435 \\u043c\\u043e\\u043b\\u0435\\u043a\\u0443\\u043b\\u044b \\u0438 \\u0441\\u0444\\u043e\\u0442\\u043e\\u0433\\u0440\\u0430\\u0444\\u0438\\u0440\\u043e\\u0432\\u0430\\u0442\\u044c \\u0432\\u043e\\u0434\\u043e\\u0440\\u043e\\u0434\\u043d\\u044b\\u0435 \\u0441\\u0432\\u044f\\u0437\\u0438 - \\u043e\\u0441\\u043e\\u0431\\u044b\\u0439 \\u0442\\u0438\\u043f \\u0432\\u0437\\u0430\\u0438\\u043c\\u043e\\u0434\\u0435\\u0439\\u0441\\u0442\\u0432\\u0438\\u044f \\u043c\\u0435\\u0436\\u0434\\u0443 \\u0430\\u0442\\u043e\\u043c\\u0430\\u043c\\u0438, \\u043e\\u043f\\u0440\\u0435\\u0434\\u0435\\u043b\\u044f\\u044e\\u0449\\u0438\\u0439, \\u0432 \\u0447\\u0430\\u0441\\u0442\\u043d\\u043e\\u0441\\u0442\\u0438, \\u043d\\u0435\\u043e\\u0431\\u044b\\u0447\\u043d\\u044b\\u0435 \\u0441\\u0432\\u043e\\u0439\\u0441\\u0442\\u0432\\u0430 \\u0432\\u043e\\u0434\\u044b. \\u041a\\u0441\\u0442\\u0430\\u0442\\u0438, \\u043a 2010 \\u0433\\u043e\\u0434\\u0443 \\u0443 \\u0443\\u0447\\u0435\\u043d\\u044b\\u0445 (\\u043f\\u0440\\u0430\\u0432\\u0434\\u0430, \\u043d\\u0435 \\u0444\\u0438\\u0437\\u0438\\u043a\\u043e\\u0432, \\u0430 \\u0445\\u0438\\u043c\\u0438\\u043a\\u043e\\u0432) \\u043d\\u0430\\u043a\\u043e\\u043f\\u0438\\u043b\\u043e\\u0441\\u044c \\u0434\\u043e\\u0441\\u0442\\u0430\\u0442\\u043e\\u0447\\u043d\\u043e \\u043f\\u0440\\u0435\\u0442\\u0435\\u043d\\u0437\\u0438\\u0439 \\u043a \\u043d\\u044b\\u043d\\u0435\\u0448\\u043d\\u0435\\u043c\\u0443 \\u043e\\u043f\\u0440\\u0435\\u0434\\u0435\\u043b\\u0435\\u043d\\u0438\\u044e \\u0432\\u043e\\u0434\\u043e\\u0440\\u043e\\u0434\\u043d\\u043e\\u0439 \\u0441\\u0432\\u044f\\u0437\\u0438 \\u0434\\u043b\\u044f \\u0442\\u043e\\u0433\\u043e, \\u0447\\u0442\\u043e\\u0431\\u044b \\u041c\\u0435\\u0436\\u0434\\u0443\\u043d\\u0430\\u0440\\u043e\\u0434\\u043d\\u044b\\u0439 \\u0441\\u043e\\u044e\\u0437 \\u0442\\u0435\\u043e\\u0440\\u0435\\u0442\\u0438\\u0447\\u0435\\u0441\\u043a\\u043e\\u0439 \\u0438 \\u043f\\u0440\\u0438\\u043a\\u043b\\u0430\\u0434\\u043d\\u043e\\u0439 \\u0445\\u0438\\u043c\\u0438\\u0438 (\\u0418\\u042e\\u041f\\u0410\\u041a) \\u043f\\u0440\\u0435\\u0434\\u043b\\u043e\\u0436\\u0438\\u043b \\u0438\\u0437\\u043c\\u0435\\u043d\\u0438\\u0442\\u044c \\u0435\\u0433\\u043e \\u0441 \\u0443\\u0447\\u0435\\u0442\\u043e\\u043c \\u043e\\u0442\\u043a\\u0440\\u044b\\u0442\\u044b\\u0445 \\u0432 \\u043f\\u043e\\u0441\\u043b\\u0435\\u0434\\u043d\\u0435\\u0435 \\u0432\\u0440\\u0435\\u043c\\u044f \\u043d\\u043e\\u0432\\u044b\\u0445 \\u0441\\u0432\\u043e\\u0439\\u0441\\u0442\\u0432 \\u044d\\u0442\\u043e\\u0433\\u043e \\u0442\\u0438\\u043f\\u0430 \\u0441\\u0432\\u044f\\u0437\\u0435\\u0439.\\u0420\\u043e\\u0441\\u0441\\u0438\\u0439\\u0441\\u043a\\u0438\\u0435 \\u0444\\u0438\\u0437\\u0438\\u043a\\u0438 \\u0432 \\u0430\\u043f\\u0440\\u0435\\u043b\\u0435 \\u0443\\u0448\\u0435\\u0434\\u0448\\u0435\\u0433\\u043e \\u0433\\u043e\\u0434\\u0430 \\u043e\\u0431\\u044a\\u044f\\u0432\\u0438\\u043b\\u0438 \\u043e \\u0441\\u0438\\u043d\\u0442\\u0435\\u0437\\u0435 \\u043d\\u043e\\u0432\\u043e\\u0433\\u043e \\u0442\\u0440\\u0430\\u043d\\u0441\\u0443\\u0440\\u0430\\u043d\\u043e\\u0432\\u043e\\u0433\\u043e \\u044d\\u043b\\u0435\\u043c\\u0435\\u043d\\u0442\\u0430 \\u043f\\u0435\\u0440\\u0438\\u043e\\u0434\\u0438\\u0447\\u0435\\u0441\\u043a\\u043e\\u0439 \\u0442\\u0430\\u0431\\u043b\\u0438\\u0446\\u044b \\u041c\\u0435\\u043d\\u0434\\u0435\\u043b\\u0435\\u0435\\u0432\\u0430 \\u2013 \\u0441\\u043e\\u0442\\u0440\\u0443\\u0434\\u043d\\u0438\\u043a\\u0438 \\u041b\\u0430\\u0431\\u043e\\u0440\\u0430\\u0442\\u043e\\u0440\\u0438\\u0438 \\u044f\\u0434\\u0435\\u0440\\u043d\\u044b\\u0445 \\u0440\\u0435\\u0430\\u043a\\u0446\\u0438\\u0439 (\\u041b\\u042f\\u0420) \\u0438\\u043c\\u0435\\u043d\\u0438 \\u0424\\u043b\\u0435\\u0440\\u043e\\u0432\\u0430 \\u041e\\u0431\\u044a\\u0435\\u0434\\u0438\\u043d\\u0435\\u043d\\u043d\\u043e\\u0433\\u043e \\u0438\\u043d\\u0441\\u0442\\u0438\\u0442\\u0443\\u0442\\u0430 \\u044f\\u0434\\u0435\\u0440\\u043d\\u044b\\u0445 \\u0438\\u0441\\u0441\\u043b\\u0435\\u0434\\u043e\\u0432\\u0430\\u043d\\u0438\\u0439 (\\u041e\\u0418\\u042f\\u0418) \\u0432 \\u0414\\u0443\\u0431\\u043d\\u0435 \\u0437\\u0430\\u0444\\u0438\\u043a\\u0441\\u0438\\u0440\\u043e\\u0432\\u0430\\u043b\\u0438 \\u0448\\u0435\\u0441\\u0442\\u044c \\u0441\\u043e\\u0431\\u044b\\u0442\\u0438\\u0439 \\u0440\\u043e\\u0436\\u0434\\u0435\\u043d\\u0438\\u044f \\u044f\\u0434\\u0435\\u0440 117-\\u0433\\u043e \\u044d\\u043b\\u0435\\u043c\\u0435\\u043d\\u0442\\u0430.\\u0417\\u0434\\u0435\\u0441\\u044c \\u043c\\u043e\\u0436\\u043d\\u043e \\u043f\\u0440\\u043e\\u0447\\u0438\\u0442\\u0430\\u0442\\u044c \\u0438\\u043d\\u0442\\u0435\\u0440\\u0432\\u044c\\u044e \\u0441 \\u0440\\u0443\\u043a\\u043e\\u0432\\u043e\\u0434\\u0438\\u0442\\u0435\\u043b\\u0435\\u043c \\u041b\\u042f\\u0420 \\u042e\\u0440\\u0438\\u0435\\u043c \\u0426\\u043e\\u043b\\u0430\\u043a\\u043e\\u0432\\u0438\\u0447\\u0435\\u043c \\u041e\\u0433\\u0430\\u043d\\u0435\\u0441\\u044f\\u043d\\u043e\\u043c, \\u0432 \\u043a\\u043e\\u0442\\u043e\\u0440\\u043e\\u043c \\u043e\\u043d \\u0440\\u0430\\u0441\\u0441\\u043a\\u0430\\u0437\\u0430\\u043b \\u043e \\u0442\\u043e\\u043c, \\u0437\\u0430\\u0447\\u0435\\u043c \\u0444\\u0438\\u0437\\u0438\\u043a\\u0438 \\u0438\\u0449\\u0443\\u0442 \\u043d\\u043e\\u0432\\u044b\\u0435 \\u044d\\u043b\\u0435\\u043c\\u0435\\u043d\\u0442\\u044b, \\u043e \\u043b\\u0430\\u0431\\u043e\\u0440\\u0430\\u0442\\u043e\\u0440\\u0438\\u0438 \\u0438 \\u043f\\u0440\\u043e\\u0432\\u043e\\u0434\\u044f\\u0449\\u0438\\u0445\\u0441\\u044f \\u0432 \\u043d\\u0435\\u0439 \\u044d\\u043a\\u0441\\u043f\\u0435\\u0440\\u0438\\u043c\\u0435\\u043d\\u0442\\u0430\\u0445, \\u0430 \\u0442\\u0430\\u043a\\u0436\\u0435 \\u043e \\u0421\\u043a\\u043e\\u043b\\u043a\\u043e\\u0432\\u043e \\u0438 \\u043e\\u0431 \\u0430\\u0440\\u0445\\u0438\\u0442\\u0435\\u043a\\u0442\\u0443\\u0440\\u0435.\\u041d\\u0430\\u043a\\u043e\\u043d\\u0435\\u0446, \\u0432 2010 \\u0433\\u043e\\u0434\\u0443 \\u0444\\u0438\\u0437\\u0438\\u043a\\u0430\\u043c \\u0443\\u0434\\u0430\\u043b\\u043e\\u0441\\u044c \\u044d\\u043a\\u0441\\u043f\\u0435\\u0440\\u0438\\u043c\\u0435\\u043d\\u0442\\u0430\\u043b\\u044c\\u043d\\u043e \\u043f\\u043e\\u0434\\u0442\\u0432\\u0435\\u0440\\u0434\\u0438\\u0442\\u044c \\u0437\\u0430\\u043c\\u0435\\u0434\\u043b\\u0435\\u043d\\u0438\\u0435 \\u0432\\u0440\\u0435\\u043c\\u0435\\u043d\\u0438, \\u043f\\u0440\\u0435\\u0434\\u0441\\u043a\\u0430\\u0437\\u0430\\u043d\\u043d\\u043e\\u0435 \\u0432 \\u0440\\u0430\\u043c\\u043a\\u0430\\u0445 \\u043e\\u0431\\u0449\\u0435\\u0439 \\u0438 \\u0441\\u043f\\u0435\\u0446\\u0438\\u0430\\u043b\\u044c\\u043d\\u043e\\u0439 \\u0442\\u0435\\u043e\\u0440\\u0438\\u0439 \\u043e\\u0442\\u043d\\u043e\\u0441\\u0438\\u0442\\u0435\\u043b\\u044c\\u043d\\u043e\\u0441\\u0442\\u0438 \\u042d\\u0439\\u043d\\u0448\\u0442\\u0435\\u0439\\u043d\\u0430. \\u0423\\u0447\\u0435\\u043d\\u044b\\u0435 \\u043f\\u0440\\u0438 \\u043f\\u043e\\u043c\\u043e\\u0449\\u0438 \\u0441\\u0432\\u0435\\u0440\\u0445\\u0442\\u043e\\u0447\\u043d\\u044b\\u0445 \\u0430\\u0442\\u043e\\u043c\\u043d\\u044b\\u0445 \\u0447\\u0430\\u0441\\u043e\\u0432 \\u0441\\u043c\\u043e\\u0433\\u043b\\u0438 \\u043f\\u043e\\u043b\\u0443\\u0447\\u0438\\u0442\\u044c \\u0434\\u043e\\u043a\\u0430\\u0437\\u0430\\u0442\\u0435\\u043b\\u044c\\u0441\\u0442\\u0432\\u0430 \\u043a\\u0430\\u043a \\u0437\\u0430\\u043c\\u0435\\u0434\\u043b\\u0435\\u043d\\u0438\\u044f \\u0432\\u0440\\u0435\\u043c\\u0435\\u043d\\u0438 \\u0432\\u0431\\u043b\\u0438\\u0437\\u0438 \\u043c\\u0430\\u0441\\u0441\\u0438\\u0432\\u043d\\u044b\\u0445 \\u043e\\u0431\\u044a\\u0435\\u043a\\u0442\\u043e\\u0432 (\\u043d\\u0430\\u0431\\u043b\\u044e\\u0434\\u0430\\u0442\\u0435\\u043b\\u044e, \\u043a\\u043e\\u0442\\u043e\\u0440\\u044b\\u0439 \\u043d\\u0430\\u0445\\u043e\\u0434\\u0438\\u0442\\u0441\\u044f \\u0434\\u0430\\u043b\\u044c\\u0448\\u0435 \\u043e\\u0442 \\u043e\\u0431\\u044a\\u0435\\u043a\\u0442\\u0430, \\u0431\\u0443\\u0434\\u0435\\u0442 \\u043a\\u0430\\u0437\\u0430\\u0442\\u044c\\u0441\\u044f, \\u0447\\u0442\\u043e \\u0447\\u0430\\u0441\\u044b \\u0435\\u0433\\u043e \\u043d\\u0430\\u043f\\u0430\\u0440\\u043d\\u0438\\u043a\\u0430, \\u043a\\u043e\\u0442\\u043e\\u0440\\u044b\\u0439 \\u0441\\u0442\\u043e\\u0438\\u0442 \\u0440\\u044f\\u0434\\u043e\\u043c \\u0441 \\u043e\\u0431\\u044a\\u0435\\u043a\\u0442\\u043e\\u043c, \\u0438\\u0434\\u0443\\u0442 \\u043c\\u0435\\u0434\\u043b\\u0435\\u043d\\u043d\\u0435\\u0435), \\u0442\\u0430\\u043a \\u0438 \\u0437\\u0430\\u043c\\u0435\\u0434\\u043b\\u0435\\u043d\\u0438\\u044f \\u0445\\u043e\\u0434\\u0430 \\u0447\\u0430\\u0441\\u043e\\u0432 \\u043f\\u0440\\u0438 \\u0434\\u0432\\u0438\\u0436\\u0435\\u043d\\u0438\\u0438 (\\u0441 \\u0442\\u043e\\u0447\\u043a\\u0438 \\u0437\\u0440\\u0435\\u043d\\u0438\\u044f \\u043d\\u0435\\u043f\\u043e\\u0434\\u0432\\u0438\\u0436\\u043d\\u043e\\u0433\\u043e \\u043d\\u0430\\u0431\\u043b\\u044e\\u0434\\u0430\\u0442\\u0435\\u043b\\u044f \\u0441\\u0442\\u0440\\u0435\\u043b\\u043a\\u0438 \\u043d\\u0430 \\u0447\\u0430\\u0441\\u0430\\u0445 \\u0434\\u0432\\u0438\\u0436\\u0443\\u0449\\u0435\\u0433\\u043e\\u0441\\u044f \\u043a\\u043e\\u043b\\u043b\\u0435\\u0433\\u0438 \\u0431\\u0443\\u0434\\u0443\\u0442 \\u043f\\u0435\\u0440\\u0435\\u043c\\u0435\\u0449\\u0430\\u0442\\u044c\\u0441\\u044f \\u043c\\u0435\\u0434\\u043b\\u0435\\u043d\\u043d\\u0435\\u0435).\\u041c\\u0430\\u0442\\u0435\\u043c\\u0430\\u0442\\u0438\\u043a\\u0430\\u0423\\u0445\\u043e\\u0434\\u044f\\u0449\\u0438\\u0439 \\u0433\\u043e\\u0434 \\u043e\\u043a\\u0430\\u0437\\u0430\\u043b\\u0441\\u044f \\u043d\\u0435\\u043e\\u0436\\u0438\\u0434\\u0430\\u043d\\u043d\\u043e \\u043d\\u0430\\u0441\\u044b\\u0449\\u0435\\u043d \\u043d\\u043e\\u0432\\u043e\\u0441\\u0442\\u044f\\u043c\\u0438 \\u0438\\u0437 \\u043c\\u0438\\u0440\\u0430 \\u043c\\u0430\\u0442\\u0435\\u043c\\u0430\\u0442\\u0438\\u043a\\u0438 \\u2013 \\u043e\\u0431\\u044b\\u0447\\u043d\\u043e \\u044d\\u0442\\u0430 \\u043d\\u0430\\u0443\\u043a\\u0430 \\u043d\\u0435 \\u043f\\u043e\\u043f\\u0430\\u0434\\u0430\\u0435\\u0442 \\u043d\\u0430 \\u0441\\u0442\\u0440\\u0430\\u043d\\u0438\\u0446\\u044b \\u043f\\u043e\\u043f\\u0443\\u043b\\u044f\\u0440\\u043d\\u044b\\u0445 \\u0438\\u0437\\u0434\\u0430\\u043d\\u0438\\u0439 \\u0438\\u0437-\\u0437\\u0430 \\u0441\\u0432\\u043e\\u0435\\u0439 \\u0447\\u0440\\u0435\\u0437\\u0432\\u044b\\u0447\\u0430\\u0439\\u043d\\u043e\\u0439 \\u0441\\u043b\\u043e\\u0436\\u043d\\u043e\\u0441\\u0442\\u0438 \\u0438 \\u0430\\u0431\\u0441\\u0442\\u0440\\u0430\\u043a\\u0442\\u043d\\u043e\\u0441\\u0442\\u0438. \\u041c\\u0430\\u0442\\u0435\\u043c\\u0430\\u0442\\u0438\\u0447\\u0435\\u0441\\u043a\\u0438\\u0439 \\u0431\\u0443\\u043c \\u043d\\u0430\\u0447\\u0430\\u043b\\u0441\\u044f \\u0432 \\u043c\\u0430\\u0440\\u0442\\u0435, \\u043a\\u043e\\u0433\\u0434\\u0430 \\u041c\\u0430\\u0442\\u0435\\u043c\\u0430\\u0442\\u0438\\u0447\\u0435\\u0441\\u043a\\u0438\\u0439 \\u0438\\u043d\\u0441\\u0442\\u0438\\u0442\\u0443\\u0442 \\u041a\\u043b\\u044d\\u044f \\u043f\\u0440\\u0438\\u0441\\u0443\\u0434\\u0438\\u043b \\u041f\\u0440\\u0435\\u043c\\u0438\\u044e \\u0442\\u044b\\u0441\\u044f\\u0447\\u0435\\u043b\\u0435\\u0442\\u0438\\u044f \\u0440\\u043e\\u0441\\u0441\\u0438\\u0439\\u0441\\u043a\\u043e\\u043c\\u0443 \\u043c\\u0430\\u0442\\u0435\\u043c\\u0430\\u0442\\u0438\\u043a\\u0443 \\u0413\\u0440\\u0438\\u0433\\u043e\\u0440\\u0438\\u044e \\u041f\\u0435\\u0440\\u0435\\u043b\\u044c\\u043c\\u0430\\u043d\\u0443 \\u0437\\u0430 \\u0434\\u043e\\u043a\\u0430\\u0437\\u0430\\u0442\\u0435\\u043b\\u044c\\u0441\\u0442\\u0432\\u043e \\u0433\\u0438\\u043f\\u043e\\u0442\\u0435\\u0437\\u044b \\u041f\\u0443\\u0430\\u043d\\u043a\\u0430\\u0440\\u0435. \\u041a\\u0430\\u043a \\u0438 \\u043e\\u0436\\u0438\\u0434\\u0430\\u043b\\u043e\\u0441\\u044c, \\u041f\\u0435\\u0440\\u0435\\u043b\\u044c\\u043c\\u0430\\u043d, \\u0434\\u043e \\u044d\\u0442\\u043e\\u0433\\u043e \\u043e\\u0442\\u043a\\u0430\\u0437\\u0430\\u0432\\u0448\\u0438\\u0439\\u0441\\u044f \\u043e\\u0442 \\u043c\\u0435\\u0434\\u0430\\u043b\\u0438 \\u0424\\u0438\\u043b\\u0434\\u0441\\u0430 \\u2013 \\u0430\\u043d\\u0430\\u043b\\u043e\\u0433\\u0430 \\u041d\\u043e\\u0431\\u0435\\u043b\\u0435\\u0432\\u0441\\u043a\\u043e\\u0439 \\u043f\\u0440\\u0435\\u043c\\u0438\\u0438 \\u0434\\u043b\\u044f \\u043c\\u0430\\u0442\\u0435\\u043c\\u0430\\u0442\\u0438\\u043a\\u043e\\u0432 \\u2013 \\u043d\\u0435 \\u0437\\u0430\\u0445\\u043e\\u0442\\u0435\\u043b \\u043f\\u0440\\u0438\\u043d\\u044f\\u0442\\u044c \\u0438 \\u041f\\u0440\\u0435\\u043c\\u0438\\u044e \\u0442\\u044b\\u0441\\u044f\\u0447\\u0435\\u043b\\u0435\\u0442\\u0438\\u044f.C\\u0431\\u043e\\u0440\\u043a\\u0430 \\u043c\\u043e\\u0437\\u0430\\u0438\\u043a\\u0438 \\u0432\\u0441\\u043b\\u0435\\u043f\\u0443\\u044e - \\u043e\\u0434\\u0438\\u043d \\u0438\\u0437 \\u043f\\u0440\\u0438\\u043c\\u0435\\u0440\\u043e\\u0432 \\u0437\\u0430\\u0434\\u0430\\u0447\\u0438 \\u043a\\u043b\\u0430\\u0441\\u0441\\u0430 \\u0441\\u043b\\u043e\\u0436\\u043d\\u043e\\u0441\\u0442\\u0438 NP. \\u041e\\u043f\\u0440\\u0435\\u0434\\u0435\\u043b\\u0438\\u0442\\u044c, \\u043f\\u0440\\u0430\\u0432\\u0438\\u043b\\u044c\\u043d\\u043e \\u043b\\u0438 \\u0443\\u043b\\u043e\\u0436\\u0435\\u043d\\u044b \\u0432\\u0441\\u0435 \\u0444\\u0440\\u0430\\u0433\\u043c\\u0435\\u043d\\u0442\\u044b, \\u043b\\u0435\\u0433\\u043a\\u043e, \\u043d\\u043e \\u0432\\u043e\\u0442 \\u043f\\u043e\\u043b\\u0443\\u0447\\u0438\\u0442\\u044c \\u041c\\u043e\\u043d\\u0443 \\u041b\\u0438\\u0437\\u0443 \\u0438\\u0437 \\u0442\\u044b\\u0441\\u044f\\u0447\\u0438 \\u0440\\u0430\\u0437\\u043d\\u043e\\u0446\\u0432\\u0435\\u0442\\u043d\\u044b\\u0445 \\u043a\\u0443\\u0441\\u043e\\u0447\\u043a\\u043e\\u0432, \\u043f\\u0435\\u0440\\u0435\\u0431\\u0438\\u0440\\u0430\\u044f \\u0438\\u0445 \\u0441\\u043e\\u0447\\u0435\\u0442\\u0430\\u043d\\u0438\\u044f, \\u0443\\u0436\\u0435 \\u043d\\u0435 \\u0442\\u0430\\u043a \\u043f\\u0440\\u043e\\u0441\\u0442\\u043e. \\u0421\\u043a\\u0440\\u0438\\u043d\\u0448\\u043e\\u0442 \\u0441 \\u0441\\u0430\\u0439\\u0442\\u0430 a1freegamesLenta.ru\\u041e\\u0431\\u0441\\u0443\\u0436\\u0434\\u0435\\u043d\\u0438\\u0435 (\\u0437\\u0430\\u0447\\u0430\\u0441\\u0442\\u0443\\u044e \\u0432\\u0435\\u0441\\u044c\\u043c\\u0430 \\u043d\\u0435\\u0432\\u0435\\u0436\\u043b\\u0438\\u0432\\u043e\\u0435) \\u0440\\u0435\\u0448\\u0435\\u043d\\u0438\\u044f \\u041f\\u0435\\u0440\\u0435\\u043b\\u044c\\u043c\\u0430\\u043d\\u0430 \\u0435\\u0449\\u0435 \\u043d\\u0435 \\u0437\\u0430\\u0442\\u0438\\u0445\\u043b\\u043e, \\u043a\\u043e\\u0433\\u0434\\u0430 \\u043f\\u043e\\u044f\\u0432\\u0438\\u043b\\u0430\\u0441\\u044c \\u043d\\u043e\\u0432\\u043e\\u0441\\u0442\\u044c, \\u0447\\u0442\\u043e \\u0438\\u043d\\u0434\\u0438\\u0439\\u0441\\u043a\\u0438\\u0439 \\u043c\\u0430\\u0442\\u0435\\u043c\\u0430\\u0442\\u0438\\u043a \\u0412\\u0438\\u043d\\u044d\\u0439 \\u0414\\u0435\\u043e\\u043b\\u0430\\u043b\\u0438\\u043a\\u0430\\u0440 \\u0441\\u043f\\u0440\\u0430\\u0432\\u0438\\u043b\\u0441\\u044f \\u0441 \\u0435\\u0449\\u0435 \\u043e\\u0434\\u043d\\u043e\\u0439 \\u0437\\u0430\\u0434\\u0430\\u0447\\u0435\\u0439 \\u0442\\u044b\\u0441\\u044f\\u0447\\u0435\\u043b\\u0435\\u0442\\u0438\\u044f \\u2013 \\u0441\\u043e\\u0442\\u0440\\u0443\\u0434\\u043d\\u0438\\u043a \\u043b\\u0430\\u0431\\u043e\\u0440\\u0430\\u0442\\u043e\\u0440\\u0438\\u0438 Hewlett-Packard \\u0432 \\u041f\\u0430\\u043b\\u043e-\\u0410\\u043b\\u044c\\u0442\\u043e \\u043e\\u043f\\u0443\\u0431\\u043b\\u0438\\u043a\\u043e\\u0432\\u0430\\u043b \\u0432 \\u0421\\u0435\\u0442\\u0438 116-\\u0441\\u0442\\u0440\\u0430\\u043d\\u0438\\u0447\\u043d\\u0443\\u044e \\u0441\\u0442\\u0430\\u0442\\u044c\\u044e \\u0441 \\u0434\\u043e\\u043a\\u0430\\u0437\\u0430\\u0442\\u0435\\u043b\\u044c\\u0441\\u0442\\u0432\\u043e\\u043c \\u043d\\u0435\\u0440\\u0430\\u0432\\u0435\\u043d\\u0441\\u0442\\u0432\\u0430 \\u043a\\u043b\\u0430\\u0441\\u0441\\u043e\\u0432 \\u0441\\u043b\\u043e\\u0436\\u043d\\u043e\\u0441\\u0442\\u0438 P \\u0438 NP. \\u0417\\u0430 \\u0442\\u0430\\u0438\\u043d\\u0441\\u0442\\u0432\\u0435\\u043d\\u043d\\u043e\\u0439 \\u0444\\u043e\\u0440\\u043c\\u0443\\u043b\\u0438\\u0440\\u043e\\u0432\\u043a\\u043e\\u0439 \\u0441\\u043a\\u0440\\u044b\\u0432\\u0430\\u0435\\u0442\\u0441\\u044f \\u043e\\u0447\\u0435\\u043d\\u044c \\u0432\\u0430\\u0436\\u043d\\u0430\\u044f \\u043c\\u0430\\u0442\\u0435\\u043c\\u0430\\u0442\\u0438\\u0447\\u0435\\u0441\\u043a\\u0430\\u044f \\u043f\\u0440\\u043e\\u0431\\u043b\\u0435\\u043c\\u0430, \\u0440\\u0435\\u0448\\u0435\\u043d\\u0438\\u0435 \\u043a\\u043e\\u0442\\u043e\\u0440\\u043e\\u0439, \\u0432 \\u0447\\u0430\\u0441\\u0442\\u043d\\u043e\\u0441\\u0442\\u0438, \\u043f\\u043e\\u0437\\u0432\\u043e\\u043b\\u0438\\u0442 \\u043e\\u0442\\u0432\\u0435\\u0442\\u0438\\u0442\\u044c \\u043d\\u0430 \\u0432\\u043e\\u043f\\u0440\\u043e\\u0441 \\u043e \\u0442\\u043e\\u043c, \\u0441\\u043c\\u043e\\u0433\\u0443\\u0442 \\u043b\\u0438 \\u0437\\u043b\\u043e\\u0443\\u043c\\u044b\\u0448\\u043b\\u0435\\u043d\\u043d\\u0438\\u043a\\u0438 \\u043d\\u0430\\u0443\\u0447\\u0438\\u0442\\u044c\\u0441\\u044f \\u0432\\u0441\\u043a\\u0440\\u044b\\u0432\\u0430\\u0442\\u044c \\u0441\\u043b\\u043e\\u0436\\u043d\\u044b\\u0435 \\u0448\\u0438\\u0444\\u0440\\u044b \\u0438\\u043b\\u0438 \\u044d\\u0442\\u043e \\u043d\\u0435\\u0432\\u043e\\u0437\\u043c\\u043e\\u0436\\u043d\\u043e \\u0432 \\u043f\\u0440\\u0438\\u043d\\u0446\\u0438\\u043f\\u0435 (\\u043f\\u043e\\u0434\\u0440\\u043e\\u0431\\u043d\\u0435\\u0435 \\u043e \\u0442\\u043e\\u043c, \\u0447\\u0442\\u043e \\u043d\\u0430 \\u0447\\u0435\\u043b\\u043e\\u0432\\u0435\\u0447\\u0435\\u0441\\u043a\\u043e\\u043c \\u044f\\u0437\\u044b\\u043a\\u0435 \\u043e\\u0437\\u043d\\u0430\\u0447\\u0430\\u0435\\u0442 \\u043d\\u0435\\u0440\\u0430\\u0432\\u0435\\u043d\\u0441\\u0442\\u0432\\u043e \\u043a\\u043b\\u0430\\u0441\\u0441\\u043e\\u0432 \\u0441\\u043b\\u043e\\u0436\\u043d\\u043e\\u0441\\u0442\\u0438 P \\u0438 NP, \\u043c\\u043e\\u0436\\u043d\\u043e \\u043f\\u0440\\u043e\\u0447\\u0438\\u0442\\u0430\\u0442\\u044c \\u0437\\u0434\\u0435\\u0441\\u044c). \\u0418\\u0437\\u0432\\u0435\\u0441\\u0442\\u0438\\u0435 \\u043e \\u043f\\u0440\\u043e\\u0440\\u044b\\u0432\\u0435 \\u0414\\u0435\\u043e\\u043b\\u0430\\u043b\\u0438\\u043a\\u0430\\u0440\\u0430 \\u0437\\u0430\\u0441\\u0442\\u0430\\u0432\\u0438\\u043b\\u043e \\u0441\\u043e\\u0442\\u043d\\u0438 \\u043c\\u0430\\u0442\\u0435\\u043c\\u0430\\u0442\\u0438\\u043a\\u043e\\u0432 \\u043f\\u043e \\u0432\\u0441\\u0435\\u043c\\u0443 \\u043c\\u0438\\u0440\\u0443 \\u0431\\u0440\\u043e\\u0441\\u0438\\u0442\\u044c \\u0441\\u0432\\u043e\\u044e \\u043f\\u043e\\u0432\\u0441\\u0435\\u0434\\u043d\\u0435\\u0432\\u043d\\u0443\\u044e \\u0440\\u0430\\u0431\\u043e\\u0442\\u0443 \\u0438 \\u0437\\u0430\\u043d\\u044f\\u0442\\u044c\\u0441\\u044f \\u043f\\u0440\\u043e\\u0432\\u0435\\u0440\\u043a\\u043e\\u0439 \\u0434\\u043e\\u043a\\u0430\\u0437\\u0430\\u0442\\u0435\\u043b\\u044c\\u0441\\u0442\\u0432\\u0430 \\u0438\\u043d\\u0434\\u0438\\u0439\\u0446\\u0430. \\u041d\\u0435 \\u043f\\u0440\\u043e\\u0448\\u043b\\u043e \\u0438 \\u043d\\u0435\\u0434\\u0435\\u043b\\u0438, \\u043a\\u0430\\u043a \\u0432 \\u0432\\u044b\\u043a\\u043b\\u0430\\u0434\\u043a\\u0430\\u0445 \\u043f\\u0440\\u0435\\u0442\\u0435\\u043d\\u0434\\u0435\\u043d\\u0442\\u0430 \\u043d\\u0430 \\u041f\\u0440\\u0435\\u043c\\u0438\\u044e \\u0442\\u044b\\u0441\\u044f\\u0447\\u0435\\u043b\\u0435\\u0442\\u0438\\u044f \\u0431\\u044b\\u043b\\u0438 \\u043d\\u0430\\u0439\\u0434\\u0435\\u043d\\u044b \\u0441\\u0435\\u0440\\u044c\\u0435\\u0437\\u043d\\u044b\\u0435 \\u043e\\u0448\\u0438\\u0431\\u043a\\u0438, \\u0442\\u0430\\u043a \\u0447\\u0442\\u043e \\u0432\\u043e\\u043f\\u0440\\u043e\\u0441 \\u043e \\u0440\\u0430\\u0432\\u0435\\u043d\\u0441\\u0442\\u0432\\u0435 \\u043a\\u043b\\u0430\\u0441\\u0441\\u043e\\u0432 \\u0441\\u043b\\u043e\\u0436\\u043d\\u043e\\u0441\\u0442\\u0438 \\u043f\\u043e-\\u043f\\u0440\\u0435\\u0436\\u043d\\u0435\\u043c\\u0443 \\u043e\\u0441\\u0442\\u0430\\u0435\\u0442\\u0441\\u044f \\u043e\\u0442\\u043a\\u0440\\u044b\\u0442\\u044b\\u043c (\\u0445\\u043e\\u0442\\u044f \\u0431\\u043e\\u043b\\u044c\\u0448\\u0438\\u043d\\u0441\\u0442\\u0432\\u043e \\u0441\\u043f\\u0435\\u0446\\u0438\\u0430\\u043b\\u0438\\u0441\\u0442\\u043e\\u0432 \\u0443\\u0432\\u0435\\u0440\\u0435\\u043d\\u043e, \\u0447\\u0442\\u043e \\u043e\\u043d\\u0438 \\u043d\\u0435 \\u0440\\u0430\\u0432\\u043d\\u044b).\\u0411\\u044b\\u043b\\u0438 \\u0432 \\u0443\\u0448\\u0435\\u0434\\u0448\\u0435\\u043c \\u0433\\u043e\\u0434\\u0443 \\u0438 \\u0441\\u0432\\u0435\\u0440\\u0448\\u0438\\u0432\\u0448\\u0438\\u0435\\u0441\\u044f \\u0434\\u043e\\u0441\\u0442\\u0438\\u0436\\u0435\\u043d\\u0438\\u044f, \\u043a\\u043e\\u0442\\u043e\\u0440\\u044b\\u0435 \\u043c\\u0430\\u0442\\u0435\\u043c\\u0430\\u0442\\u0438\\u0447\\u0435\\u0441\\u043a\\u043e\\u0435 \\u0441\\u043e\\u043e\\u0431\\u0449\\u0435\\u0441\\u0442\\u0432\\u043e \\u043e\\u0442\\u043c\\u0435\\u0442\\u0438\\u043b\\u043e \\u0432\\u0440\\u0443\\u0447\\u0435\\u043d\\u0438\\u0435\\u043c \\u043c\\u0435\\u0434\\u0430\\u043b\\u0438 \\u0424\\u0438\\u043b\\u0434\\u0441\\u0430. \\u0412 2010 \\u0433\\u043e\\u0434\\u0443 \\u043e\\u0434\\u043d\\u0438\\u043c \\u0438\\u0437 \\u043b\\u0430\\u0443\\u0440\\u0435\\u0430\\u0442\\u043e\\u0432 \\u201c\\u043c\\u0430\\u0442\\u0435\\u043c\\u0430\\u0442\\u0438\\u0447\\u0435\\u0441\\u043a\\u043e\\u0439 \\u041d\\u043e\\u0431\\u0435\\u043b\\u0435\\u0432\\u043a\\u0438\\u201d, \\u0432\\u0440\\u0443\\u0447\\u0430\\u0435\\u043c\\u043e\\u0439 \\u0440\\u0430\\u0437 \\u0432 \\u0447\\u0435\\u0442\\u044b\\u0440\\u0435 \\u0433\\u043e\\u0434\\u0430, \\u0441\\u0442\\u0430\\u043b \\u0440\\u043e\\u0441\\u0441\\u0438\\u044f\\u043d\\u0438\\u043d \\u0421\\u0442\\u0430\\u043d\\u0438\\u0441\\u043b\\u0430\\u0432 \\u0421\\u043c\\u0438\\u0440\\u043d\\u043e\\u0432 \\u0438\\u0437 \\u0421\\u0430\\u043d\\u043a\\u0442-\\u041f\\u0435\\u0442\\u0435\\u0440\\u0431\\u0443\\u0440\\u0433\\u0430, \\u043a\\u043e\\u0442\\u043e\\u0440\\u044b\\u0439 \\u0432 \\u043d\\u0430\\u0441\\u0442\\u043e\\u044f\\u0449\\u0435\\u0435 \\u0432\\u0440\\u0435\\u043c\\u044f \\u0440\\u0430\\u0431\\u043e\\u0442\\u0430\\u0435\\u0442 \\u0432 \\u0416\\u0435\\u043d\\u0435\\u0432\\u0435. \\u0421\\u043c\\u0438\\u0440\\u043d\\u043e\\u0432 \\u0443\\u0434\\u043e\\u0441\\u0442\\u043e\\u0438\\u043b\\u0441\\u044f \\u043d\\u0430\\u0433\\u0440\\u0430\\u0434\\u044b \\u0437\\u0430 \\u0441\\u0432\\u043e\\u0438 \\u0440\\u0430\\u0431\\u043e\\u0442\\u044b \\u043f\\u043e \\u0442\\u0435\\u043e\\u0440\\u0438\\u0438 \\u043f\\u0435\\u0440\\u043a\\u043e\\u043b\\u044f\\u0446\\u0438\\u0438.\\u041d\\u0430\\u043a\\u043e\\u043d\\u0435\\u0446, \\u0432 2010 \\u0433\\u043e\\u0434\\u0443 \\u0431\\u044b\\u043b\\u043e \\u0441 \\u0440\\u0435\\u043a\\u043e\\u0440\\u0434\\u043d\\u043e\\u0439 \\u0442\\u043e\\u0447\\u043d\\u043e\\u0441\\u0442\\u044c\\u044e \\u043f\\u043e\\u0441\\u0447\\u0438\\u0442\\u0430\\u043d\\u043e \\u0447\\u0438\\u0441\\u043b\\u043e \\u041f\\u0438 - \\u0432 \\u0442\\u0435\\u043f\\u0435\\u0440\\u0435\\u0448\\u043d\\u0435\\u0439 \\u0437\\u0430\\u043f\\u0438\\u0441\\u0438 \\u043e\\u043d\\u043e \\u0441\\u043e\\u0434\\u0435\\u0440\\u0436\\u0438\\u0442 2 \\u0442\\u0440\\u0438\\u043b\\u043b\\u0438\\u043e\\u043d\\u0430 699 \\u043c\\u0438\\u043b\\u043b\\u0438\\u0430\\u0440\\u0434\\u043e\\u0432 999 \\u043c\\u0438\\u043b\\u043b\\u0438\\u043e\\u043d\\u043e\\u0432 990 \\u0442\\u044b\\u0441\\u044f\\u0447 \\u0437\\u043d\\u0430\\u043a\\u043e\\u0432 \\u043f\\u043e\\u0441\\u043b\\u0435 \\u0437\\u0430\\u043f\\u044f\\u0442\\u043e\\u0439. \\u041f\\u0440\\u0435\\u0434\\u044b\\u0434\\u0443\\u0449\\u0430\\u044f \\u0432\\u0435\\u0440\\u0441\\u0438\\u044f \\u0441\\u043e\\u0434\\u0435\\u0440\\u0436\\u0430\\u043b\\u0430 \\u0432\\u0441\\u0435\\u0433\\u043e \\u043e\\u043a\\u043e\\u043b\\u043e 2,6 \\u0442\\u0440\\u0438\\u043b\\u043b\\u0438\\u043e\\u043d\\u0430 \\u0437\\u043d\\u0430\\u043a\\u043e\\u0432.\\u0411\\u0438\\u043e\\u043b\\u043e\\u0433\\u0438\\u044f\\u0421\\u0432\\u0430\\u043d\\u0442\\u0435 \\u041f\\u0430\\u0430\\u0431\\u043e \\u0434\\u0430\\u043b \\u201c\\u041b\\u0435\\u043d\\u0442\\u0435.\\u0420\\u0443\\u201d \\u0438\\u043d\\u0442\\u0435\\u0440\\u0432\\u044c\\u044e, \\u0432 \\u043a\\u043e\\u0442\\u043e\\u0440\\u043e\\u043c \\u0440\\u0430\\u0441\\u0441\\u043a\\u0430\\u0437\\u0430\\u043b \\u043e \\u0441\\u0432\\u043e\\u0438\\u0445 \\u0438\\u0441\\u0441\\u043b\\u0435\\u0434\\u043e\\u0432\\u0430\\u043d\\u0438\\u044f\\u0445, \\u043e \\u0442\\u043e\\u043c, \\u043f\\u043e\\u0447\\u0435\\u043c\\u0443 \\u043e\\u043d \\u043d\\u0435 \\u043b\\u044e\\u0431\\u0438\\u0442 \\u0441\\u043b\\u043e\\u0432\\u043e \\u201c\\u0432\\u0438\\u0434\\u201d, \\u0430 \\u0442\\u0430\\u043a\\u0436\\u0435 \\u043e \\u0442\\u043e\\u043c, \\u0433\\u0434\\u0435 \\u0441\\u0435\\u0433\\u043e\\u0434\\u043d\\u044f \\u043c\\u043e\\u0436\\u043d\\u043e \\u043d\\u0430\\u0439\\u0442\\u0438 \\u0441\\u0430\\u043c\\u044b\\u0445 \\u043d\\u0430\\u0441\\u0442\\u043e\\u044f\\u0449\\u0438\\u0445 \\u043d\\u0435\\u0430\\u043d\\u0434\\u0435\\u0440\\u0442\\u0430\\u043b\\u044c\\u0446\\u0435\\u0432. \\u041f\\u0440\\u043e\\u0447\\u0438\\u0442\\u0430\\u0442\\u044c \\u0431\\u0435\\u0441\\u0435\\u0434\\u0443 \\u0441 \\u041f\\u0430\\u0430\\u0431\\u043e \\u043c\\u043e\\u0436\\u043d\\u043e \\u0442\\u0443\\u0442.\\r\\u0414\\u043b\\u044f \\u0431\\u0438\\u043e\\u043b\\u043e\\u0433\\u0438\\u0438 2010 \\u0433\\u043e\\u0434 \\u0431\\u044b\\u043b \\u043f\\u043e-\\u043d\\u0430\\u0441\\u0442\\u043e\\u044f\\u0449\\u0435\\u043c\\u0443 \\u0432\\u044b\\u0434\\u0430\\u044e\\u0449\\u0438\\u043c\\u0441\\u044f. \\u0411\\u043b\\u0430\\u0433\\u043e\\u0434\\u0430\\u0440\\u044f \\u0440\\u0430\\u0441\\u0448\\u0438\\u0444\\u0440\\u043e\\u0432\\u043a\\u0435 \\u0433\\u0435\\u043d\\u043e\\u043c\\u0430 \\u043d\\u0435\\u0430\\u043d\\u0434\\u0435\\u0440\\u0442\\u0430\\u043b\\u044c\\u0446\\u0430, \\u0432\\u044b\\u043f\\u043e\\u043b\\u043d\\u0435\\u043d\\u043d\\u043e\\u0439 \\u0432 \\u043b\\u0430\\u0431\\u043e\\u0440\\u0430\\u0442\\u043e\\u0440\\u0438\\u0438 \\u0421\\u0432\\u0430\\u043d\\u0442\\u0435 \\u041f\\u0430\\u0430\\u0431\\u043e \\u0432 \\u041b\\u0435\\u0439\\u043f\\u0446\\u0438\\u0433\\u0441\\u043a\\u043e\\u043c \\u0438\\u043d\\u0441\\u0442\\u0438\\u0442\\u0443\\u0442\\u0435 \\u044d\\u0432\\u043e\\u043b\\u044e\\u0446\\u0438\\u043e\\u043d\\u043d\\u043e\\u0439 \\u0430\\u043d\\u0442\\u0440\\u043e\\u043f\\u043e\\u043b\\u043e\\u0433\\u0438\\u0438, \\u0443\\u0447\\u0435\\u043d\\u044b\\u0435 \\u0432\\u044b\\u044f\\u0441\\u043d\\u0438\\u043b\\u0438, \\u0447\\u0442\\u043e \\u043f\\u0440\\u0435\\u0434\\u0441\\u0442\\u0430\\u0432\\u0438\\u0442\\u0435\\u043b\\u0438 \\u044d\\u0442\\u043e\\u0433\\u043e \\u0432\\u0438\\u0434\\u0430 \\u043b\\u044e\\u0434\\u0435\\u0439 \\u0441\\u043a\\u0440\\u0435\\u0449\\u0438\\u0432\\u0430\\u043b\\u0438\\u0441\\u044c \\u0441 \\u043d\\u0430\\u0448\\u0438\\u043c\\u0438 \\u043d\\u0435\\u043f\\u043e\\u0441\\u0440\\u0435\\u0434\\u0441\\u0442\\u0432\\u0435\\u043d\\u043d\\u044b\\u043c\\u0438 \\u043f\\u0440\\u0435\\u0434\\u043a\\u0430\\u043c\\u0438. \\u041f\\u043e\\u0441\\u043b\\u0435\\u0434\\u0441\\u0442\\u0432\\u0438\\u044f \\u0442\\u0435\\u0441\\u043d\\u044b\\u0445 \\u0441\\u0432\\u044f\\u0437\\u0435\\u0439 \\u043c\\u0435\\u0436\\u0434\\u0443 \\u0434\\u0432\\u0443\\u043c\\u044f \\u0432\\u0438\\u0434\\u0430\\u043c\\u0438 \\u0441\\u043e\\u0445\\u0440\\u0430\\u043d\\u0438\\u043b\\u0438\\u0441\\u044c \\u0432 \\u0433\\u0435\\u043d\\u043e\\u043c\\u0435 \\u0432\\u0441\\u0435\\u0445 \\u0436\\u0438\\u0442\\u0435\\u043b\\u0435\\u0439 \\u0417\\u0435\\u043c\\u043b\\u0438, \\u0437\\u0430 \\u0438\\u0441\\u043a\\u043b\\u044e\\u0447\\u0435\\u043d\\u0438\\u0435\\u043c \\u043a\\u043e\\u0440\\u0435\\u043d\\u043d\\u044b\\u0445 \\u0430\\u0444\\u0440\\u0438\\u043a\\u0430\\u043d\\u0446\\u0435\\u0432, - \\u043a\\u0430\\u043a \\u043e\\u043a\\u0430\\u0437\\u0430\\u043b\\u043e\\u0441\\u044c, \\u0432 \\u043d\\u0430\\u0448\\u0438\\u0445 \\u0445\\u0440\\u043e\\u043c\\u043e\\u0441\\u043e\\u043c\\u0430\\u0445 \\u0441\\u043e\\u0434\\u0435\\u0440\\u0436\\u0438\\u0442\\u0441\\u044f \\u043e\\u0442 1 \\u0434\\u043e 4 \\u043f\\u0440\\u043e\\u0446\\u0435\\u043d\\u0442\\u043e\\u0432 \\u043d\\u0435\\u0430\\u043d\\u0434\\u0435\\u0440\\u0442\\u0430\\u043b\\u044c\\u0441\\u043a\\u0438\\u0445 \\u0433\\u0435\\u043d\\u043e\\u0432. \\u042d\\u0442\\u043e \\u0438\\u0437\\u0432\\u0435\\u0441\\u0442\\u0438\\u0435 \\u043f\\u043e\\u044f\\u0432\\u0438\\u043b\\u043e\\u0441\\u044c \\u0432 \\u043c\\u0430\\u0435, \\u0430 \\u0432 \\u043a\\u043e\\u043d\\u0446\\u0435 \\u0433\\u043e\\u0434\\u0430 \\u041f\\u0430\\u0430\\u0431\\u043e \\u0441\\u043e\\u043e\\u0431\\u0449\\u0438\\u043b, \\u0447\\u0442\\u043e \\u0435\\u043c\\u0443 \\u0438 \\u0435\\u0433\\u043e \\u0441\\u043e\\u0442\\u0440\\u0443\\u0434\\u043d\\u0438\\u043a\\u0430\\u043c \\u0443\\u0434\\u0430\\u043b\\u043e\\u0441\\u044c \\u0434\\u043e\\u043a\\u0430\\u0437\\u0430\\u0442\\u044c \\u0435\\u0449\\u0435 \\u043e\\u0434\\u0438\\u043d \\u0444\\u0430\\u043a\\u0442 \\u043d\\u0435\\u0443\\u0441\\u0442\\u0430\\u0432\\u043d\\u044b\\u0445 \\u043e\\u0442\\u043d\\u043e\\u0448\\u0435\\u043d\\u0438\\u0439 \\u043c\\u0435\\u0436\\u0434\\u0443 Homo sapiens \\u0438 \\u043d\\u043e\\u0432\\u044b\\u043c \\u0432\\u0438\\u0434\\u043e\\u043c \\u043b\\u044e\\u0434\\u0435\\u0439, \\u043e\\u0441\\u0442\\u0430\\u043d\\u043a\\u0438 \\u043a\\u043e\\u0442\\u043e\\u0440\\u044b\\u0445 \\u0431\\u044b\\u043b\\u0438 \\u043d\\u0430\\u0439\\u0434\\u0435\\u043d\\u044b \\u0432 \\u0414\\u0435\\u043d\\u0438\\u0441\\u043e\\u0432\\u043e\\u0439 \\u043f\\u0435\\u0449\\u0435\\u0440\\u0435 \\u0440\\u043e\\u0441\\u0441\\u0438\\u0439\\u0441\\u043a\\u0438\\u043c\\u0438 \\u043f\\u0430\\u043b\\u0435\\u043e\\u043d\\u0442\\u043e\\u043b\\u043e\\u0433\\u0430\\u043c\\u0438. \\u201c\\u0414\\u0435\\u043d\\u0438\\u0441\\u043e\\u0432\\u0446\\u044b\\u201d, \\u043a\\u0430\\u043a \\u043d\\u0430\\u0437\\u0432\\u0430\\u043b\\u0438 \\u043f\\u0440\\u0435\\u0434\\u0441\\u0442\\u0430\\u0432\\u0438\\u0442\\u0435\\u043b\\u0435\\u0439 \\u0442\\u0440\\u0435\\u0442\\u044c\\u0435\\u0439 \\u201c\\u043f\\u0440\\u043e\\u0434\\u0432\\u0438\\u043d\\u0443\\u0442\\u043e\\u0439\\u201d \\u0432\\u0435\\u0442\\u0432\\u0438 \\u0440\\u043e\\u0434\\u0430 Homo (\\u043f\\u0435\\u0440\\u0432\\u044b\\u0435 \\u0434\\u0432\\u0435 \\u2013 \\u044d\\u0442\\u043e \\u043d\\u0435\\u0430\\u043d\\u0434\\u0435\\u0440\\u0442\\u0430\\u043b\\u044c\\u0446\\u044b \\u0438 \\u0441\\u043e\\u0432\\u0440\\u0435\\u043c\\u0435\\u043d\\u043d\\u044b\\u0435 \\u043b\\u044e\\u0434\\u0438), \\u0434\\u0430\\u043b\\u0438 \\u0441\\u043e\\u0432\\u0440\\u0435\\u043c\\u0435\\u043d\\u043d\\u044b\\u043c \\u0436\\u0438\\u0442\\u0435\\u043b\\u044f\\u043c \\u041c\\u0435\\u043b\\u0430\\u043d\\u0435\\u0437\\u0438\\u0438 \\u043e\\u0442 4 \\u0434\\u043e 6 \\u043f\\u0440\\u043e\\u0446\\u0435\\u043d\\u0442\\u043e\\u0432 \\u0438\\u0445 \\u0433\\u0435\\u043d\\u043e\\u0432.\\u0421\\u0432\\u0430\\u043d\\u0442\\u0435 \\u041f\\u0430\\u0430\\u0431\\u043e \\u0441 \\u0447\\u0435\\u0440\\u0435\\u043f\\u043e\\u043c \\u043e\\u0434\\u043d\\u043e\\u0433\\u043e \\u0438\\u0437 \\u0440\\u043e\\u0434\\u0441\\u0442\\u0432\\u0435\\u043d\\u043d\\u0438\\u043a\\u043e\\u0432 Homo sapiens. \\u0424\\u043e\\u0442\\u043e Max Planck Institute for Evolutionary AnthropologyLenta.ru\\u0412\\u043e\\u043e\\u0431\\u0449\\u0435 \\u0432 2010 \\u0433\\u043e\\u0434\\u0443 \\u0431\\u044b\\u043b\\u0430 \\u0432 \\u043f\\u043e\\u043b\\u043d\\u043e\\u0439 \\u043c\\u0435\\u0440\\u0435 \\u043f\\u0440\\u043e\\u0434\\u0435\\u043c\\u043e\\u043d\\u0441\\u0442\\u0440\\u0438\\u0440\\u043e\\u0432\\u0430\\u043d\\u0430 \\u043c\\u043e\\u0449\\u044c \\u0433\\u0435\\u043d\\u0435\\u0442\\u0438\\u0447\\u0435\\u0441\\u043a\\u043e\\u0433\\u043e \\u043f\\u043e\\u0434\\u0445\\u043e\\u0434\\u0430 \\u043a \\u0431\\u0438\\u043e\\u043b\\u043e\\u0433\\u0438\\u0447\\u0435\\u0441\\u043a\\u0438\\u043c \\u0438\\u0441\\u0441\\u043b\\u0435\\u0434\\u043e\\u0432\\u0430\\u043d\\u0438\\u044f\\u043c. \\u041d\\u0430\\u043f\\u0440\\u0438\\u043c\\u0435\\u0440, \\u0432 \\u0444\\u0435\\u0432\\u0440\\u0430\\u043b\\u0435 \\u0443\\u0447\\u0435\\u043d\\u044b\\u0435 \\u043f\\u0440\\u0435\\u0434\\u0441\\u0442\\u0430\\u0432\\u0438\\u043b\\u0438 \\u043e\\u0447\\u0435\\u043d\\u044c \\u043f\\u043e\\u0434\\u0440\\u043e\\u0431\\u043d\\u043e\\u0435 \\u043e\\u043f\\u0438\\u0441\\u0430\\u043d\\u0438\\u0435 \\u0432\\u043d\\u0435\\u0448\\u043d\\u043e\\u0441\\u0442\\u0438 \\u0438 \\u0431\\u0438\\u043e\\u0445\\u0438\\u043c\\u0438\\u0438 \\u0447\\u0435\\u043b\\u043e\\u0432\\u0435\\u043a\\u0430, \\u0436\\u0438\\u0432\\u0448\\u0435\\u0433\\u043e \\u043d\\u0430 \\u0442\\u0435\\u0440\\u0440\\u0438\\u0442\\u043e\\u0440\\u0438\\u0438 \\u0413\\u0440\\u0435\\u043d\\u043b\\u0430\\u043d\\u0434\\u0438\\u0438 \\u043e\\u043a\\u043e\\u043b\\u043e 4 \\u0442\\u044b\\u0441\\u044f\\u0447 \\u043b\\u0435\\u0442 \\u043d\\u0430\\u0437\\u0430\\u0434. \\u042d\\u0442\\u0430 \\u0440\\u0430\\u0431\\u043e\\u0442\\u0430 \\u0437\\u0430\\u0441\\u043b\\u0443\\u0436\\u0438\\u0432\\u0430\\u0435\\u0442 \\u0432\\u043d\\u0438\\u043c\\u0430\\u043d\\u0438\\u0435 \\u0438 \\u0441\\u0430\\u043c\\u0430 \\u043f\\u043e \\u0441\\u0435\\u0431\\u0435, \\u043d\\u043e \\u0434\\u0435\\u0439\\u0441\\u0442\\u0432\\u0438\\u0442\\u0435\\u043b\\u044c\\u043d\\u043e \\u0432\\u044b\\u0434\\u0430\\u044e\\u0449\\u0435\\u0439\\u0441\\u044f \\u0435\\u0435 \\u0434\\u0435\\u043b\\u0430\\u0435\\u0442 \\u0442\\u043e\\u0442 \\u0444\\u0430\\u043a\\u0442, \\u0447\\u0442\\u043e \\u0432\\u0441\\u0435 \\u044d\\u0442\\u0438 \\u0441\\u0432\\u0435\\u0434\\u0435\\u043d\\u0438\\u044f \\u0443\\u0447\\u0435\\u043d\\u044b\\u0435 \\u201c\\u0432\\u044b\\u0442\\u044f\\u043d\\u0443\\u043b\\u0438\\u201d \\u0438\\u0437 \\u043a\\u043b\\u043e\\u0447\\u043a\\u0430 \\u0432\\u043e\\u043b\\u043e\\u0441, \\u0441\\u043e\\u0445\\u0440\\u0430\\u043d\\u0438\\u0432\\u0448\\u0435\\u0433\\u043e\\u0441\\u044f \\u043d\\u0430 \\u043d\\u0430\\u0439\\u0434\\u0435\\u043d\\u043d\\u043e\\u043c \\u0432 \\u0413\\u0440\\u0435\\u043d\\u043b\\u0430\\u043d\\u0434\\u0438\\u0438 \\u0433\\u0440\\u0435\\u0431\\u043d\\u0435. \\u0418\\u043d\\u044b\\u0445 \\u0438\\u0441\\u0442\\u043e\\u0447\\u043d\\u0438\\u043a\\u043e\\u0432 \\u0438\\u043d\\u0444\\u043e\\u0440\\u043c\\u0430\\u0446\\u0438\\u0438 \\u0443 \\u0438\\u0441\\u0441\\u043b\\u0435\\u0434\\u043e\\u0432\\u0430\\u0442\\u0435\\u043b\\u0435\\u0439 \\u043d\\u0435 \\u0431\\u044b\\u043b\\u043e. \\u0414\\u0440\\u0443\\u0433\\u043e\\u0439 \\u043f\\u0440\\u0438\\u043c\\u0435\\u0440 \\u2013 \\u0432\\u044b\\u0434\\u0435\\u043b\\u0435\\u043d\\u0438\\u0435 \\u0414\\u041d\\u041a \\u0438\\u0437 \\u043e\\u043a\\u0430\\u043c\\u0435\\u043d\\u0435\\u0432\\u0448\\u0435\\u0439 \\u0441\\u043a\\u043e\\u0440\\u043b\\u0443\\u043f\\u044b \\u0433\\u0438\\u0433\\u0430\\u043d\\u0442\\u0441\\u043a\\u0438\\u0445 \\u043f\\u0442\\u0438\\u0446, \\u043e\\u0431\\u0438\\u0442\\u0430\\u0432\\u0448\\u0438\\u0445 \\u043a\\u043e\\u0433\\u0434\\u0430-\\u0442\\u043e \\u0432 \\u0410\\u0432\\u0441\\u0442\\u0440\\u0430\\u043b\\u0438\\u0438, \\u041d\\u043e\\u0432\\u043e\\u0439 \\u0417\\u0435\\u043b\\u0430\\u043d\\u0434\\u0438\\u0438 \\u0438 \\u043d\\u0430 \\u041c\\u0430\\u0434\\u0430\\u0433\\u0430\\u0441\\u043a\\u0430\\u0440\\u0435 \\u0438 \\u0438\\u0441\\u0442\\u0440\\u0435\\u0431\\u043b\\u0435\\u043d\\u043d\\u044b\\u0445 \\u0447\\u0435\\u043b\\u043e\\u0432\\u0435\\u043a\\u043e\\u043c. \\u0410 \\u0432\\u0441\\u0435\\u0433\\u043e \\u043f\\u044f\\u0442\\u044c \\u043b\\u0435\\u0442 \\u043d\\u0430\\u0437\\u0430\\u0434 \\u043f\\u0440\\u0435\\u0434\\u043f\\u043e\\u043b\\u043e\\u0436\\u0435\\u043d\\u0438\\u0435, \\u0447\\u0442\\u043e \\u0433\\u0440\\u0443\\u0431\\u044b\\u0435 \\u043a\\u0443\\u0441\\u043a\\u0438 \\u0444\\u0430\\u043a\\u0442\\u0438\\u0447\\u0435\\u0441\\u043a\\u0438 \\u043a\\u0430\\u043c\\u043d\\u044f \\u043c\\u043e\\u0433\\u0443\\u0442 \\u0441\\u043b\\u0443\\u0436\\u0438\\u0442\\u044c \\u0438\\u0441\\u0442\\u043e\\u0447\\u043d\\u0438\\u043a\\u043e\\u043c \\u0441\\u0430\\u043c\\u043e\\u0439 \\u0438\\u0441\\u0447\\u0435\\u0440\\u043f\\u044b\\u0432\\u0430\\u044e\\u0449\\u0435\\u0439 \\u0438\\u043d\\u0444\\u043e\\u0440\\u043c\\u0430\\u0446\\u0438\\u0438 \\u043e \\u0434\\u0440\\u0435\\u0432\\u043d\\u0438\\u0445 \\u043f\\u0442\\u0438\\u0446\\u0430\\u0445 \\u0432\\u044b\\u0437\\u0432\\u0430\\u043b\\u043e \\u0431\\u044b \\u043d\\u0435\\u0434\\u043e\\u0443\\u043c\\u0435\\u043d\\u0438\\u0435 \\u0438 \\u0443\\u0441\\u043c\\u0435\\u0448\\u043a\\u0438 \\u0437\\u0430\\u043c\\u0435\\u0442\\u043d\\u043e\\u0433\\u043e \\u043f\\u0440\\u043e\\u0446\\u0435\\u043d\\u0442\\u0430 \\u0443\\u0447\\u0435\\u043d\\u044b\\u0445.\\u0415\\u0449\\u0435 \\u043e\\u0434\\u043d\\u0430 \\u0437\\u043d\\u0430\\u0447\\u0438\\u043c\\u0430\\u044f \\u043d\\u0430\\u0445\\u043e\\u0434\\u043a\\u0430 \\u0443\\u0448\\u0435\\u0434\\u0448\\u0435\\u0433\\u043e \\u0433\\u043e\\u0434\\u0430 \\u2013 \\u043a\\u043e\\u0441\\u0442\\u0438 \\u0430\\u0432\\u0441\\u0442\\u0440\\u0430\\u043b\\u043e\\u043f\\u0438\\u0442\\u0435\\u043a\\u043e\\u0432, \\u043d\\u0430\\u0439\\u0434\\u0435\\u043d\\u043d\\u044b\\u0445 \\u0432 \\u043f\\u0435\\u0449\\u0435\\u0440\\u0435 \\u043f\\u043e\\u0434 \\u043d\\u0430\\u0437\\u0432\\u0430\\u043d\\u0438\\u0435\\u043c \\u041c\\u0430\\u043b\\u0430\\u043f\\u0430, \\u043a\\u043e\\u0442\\u043e\\u0440\\u0430\\u044f \\u043d\\u0430\\u0445\\u043e\\u0434\\u0438\\u0442\\u0441\\u044f \\u0432 \\u0442\\u0430\\u043a \\u043d\\u0430\\u0437\\u044b\\u0432\\u0430\\u0435\\u043c\\u043e\\u0439 \\u041a\\u043e\\u043b\\u044b\\u0431\\u0435\\u043b\\u0438 \\u0447\\u0435\\u043b\\u043e\\u0432\\u0435\\u0447\\u0435\\u0441\\u0442\\u0432\\u0430 \\u2013 \\u0440\\u0435\\u0433\\u0438\\u043e\\u043d\\u0435 \\u042e\\u0436\\u043d\\u043e\\u0439 \\u0410\\u0444\\u0440\\u0438\\u043a\\u0438, \\u0433\\u0434\\u0435 \\u0431\\u044b\\u043b\\u043e \\u043e\\u0431\\u043d\\u0430\\u0440\\u0443\\u0436\\u0435\\u043d\\u043e \\u043e\\u043a\\u043e\\u043b\\u043e \\u0434\\u0432\\u0443\\u0445 \\u0442\\u0440\\u0435\\u0442\\u0435\\u0439 \\u0432\\u0441\\u0435\\u0445 \\u0438\\u0437\\u0432\\u0435\\u0441\\u0442\\u043d\\u044b\\u0445 \\u043e\\u0441\\u0442\\u0430\\u043d\\u043a\\u043e\\u0432, \\u0438\\u043c\\u0435\\u044e\\u0449\\u0438\\u0445 \\u043e\\u0442\\u043d\\u043e\\u0448\\u0435\\u043d\\u0438\\u0435 \\u043a \\u044d\\u0432\\u043e\\u043b\\u044e\\u0446\\u0438\\u0438 \\u0447\\u0435\\u043b\\u043e\\u0432\\u0435\\u043a\\u0430. \\u041d\\u043e\\u0432\\u044b\\u0439 \\u0432\\u0438\\u0434 \\u0430\\u0432\\u0441\\u0442\\u0440\\u0430\\u043b\\u043e\\u043f\\u0438\\u0442\\u0435\\u043a\\u043e\\u0432 \\u0431\\u044b\\u043b \\u043d\\u0430\\u0437\\u0432\\u0430\\u043d Australopithecus sediba (\\\"sediba\\\" \\u043d\\u0430 \\u0441\\u043e\\u0442\\u043e - \\u043e\\u0434\\u043d\\u043e\\u043c \\u0438\\u0437 11 \\u043e\\u0444\\u0438\\u0446\\u0438\\u0430\\u043b\\u044c\\u043d\\u044b\\u0445 \\u044f\\u0437\\u044b\\u043a\\u043e\\u0432 \\u0432 \\u042e\\u0436\\u043d\\u043e\\u0439 \\u0410\\u0444\\u0440\\u0438\\u043a\\u0435 - \\u043e\\u0437\\u043d\\u0430\\u0447\\u0430\\u0435\\u0442 \\\"\\u0438\\u0441\\u0442\\u043e\\u0447\\u043d\\u0438\\u043a\\\"), \\u0438 \\u043d\\u0430\\u0448\\u0435\\u0434\\u0448\\u0438\\u0435 \\u0435\\u0433\\u043e \\u0443\\u0447\\u0435\\u043d\\u044b\\u0435 \\u043d\\u0435 \\u0438\\u0441\\u043a\\u043b\\u044e\\u0447\\u0430\\u044e\\u0442, \\u0447\\u0442\\u043e \\u043e\\u043d \\u043c\\u043e\\u0433 \\u0431\\u044b\\u0442\\u044c \\u043f\\u0440\\u0435\\u0434\\u043a\\u043e\\u043c \\u043b\\u044e\\u0434\\u0435\\u0439. \\u0412\\u043f\\u0440\\u043e\\u0447\\u0435\\u043c, \\u043a\\u043e\\u043b\\u043b\\u0435\\u0433\\u0438 \\u043e\\u0442\\u043a\\u0440\\u044b\\u0432\\u0430\\u0442\\u0435\\u043b\\u0435\\u0439 \\u043d\\u043e\\u0432\\u043e\\u0433\\u043e \\u0432\\u0438\\u0434\\u0430 \\u0430\\u0432\\u0441\\u0442\\u0440\\u0430\\u043b\\u043e\\u043f\\u0438\\u0442\\u0435\\u043a\\u0430 \\u043d\\u0435 \\u0442\\u0430\\u043a \\u0432 \\u044d\\u0442\\u043e\\u043c \\u0443\\u0432\\u0435\\u0440\\u0435\\u043d\\u044b. \\u0414\\u0443\\u043c\\u0430\\u0435\\u0442\\u0441\\u044f, \\u0441\\u043f\\u043e\\u0440\\u044b \\u0443\\u0447\\u0435\\u043d\\u044b\\u0445 \\u043c\\u043e\\u0433 \\u0431\\u044b \\u0440\\u0430\\u0437\\u0440\\u0435\\u0448\\u0438\\u0442\\u044c \\u0433\\u0435\\u043d\\u0435\\u0442\\u0438\\u0447\\u0435\\u0441\\u043a\\u0438\\u0439 \\u0430\\u043d\\u0430\\u043b\\u0438\\u0437, \\u043e\\u0434\\u043d\\u0430\\u043a\\u043e \\u043f\\u043e\\u043a\\u0430 \\u0430\\u0432\\u0442\\u043e\\u0440\\u044b \\u043d\\u0430\\u0445\\u043e\\u0434\\u043a\\u0438 \\u043d\\u0435 \\u0441\\u043e\\u043e\\u0431\\u0449\\u0430\\u043b\\u0438 \\u043e \\u043d\\u0430\\u043c\\u0435\\u0440\\u0435\\u043d\\u0438\\u0438 \\u0435\\u0433\\u043e \\u043f\\u0440\\u043e\\u0432\\u0435\\u0441\\u0442\\u0438. \\u0411\\u0430\\u043a\\u0442\\u0435\\u0440\\u0438\\u0438 M. mycoides \\u0441 \\u0438\\u0441\\u043a\\u0443\\u0441\\u0441\\u0442\\u0432\\u0435\\u043d\\u043d\\u044b\\u043c \\u0433\\u0435\\u043d\\u043e\\u043c\\u043e\\u043c \\u043f\\u043e\\u0434 \\u044d\\u043b\\u0435\\u043a\\u0442\\u0440\\u043e\\u043d\\u043d\\u044b\\u043c \\u0441\\u043a\\u0430\\u043d\\u0438\\u0440\\u0443\\u044e\\u0449\\u0438\\u043c \\u043c\\u0438\\u043a\\u0440\\u043e\\u0441\\u043a\\u043e\\u043f\\u043e\\u043c. \\u0424\\u043e\\u0442\\u043e \\u0441 \\u0441\\u0430\\u0439\\u0442\\u0430 jcvi.orgLenta.ru\\u041e\\u0434\\u043d\\u0438\\u043c \\u0438\\u0437 \\u0441\\u0430\\u043c\\u044b\\u0445 \\u0433\\u0440\\u043e\\u043c\\u043a\\u0438\\u0445, \\u043d\\u043e \\u043e\\u0434\\u043d\\u043e\\u0432\\u0440\\u0435\\u043c\\u0435\\u043d\\u043d\\u043e \\u0438 \\u0441\\u0430\\u043c\\u044b\\u0445 \\u0441\\u043f\\u043e\\u0440\\u043d\\u044b\\u0445 \\u0431\\u0438\\u043e\\u043b\\u043e\\u0433\\u0438\\u0447\\u0435\\u0441\\u043a\\u0438\\u0445 \\u0434\\u043e\\u0441\\u0442\\u0438\\u0436\\u0435\\u043d\\u0438\\u0439 2010 \\u0433\\u043e\\u0434\\u0430 \\u0441\\u0442\\u0430\\u043b\\u043e \\u0441\\u043e\\u0437\\u0434\\u0430\\u043d\\u0438\\u0435 \\u043e\\u0440\\u0433\\u0430\\u043d\\u0438\\u0437\\u043c\\u0430 \\u0441 \\u0438\\u0441\\u043a\\u0443\\u0441\\u0441\\u0442\\u0432\\u0435\\u043d\\u043d\\u044b\\u043c \\u0433\\u0435\\u043d\\u043e\\u043c\\u043e\\u043c. \\u0410\\u0432\\u0442\\u043e\\u0440\\u043e\\u043c \\u044d\\u0442\\u043e\\u0439 \\u0440\\u0430\\u0431\\u043e\\u0442\\u044b \\u0432\\u044b\\u0441\\u0442\\u0443\\u043f\\u0438\\u043b \\u043e\\u0434\\u0438\\u043e\\u0437\\u043d\\u044b\\u0439 \\u0431\\u0438\\u043e\\u043b\\u043e\\u0433 \\u041a\\u0440\\u0435\\u0439\\u0433 \\u0412\\u0435\\u043d\\u0442\\u0435\\u0440 \\u0441\\u043e \\u0441\\u0432\\u043e\\u0438\\u043c\\u0438 \\u0441\\u043e\\u0442\\u0440\\u0443\\u0434\\u043d\\u0438\\u043a\\u0430\\u043c\\u0438. \\u0418\\u043c\\u0435\\u043d\\u043d\\u043e \\u0431\\u043b\\u0430\\u0433\\u043e\\u0434\\u0430\\u0440\\u044f \\u0412\\u0435\\u043d\\u0442\\u0435\\u0440\\u0443 \\u0443\\u0447\\u0435\\u043d\\u044b\\u0435 \\u0441\\u043c\\u043e\\u0433\\u043b\\u0438 \\u0432\\u043f\\u0435\\u0440\\u0432\\u044b\\u0435 \\u0440\\u0430\\u0441\\u0448\\u0438\\u0444\\u0440\\u043e\\u0432\\u0430\\u0442\\u044c \\u0433\\u0435\\u043d\\u043e\\u043c \\u0447\\u0435\\u043b\\u043e\\u0432\\u0435\\u043a\\u0430 \\u043a 2001 \\u0433\\u043e\\u0434\\u0443, \\u043e\\u0434\\u043d\\u0430\\u043a\\u043e \\u0443\\u0447\\u0430\\u0441\\u0442\\u0438\\u0435 \\u0430\\u043c\\u0431\\u0438\\u0446\\u0438\\u043e\\u0437\\u043d\\u043e\\u0433\\u043e \\u0438\\u0441\\u0441\\u043b\\u0435\\u0434\\u043e\\u0432\\u0430\\u0442\\u0435\\u043b\\u044f \\u0432 \\u043f\\u0440\\u043e\\u0435\\u043a\\u0442\\u0435 \\u0437\\u0430\\u043a\\u043e\\u043d\\u0447\\u0438\\u043b\\u043e\\u0441\\u044c \\u0441\\u043a\\u0430\\u043d\\u0434\\u0430\\u043b\\u043e\\u043c \\u2013 \\u201c\\u0434\\u043e\\u0431\\u0440\\u044b\\u0439 \\u0432\\u043e\\u043b\\u0448\\u0435\\u0431\\u043d\\u0438\\u043a\\u201d \\u043f\\u0440\\u0435\\u0434\\u043b\\u043e\\u0436\\u0438\\u043b \\u0432\\u0441\\u0435\\u043c \\u0436\\u0435\\u043b\\u0430\\u044e\\u0449\\u0438\\u043c \\u043f\\u0440\\u0438\\u043e\\u0431\\u0440\\u0435\\u0441\\u0442\\u0438 \\u043f\\u043e\\u043b\\u0443\\u0447\\u0435\\u043d\\u043d\\u044b\\u0435 \\u0438\\u043c \\u043f\\u043e\\u0441\\u043b\\u0435\\u0434\\u043e\\u0432\\u0430\\u0442\\u0435\\u043b\\u044c\\u043d\\u043e\\u0441\\u0442\\u0438 \\u0414\\u041d\\u041a \\u0437\\u0430 \\u0434\\u0435\\u043d\\u044c\\u0433\\u0438, \\u0438 \\u0442\\u043e\\u043b\\u044c\\u043a\\u043e \\u043f\\u043e\\u0434 \\u0434\\u0430\\u0432\\u043b\\u0435\\u043d\\u0438\\u0435\\u043c \\u0443\\u0447\\u0435\\u043d\\u044b\\u0445 \\u0438 \\u043f\\u043e\\u043b\\u0438\\u0442\\u0438\\u043a\\u043e\\u0432 \\u043e\\u043d \\u0432\\u0441\\u0435-\\u0442\\u0430\\u043a\\u0438 \\u0432\\u044b\\u043b\\u043e\\u0436\\u0438\\u043b \\u0438\\u0445 \\u0432 \\u043e\\u0442\\u043a\\u0440\\u044b\\u0442\\u044b\\u0439 \\u0434\\u043e\\u0441\\u0442\\u0443\\u043f. \\u0412 2010 \\u0433\\u043e\\u0434\\u0443 \\u0412\\u0435\\u043d\\u0442\\u0435\\u0440 \\u0441\\u043c\\u043e\\u0433 de novo \\u0441\\u0438\\u043d\\u0442\\u0435\\u0437\\u0438\\u0440\\u043e\\u0432\\u0430\\u0442\\u044c \\u043f\\u043e\\u043b\\u043d\\u044b\\u0439 \\u0433\\u0435\\u043d\\u043e\\u043c \\u0431\\u0430\\u043a\\u0442\\u0435\\u0440\\u0438\\u0438 \\u0438 \\u043f\\u0435\\u0440\\u0435\\u0441\\u0430\\u0434\\u0438\\u0442\\u044c \\u0435\\u0433\\u043e \\u0432 \\u043f\\u0443\\u0441\\u0442\\u0443\\u044e \\u043a\\u043b\\u0435\\u0442\\u043a\\u0443 \\u0440\\u043e\\u0434\\u0441\\u0442\\u0432\\u0435\\u043d\\u043d\\u043e\\u0433\\u043e \\u043c\\u0438\\u043a\\u0440\\u043e\\u043e\\u0440\\u0433\\u0430\\u043d\\u0438\\u0437\\u043c\\u0430. \\u042d\\u0442\\u0430 \\u043a\\u043e\\u043b\\u043e\\u0441\\u0441\\u0430\\u043b\\u044c\\u043d\\u0430\\u044f \\u043f\\u043e \\u0442\\u0440\\u0443\\u0434\\u043e\\u0435\\u043c\\u043a\\u043e\\u0441\\u0442\\u0438 \\u0440\\u0430\\u0431\\u043e\\u0442\\u0430, \\u043f\\u043e \\u043c\\u043d\\u0435\\u043d\\u0438\\u044e \\u0412\\u0435\\u043d\\u0442\\u0435\\u0440\\u0430, \\u0438\\u043c\\u0435\\u0435\\u0442 \\u0432\\u0430\\u0436\\u043d\\u044b\\u0439 \\u043f\\u0440\\u0430\\u043a\\u0442\\u0438\\u0447\\u0435\\u0441\\u043a\\u0438\\u0439 \\u0438 \\u0434\\u0430\\u0436\\u0435 \\u0444\\u0438\\u043b\\u043e\\u0441\\u043e\\u0444\\u0441\\u043a\\u0438\\u0439 \\u0441\\u043c\\u044b\\u0441\\u043b, \\u043e\\u0434\\u043d\\u0430\\u043a\\u043e \\u043e\\u0447\\u0435\\u043d\\u044c \\u043c\\u043d\\u043e\\u0433\\u0438\\u0435 \\u0435\\u0433\\u043e \\u043a\\u043e\\u043b\\u043b\\u0435\\u0433\\u0438, \\u043c\\u044f\\u0433\\u043a\\u043e \\u0433\\u043e\\u0432\\u043e\\u0440\\u044f, \\u0441\\u043e\\u043c\\u043d\\u0435\\u0432\\u0430\\u044e\\u0442\\u0441\\u044f \\u0432 \\u043d\\u0430\\u0443\\u0447\\u043d\\u043e\\u0439 \\u0446\\u0435\\u043d\\u043d\\u043e\\u0441\\u0442\\u0438 \\u043f\\u0440\\u043e\\u0434\\u0435\\u043b\\u0430\\u043d\\u043d\\u043e\\u0433\\u043e \\u044d\\u043a\\u0441\\u043f\\u0435\\u0440\\u0438\\u043c\\u0435\\u043d\\u0442\\u0430.\\u041d\\u0435\\u0443\\u0434\\u0430\\u0447\\u0438 \\u0433\\u043e\\u0434\\u0430\\u0420\\u0430\\u0441\\u0441\\u043a\\u0430\\u0437 \\u043e \\u0440\\u0430\\u0437\\u0432\\u0438\\u0442\\u0438\\u0438 \\u043d\\u0430\\u0443\\u043a\\u0438 \\u0437\\u0430 \\u043f\\u0440\\u043e\\u0448\\u0435\\u0434\\u0448\\u0438\\u0439 \\u0433\\u043e\\u0434 \\u0431\\u044b\\u043b \\u0431\\u044b \\u043d\\u0435\\u043f\\u043e\\u043b\\u043d\\u044b\\u043c \\u0431\\u0435\\u0437 \\u0443\\u043f\\u043e\\u043c\\u0438\\u043d\\u0430\\u043d\\u0438\\u044f \\u043e\\u0431 \\u0430\\u043d\\u0442\\u0438\\u0434\\u043e\\u0441\\u0442\\u0438\\u0436\\u0435\\u043d\\u0438\\u044f\\u0445 \\u0438 \\u043d\\u0435\\u0443\\u0434\\u0430\\u0447\\u0430\\u0445. \\u0412 2010 \\u0433\\u043e\\u0434\\u0443 \\u0443\\u0447\\u0435\\u043d\\u044b\\u0435 \\u0442\\u0430\\u043a \\u0438 \\u043d\\u0435 \\u043f\\u0440\\u0438\\u043d\\u044f\\u043b\\u0438 \\u043e\\u043a\\u043e\\u043d\\u0447\\u0430\\u0442\\u0435\\u043b\\u044c\\u043d\\u043e\\u0433\\u043e \\u0440\\u0435\\u0448\\u0435\\u043d\\u0438\\u044f \\u043e \\u0441\\u0440\\u043e\\u043a\\u0430\\u0445 \\u0438 \\u0441\\u0442\\u043e\\u0438\\u043c\\u043e\\u0441\\u0442\\u0438 \\u0441\\u043e\\u0437\\u0434\\u0430\\u043d\\u0438\\u044f \\u044d\\u043a\\u0441\\u043f\\u0435\\u0440\\u0438\\u043c\\u0435\\u043d\\u0442\\u0430\\u043b\\u044c\\u043d\\u043e\\u0433\\u043e \\u0442\\u0435\\u0440\\u043c\\u043e\\u044f\\u0434\\u0435\\u0440\\u043d\\u043e\\u0433\\u043e \\u0440\\u0435\\u0430\\u043a\\u0442\\u043e\\u0440\\u0430 ITER. \\u041f\\u043e \\u0445\\u043e\\u0434\\u0443 \\u0440\\u0430\\u0431\\u043e\\u0442\\u044b \\u043d\\u0430\\u0434 \\u043f\\u0440\\u043e\\u0435\\u043a\\u0442\\u043e\\u043c \\u0440\\u0435\\u0430\\u043a\\u0442\\u043e\\u0440\\u0430 \\u043d\\u0435\\u043e\\u0431\\u0445\\u043e\\u0434\\u0438\\u043c\\u044b\\u0435 \\u043e\\u0431\\u044a\\u0435\\u043c\\u044b \\u0444\\u0438\\u043d\\u0430\\u043d\\u0441\\u0438\\u0440\\u043e\\u0432\\u0430\\u043d\\u0438\\u044f \\u0432\\u0441\\u0435 \\u0432\\u0440\\u0435\\u043c\\u044f \\u0440\\u0430\\u0441\\u0442\\u0443\\u0442, \\u0438 \\u043e\\u0434\\u043d\\u043e\\u0432\\u0440\\u0435\\u043c\\u0435\\u043d\\u043d\\u043e \\u0443\\u043c\\u0435\\u043d\\u044c\\u0448\\u0430\\u0435\\u0442\\u0441\\u044f \\u0436\\u0435\\u043b\\u0430\\u043d\\u0438\\u0435 \\u0441\\u0442\\u0440\\u0430\\u043d-\\u0443\\u0447\\u0430\\u0441\\u0442\\u043d\\u0438\\u0446 \\u0432\\u043a\\u043b\\u0430\\u0434\\u044b\\u0432\\u0430\\u0442\\u044c\\u0441\\u044f \\u0432 \\u043f\\u0440\\u043e\\u0435\\u043a\\u0442 \\u0441 \\u043d\\u0435\\u044f\\u0441\\u043d\\u043e\\u0439 \\u043e\\u0442\\u0434\\u0430\\u0447\\u0435\\u0439.\\u0415\\u0449\\u0435 \\u043e\\u0434\\u0438\\u043d \\u043f\\u0440\\u043e\\u0432\\u0430\\u043b\\u044c\\u043d\\u044b\\u0439 \\u043f\\u0443\\u0441\\u043a 2010 \\u0433\\u043e\\u0434\\u0430 \\u0441\\u043e\\u0441\\u0442\\u043e\\u044f\\u043b\\u0441\\u044f (\\u0442\\u043e\\u0447\\u043d\\u0435\\u0435, \\u043d\\u0435 \\u0441\\u043e\\u0441\\u0442\\u043e\\u044f\\u043b\\u0441\\u044f) 10 \\u0438\\u044e\\u043d\\u044f 2010 \\u0433\\u043e\\u0434\\u0430. \\u041a\\u043e\\u0440\\u0435\\u0439\\u0441\\u043a\\u0430\\u044f \\u0440\\u0430\\u043a\\u0435\\u0442\\u0430-\\u043d\\u043e\\u0441\\u0438\\u0442\\u0435\\u043b\\u044c KSLV-1 \\u0443\\u0436\\u0435 \\u0432\\u0442\\u043e\\u0440\\u043e\\u0439 \\u0440\\u0430\\u0437 \\u043d\\u0435 \\u0441\\u043c\\u043e\\u0433\\u043b\\u0430 \\u0432\\u044b\\u0432\\u0435\\u0441\\u0442\\u0438 \\u043d\\u0430 \\u043e\\u0440\\u0431\\u0438\\u0442\\u0443 \\u0441\\u043f\\u0443\\u0442\\u043d\\u0438\\u043a \\u2013 \\u0447\\u0435\\u0440\\u0435\\u0437 8 \\u043c\\u0438\\u043d\\u0443\\u0442 \\u043f\\u043e\\u0441\\u043b\\u0435 \\u0441\\u0442\\u0430\\u0440\\u0442\\u0430 \\u043e\\u043d\\u0430 \\u0432\\u0437\\u043e\\u0440\\u0432\\u0430\\u043b\\u0430\\u0441\\u044c.\\r\\u0412 2010 \\u0433\\u043e\\u0434\\u0443 \\u043f\\u0435\\u0447\\u0430\\u043b\\u044c\\u043d\\u043e \\u0437\\u0430\\u043a\\u043e\\u043d\\u0447\\u0438\\u043b\\u0430\\u0441\\u044c \\u043d\\u0435\\u0434\\u043e\\u043b\\u0433\\u0430\\u044f \\u043d\\u0430\\u0443\\u0447\\u043d\\u0430\\u044f \\u043a\\u0430\\u0440\\u044c\\u0435\\u0440\\u0430 \\u0435\\u0434\\u0438\\u043d\\u0441\\u0442\\u0432\\u0435\\u043d\\u043d\\u043e\\u0433\\u043e \\u0440\\u043e\\u0441\\u0441\\u0438\\u0439\\u0441\\u043a\\u043e\\u0433\\u043e \\u043d\\u0430\\u0443\\u0447\\u043d\\u043e\\u0433\\u043e \\u0441\\u043f\\u0443\\u0442\\u043d\\u0438\\u043a\\u0430 \\u201c\\u041a\\u043e\\u0440\\u043e\\u043d\\u0430\\u0441-\\u0424\\u041e\\u0422\\u041e\\u041d\\u201d \\u0434\\u043b\\u044f \\u0438\\u0437\\u0443\\u0447\\u0435\\u043d\\u0438\\u044f \\u0421\\u043e\\u043b\\u043d\\u0446\\u0430. \\u0418\\u0437-\\u0437\\u0430 \\u043e\\u0448\\u0438\\u0431\\u043a\\u0438 \\u0432 \\u0440\\u0430\\u0441\\u0447\\u0435\\u0442\\u0430\\u0445 \\u043c\\u043e\\u0449\\u043d\\u043e\\u0441\\u0442\\u0438 \\u0430\\u043a\\u043a\\u0443\\u043c\\u0443\\u043b\\u044f\\u0442\\u043e\\u0440\\u043e\\u0432 \\u0441\\u043f\\u0443\\u0442\\u043d\\u0438\\u043a\\u0430 \\u0447\\u0435\\u0440\\u0435\\u0437 \\u043c\\u0435\\u0441\\u044f\\u0446 \\u043f\\u043e\\u0441\\u043b\\u0435 \\u0432\\u044b\\u0432\\u043e\\u0434\\u0430 \\u043d\\u0430 \\u043e\\u0440\\u0431\\u0438\\u0442\\u0443 \\u0443 \\u043d\\u0435\\u0433\\u043e \\u043d\\u0430\\u0447\\u0430\\u043b\\u0438 \\u043e\\u0442\\u043a\\u043b\\u044e\\u0447\\u0430\\u0442\\u044c\\u0441\\u044f \\u043f\\u0440\\u0438\\u0431\\u043e\\u0440\\u044b. \\u0423\\u0447\\u0435\\u043d\\u044b\\u0435 \\u0440\\u0430\\u0441\\u0441\\u0447\\u0438\\u0442\\u044b\\u0432\\u0430\\u043b\\u0438, \\u0447\\u0442\\u043e \\u0432\\u043e \\u0432\\u0440\\u0435\\u043c\\u044f \\u043f\\u0440\\u0435\\u0431\\u044b\\u0432\\u0430\\u043d\\u0438\\u044f \\u043d\\u0430 \\u0431\\u0435\\u0441\\u0442\\u0435\\u043d\\u0435\\u0432\\u044b\\u0445 \\u043e\\u0440\\u0431\\u0438\\u0442\\u0430\\u0445 \\u0432 \\u0430\\u043f\\u0440\\u0435\\u043b\\u0435 2010 \\u0433\\u043e\\u0434\\u0430 \\u0430\\u043f\\u043f\\u0430\\u0440\\u0430\\u0442 \\u0441\\u043c\\u043e\\u0436\\u0435\\u0442 \\u043f\\u043e\\u0434\\u0437\\u0430\\u0440\\u044f\\u0434\\u0438\\u0442\\u044c \\u0430\\u043a\\u043a\\u0443\\u043c\\u0443\\u043b\\u044f\\u0442\\u043e\\u0440\\u044b \\u0438 \\u0432\\u043e\\u0437\\u043e\\u0431\\u043d\\u043e\\u0432\\u0438\\u0442\\u044c \\u043d\\u043e\\u0440\\u043c\\u0430\\u043b\\u044c\\u043d\\u0443\\u044e \\u0440\\u0430\\u0431\\u043e\\u0442\\u0443, \\u043e\\u0434\\u043d\\u0430\\u043a\\u043e \\u044d\\u0442\\u043e\\u0433\\u043e \\u043d\\u0435 \\u043f\\u0440\\u043e\\u0438\\u0437\\u043e\\u0448\\u043b\\u043e. \\u0415\\u0449\\u0435 \\u043e\\u0434\\u043d\\u0430 \\u0440\\u043e\\u0441\\u0441\\u0438\\u0439\\u0441\\u043a\\u0430\\u044f \\u043d\\u0435\\u0443\\u0434\\u0430\\u0447\\u0430 \\u2013 \\u0430\\u0432\\u0430\\u0440\\u0438\\u0439\\u043d\\u044b\\u0439 \\u0437\\u0430\\u043f\\u0443\\u0441\\u043a \\u0442\\u0440\\u0435\\u0445 \\u0441\\u043f\\u0443\\u0442\\u043d\\u0438\\u043a\\u043e\\u0432 \\u0413\\u041b\\u041e\\u041d\\u0410\\u0421\\u0421 5 \\u0434\\u0435\\u043a\\u0430\\u0431\\u0440\\u044f 2010 \\u0433\\u043e\\u0434\\u0430. \\u0420\\u0430\\u043a\\u0435\\u0442\\u0430-\\u043d\\u043e\\u0441\\u0438\\u0442\\u0435\\u043b\\u044c \\u043d\\u0435 \\u0441\\u043c\\u043e\\u0433\\u043b\\u0430 \\u0432\\u044b\\u0432\\u0435\\u0441\\u0442\\u0438 \\u0430\\u043f\\u043f\\u0430\\u0440\\u0430\\u0442\\u044b \\u043d\\u0430 \\u043e\\u0440\\u0431\\u0438\\u0442\\u0443 \\u0438\\u0437-\\u0437\\u0430 \\u043d\\u0435\\u043f\\u0440\\u0430\\u0432\\u0438\\u043b\\u044c\\u043d\\u043e \\u043d\\u0430\\u043f\\u0438\\u0441\\u0430\\u043d\\u043d\\u043e\\u0439 \\u0444\\u043e\\u0440\\u043c\\u0443\\u043b\\u044b \\u0432 \\u0442\\u0435\\u0445\\u043d\\u0438\\u0447\\u0435\\u0441\\u043a\\u043e\\u0439 \\u0434\\u043e\\u043a\\u0443\\u043c\\u0435\\u043d\\u0442\\u0430\\u0446\\u0438\\u0438 \\u043d\\u0430 \\u0437\\u0430\\u043f\\u0440\\u0430\\u0432\\u043a\\u0443 \\u0440\\u0430\\u0437\\u0433\\u043e\\u043d\\u043d\\u043e\\u0433\\u043e \\u0431\\u043b\\u043e\\u043a\\u0430.\\u0427\\u0435\\u043b\\u043e\\u0432\\u0435\\u0447\\u0435\\u0441\\u043a\\u0438\\u0439 \\u0444\\u0430\\u043a\\u0442\\u043e\\u0440 \\u0441\\u0442\\u0430\\u043b \\u043f\\u0440\\u0438\\u0447\\u0438\\u043d\\u043e\\u0439 \\u0435\\u0449\\u0435 \\u043e\\u0434\\u043d\\u043e\\u0433\\u043e \\u043d\\u0430\\u0443\\u0447\\u043d\\u043e\\u0433\\u043e \\u043f\\u0440\\u043e\\u0432\\u0430\\u043b\\u0430 2010 \\u0433\\u043e\\u0434\\u0430. \\u041d\\u043e\\u0431\\u0435\\u043b\\u0435\\u0432\\u0441\\u043a\\u0438\\u0439 \\u043b\\u0430\\u0443\\u0440\\u0435\\u0430\\u0442 \\u043f\\u043e \\u0444\\u0438\\u0437\\u0438\\u043e\\u043b\\u043e\\u0433\\u0438\\u0438 \\u0438 \\u043c\\u0435\\u0434\\u0438\\u0446\\u0438\\u043d\\u0435 2004 \\u0433\\u043e\\u0434\\u0430 \\u041b\\u0438\\u043d\\u0434\\u0430 \\u0411\\u0430\\u043a \\u043e\\u0442\\u043e\\u0437\\u0432\\u0430\\u043b\\u0430 \\u0438\\u0437 \\u043d\\u0430\\u0443\\u0447\\u043d\\u044b\\u0445 \\u0436\\u0443\\u0440\\u043d\\u0430\\u043b\\u043e\\u0432 \\u0441\\u0440\\u0430\\u0437\\u0443 \\u0434\\u0432\\u0435 \\u0441\\u0432\\u043e\\u0438 \\u043f\\u0443\\u0431\\u043b\\u0438\\u043a\\u0430\\u0446\\u0438\\u0438 \\u043f\\u043e \\u043f\\u0440\\u0438\\u0447\\u0438\\u043d\\u0435 \\u0442\\u043e\\u0433\\u043e, \\u0447\\u0442\\u043e \\u043e\\u043d\\u0430 \\u0438 \\u0435\\u0435 \\u0441\\u043e\\u0442\\u0440\\u0443\\u0434\\u043d\\u0438\\u043a\\u0438 \\u043f\\u0435\\u0440\\u0435\\u0441\\u0442\\u0430\\u043b\\u0438 \\u0434\\u043e\\u0432\\u0435\\u0440\\u044f\\u0442\\u044c \\u043f\\u0440\\u0435\\u0434\\u0441\\u0442\\u0430\\u0432\\u043b\\u0435\\u043d\\u043d\\u044b\\u043c \\u0432 \\u043d\\u0438\\u0445 \\u0440\\u0435\\u0437\\u0443\\u043b\\u044c\\u0442\\u0430\\u0442\\u0430\\u043c. \\u0412\\u0435\\u0434\\u0443\\u0449\\u0438\\u043c \\u0430\\u0432\\u0442\\u043e\\u0440\\u043e\\u043c \\u043e\\u0431\\u0435\\u0438\\u0445 \\u0441\\u0442\\u0430\\u0442\\u0435\\u0439 \\u0431\\u044b\\u043b \\u043a\\u0438\\u0442\\u0430\\u0439\\u0441\\u043a\\u0438\\u0439 \\u0438\\u0441\\u0441\\u043b\\u0435\\u0434\\u043e\\u0432\\u0430\\u0442\\u0435\\u043b\\u044c \\u0427\\u0436\\u0438\\u0445\\u0443\\u0430 \\u0426\\u0437\\u043e\\u0443, \\u0440\\u0430\\u0431\\u043e\\u0442\\u0430\\u0432\\u0448\\u0438\\u0439 \\u0432 \\u043b\\u0430\\u0431\\u043e\\u0440\\u0430\\u0442\\u043e\\u0440\\u0438\\u0438 \\u041d\\u043e\\u0431\\u0435\\u043b\\u0435\\u0432\\u0441\\u043a\\u043e\\u0433\\u043e \\u043b\\u0430\\u0443\\u0440\\u0435\\u0430\\u0442\\u0430. \\u0412 2008 \\u0433\\u043e\\u0434\\u0443 \\u0411\\u0430\\u043a \\u0443\\u0436\\u0435 \\u0434\\u0435\\u0437\\u0430\\u0432\\u0443\\u0438\\u0440\\u043e\\u0432\\u0430\\u043b\\u0430 \\u043f\\u0443\\u0431\\u043b\\u0438\\u043a\\u0430\\u0446\\u0438\\u044e, \\u0432 \\u0441\\u043e\\u0437\\u0434\\u0430\\u043d\\u0438\\u0438 \\u043a\\u043e\\u0442\\u043e\\u0440\\u043e\\u0439 \\u0426\\u0437\\u043e\\u0443 \\u043f\\u0440\\u0438\\u043d\\u0438\\u043c\\u0430\\u043b \\u0441\\u0430\\u043c\\u043e\\u0435 \\u043d\\u0435\\u043f\\u043e\\u0441\\u0440\\u0435\\u0434\\u0441\\u0442\\u0432\\u0435\\u043d\\u043d\\u043e\\u0435 \\u0443\\u0447\\u0430\\u0441\\u0442\\u0438\\u0435. \\u042d\\u0442\\u0430 \\u0438\\u0441\\u0442\\u043e\\u0440\\u0438\\u044f \\u0435\\u0449\\u0435 \\u0440\\u0430\\u0437 \\u043f\\u043e\\u0434\\u0447\\u0435\\u0440\\u043a\\u0438\\u0432\\u0430\\u0435\\u0442, \\u043d\\u0430\\u0441\\u043a\\u043e\\u043b\\u044c\\u043a\\u043e \\u0432\\u0430\\u0436\\u0435\\u043d \\u043a\\u0430\\u0434\\u0440\\u043e\\u0432\\u044b\\u0439 \\u0432\\u043e\\u043f\\u0440\\u043e\\u0441 \\u0432 \\u043d\\u0430\\u0443\\u043a\\u0435.2010 \\u0433\\u043e\\u0434 \\u0441\\u0442\\u0430\\u043b \\u043f\\u043e\\u0441\\u043b\\u0435\\u0434\\u043d\\u0438\\u043c \\u0432 \\u0436\\u0438\\u0437\\u043d\\u0438 \\u043c\\u0430\\u0440\\u0441\\u043e\\u0445\\u043e\\u0434\\u0430 \\u201c\\u0421\\u043f\\u0438\\u0440\\u0438\\u0442\\u201d, \\u043a\\u043e\\u0442\\u043e\\u0440\\u044b\\u0439 \\u0432\\u043c\\u0435\\u0441\\u0442\\u0435 \\u0441\\u043e \\u0441\\u0432\\u043e\\u0438\\u043c \\u201c\\u0431\\u043b\\u0438\\u0437\\u043d\\u0435\\u0446\\u043e\\u043c\\u201d \\u043f\\u043e \\u0438\\u043c\\u0435\\u043d\\u0438 \\u201c\\u041e\\u043f\\u043f\\u043e\\u0440\\u0442\\u044c\\u044e\\u043d\\u0438\\u0442\\u0438\\u201d \\u0441 2004 \\u0433\\u043e\\u0434\\u0430 \\u0438\\u0441\\u0441\\u043b\\u0435\\u0434\\u0443\\u0435\\u0442 \\u043f\\u043e\\u0432\\u0435\\u0440\\u0445\\u043d\\u043e\\u0441\\u0442\\u044c \\u041a\\u0440\\u0430\\u0441\\u043d\\u043e\\u0439 \\u043f\\u043b\\u0430\\u043d\\u0435\\u0442\\u044b. \\u0412 \\u043c\\u0430\\u0440\\u0442\\u0435 2009 \\u0433\\u043e\\u0434\\u0430 \\u201c\\u0421\\u043f\\u0438\\u0440\\u0438\\u0442\\u201d \\u043f\\u0440\\u043e\\u0432\\u0430\\u043b\\u0438\\u043b\\u0441\\u044f \\u0432 \\u043f\\u0435\\u0441\\u0447\\u0430\\u043d\\u0443\\u044e \\u043b\\u043e\\u0432\\u0443\\u0448\\u043a\\u0443, \\u0438\\u0437 \\u043a\\u043e\\u0442\\u043e\\u0440\\u043e\\u0439 \\u043d\\u0435 \\u0441\\u043c\\u043e\\u0433 \\u0432\\u044b\\u0431\\u0440\\u0430\\u0442\\u044c\\u0441\\u044f, \\u043d\\u0435\\u0441\\u043c\\u043e\\u0442\\u0440\\u044f \\u043d\\u0430 \\u0432\\u0441\\u0435 \\u0443\\u0441\\u0438\\u043b\\u0438\\u044f \\u0441\\u043f\\u0435\\u0446\\u0438\\u0430\\u043b\\u0438\\u0441\\u0442\\u043e\\u0432. \\u0412 \\u043f\\u043e\\u0441\\u043b\\u0435\\u0434\\u043d\\u0435\\u0435 \\u0432\\u0440\\u0435\\u043c\\u044f \\u201c\\u0421\\u043f\\u0438\\u0440\\u0438\\u0442\\u201d \\u043d\\u0435 \\u0432\\u044b\\u0445\\u043e\\u0434\\u0438\\u0442 \\u043d\\u0430 \\u0441\\u0432\\u044f\\u0437\\u044c \\u0441 \\u0443\\u0447\\u0435\\u043d\\u044b\\u043c\\u0438, \\u0431\\u043e\\u043b\\u044c\\u0448\\u0438\\u043d\\u0441\\u0442\\u0432\\u043e \\u0438\\u0437 \\u043a\\u043e\\u0442\\u043e\\u0440\\u044b\\u0445 \\u0441\\u043a\\u043b\\u043e\\u043d\\u044f\\u044e\\u0442\\u0441\\u044f \\u043a \\u043c\\u044b\\u0441\\u043b\\u0438, \\u0447\\u0442\\u043e \\u043e\\u043d \\u043f\\u043e\\u0433\\u0438\\u0431, \\u043d\\u0435 \\u0432\\u044b\\u0434\\u0435\\u0440\\u0436\\u0430\\u0432 \\u043c\\u0430\\u0440\\u0441\\u0438\\u0430\\u043d\\u0441\\u043a\\u043e\\u0439 \\u0437\\u0438\\u043c\\u044b.\\u0412 \\u0443\\u0448\\u0435\\u0434\\u0448\\u0435\\u043c \\u0433\\u043e\\u0434\\u0443 \\u0410\\u043c\\u0435\\u0440\\u0438\\u043a\\u0430 \\u043e\\u0442\\u043a\\u0430\\u0437\\u0430\\u043b\\u0430\\u0441\\u044c \\u043e\\u0442 \\u0441\\u0432\\u043e\\u0435\\u0439 \\u043b\\u0443\\u043d\\u043d\\u043e\\u0439 \\u043f\\u0440\\u043e\\u0433\\u0440\\u0430\\u043c\\u043c\\u044b, \\u043e\\u0434\\u043d\\u0430\\u043a\\u043e \\u043e\\u0434\\u043d\\u043e\\u0437\\u043d\\u0430\\u0447\\u043d\\u043e \\u043e\\u0442\\u043d\\u0435\\u0441\\u0442\\u0438 \\u044d\\u0442\\u043e \\u0440\\u0435\\u0448\\u0435\\u043d\\u0438\\u0435 \\u043a \\u043f\\u0440\\u043e\\u0432\\u0430\\u043b\\u0430\\u043c \\u043d\\u0435\\u043b\\u044c\\u0437\\u044f \\u2013 \\u0432 \\u043d\\u043e\\u0432\\u043e\\u0439 \\u0430\\u043c\\u0435\\u0440\\u0438\\u043a\\u0430\\u043d\\u0441\\u043a\\u043e\\u0439 \\u0441\\u0442\\u0440\\u0430\\u0442\\u0435\\u0433\\u0438\\u0438 \\u043e\\u0441\\u0432\\u043e\\u0435\\u043d\\u0438\\u044f \\u043a\\u043e\\u0441\\u043c\\u043e\\u0441\\u0430 \\u0441\\u0434\\u0435\\u043b\\u0430\\u043d\\u0430 \\u0441\\u0442\\u0430\\u0432\\u043a\\u0430 \\u043d\\u0430 \\u0447\\u0430\\u0441\\u0442\\u043d\\u0443\\u044e \\u043a\\u043e\\u0441\\u043c\\u043e\\u043d\\u0430\\u0432\\u0442\\u0438\\u043a\\u0443, \\u043a\\u043e\\u0442\\u043e\\u0440\\u0430\\u044f \\u0433\\u0440\\u043e\\u0437\\u0438\\u0442\\u0441\\u044f \\u0437\\u0434\\u043e\\u0440\\u043e\\u0432\\u043e \\u043f\\u043e\\u0442\\u0435\\u0441\\u043d\\u0438\\u0442\\u044c \\u0433\\u043e\\u0441\\u0443\\u0434\\u0430\\u0440\\u0441\\u0442\\u0432\\u0435\\u043d\\u043d\\u0443\\u044e \\u0432 \\u0441\\u0430\\u043c\\u043e\\u0435 \\u0431\\u043b\\u0438\\u0436\\u0430\\u0439\\u0448\\u0435\\u0435 \\u0432\\u0440\\u0435\\u043c\\u044f. \\u0412 \\u043d\\u0430\\u0447\\u0430\\u043b\\u0435 \\u0434\\u0435\\u043a\\u0430\\u0431\\u0440\\u044f 2010 \\u0433\\u043e\\u0434\\u0430 \\u0447\\u0430\\u0441\\u0442\\u043d\\u044b\\u0439 \\u0433\\u0440\\u0443\\u0437\\u043e\\u0432\\u043e\\u0439 \\u043a\\u043e\\u0441\\u043c\\u0438\\u0447\\u0435\\u0441\\u043a\\u0438\\u0439 \\u043a\\u043e\\u0440\\u0430\\u0431\\u043b\\u044c Dragon \\u043a\\u043e\\u043c\\u043f\\u0430\\u043d\\u0438\\u0438 SpaceX \\u0441\\u043e\\u0432\\u0435\\u0440\\u0448\\u0438\\u043b \\u043f\\u0435\\u0440\\u0432\\u044b\\u0439 \\u043f\\u043e\\u043b\\u0435\\u0442 \\u043d\\u0430 \\u043e\\u0440\\u0431\\u0438\\u0442\\u0443, \\u0441\\u0434\\u0435\\u043b\\u0430\\u043b \\u0434\\u0432\\u0430 \\u0432\\u0438\\u0442\\u043a\\u0430 \\u0432\\u043e\\u043a\\u0440\\u0443\\u0433 \\u043f\\u043b\\u0430\\u043d\\u0435\\u0442\\u044b \\u0438 \\u0431\\u043b\\u0430\\u0433\\u043e\\u043f\\u043e\\u043b\\u0443\\u0447\\u043d\\u043e \\u043f\\u0440\\u0438\\u0432\\u043e\\u0434\\u043d\\u0438\\u043b\\u0441\\u044f \\u0432 \\u0422\\u0438\\u0445\\u043e\\u043c \\u043e\\u043a\\u0435\\u0430\\u043d\\u0435. \\u0414\\u043b\\u044f \\u043f\\u0435\\u0440\\u0432\\u043e\\u0433\\u043e \\u0440\\u0430\\u0437\\u0430 \\u043d\\u0430 \\u0431\\u043e\\u0440\\u0442\\u0443 \\u043a\\u043e\\u0440\\u0430\\u0431\\u043b\\u044f \\u043d\\u0430\\u0445\\u043e\\u0434\\u0438\\u043b\\u0441\\u044f \\u0441\\u0438\\u043c\\u0432\\u043e\\u043b\\u0438\\u0447\\u0435\\u0441\\u043a\\u0438\\u0439 \\u0433\\u0440\\u0443\\u0437 \\u2013 \\u0433\\u043e\\u043b\\u043e\\u0432\\u043a\\u0430 \\u0441\\u044b\\u0440\\u0430 \\u2013 \\u043d\\u043e \\u201c\\u0432\\u0441\\u0430\\u043c\\u0434\\u0435\\u043b\\u0438\\u0448\\u043d\\u0430\\u044f\\u201d \\u043f\\u0440\\u043e\\u0435\\u043a\\u0442\\u043d\\u0430\\u044f \\u0433\\u0440\\u0443\\u0437\\u043e\\u043f\\u043e\\u0434\\u044a\\u0435\\u043c\\u043d\\u043e\\u0441\\u0442\\u044c Dragon \\u0441\\u043e\\u0441\\u0442\\u0430\\u0432\\u043b\\u044f\\u0435\\u0442 6 \\u0442\\u043e\\u043d\\u043d \\u043f\\u043e \\u043f\\u0443\\u0442\\u0438 \\u043d\\u0430\\u0432\\u0435\\u0440\\u0445 \\u0438 \\u0442\\u0440\\u0438 \\u0442\\u043e\\u043d\\u043d\\u044b \\u043f\\u0440\\u0438 \\u0441\\u043f\\u0443\\u0441\\u043a\\u0435 \\u043d\\u0430 \\u0417\\u0435\\u043c\\u043b\\u044e.***\\u0412 \\u043e\\u0431\\u0449\\u0435\\u043c, \\u043f\\u0440\\u043e\\u0448\\u0435\\u0434\\u0448\\u0438\\u0439 \\u0433\\u043e\\u0434 \\u0431\\u044b\\u043b \\u0432\\u043f\\u043e\\u043b\\u043d\\u0435 \\u0443\\u0440\\u043e\\u0436\\u0430\\u0439\\u043d\\u044b\\u043c \\u043d\\u0430 \\u043d\\u0430\\u0443\\u0447\\u043d\\u044b\\u0435 \\u0434\\u043e\\u0441\\u0442\\u0438\\u0436\\u0435\\u043d\\u0438\\u044f, \\u043c\\u043d\\u043e\\u0433\\u0438\\u0435 \\u0438\\u0437 \\u043a\\u043e\\u0442\\u043e\\u0440\\u044b\\u0445 \\u0438\\u043c\\u0435\\u044e\\u0442 \\u0445\\u043e\\u0440\\u043e\\u0448\\u0438\\u0435 \\u0448\\u0430\\u043d\\u0441\\u044b \\u043d\\u0430 \\u043f\\u0440\\u043e\\u0434\\u043e\\u043b\\u0436\\u0435\\u043d\\u0438\\u0435. \\u0422\\u0430\\u043a \\u0447\\u0442\\u043e \\u043e\\u0441\\u0442\\u0430\\u0432\\u0430\\u0439\\u0442\\u0435\\u0441\\u044c \\u0441 \\u043d\\u0430\\u043c\\u0438 \\u2013 \\u0431\\u0443\\u0434\\u0435\\u0442 \\u0438\\u043d\\u0442\\u0435\\u0440\\u0435\\u0441\\u043d\\u043e.\",\n          \"\\u041d\\u0430\\u0447\\u0430\\u043b\\u043e \\u0441\\u043f\\u0435\\u0446\\u0438\\u0430\\u043b\\u044c\\u043d\\u043e\\u0439 \\u0432\\u043e\\u0435\\u043d\\u043d\\u043e\\u0439 \\u043e\\u043f\\u0435\\u0440\\u0430\\u0446\\u0438\\u0438 (\\u0421\\u0412\\u041e) \\u0420\\u043e\\u0441\\u0441\\u0438\\u0438 \\u043d\\u0430 \\u0423\\u043a\\u0440\\u0430\\u0438\\u043d\\u0435: \\u043f\\u0440\\u0438\\u0447\\u0438\\u043d\\u044b \\u0438 \\u0446\\u0435\\u043b\\u0438, \\u0445\\u0440\\u043e\\u043d\\u043e\\u043b\\u043e\\u0433\\u0438\\u044f \\u043f\\u0435\\u0440\\u0432\\u044b\\u0445 \\u0434\\u043d\\u0435\\u0439\\u0421\\u044e\\u0436\\u0435\\u0442\\u041e\\u0431\\u043e\\u0441\\u0442\\u0440\\u0435\\u043d\\u0438\\u0435 \\u0432 \\u0414\\u043e\\u043d\\u0431\\u0430\\u0441\\u0441\\u0435:\\u0424\\u043e\\u0442\\u043e: \\u0421\\u0442\\u0430\\u043d\\u0438\\u0441\\u043b\\u0430\\u0432 \\u041a\\u0440\\u0430\\u0441\\u0438\\u043b\\u044c\\u043d\\u0438\\u043a\\u043e\\u0432 / \\u0420\\u0418\\u0410 \\u041d\\u043e\\u0432\\u043e\\u0441\\u0442\\u0438\\u0414\\u0432\\u0430 \\u0433\\u043e\\u0434\\u0430 \\u043d\\u0430\\u0437\\u0430\\u0434, 24 \\u0444\\u0435\\u0432\\u0440\\u0430\\u043b\\u044f 2022 \\u0433\\u043e\\u0434\\u0430, \\u043f\\u0440\\u0435\\u0437\\u0438\\u0434\\u0435\\u043d\\u0442 \\u0420\\u043e\\u0441\\u0441\\u0438\\u0438 \\u0412\\u043b\\u0430\\u0434\\u0438\\u043c\\u0438\\u0440 \\u041f\\u0443\\u0442\\u0438\\u043d \\u043e\\u0431\\u044a\\u044f\\u0432\\u0438\\u043b \\u043e \\u043d\\u0430\\u0447\\u0430\\u043b\\u0435 \\u0441\\u043f\\u0435\\u0446\\u0438\\u0430\\u043b\\u044c\\u043d\\u043e\\u0439 \\u0432\\u043e\\u0435\\u043d\\u043d\\u043e\\u0439 \\u043e\\u043f\\u0435\\u0440\\u0430\\u0446\\u0438\\u0438 (\\u0421\\u0412\\u041e) \\u043d\\u0430 \\u0423\\u043a\\u0440\\u0430\\u0438\\u043d\\u0435. \\u00ab\\u041b\\u0435\\u043d\\u0442\\u0430.\\u0440\\u0443\\u00bb \\u0440\\u0430\\u0441\\u0441\\u043a\\u0430\\u0437\\u044b\\u0432\\u0430\\u0435\\u0442, \\u0447\\u0442\\u043e \\u043f\\u0440\\u0435\\u0434\\u0448\\u0435\\u0441\\u0442\\u0432\\u043e\\u0432\\u0430\\u043b\\u043e \\u0441\\u0442\\u0430\\u0440\\u0442\\u0443 \\u0441\\u043f\\u0435\\u0446\\u043e\\u043f\\u0435\\u0440\\u0430\\u0446\\u0438\\u0438, \\u043a\\u0430\\u043a \\u043f\\u0440\\u043e\\u0448\\u043b\\u0438 \\u0435\\u0435 \\u043f\\u0435\\u0440\\u0432\\u044b\\u0435 \\u0434\\u043d\\u0438, \\u0430 \\u0442\\u0430\\u043a\\u0436\\u0435 \\u043f\\u0440\\u0438\\u0432\\u043e\\u0434\\u0438\\u0442 \\u043f\\u0440\\u043e\\u0433\\u043d\\u043e\\u0437\\u044b, \\u043a\\u043e\\u0433\\u0434\\u0430 \\u0438 \\u0447\\u0435\\u043c \\u0440\\u043e\\u0441\\u0441\\u0438\\u0439\\u0441\\u043a\\u043e-\\u0443\\u043a\\u0440\\u0430\\u0438\\u043d\\u0441\\u043a\\u0438\\u0439 \\u043a\\u043e\\u043d\\u0444\\u043b\\u0438\\u043a\\u0442 \\u043c\\u043e\\u0436\\u0435\\u0442 \\u0437\\u0430\\u0432\\u0435\\u0440\\u0448\\u0438\\u0442\\u044c\\u0441\\u044f.\\u041f\\u0440\\u0435\\u0434\\u044b\\u0441\\u0442\\u043e\\u0440\\u0438\\u044f \\u0421\\u0412\\u041e\\u041a\\u0430\\u043a \\u043d\\u0430\\u0447\\u0430\\u043b\\u0430\\u0441\\u044c \\u0441\\u043f\\u0435\\u0446\\u043e\\u043f\\u0435\\u0440\\u0430\\u0446\\u0438\\u044f \\u043d\\u0430 \\u0423\\u043a\\u0440\\u0430\\u0438\\u043d\\u0435\\u0426\\u0435\\u043b\\u0438 \\u0441\\u043f\\u0435\\u0446\\u043e\\u043f\\u0435\\u0440\\u0430\\u0446\\u0438\\u0438\\u041f\\u0435\\u0440\\u0432\\u044b\\u0439 \\u0434\\u0435\\u043d\\u044c \\u0441\\u043f\\u0435\\u0446\\u043e\\u043f\\u0435\\u0440\\u0430\\u0446\\u0438\\u0438 \\u043d\\u0430 \\u0423\\u043a\\u0440\\u0430\\u0438\\u043d\\u0435\\u0412\\u0442\\u043e\\u0440\\u043e\\u0439 \\u0434\\u0435\\u043d\\u044c \\u0441\\u043f\\u0435\\u0446\\u043e\\u043f\\u0435\\u0440\\u0430\\u0446\\u0438\\u0438 \\u043d\\u0430 \\u0423\\u043a\\u0440\\u0430\\u0438\\u043d\\u0435\\u0422\\u0440\\u0435\\u0442\\u0438\\u0439 \\u0434\\u0435\\u043d\\u044c \\u0441\\u043f\\u0435\\u0446\\u043e\\u043f\\u0435\\u0440\\u0430\\u0446\\u0438\\u0438 \\u043d\\u0430 \\u0423\\u043a\\u0440\\u0430\\u0438\\u043d\\u0435\\u041f\\u0440\\u0438\\u0447\\u0438\\u043d\\u044b \\u043d\\u0430\\u0447\\u0430\\u043b\\u0430 \\u0441\\u043f\\u0435\\u0446\\u043e\\u043f\\u0435\\u0440\\u0430\\u0446\\u0438\\u0438 \\u043d\\u0430 \\u0423\\u043a\\u0440\\u0430\\u0438\\u043d\\u0435\\u0418\\u0441\\u0442\\u043e\\u0440\\u0438\\u0447\\u0435\\u0441\\u043a\\u043e\\u0435 \\u0437\\u043d\\u0430\\u0447\\u0435\\u043d\\u0438\\u0435 \\u0441\\u043f\\u0435\\u0446\\u043e\\u043f\\u0435\\u0440\\u0430\\u0446\\u0438\\u0438 \\u043d\\u0430 \\u0423\\u043a\\u0440\\u0430\\u0438\\u043d\\u0435\\u0412\\u0430\\u0440\\u0438\\u0430\\u043d\\u0442\\u044b \\u0440\\u0430\\u0437\\u0432\\u0438\\u0442\\u0438\\u044f \\u0421\\u0412\\u041e\\u0427\\u0435\\u043c \\u043c\\u043e\\u0436\\u0435\\u0442 \\u0437\\u0430\\u0432\\u0435\\u0440\\u0448\\u0438\\u0442\\u044c\\u0441\\u044f \\u0421\\u0412\\u041e\\u041a\\u043e\\u0433\\u0434\\u0430 \\u043c\\u043e\\u0436\\u0435\\u0442 \\u0437\\u0430\\u0432\\u0435\\u0440\\u0448\\u0438\\u0442\\u044c\\u0441\\u044f \\u0421\\u0412\\u041e\\u041f\\u043e\\u0441\\u043b\\u0435\\u0434\\u0441\\u0442\\u0432\\u0438\\u044f \\u0421\\u0412\\u041e\\u041f\\u0440\\u0435\\u0434\\u044b\\u0441\\u0442\\u043e\\u0440\\u0438\\u044f \\u0421\\u0412\\u041e\\u041a\\u043e\\u043d\\u0444\\u043b\\u0438\\u043a\\u0442 \\u041a\\u0438\\u0435\\u0432\\u0430 \\u0438 \\u0414\\u043e\\u043d\\u0431\\u0430\\u0441\\u0441\\u0430\\u0412 \\u0430\\u043f\\u0440\\u0435\\u043b\\u0435 2014 \\u0433\\u043e\\u0434\\u0430 \\u0436\\u0438\\u0442\\u0435\\u043b\\u0438 \\u0442\\u043e\\u0433\\u0434\\u0430 \\u0435\\u0449\\u0435 \\u043e\\u0431\\u043b\\u0430\\u0441\\u0442\\u0435\\u0439 \\u0423\\u043a\\u0440\\u0430\\u0438\\u043d\\u044b \\u2014 \\u0414\\u043e\\u043d\\u0435\\u0446\\u043a\\u043e\\u0439 \\u0438 \\u041b\\u0443\\u0433\\u0430\\u043d\\u0441\\u043a\\u043e\\u0439 \\u2014 \\u0432\\u044b\\u0440\\u0430\\u0437\\u0438\\u043b\\u0438 \\u043d\\u0435\\u0441\\u043e\\u0433\\u043b\\u0430\\u0441\\u0438\\u0435 \\u0441 \\u043f\\u043e\\u043b\\u0438\\u0442\\u0438\\u043a\\u043e\\u0439 \\u043d\\u043e\\u0432\\u043e\\u0433\\u043e \\u0440\\u0443\\u043a\\u043e\\u0432\\u043e\\u0434\\u0441\\u0442\\u0432\\u0430 \\u0441\\u0442\\u0440\\u0430\\u043d\\u044b, \\u043f\\u043e\\u043b\\u0443\\u0447\\u0438\\u0432\\u0448\\u0435\\u0433\\u043e \\u0432\\u043b\\u0430\\u0441\\u0442\\u044c \\u043f\\u043e\\u0441\\u043b\\u0435 \\u0415\\u0432\\u0440\\u043e\\u043c\\u0430\\u0439\\u0434\\u0430\\u043d\\u0430, \\u043c\\u043d\\u043e\\u0433\\u043e\\u043c\\u0435\\u0441\\u044f\\u0447\\u043d\\u043e\\u0439 \\u0430\\u043a\\u0446\\u0438\\u0438 \\u043f\\u0440\\u043e\\u0442\\u0435\\u0441\\u0442\\u0430 \\u0432 \\u0441\\u0442\\u043e\\u043b\\u0438\\u0446\\u0435 \\u0438 \\u0440\\u0435\\u0433\\u0438\\u043e\\u043d\\u0430\\u0445 \\u0423\\u043a\\u0440\\u0430\\u0438\\u043d\\u044b, \\u0432 \\u0445\\u043e\\u0434\\u0435 \\u043a\\u043e\\u0442\\u043e\\u0440\\u043e\\u0439 \\u0431\\u044b\\u043b\\u043e \\u0443\\u0431\\u0438\\u0442\\u043e \\u0438 \\u0440\\u0430\\u043d\\u0435\\u043d\\u043e \\u043c\\u043d\\u043e\\u0436\\u0435\\u0441\\u0442\\u0432\\u043e \\u0447\\u0435\\u043b\\u043e\\u0432\\u0435\\u043a, \\u0430 \\u0442\\u0430\\u043a\\u0436\\u0435 \\u0441\\u0432\\u0435\\u0440\\u0433\\u043d\\u0443\\u0442\\u0430 \\u043b\\u0435\\u0433\\u0438\\u0442\\u0438\\u043c\\u043d\\u0430\\u044f \\u0432\\u043b\\u0430\\u0441\\u0442\\u044c \\u043f\\u0440\\u0435\\u0437\\u0438\\u0434\\u0435\\u043d\\u0442\\u0430 \\u0438 \\u043f\\u0440\\u0430\\u0432\\u0438\\u0442\\u0435\\u043b\\u044c\\u0441\\u0442\\u0432\\u0430. \\u041d\\u0430\\u0441\\u0435\\u043b\\u0435\\u043d\\u0438\\u0435 \\u0432\\u043e\\u0441\\u0442\\u043e\\u043a\\u0430 \\u0441\\u0442\\u0440\\u0430\\u043d\\u044b \\u0432\\u044b\\u0441\\u0442\\u0443\\u043f\\u0438\\u043b\\u043e \\u0437\\u0430 \\u0434\\u0435\\u0446\\u0435\\u043d\\u0442\\u0440\\u0430\\u043b\\u0438\\u0437\\u0430\\u0446\\u0438\\u044e \\u0432\\u043b\\u0430\\u0441\\u0442\\u0438 \\u0438 \\u0440\\u0435\\u0441\\u0443\\u0440\\u0441\\u043e\\u0432 \\u2014 \\u0442\\u043e \\u0435\\u0441\\u0442\\u044c \\u0447\\u0442\\u043e\\u0431\\u044b \\u0432\\u0441\\u044f \\u0432\\u043b\\u0430\\u0441\\u0442\\u044c \\u043d\\u0430\\u0434 \\u0440\\u0435\\u0433\\u0438\\u043e\\u043d\\u0430\\u043c\\u0438 \\u043d\\u0435 \\u043a\\u043e\\u043d\\u0446\\u0435\\u043d\\u0442\\u0440\\u0438\\u0440\\u043e\\u0432\\u0430\\u043b\\u0430\\u0441\\u044c \\u0432 \\u041a\\u0438\\u0435\\u0432\\u0435 \\u0438 \\u043d\\u0435 \\u0437\\u0430\\u0432\\u0438\\u0441\\u0435\\u043b\\u0430 \\u043e\\u0442 \\u0432\\u043d\\u0435\\u0448\\u043d\\u0438\\u0445 \\u0437\\u0430\\u043f\\u0430\\u0434\\u043d\\u044b\\u0445 \\u0441\\u0438\\u043b.\\u0424\\u043e\\u0442\\u043e: \\u041c\\u0438\\u043d\\u0438\\u0441\\u0442\\u0435\\u0440\\u0441\\u0442\\u0432\\u043e \\u043e\\u0431\\u043e\\u0440\\u043e\\u043d\\u044b \\u0420\\u0424 / \\u0420\\u0418\\u0410 \\u041d\\u043e\\u0432\\u043e\\u0441\\u0442\\u0438\\u0416\\u0438\\u0442\\u0435\\u043b\\u0438 \\u0414\\u043e\\u043d\\u0431\\u0430\\u0441\\u0441\\u0430 \\u0437\\u0430\\u0431\\u043b\\u043e\\u043a\\u0438\\u0440\\u043e\\u0432\\u0430\\u043b\\u0438 \\u043d\\u0435\\u0441\\u043a\\u043e\\u043b\\u044c\\u043a\\u043e \\u0430\\u0434\\u043c\\u0438\\u043d\\u0438\\u0441\\u0442\\u0440\\u0430\\u0442\\u0438\\u0432\\u043d\\u044b\\u0445 \\u0437\\u0434\\u0430\\u043d\\u0438\\u0439 \\u0438 \\u043f\\u043e\\u0442\\u0440\\u0435\\u0431\\u043e\\u0432\\u0430\\u043b\\u0438 \\u0440\\u0435\\u0448\\u0438\\u0442\\u044c \\u0432\\u043e\\u043f\\u0440\\u043e\\u0441 \\u043e \\u0441\\u0442\\u0430\\u0442\\u0443\\u0441\\u0435 \\u0440\\u0443\\u0441\\u0441\\u043a\\u043e\\u0433\\u043e \\u044f\\u0437\\u044b\\u043a\\u0430 \\u043d\\u0430 \\u0423\\u043a\\u0440\\u0430\\u0438\\u043d\\u0435 \\u0438 \\u043f\\u0440\\u043e\\u0432\\u0435\\u0441\\u0442\\u0438 \\u0440\\u0435\\u0444\\u043e\\u0440\\u043c\\u0443 \\u0434\\u0435\\u0446\\u0435\\u043d\\u0442\\u0440\\u0430\\u043b\\u0438\\u0437\\u0430\\u0446\\u0438\\u0438 \\u0440\\u0435\\u0433\\u0438\\u043e\\u043d\\u043e\\u0432. \\u0412 \\u043e\\u0442\\u0432\\u0435\\u0442 \\u0438\\u0441\\u043f\\u043e\\u043b\\u043d\\u044f\\u044e\\u0449\\u0438\\u0439 \\u043e\\u0431\\u044f\\u0437\\u0430\\u043d\\u043d\\u043e\\u0441\\u0442\\u0438 \\u043f\\u0440\\u0435\\u0437\\u0438\\u0434\\u0435\\u043d\\u0442\\u0430 \\u0423\\u043a\\u0440\\u0430\\u0438\\u043d\\u044b \\u0410\\u043b\\u0435\\u043a\\u0441\\u0430\\u043d\\u0434\\u0440 \\u0422\\u0443\\u0440\\u0447\\u0438\\u043d\\u043e\\u0432 \\u0444\\u0430\\u043a\\u0442\\u0438\\u0447\\u0435\\u0441\\u043a\\u0438 \\u043d\\u0430\\u0437\\u0432\\u0430\\u043b \\u0431\\u0443\\u043d\\u0442\\u043e\\u0432\\u0449\\u0438\\u043a\\u043e\\u0432 \\u0442\\u0435\\u0440\\u0440\\u043e\\u0440\\u0438\\u0441\\u0442\\u0430\\u043c\\u0438 \\u0438 \\u043f\\u043e\\u043e\\u0431\\u0435\\u0449\\u0430\\u043b \\u043f\\u0440\\u0438\\u043d\\u044f\\u0442\\u044c \\u043f\\u0440\\u043e\\u0442\\u0438\\u0432 \\u043d\\u0438\\u0445 \\u043c\\u0435\\u0440\\u044b.15 \\u0430\\u043f\\u0440\\u0435\\u043b\\u044f 2014 \\u0433\\u043e\\u0434\\u0430 \\u0422\\u0443\\u0440\\u0447\\u0438\\u043d\\u043e\\u0432 \\u043e\\u0431\\u044a\\u044f\\u0432\\u0438\\u043b \\u043e \\u043d\\u0430\\u0447\\u0430\\u043b\\u0435 \\u0441\\u0438\\u043b\\u043e\\u0432\\u043e\\u0439 \\u043e\\u043f\\u0435\\u0440\\u0430\\u0446\\u0438\\u0438 \\u043d\\u0430 \\u044e\\u0433\\u043e-\\u0432\\u043e\\u0441\\u0442\\u043e\\u043a\\u0435 \\u0423\\u043a\\u0440\\u0430\\u0438\\u043d\\u044b\\u041e\\u0434\\u043d\\u0430\\u043a\\u043e 11 \\u043c\\u0430\\u044f 2014 \\u0433\\u043e\\u0434\\u0430, \\u043d\\u0435\\u0441\\u043c\\u043e\\u0442\\u0440\\u044f \\u043d\\u0430 \\u0434\\u0430\\u0432\\u043b\\u0435\\u043d\\u0438\\u0435 \\u0441\\u043e \\u0441\\u0442\\u043e\\u0440\\u043e\\u043d\\u044b \\u0432\\u043b\\u0430\\u0441\\u0442\\u0435\\u0439 \\u0423\\u043a\\u0440\\u0430\\u0438\\u043d\\u044b, \\u041b\\u0443\\u0433\\u0430\\u043d\\u0441\\u043a\\u0430\\u044f \\u0438 \\u0414\\u043e\\u043d\\u0435\\u0446\\u043a\\u0430\\u044f \\u043e\\u0431\\u043b\\u0430\\u0441\\u0442\\u0438 \\u043d\\u0430 \\u0440\\u0435\\u0444\\u0435\\u0440\\u0435\\u043d\\u0434\\u0443\\u043c\\u0435 \\u043f\\u0440\\u043e\\u0433\\u043e\\u043b\\u043e\\u0441\\u043e\\u0432\\u0430\\u043b\\u0438 \\u0437\\u0430 \\u0441\\u0430\\u043c\\u043e\\u043e\\u043f\\u0440\\u0435\\u0434\\u0435\\u043b\\u0435\\u043d\\u0438\\u0435 \\u0438 \\u0441\\u0442\\u0430\\u043b\\u0438 \\u043d\\u0430\\u0437\\u044b\\u0432\\u0430\\u0442\\u044c \\u0441\\u0435\\u0431\\u044f \\u041b\\u0443\\u0433\\u0430\\u043d\\u0441\\u043a\\u043e\\u0439 \\u0438 \\u0414\\u043e\\u043d\\u0435\\u0446\\u043a\\u043e\\u0439 \\u043d\\u0430\\u0440\\u043e\\u0434\\u043d\\u044b\\u043c\\u0438 \\u0440\\u0435\\u0441\\u043f\\u0443\\u0431\\u043b\\u0438\\u043a\\u0430\\u043c\\u0438.\\u0412 \\u0438\\u0442\\u043e\\u0433\\u0435 \\u0441\\u0438\\u043b\\u043e\\u0432\\u0430\\u044f \\u043e\\u043f\\u0435\\u0440\\u0430\\u0446\\u0438\\u044f \\u0423\\u043a\\u0440\\u0430\\u0438\\u043d\\u044b \\u043f\\u0440\\u043e\\u0434\\u043e\\u043b\\u0436\\u0430\\u043b\\u0430\\u0441\\u044c \\u043d\\u0430 \\u043f\\u0440\\u043e\\u0442\\u044f\\u0436\\u0435\\u043d\\u0438\\u0438 \\u0432\\u043e\\u0441\\u044c\\u043c\\u0438 \\u043b\\u0435\\u0442. \\u041c\\u043d\\u043e\\u0433\\u043e \\u0440\\u0430\\u0437 \\u0441\\u0442\\u043e\\u0440\\u043e\\u043d\\u044b \\u043f\\u044b\\u0442\\u0430\\u043b\\u0438\\u0441\\u044c \\u0434\\u043e\\u0433\\u043e\\u0432\\u043e\\u0440\\u0438\\u0442\\u044c\\u0441\\u044f \\u0445\\u043e\\u0442\\u044f \\u0431\\u044b \\u043e \\u0440\\u0435\\u0436\\u0438\\u043c\\u0435 \\u0442\\u0438\\u0448\\u0438\\u043d\\u044b, \\u043d\\u043e \\u0423\\u043a\\u0440\\u0430\\u0438\\u043d\\u0430 \\u043a\\u0430\\u0436\\u0434\\u044b\\u0439 \\u0440\\u0430\\u0437 \\u0435\\u0433\\u043e \\u043d\\u0430\\u0440\\u0443\\u0448\\u0430\\u043b\\u0430.\\u0424\\u043e\\u0442\\u043e: \\u0414\\u0436\\u0430\\u0432\\u0430\\u0445\\u0430\\u0434\\u0437\\u0435 \\u0417\\u0443\\u0440\\u0430\\u0431 / \\u0422\\u0410\\u0421\\u0421\\u0414\\u043e\\u0433\\u043e\\u0432\\u043e\\u0440 \\u043e \\u0433\\u0430\\u0440\\u0430\\u043d\\u0442\\u0438\\u044f\\u0445 \\u0431\\u0435\\u0437\\u043e\\u043f\\u0430\\u0441\\u043d\\u043e\\u0441\\u0442\\u0438 \\u043c\\u0435\\u0436\\u0434\\u0443 \\u0421\\u0428\\u0410 \\u0438 \\u0420\\u043e\\u0441\\u0441\\u0438\\u0435\\u0439\\u0414\\u043e \\u043d\\u0430\\u0447\\u0430\\u043b\\u0430 \\u0441\\u043f\\u0435\\u0446\\u043e\\u043f\\u0435\\u0440\\u0430\\u0446\\u0438\\u0438 \\u043d\\u0430 \\u0423\\u043a\\u0440\\u0430\\u0438\\u043d\\u0435 \\u0420\\u043e\\u0441\\u0441\\u0438\\u044f \\u043f\\u0440\\u0435\\u0434\\u043b\\u043e\\u0436\\u0438\\u043b\\u0430 \\u0421\\u0428\\u0410 \\u0438 \\u0441\\u0442\\u0440\\u0430\\u043d\\u0430\\u043c-\\u0447\\u043b\\u0435\\u043d\\u0430\\u043c \\u041d\\u0410\\u0422\\u041e \\u0437\\u0430\\u043a\\u043b\\u044e\\u0447\\u0438\\u0442\\u044c \\u0434\\u043e\\u0433\\u043e\\u0432\\u043e\\u0440 \\u043e \\u0433\\u0430\\u0440\\u0430\\u043d\\u0442\\u0438\\u044f\\u0445 \\u0431\\u0435\\u0437\\u043e\\u043f\\u0430\\u0441\\u043d\\u043e\\u0441\\u0442\\u0438. \\u041e \\u043d\\u0435\\u043e\\u0431\\u0445\\u043e\\u0434\\u0438\\u043c\\u043e\\u0441\\u0442\\u0438 \\u0441\\u043e\\u0441\\u0442\\u0430\\u0432\\u043b\\u0435\\u043d\\u0438\\u044f \\u0442\\u0430\\u043a\\u043e\\u0433\\u043e \\u0434\\u043e\\u043a\\u0443\\u043c\\u0435\\u043d\\u0442\\u0430 \\u043f\\u0440\\u0435\\u0437\\u0438\\u0434\\u0435\\u043d\\u0442 \\u0412\\u043b\\u0430\\u0434\\u0438\\u043c\\u0438\\u0440 \\u041f\\u0443\\u0442\\u0438\\u043d \\u0437\\u0430\\u044f\\u0432\\u0438\\u043b 18 \\u043d\\u043e\\u044f\\u0431\\u0440\\u044f 2021 \\u0433\\u043e\\u0434\\u0430 \\u043d\\u0430 \\u0437\\u0430\\u0441\\u0435\\u0434\\u0430\\u043d\\u0438\\u0438 \\u043a\\u043e\\u043b\\u043b\\u0435\\u0433\\u0438\\u0438 \\u041c\\u0418\\u0414.\\u041e\\u043d \\u043f\\u043e\\u0434\\u0447\\u0435\\u0440\\u043a\\u043d\\u0443\\u043b, \\u0447\\u0442\\u043e \\u0434\\u043b\\u044f \\u0441\\u0442\\u0440\\u0430\\u043d\\u044b \\u0432\\u0430\\u0436\\u043d\\u043e \\u0434\\u043e\\u0431\\u0438\\u0442\\u044c\\u0441\\u044f \\u0434\\u043e\\u043a\\u0443\\u043c\\u0435\\u043d\\u0442\\u0430\\u043b\\u044c\\u043d\\u043e \\u0437\\u0430\\u043a\\u0440\\u0435\\u043f\\u043b\\u0435\\u043d\\u043d\\u044b\\u0445 \\u0433\\u0430\\u0440\\u0430\\u043d\\u0442\\u0438\\u0439 \\u043f\\u043e \\u043e\\u0431\\u0435\\u0441\\u043f\\u0435\\u0447\\u0435\\u043d\\u0438\\u044e \\u0431\\u0435\\u0437\\u043e\\u043f\\u0430\\u0441\\u043d\\u043e\\u0441\\u0442\\u0438, \\u0447\\u0442\\u043e\\u0431\\u044b \\u043d\\u0435 \\u0434\\u0443\\u043c\\u0430\\u0442\\u044c, \\u00ab\\u0447\\u0442\\u043e \\u0442\\u0430\\u043c \\u0437\\u0430\\u0432\\u0442\\u0440\\u0430 \\u043c\\u043e\\u0436\\u0435\\u0442 \\u043f\\u0440\\u043e\\u0438\\u0437\\u043e\\u0439\\u0442\\u0438\\u00bb.\\u041f\\u0440\\u043e\\u0435\\u043a\\u0442 \\u0434\\u043e\\u043a\\u0443\\u043c\\u0435\\u043d\\u0442\\u0430 \\u0420\\u043e\\u0441\\u0441\\u0438\\u044f \\u043f\\u0440\\u0435\\u0434\\u0441\\u0442\\u0430\\u0432\\u0438\\u043b\\u0430 \\u0441\\u0442\\u043e\\u0440\\u043e\\u043d\\u0430\\u043c 17 \\u0434\\u0435\\u043a\\u0430\\u0431\\u0440\\u044f 2021 \\u0433\\u043e\\u0434\\u0430. \\u0412 \\u043d\\u0435\\u043c \\u0441\\u043e\\u0434\\u0435\\u0440\\u0436\\u0430\\u043b\\u0438\\u0441\\u044c \\u0442\\u0440\\u0435\\u0431\\u043e\\u0432\\u0430\\u043d\\u0438\\u044f \\u043e\\u0442\\u0434\\u0435\\u043b\\u044c\\u043d\\u043e \\u0434\\u043b\\u044f \\u0421\\u0428\\u0410 \\u0438 \\u0441\\u0442\\u0440\\u0430\\u043d \\u0410\\u043b\\u044c\\u044f\\u043d\\u0441\\u0430\\u0422\\u0440\\u0435\\u0431\\u043e\\u0432\\u0430\\u043d\\u0438\\u044f \\u0420\\u043e\\u0441\\u0441\\u0438\\u0438 \\u043a \\u041d\\u0410\\u0422\\u041e\\n\\u0410\\u043b\\u044c\\u044f\\u043d\\u0441 \\u0434\\u043e\\u043b\\u0436\\u0435\\u043d \\u0431\\u044b\\u043b \\u043e\\u0442\\u043e\\u0434\\u0432\\u0438\\u043d\\u0443\\u0442\\u044c \\u0441\\u0432\\u043e\\u0438 \\u0433\\u0440\\u0430\\u043d\\u0438\\u0446\\u044b \\u043d\\u0430 \\u0432\\u043e\\u0441\\u0442\\u043e\\u043a\\u0435 \\u0434\\u043e \\u0437\\u043d\\u0430\\u0447\\u0435\\u043d\\u0438\\u0439 27 \\u043c\\u0430\\u044f 1997 \\u0433\\u043e\\u0434\\u0430. \\u042d\\u0442\\u043e \\u043e\\u0437\\u043d\\u0430\\u0447\\u0430\\u0435\\u0442, \\u0447\\u0442\\u043e \\u041d\\u0410\\u0422\\u041e \\u043d\\u0435 \\u0434\\u043e\\u043b\\u0436\\u043d\\u0430 \\u0440\\u0430\\u0441\\u043f\\u0440\\u043e\\u0441\\u0442\\u0440\\u0430\\u043d\\u044f\\u0442\\u044c\\u0441\\u044f \\u043d\\u0430 \\u043d\\u043e\\u0432\\u044b\\u0435 \\u0442\\u0435\\u0440\\u0440\\u0438\\u0442\\u043e\\u0440\\u0438\\u0438 \\u2014 \\u041c\\u043e\\u043b\\u0434\\u0430\\u0432\\u0438\\u044e, \\u0423\\u043a\\u0440\\u0430\\u0438\\u043d\\u0443 \\u0438 \\u0413\\u0440\\u0443\\u0437\\u0438\\u044e \\u2014 \\u0438 \\u043e\\u0442\\u043f\\u0443\\u0441\\u0442\\u0438\\u0442\\u044c \\u041b\\u0430\\u0442\\u0432\\u0438\\u044e, \\u041b\\u0438\\u0442\\u0432\\u0443 \\u0438 \\u042d\\u0441\\u0442\\u043e\\u043d\\u0438\\u044e.\\n\\u0421\\u0442\\u0440\\u0430\\u043d\\u044b-\\u0447\\u043b\\u0435\\u043d\\u044b \\u041d\\u0410\\u0422\\u041e \\u043e\\u0431\\u044f\\u0437\\u0430\\u043d\\u044b \\u043f\\u0440\\u0435\\u043a\\u0440\\u0430\\u0442\\u0438\\u0442\\u044c \\u043b\\u044e\\u0431\\u0443\\u044e \\u0432\\u043e\\u0435\\u043d\\u043d\\u0443\\u044e \\u0434\\u0435\\u044f\\u0442\\u0435\\u043b\\u044c\\u043d\\u043e\\u0441\\u0442\\u044c \\u043d\\u0430 \\u0442\\u0435\\u0440\\u0440\\u0438\\u0442\\u043e\\u0440\\u0438\\u0438 \\u0423\\u043a\\u0440\\u0430\\u0438\\u043d\\u044b \\u0438 \\u0434\\u0440\\u0443\\u0433\\u0438\\u0445 \\u0433\\u043e\\u0441\\u0443\\u0434\\u0430\\u0440\\u0441\\u0442\\u0432 \\u0432\\u043e\\u0441\\u0442\\u043e\\u0447\\u043d\\u043e\\u0439 \\u0415\\u0432\\u0440\\u043e\\u043f\\u044b.\\n\\u041d\\u0410\\u0422\\u041e \\u0434\\u043e\\u043b\\u0436\\u043d\\u0430 \\u0432\\u0437\\u044f\\u0442\\u044c \\u043e\\u0431\\u044f\\u0437\\u0430\\u0442\\u0435\\u043b\\u044c\\u0441\\u0442\\u0432\\u0430 \\u043f\\u043e \\u043d\\u0435\\u0440\\u0430\\u0437\\u0432\\u0435\\u0440\\u0442\\u044b\\u0432\\u0430\\u043d\\u0438\\u044e \\u0440\\u0430\\u043a\\u0435\\u0442 \\u043c\\u0435\\u043d\\u044c\\u0448\\u0435\\u0439 \\u0438 \\u0441\\u0440\\u0435\\u0434\\u043d\\u0435\\u0439 \\u0434\\u0430\\u043b\\u044c\\u043d\\u043e\\u0441\\u0442\\u0438 \\u0432 \\u043e\\u0431\\u043b\\u0430\\u0441\\u0442\\u044f\\u0445, \\u0438\\u0437 \\u043a\\u043e\\u0442\\u043e\\u0440\\u044b\\u0445 \\u043c\\u043e\\u0436\\u043d\\u043e \\u0443\\u0434\\u0430\\u0440\\u0438\\u0442\\u044c \\u043f\\u043e \\u0446\\u0435\\u043b\\u044f\\u043c \\u043d\\u0430 \\u0442\\u0435\\u0440\\u0440\\u0438\\u0442\\u043e\\u0440\\u0438\\u044f\\u0445 \\u0434\\u0440\\u0443\\u0433\\u0438\\u0445 \\u0441\\u0442\\u0440\\u0430\\u043d, \\u0432 \\u0447\\u0430\\u0441\\u0442\\u043d\\u043e\\u0441\\u0442\\u0438, \\u043f\\u043e \\u0420\\u043e\\u0441\\u0441\\u0438\\u0438.\\n\\u0424\\u043e\\u0442\\u043e: Alexander Ermochenko / Reuters\\u0422\\u0440\\u0435\\u0431\\u043e\\u0432\\u0430\\u043d\\u0438\\u044f \\u0420\\u043e\\u0441\\u0441\\u0438\\u0438 \\u043a \\u0421\\u0428\\u0410\\n\\u0420\\u043e\\u0441\\u0441\\u0438\\u044f \\u043f\\u0440\\u0435\\u0434\\u043b\\u043e\\u0436\\u0438\\u043b\\u0430 \\u0428\\u0442\\u0430\\u0442\\u0430\\u043c \\u0441\\u043e\\u0442\\u0440\\u0443\\u0434\\u043d\\u0438\\u0447\\u0435\\u0441\\u0442\\u0432\\u043e, \\u043e\\u0441\\u043d\\u043e\\u0432\\u0430\\u043d\\u043d\\u043e\\u0435 \\u043d\\u0430 \\u043f\\u0440\\u0438\\u043d\\u0446\\u0438\\u043f\\u0435 \\u0440\\u0430\\u0432\\u043d\\u043e\\u0439 \\u0438 \\u043d\\u0435\\u0434\\u0435\\u043b\\u0438\\u043c\\u043e\\u0439 \\u0431\\u0435\\u0437\\u043e\\u043f\\u0430\\u0441\\u043d\\u043e\\u0441\\u0442\\u0438 \\u0434\\u043b\\u044f \\u043e\\u0431\\u0435\\u0438\\u0445 \\u0441\\u0442\\u043e\\u0440\\u043e\\u043d. \\u041c\\u043e\\u0441\\u043a\\u0432\\u0430 \\u043d\\u0430\\u0441\\u0442\\u0430\\u0438\\u0432\\u0430\\u043b\\u0430 \\u043d\\u0430 \\u0442\\u043e\\u043c, \\u0447\\u0442\\u043e \\u0438 \\u043e\\u043d\\u0430, \\u0438 \\u0412\\u0430\\u0448\\u0438\\u043d\\u0433\\u0442\\u043e\\u043d \\u043e\\u0431\\u044f\\u0437\\u0430\\u043d\\u044b \\u043d\\u0435 \\u043f\\u0440\\u043e\\u0432\\u043e\\u0434\\u0438\\u0442\\u044c \\u043d\\u0438\\u043a\\u0430\\u043a\\u0438\\u0445 \\u043c\\u0435\\u0440\\u043e\\u043f\\u0440\\u0438\\u044f\\u0442\\u0438\\u0439, \\u043a\\u043e\\u0442\\u043e\\u0440\\u044b\\u0435 \\u043c\\u043e\\u0433\\u0443\\u0442 \\u0437\\u0430\\u0442\\u0440\\u043e\\u043d\\u0443\\u0442\\u044c \\u0431\\u0435\\u0437\\u043e\\u043f\\u0430\\u0441\\u043d\\u043e\\u0441\\u0442\\u044c \\u0434\\u0440\\u0443\\u0433 \\u0434\\u0440\\u0443\\u0433\\u0430.\\n\\u0420\\u043e\\u0441\\u0441\\u0438\\u044f \\u043f\\u0440\\u0435\\u0434\\u043b\\u043e\\u0436\\u0438\\u043b\\u0430 \\u043d\\u0435 \\u0438\\u0441\\u043f\\u043e\\u043b\\u044c\\u0437\\u043e\\u0432\\u0430\\u0442\\u044c \\u0442\\u0440\\u0435\\u0442\\u044c\\u0438 \\u0441\\u0442\\u0440\\u0430\\u043d\\u044b \\u0434\\u043b\\u044f \\u043e\\u0440\\u0433\\u0430\\u043d\\u0438\\u0437\\u0430\\u0446\\u0438\\u0438 \\u043d\\u0430\\u043f\\u0430\\u0434\\u0435\\u043d\\u0438\\u044f \\u0434\\u0440\\u0443\\u0433 \\u043d\\u0430 \\u0434\\u0440\\u0443\\u0433\\u0430, \\u0430 \\u0442\\u0430\\u043a\\u0436\\u0435 \\u043e\\u0431\\u044f\\u0437\\u0430\\u043b\\u0430\\u0441\\u044c \\u0441\\u0430\\u043c\\u0430 \\u044d\\u0442\\u043e\\u0433\\u043e \\u043d\\u0435 \\u0434\\u0435\\u043b\\u0430\\u0442\\u044c.\\n\\u0420\\u043e\\u0441\\u0441\\u0438\\u044f \\u043f\\u0440\\u0438\\u0437\\u0432\\u0430\\u043b\\u0430 \\u0421\\u043e\\u0435\\u0434\\u0438\\u043d\\u0435\\u043d\\u043d\\u044b\\u0435 \\u0428\\u0442\\u0430\\u0442\\u044b \\u043d\\u0435 \\u0440\\u0430\\u0437\\u0432\\u043e\\u0440\\u0430\\u0447\\u0438\\u0432\\u0430\\u0442\\u044c \\u0432\\u043e\\u0435\\u043d\\u043d\\u044b\\u0435 \\u0431\\u0430\\u0437\\u044b \\u043d\\u0430 \\u0442\\u0435\\u0440\\u0440\\u0438\\u0442\\u043e\\u0440\\u0438\\u0438 \\u0441\\u0442\\u0440\\u0430\\u043d \\u0431\\u044b\\u0432\\u0448\\u0435\\u0433\\u043e \\u0421\\u0421\\u0421\\u0420, \\u043a\\u043e\\u0442\\u043e\\u0440\\u044b\\u0435 \\u043d\\u0435 \\u0432\\u0445\\u043e\\u0434\\u044f\\u0442 \\u0432 \\u041d\\u0410\\u0422\\u041e, \\u0430 \\u0442\\u0430\\u043a\\u0436\\u0435 \\u043d\\u0435 \\u0438\\u0441\\u043f\\u043e\\u043b\\u044c\\u0437\\u043e\\u0432\\u0430\\u0442\\u044c \\u0438\\u0445 \\u0432\\u043e\\u0435\\u043d\\u043d\\u0443\\u044e \\u043c\\u043e\\u0449\\u044c.\\n\\u0420\\u043e\\u0441\\u0441\\u0438\\u044f \\u043f\\u0440\\u0438\\u0437\\u0432\\u0430\\u043b\\u0430 \\u0421\\u0428\\u0410 \\u043f\\u0440\\u0435\\u043a\\u0440\\u0430\\u0442\\u0438\\u0442\\u044c \\u0440\\u0430\\u0441\\u0448\\u0438\\u0440\\u0435\\u043d\\u0438\\u0435 \\u0410\\u043b\\u044c\\u044f\\u043d\\u0441\\u0430 \\u043d\\u0430 \\u0432\\u043e\\u0441\\u0442\\u043e\\u043a.\\n\\u0420\\u043e\\u0441\\u0441\\u0438\\u044f \\u043f\\u0440\\u0435\\u0434\\u043b\\u043e\\u0436\\u0438\\u043b\\u0430 \\u043e\\u0442\\u043a\\u0430\\u0437\\u0430\\u0442\\u044c\\u0441\\u044f \\u043e\\u0442 \\u0440\\u0430\\u0437\\u043c\\u0435\\u0449\\u0435\\u043d\\u0438\\u044f \\u043e\\u0440\\u0443\\u0436\\u0438\\u044f, \\u043f\\u043e\\u043b\\u0435\\u0442\\u043e\\u0432 \\u0442\\u044f\\u0436\\u0435\\u043b\\u044b\\u0445 \\u0431\\u043e\\u043c\\u0431\\u0430\\u0440\\u0434\\u0438\\u0440\\u043e\\u0432\\u0449\\u0438\\u043a\\u043e\\u0432 \\u0438 \\u043f\\u0440\\u043e\\u0445\\u043e\\u0434\\u0430 \\u0431\\u043e\\u0435\\u0432\\u044b\\u0445 \\u043a\\u043e\\u0440\\u0430\\u0431\\u043b\\u0435\\u0439 \\u0432 \\u0442\\u0435\\u0445 \\u043e\\u0431\\u043b\\u0430\\u0441\\u0442\\u044f\\u0445, \\u0433\\u0434\\u0435 \\u041c\\u043e\\u0441\\u043a\\u0432\\u0430 \\u0438\\u043b\\u0438 \\u0412\\u0430\\u0448\\u0438\\u043d\\u0433\\u0442\\u043e\\u043d \\u043f\\u043e\\u0441\\u0447\\u0438\\u0442\\u0430\\u043b\\u0438 \\u0431\\u044b \\u044d\\u0442\\u043e \\u0443\\u0433\\u0440\\u043e\\u0437\\u043e\\u0439 \\u0441\\u043e\\u0431\\u0441\\u0442\\u0432\\u0435\\u043d\\u043d\\u043e\\u0439 \\u0431\\u0435\\u0437\\u043e\\u043f\\u0430\\u0441\\u043d\\u043e\\u0441\\u0442\\u0438.\\n\\u0420\\u043e\\u0441\\u0441\\u0438\\u044f \\u043f\\u0440\\u0438\\u0437\\u0432\\u0430\\u043b\\u0430 \\u0421\\u0428\\u0410 \\u043e\\u0442\\u043a\\u0430\\u0437\\u0430\\u0442\\u044c\\u0441\\u044f \\u043e\\u0442 \\u0440\\u0430\\u0437\\u0432\\u0435\\u0440\\u0442\\u044b\\u0432\\u0430\\u043d\\u0438\\u044f \\u044f\\u0434\\u0435\\u0440\\u043d\\u043e\\u0433\\u043e \\u043e\\u0440\\u0443\\u0436\\u0438\\u044f \\u0438 \\u0440\\u0430\\u043a\\u0435\\u0442 \\u043c\\u0435\\u043d\\u044c\\u0448\\u0435\\u0439 \\u0438 \\u0441\\u0440\\u0435\\u0434\\u043d\\u0435\\u0439 \\u0434\\u0430\\u043b\\u044c\\u043d\\u043e\\u0441\\u0442\\u0438 \\u0432\\u043d\\u0435 \\u0441\\u043e\\u0431\\u0441\\u0442\\u0432\\u0435\\u043d\\u043d\\u043e\\u0439 \\u0442\\u0435\\u0440\\u0440\\u0438\\u0442\\u043e\\u0440\\u0438\\u0438.\\n\\u0421\\u0442\\u043e\\u0440\\u043e\\u043d\\u044b \\u043e\\u0442\\u0432\\u0435\\u0440\\u0433\\u043b\\u0438 \\u043f\\u043e\\u0447\\u0442\\u0438 \\u0432\\u0441\\u0435 \\u043f\\u0440\\u0435\\u0434\\u043b\\u043e\\u0436\\u0435\\u043d\\u043d\\u044b\\u0435 \\u0420\\u043e\\u0441\\u0441\\u0438\\u0435\\u0439 \\u043f\\u0443\\u043d\\u043a\\u0442\\u044b \\u043f\\u0440\\u043e\\u0435\\u043a\\u0442\\u0430 \\u0434\\u043e\\u0433\\u043e\\u0432\\u043e\\u0440\\u0430, \\u043e\\u0441\\u043e\\u0431\\u0435\\u043d\\u043d\\u043e \\u0432\\u043e\\u0437\\u043c\\u0443\\u0442\\u0438\\u0432\\u0448\\u0438\\u0441\\u044c \\u0442\\u0440\\u0435\\u0431\\u043e\\u0432\\u0430\\u043d\\u0438\\u0435\\u043c \\u043d\\u0435 \\u0440\\u0430\\u0441\\u0448\\u0438\\u0440\\u044f\\u0442\\u044c \\u041d\\u0410\\u0422\\u041e \\u043d\\u0430 \\u0432\\u043e\\u0441\\u0442\\u043e\\u043a. \\u0412 \\u041c\\u0418\\u0414 \\u0420\\u043e\\u0441\\u0441\\u0438\\u0438 \\u044d\\u0442\\u0438 \\u0434\\u0435\\u0439\\u0441\\u0442\\u0432\\u0438\\u044f \\u043d\\u0430\\u0437\\u0432\\u0430\\u043b\\u0438 \\u043f\\u043e\\u0434\\u043e\\u0437\\u0440\\u0438\\u0442\\u0435\\u043b\\u044c\\u043d\\u044b\\u043c\\u0438 \\u0438 \\u043f\\u0440\\u043e\\u0432\\u043e\\u0446\\u0438\\u0440\\u0443\\u044e\\u0449\\u0438\\u043c\\u0438 \\u043e\\u043f\\u0430\\u0441\\u043d\\u043e\\u0441\\u0442\\u044c \\u0434\\u043b\\u044f \\u0441\\u0442\\u0440\\u0430\\u043d\\u044b \\u0438 \\u043f\\u043e\\u043e\\u0431\\u0435\\u0449\\u0430\\u043b\\u0438 \\u0432\\u043e\\u0435\\u043d\\u043d\\u043e-\\u0442\\u0435\\u0445\\u043d\\u0438\\u0447\\u0435\\u0441\\u043a\\u0438\\u0439 \\u043e\\u0442\\u0432\\u0435\\u0442 \\u0432 \\u0441\\u043b\\u0443\\u0447\\u0430\\u0435 \\u0443\\u0433\\u0440\\u043e\\u0437.\\u0424\\u043e\\u0442\\u043e: \\u041c\\u0438\\u0445\\u0430\\u0438\\u043b \\u0412\\u043e\\u0441\\u043a\\u0440\\u0435\\u0441\\u0435\\u043d\\u0441\\u043a\\u0438\\u0439 / \\u0420\\u0418\\u0410 \\u041d\\u043e\\u0432\\u043e\\u0441\\u0442\\u0438\\u041f\\u0440\\u043e\\u0432\\u043e\\u0437\\u0433\\u043b\\u0430\\u0448\\u0435\\u043d\\u0438\\u0435 \\u043d\\u0435\\u0437\\u0430\\u0432\\u0438\\u0441\\u0438\\u043c\\u043e\\u0441\\u0442\\u0438 \\u0414\\u041d\\u0420 \\u0438 \\u041b\\u041d\\u0420\\u0417\\u0430 \\u0442\\u0440\\u0438 \\u0434\\u043d\\u044f \\u0434\\u043e \\u043d\\u0430\\u0447\\u0430\\u043b\\u0430 \\u0421\\u0412\\u041e, 21 \\u0444\\u0435\\u0432\\u0440\\u0430\\u043b\\u044f 2022 \\u0433\\u043e\\u0434\\u0430, \\u0412\\u043b\\u0430\\u0434\\u0438\\u043c\\u0438\\u0440 \\u041f\\u0443\\u0442\\u0438\\u043d \\u0437\\u0430\\u044f\\u0432\\u0438\\u043b, \\u0447\\u0442\\u043e \\u0420\\u043e\\u0441\\u0441\\u0438\\u044f \\u043f\\u0440\\u0438\\u0437\\u043d\\u0430\\u043b\\u0430 \\u043d\\u0435\\u0437\\u0430\\u0432\\u0438\\u0441\\u0438\\u043c\\u043e\\u0441\\u0442\\u044c \\u0414\\u043e\\u043d\\u0435\\u0446\\u043a\\u043e\\u0439 \\u0438 \\u041b\\u0443\\u0433\\u0430\\u043d\\u0441\\u043a\\u043e\\u0439 \\u043d\\u0430\\u0440\\u043e\\u0434\\u043d\\u044b\\u0445 \\u0440\\u0435\\u0441\\u043f\\u0443\\u0431\\u043b\\u0438\\u043a (\\u0414\\u041d\\u0420 \\u0438 \\u041b\\u041d\\u0420). \\u041d\\u0430 \\u0441\\u043b\\u0435\\u0434\\u0443\\u044e\\u0449\\u0438\\u0439 \\u0434\\u0435\\u043d\\u044c \\u0421\\u043e\\u0432\\u0435\\u0442 \\u0424\\u0435\\u0434\\u0435\\u0440\\u0430\\u0446\\u0438\\u0438 \\u0441\\u043e\\u0433\\u043b\\u0430\\u0441\\u0438\\u043b\\u0441\\u044f \\u0434\\u0430\\u0442\\u044c \\u0440\\u0430\\u0437\\u0440\\u0435\\u0448\\u0435\\u043d\\u0438\\u0435 \\u043d\\u0430 \\u0438\\u0441\\u043f\\u043e\\u043b\\u044c\\u0437\\u043e\\u0432\\u0430\\u043d\\u0438\\u0435 \\u0432\\u043e\\u043e\\u0440\\u0443\\u0436\\u0435\\u043d\\u043d\\u044b\\u0445 \\u0441\\u0438\\u043b \\u0420\\u0424 \\u0437\\u0430 \\u0440\\u0443\\u0431\\u0435\\u0436\\u043e\\u043c \\u0438\\u0437-\\u0437\\u0430 \\u0441\\u0438\\u0442\\u0443\\u0430\\u0446\\u0438\\u0438, \\u0440\\u0430\\u0437\\u0432\\u0435\\u0440\\u043d\\u0443\\u0432\\u0448\\u0435\\u0439\\u0441\\u044f \\u0432 \\u0414\\u043e\\u043d\\u0431\\u0430\\u0441\\u0441\\u0435.\\u0412 \\u0442\\u043e\\u0442 \\u0436\\u0435 \\u0434\\u0435\\u043d\\u044c \\u043f\\u043e\\u044f\\u0432\\u0438\\u043b\\u0438\\u0441\\u044c \\u043d\\u043e\\u0432\\u043e\\u0441\\u0442\\u0438 \\u043e \\u043f\\u0440\\u0430\\u043a\\u0442\\u0438\\u0447\\u0435\\u0441\\u043a\\u0438 60 \\u0442\\u044b\\u0441\\u044f\\u0447\\u0430\\u0445 \\u0432\\u043e\\u0435\\u043d\\u043d\\u043e\\u0441\\u043b\\u0443\\u0436\\u0430\\u0449\\u0438\\u0445 \\u0412\\u0421 \\u0423\\u043a\\u0440\\u0430\\u0438\\u043d\\u044b \\u0432 \\u043d\\u0435\\u043f\\u043e\\u0441\\u0440\\u0435\\u0434\\u0441\\u0442\\u0432\\u0435\\u043d\\u043d\\u043e\\u0439 \\u0431\\u043b\\u0438\\u0437\\u043e\\u0441\\u0442\\u0438 \\u043e\\u0442 \\u0414\\u041d\\u0420 \\u0438 \\u041b\\u041d\\u0420.\\u0412\\u043c\\u0435\\u0441\\u0442\\u0435 \\u0441 \\u044d\\u0442\\u0438\\u043c \\u0441\\u0432\\u044b\\u0448\\u0435 68 \\u0442\\u044b\\u0441\\u044f\\u0447 \\u0431\\u0435\\u0436\\u0435\\u043d\\u0446\\u0435\\u0432 \\u0438\\u0437 \\u0440\\u0435\\u0441\\u043f\\u0443\\u0431\\u043b\\u0438\\u043a \\u0414\\u043e\\u043d\\u0431\\u0430\\u0441\\u0441\\u0430 \\u043f\\u0440\\u0438\\u0435\\u0445\\u0430\\u043b\\u0438 \\u0432 \\u0420\\u043e\\u0441\\u0442\\u043e\\u0432\\u0441\\u043a\\u0443\\u044e \\u043e\\u0431\\u043b\\u0430\\u0441\\u0442\\u044c. \\u0412 \\u0438\\u0442\\u043e\\u0433\\u0435 \\u0438\\u0445 \\u043f\\u0440\\u0438\\u043d\\u044f\\u043b\\u0438 \\u0443 \\u0441\\u0435\\u0431\\u044f 43 \\u0440\\u0435\\u0433\\u0438\\u043e\\u043d\\u0430 \\u0420\\u043e\\u0441\\u0441\\u0438\\u0438.\\u041a\\u0430\\u043a \\u043d\\u0430\\u0447\\u0430\\u043b\\u0430\\u0441\\u044c \\u0441\\u043f\\u0435\\u0446\\u043e\\u043f\\u0435\\u0440\\u0430\\u0446\\u0438\\u044f \\u043d\\u0430 \\u0423\\u043a\\u0440\\u0430\\u0438\\u043d\\u0435\\u0413\\u043b\\u0430\\u0432\\u043d\\u044b\\u0435 \\u0441\\u043e\\u0431\\u044b\\u0442\\u0438\\u044f \\u043d\\u0430\\u0447\\u0430\\u043b\\u0438 \\u0440\\u0430\\u0437\\u0432\\u043e\\u0440\\u0430\\u0447\\u0438\\u0432\\u0430\\u0442\\u044c\\u0441\\u044f \\u0432\\u0435\\u0447\\u0435\\u0440\\u043e\\u043c 23 \\u0444\\u0435\\u0432\\u0440\\u0430\\u043b\\u044f 2022 \\u0433\\u043e\\u0434\\u0430. \\u041f\\u0440\\u0438\\u043c\\u0435\\u0440\\u043d\\u043e \\u0432 22:00 \\u043f\\u043e \\u043c\\u043e\\u0441\\u043a\\u043e\\u0432\\u0441\\u043a\\u043e\\u043c\\u0443 \\u0432\\u0440\\u0435\\u043c\\u0435\\u043d\\u0438 \\u0433\\u043b\\u0430\\u0432\\u044b \\u0414\\u041d\\u0420 \\u0438 \\u041b\\u041d\\u0420 \\u043e\\u0431\\u0440\\u0430\\u0442\\u0438\\u043b\\u0438\\u0441\\u044c \\u0437\\u0430 \\u043f\\u043e\\u043c\\u043e\\u0449\\u044c\\u044e \\u043a \\u0420\\u043e\\u0441\\u0441\\u0438\\u0438, \\u043f\\u0440\\u043e\\u0441\\u044f \\u0437\\u0430\\u0449\\u0438\\u0442\\u044b \\u043e\\u0442 \\u0430\\u0433\\u0440\\u0435\\u0441\\u0441\\u0438\\u0438 \\u0441\\u043e \\u0441\\u0442\\u043e\\u0440\\u043e\\u043d\\u044b \\u0423\\u043a\\u0440\\u0430\\u0438\\u043d\\u044b. \\u0410 \\u043e\\u043a\\u043e\\u043b\\u043e 04:00 24 \\u0444\\u0435\\u0432\\u0440\\u0430\\u043b\\u044f \\u043f\\u0440\\u0435\\u0437\\u0438\\u0434\\u0435\\u043d\\u0442 \\u0423\\u043a\\u0440\\u0430\\u0438\\u043d\\u044b \\u0412\\u043b\\u0430\\u0434\\u0438\\u043c\\u0438\\u0440 \\u0417\\u0435\\u043b\\u0435\\u043d\\u0441\\u043a\\u0438\\u0439 \\u043e\\u0431\\u0440\\u0430\\u0442\\u0438\\u043b\\u0441\\u044f \\u043a \\u0440\\u043e\\u0441\\u0441\\u0438\\u044f\\u043d\\u0430\\u043c \\u043d\\u0430 \\u0440\\u0443\\u0441\\u0441\\u043a\\u043e\\u043c \\u044f\\u0437\\u044b\\u043a\\u0435. \\u041e\\u043d \\u0437\\u0430\\u044f\\u0432\\u0438\\u043b, \\u0447\\u0442\\u043e \\u0443\\u043a\\u0440\\u0430\\u0438\\u043d\\u0446\\u044b \\u0438 \\u0440\\u0443\\u0441\\u0441\\u043a\\u0438\\u0435 \\u0440\\u0430\\u0437\\u043d\\u044b\\u0435, \\u043d\\u043e \\u044d\\u0442\\u043e \\u043d\\u0435 \\u043f\\u043e\\u0432\\u043e\\u0434 \\u0431\\u044b\\u0442\\u044c \\u0432\\u0440\\u0430\\u0433\\u0430\\u043c\\u0438.\\u0412 04:20 \\u0423\\u043a\\u0440\\u0430\\u0438\\u043d\\u0430 \\u043f\\u0440\\u0438\\u043d\\u044f\\u043b\\u0430 \\u0440\\u0435\\u0448\\u0435\\u043d\\u0438\\u0435 \\u043f\\u0435\\u0440\\u0435\\u0432\\u0435\\u0441\\u0442\\u0438 \\u0432\\u0441\\u0435 \\u0441\\u0432\\u043e\\u0438 \\u044d\\u043d\\u0435\\u0440\\u0433\\u043e\\u0441\\u0438\\u0441\\u0442\\u0435\\u043c\\u044b \\u043d\\u0430 \\u0430\\u0432\\u0442\\u043e\\u043d\\u043e\\u043c\\u043d\\u044b\\u0439 \\u0440\\u0435\\u0436\\u0438\\u043c, \\u043e\\u0442\\u043a\\u043b\\u044e\\u0447\\u0438\\u0432\\u0448\\u0438\\u0441\\u044c \\u043e\\u0442 \\u0420\\u043e\\u0441\\u0441\\u0438\\u0438 \\u0438 \\u0411\\u0435\\u043b\\u043e\\u0440\\u0443\\u0441\\u0441\\u0438\\u0438. \\u0410 \\u0432 05:30 \\u0421\\u043e\\u0432\\u0431\\u0435\\u0437 \\u041e\\u041e\\u041d \\u044d\\u043a\\u0441\\u0442\\u0440\\u0435\\u043d\\u043d\\u043e \\u0441\\u043e\\u0431\\u0440\\u0430\\u043b\\u0441\\u044f \\u043d\\u0430 \\u0441\\u043e\\u0432\\u0435\\u0449\\u0430\\u043d\\u0438\\u0435 \\u043f\\u043e \\u043f\\u0440\\u043e\\u0441\\u044c\\u0431\\u0435 \\u0423\\u043a\\u0440\\u0430\\u0438\\u043d\\u044b. \\u041d\\u0430\\u0441\\u0442\\u0430\\u0438\\u0432\\u0430\\u044f \\u043d\\u0430 \\u043d\\u0435\\u043e\\u0431\\u0445\\u043e\\u0434\\u0438\\u043c\\u043e\\u0441\\u0442\\u0438 \\u0437\\u0430\\u0441\\u0435\\u0434\\u0430\\u043d\\u0438\\u044f, \\u0433\\u043b\\u0430\\u0432\\u0430 \\u041c\\u0418\\u0414 \\u0423\\u043a\\u0440\\u0430\\u0438\\u043d\\u044b \\u0414\\u043c\\u0438\\u0442\\u0440\\u0438\\u0439 \\u041a\\u0443\\u043b\\u0435\\u0431\\u0430 \\u0437\\u0430\\u044f\\u0432\\u0438\\u043b, \\u0447\\u0442\\u043e \\u043e\\u0431\\u0440\\u0430\\u0449\\u0435\\u043d\\u0438\\u0435 \\u0433\\u043b\\u0430\\u0432 \\u0414\\u041d\\u0420 \\u0438 \\u041b\\u041d\\u0420 \\u043a \\u0440\\u043e\\u0441\\u0441\\u0438\\u0439\\u0441\\u043a\\u043e\\u043c\\u0443 \\u043f\\u0440\\u0435\\u0437\\u0438\\u0434\\u0435\\u043d\\u0442\\u0443 \\u043c\\u043e\\u0436\\u0435\\u0442 \\u043e\\u0437\\u043d\\u0430\\u0447\\u0430\\u0442\\u044c \\u043e\\u0431\\u043e\\u0441\\u0442\\u0440\\u0435\\u043d\\u0438\\u0435 \\u043a\\u043e\\u043d\\u0444\\u043b\\u0438\\u043a\\u0442\\u0430 \\u0432 \\u0414\\u043e\\u043d\\u0431\\u0430\\u0441\\u0441\\u0435.\\u0424\\u043e\\u0442\\u043e: Umit Bektas / Reuters\\u0414\\u0430\\u0442\\u0430 \\u043d\\u0430\\u0447\\u0430\\u043b\\u0430 \\u0421\\u0412\\u041e\\u0421\\u043f\\u0435\\u0446\\u0438\\u0430\\u043b\\u044c\\u043d\\u0430\\u044f \\u0432\\u043e\\u0435\\u043d\\u043d\\u0430\\u044f \\u043e\\u043f\\u0435\\u0440\\u0430\\u0446\\u0438\\u044f \\u043d\\u0430 \\u0423\\u043a\\u0440\\u0430\\u0438\\u043d\\u0435 \\u043d\\u0430\\u0447\\u0430\\u043b\\u0430\\u0441\\u044c 24 \\u0444\\u0435\\u0432\\u0440\\u0430\\u043b\\u044f 2022 \\u0433\\u043e\\u0434\\u0430.\\u041e\\u0431\\u0440\\u0430\\u0449\\u0435\\u043d\\u0438\\u0435 \\u0412\\u043b\\u0430\\u0434\\u0438\\u043c\\u0438\\u0440\\u0430 \\u041f\\u0443\\u0442\\u0438\\u043d\\u0430 \\u043e \\u043d\\u0430\\u0447\\u0430\\u043b\\u0435 \\u0421\\u0412\\u041e24 \\u0444\\u0435\\u0432\\u0440\\u0430\\u043b\\u044f \\u0432 05:52 \\u043f\\u043e \\u043c\\u043e\\u0441\\u043a\\u043e\\u0432\\u0441\\u043a\\u043e\\u043c\\u0443 \\u0432\\u0440\\u0435\\u043c\\u0435\\u043d\\u0438 \\u0412\\u043b\\u0430\\u0434\\u0438\\u043c\\u0438\\u0440 \\u041f\\u0443\\u0442\\u0438\\u043d \\u0432\\u044b\\u0441\\u0442\\u0443\\u043f\\u0438\\u043b \\u0441 \\u043e\\u0431\\u0440\\u0430\\u0449\\u0435\\u043d\\u0438\\u0435\\u043c \\u043a \\u0440\\u043e\\u0441\\u0441\\u0438\\u044f\\u043d\\u0430\\u043c \\u0438 \\u043e\\u0431\\u044a\\u044f\\u0432\\u0438\\u043b \\u043e \\u043d\\u0430\\u0447\\u0430\\u043b\\u0435 \\u0441\\u043f\\u0435\\u0446\\u0438\\u0430\\u043b\\u044c\\u043d\\u043e\\u0439 \\u0432\\u043e\\u0435\\u043d\\u043d\\u043e\\u0439 \\u043e\\u043f\\u0435\\u0440\\u0430\\u0446\\u0438\\u0438. \\u041f\\u0440\\u0435\\u0437\\u0438\\u0434\\u0435\\u043d\\u0442 \\u043e\\u0431\\u044a\\u044f\\u0441\\u043d\\u0438\\u043b, \\u0447\\u0442\\u043e \\u043f\\u0440\\u0438\\u043d\\u044f\\u043b \\u0442\\u0430\\u043a\\u043e\\u0435 \\u0440\\u0435\\u0448\\u0435\\u043d\\u0438\\u0435 \\u0440\\u0430\\u0434\\u0438 \\u043b\\u044e\\u0434\\u0435\\u0439 \\u0414\\u043e\\u043d\\u0431\\u0430\\u0441\\u0441\\u0430, \\u043a\\u043e\\u0442\\u043e\\u0440\\u044b\\u0435 \\u043f\\u043e\\u0434\\u0432\\u0435\\u0440\\u0433\\u0430\\u043b\\u0438\\u0441\\u044c \\u00ab\\u0433\\u0435\\u043d\\u043e\\u0446\\u0438\\u0434\\u0443 \\u0441\\u043e \\u0441\\u0442\\u043e\\u0440\\u043e\\u043d\\u044b \\u043a\\u0438\\u0435\\u0432\\u0441\\u043a\\u043e\\u0433\\u043e \\u0440\\u0435\\u0436\\u0438\\u043c\\u0430\\u00bb.\\u041f\\u0443\\u0442\\u0438\\u043d \\u043e\\u0442\\u043c\\u0435\\u0442\\u0438\\u043b, \\u0447\\u0442\\u043e \\u0420\\u043e\\u0441\\u0441\\u0438\\u044f \\u0431\\u0443\\u0434\\u0435\\u0442 \\u0434\\u043e\\u0431\\u0438\\u0432\\u0430\\u0442\\u044c\\u0441\\u044f \\u043f\\u043e\\u043b\\u043d\\u043e\\u0439 \\u0434\\u0435\\u043c\\u0438\\u043b\\u0438\\u0442\\u0430\\u0440\\u0438\\u0437\\u0430\\u0446\\u0438\\u0438 \\u0438 \\u0434\\u0435\\u043d\\u0430\\u0446\\u0438\\u0444\\u0438\\u043a\\u0430\\u0446\\u0438\\u0438 \\u0423\\u043a\\u0440\\u0430\\u0438\\u043d\\u044b\\u041f\\u0440\\u0438 \\u044d\\u0442\\u043e\\u043c \\u043f\\u0440\\u0435\\u0437\\u0438\\u0434\\u0435\\u043d\\u0442 \\u043f\\u043e\\u0434\\u0447\\u0435\\u0440\\u043a\\u043d\\u0443\\u043b, \\u0447\\u0442\\u043e \\u0441\\u0442\\u0440\\u0430\\u043d\\u0430 \\u043d\\u0435 \\u043f\\u043e\\u0431\\u043e\\u0438\\u0442\\u0441\\u044f \\u043e\\u0442\\u0432\\u0435\\u0442\\u0438\\u0442\\u044c \\u0437\\u0430\\u043f\\u0430\\u0434\\u043d\\u044b\\u043c \\u043f\\u0430\\u0440\\u0442\\u043d\\u0435\\u0440\\u0430\\u043c \\u0423\\u043a\\u0440\\u0430\\u0438\\u043d\\u044b, \\u0435\\u0441\\u043b\\u0438 \\u0442\\u0435 \\u043f\\u043e\\u043c\\u0435\\u0448\\u0430\\u044e\\u0442 \\u0434\\u043e\\u0441\\u0442\\u0438\\u0436\\u0435\\u043d\\u0438\\u044e \\u0446\\u0435\\u043b\\u0435\\u0439 \\u0421\\u0412\\u041e.\\u0426\\u0435\\u043b\\u0438 \\u0441\\u043f\\u0435\\u0446\\u043e\\u043f\\u0435\\u0440\\u0430\\u0446\\u0438\\u0438\\u0412\\u043b\\u0430\\u0434\\u0438\\u043c\\u0438\\u0440 \\u041f\\u0443\\u0442\\u0438\\u043d \\u043a\\u0430\\u043a \\u0432\\u0435\\u0440\\u0445\\u043e\\u0432\\u043d\\u044b\\u0439 \\u0433\\u043b\\u0430\\u0432\\u043d\\u043e\\u043a\\u043e\\u043c\\u0430\\u043d\\u0434\\u0443\\u044e\\u0449\\u0438\\u0439 \\u043e\\u043f\\u0440\\u0435\\u0434\\u0435\\u043b\\u0438\\u043b \\u0441\\u043b\\u0435\\u0434\\u0443\\u044e\\u0449\\u0438\\u0435 \\u0446\\u0435\\u043b\\u0438 \\u0441\\u043f\\u0435\\u0446\\u0438\\u0430\\u043b\\u044c\\u043d\\u043e\\u0439 \\u0432\\u043e\\u0435\\u043d\\u043d\\u043e\\u0439 \\u043e\\u043f\\u0435\\u0440\\u0430\\u0446\\u0438\\u0438 \\u043d\\u0430 \\u0423\\u043a\\u0440\\u0430\\u0438\\u043d\\u0435.\\n\\n\\u0414\\u0435\\u043c\\u0438\\u043b\\u0438\\u0442\\u0430\\u0440\\u0438\\u0437\\u0430\\u0446\\u0438\\u044f \\u0423\\u043a\\u0440\\u0430\\u0438\\u043d\\u044b. \\u0423\\u043a\\u0440\\u0430\\u0438\\u043d\\u0430 \\u0434\\u043e\\u043b\\u0436\\u043d\\u0430 \\u044e\\u0440\\u0438\\u0434\\u0438\\u0447\\u0435\\u0441\\u043a\\u0438 \\u0437\\u0430\\u043a\\u0440\\u0435\\u043f\\u0438\\u0442\\u044c\\u0441\\u044f \\u0432 \\u0441\\u0442\\u0430\\u0442\\u0443\\u0441\\u0435 \\u043d\\u0435\\u0439\\u0442\\u0440\\u0430\\u043b\\u044c\\u043d\\u043e\\u0433\\u043e \\u0433\\u043e\\u0441\\u0443\\u0434\\u0430\\u0440\\u0441\\u0442\\u0432\\u0430. \\u042d\\u0442\\u043e \\u0437\\u043d\\u0430\\u0447\\u0438\\u0442, \\u0447\\u0442\\u043e \\u0441\\u0442\\u0440\\u0430\\u043d\\u0430 \\u0434\\u043e\\u043b\\u0436\\u043d\\u0430 \\u043e\\u0442\\u043a\\u0430\\u0437\\u0430\\u0442\\u044c\\u0441\\u044f \\u043e\\u0442 \\u0446\\u0435\\u043b\\u0438 \\u0432\\u0441\\u0442\\u0443\\u043f\\u0438\\u0442\\u044c \\u0432 \\u041d\\u0410\\u0422\\u041e \\u0438 \\u043d\\u0435 \\u0441\\u043c\\u043e\\u0436\\u0435\\u0442 \\u0440\\u0430\\u0437\\u043c\\u0435\\u0449\\u0430\\u0442\\u044c \\u043d\\u0430 \\u0441\\u0432\\u043e\\u0435\\u0439 \\u0442\\u0435\\u0440\\u0440\\u0438\\u0442\\u043e\\u0440\\u0438\\u0438 \\u0440\\u0430\\u043a\\u0435\\u0442\\u043d\\u044b\\u0435 \\u043a\\u043e\\u043c\\u043f\\u043b\\u0435\\u043a\\u0441\\u044b \\u0430\\u043b\\u044c\\u044f\\u043d\\u0441\\u0430. \\u041e\\u0434\\u043d\\u0430\\u043a\\u043e \\u0420\\u043e\\u0441\\u0441\\u0438\\u044f \\u043d\\u0435 \\u0442\\u0440\\u0435\\u0431\\u0443\\u0435\\u0442, \\u0447\\u0442\\u043e\\u0431\\u044b \\u0432\\u0437\\u0430\\u043c\\u0435\\u043d \\u0423\\u043a\\u0440\\u0430\\u0438\\u043d\\u0430 \\u0432\\u0441\\u0442\\u0443\\u043f\\u0438\\u043b\\u0430 \\u0432 \\u041e\\u0414\\u041a\\u0411.\\n\\n\\u0414\\u0435\\u043d\\u0430\\u0446\\u0438\\u0444\\u0438\\u043a\\u0430\\u0446\\u0438\\u044f \\u0423\\u043a\\u0440\\u0430\\u0438\\u043d\\u044b. \\u042d\\u0442\\u043e \\u0437\\u043d\\u0430\\u0447\\u0438\\u0442, \\u0447\\u0442\\u043e \\u0440\\u0443\\u0441\\u0441\\u043a\\u043e\\u043c\\u0443 \\u044f\\u0437\\u044b\\u043a\\u0443 \\u0431\\u0443\\u0434\\u0435\\u0442 \\u043f\\u0440\\u0438\\u0434\\u0430\\u043d \\u0441\\u0442\\u0430\\u0442\\u0443\\u0441 \\u0432\\u0442\\u043e\\u0440\\u043e\\u0433\\u043e \\u0433\\u043e\\u0441\\u0443\\u0434\\u0430\\u0440\\u0441\\u0442\\u0432\\u0435\\u043d\\u043d\\u043e\\u0433\\u043e, \\u0430 \\u0434\\u0438\\u0441\\u043a\\u0440\\u0438\\u043c\\u0438\\u043d\\u0430\\u0446\\u0438\\u044f \\u0440\\u0443\\u0441\\u0441\\u043a\\u043e\\u044f\\u0437\\u044b\\u0447\\u043d\\u044b\\u0445 \\u0436\\u0438\\u0442\\u0435\\u043b\\u0435\\u0439 \\u0423\\u043a\\u0440\\u0430\\u0438\\u043d\\u044b \\u0438 \\u0440\\u0443\\u0441\\u0441\\u043a\\u043e\\u0433\\u043e \\u044f\\u0437\\u044b\\u043a\\u0430 \\u043f\\u0440\\u0435\\u043a\\u0440\\u0430\\u0442\\u0438\\u0442\\u0441\\u044f. \\u0412\\u043b\\u0430\\u0441\\u0442\\u0438 \\u0423\\u043a\\u0440\\u0430\\u0438\\u043d\\u044b \\u043e\\u0442\\u043a\\u0430\\u0436\\u0443\\u0442\\u0441\\u044f \\u043e\\u0442 \\u0433\\u043e\\u043d\\u0435\\u043d\\u0438\\u0439 \\u043d\\u0430 \\u0423\\u043a\\u0440\\u0430\\u0438\\u043d\\u0441\\u043a\\u0443\\u044e \\u043f\\u0440\\u0430\\u0432\\u043e\\u0441\\u043b\\u0430\\u0432\\u043d\\u0443\\u044e \\u0446\\u0435\\u0440\\u043a\\u043e\\u0432\\u044c (\\u0423\\u041f\\u0426) \\u0438 \\u043f\\u0440\\u0430\\u0432\\u043e\\u0441\\u043b\\u0430\\u0432\\u043d\\u044b\\u0445 \\u0432\\u0435\\u0440\\u0443\\u044e\\u0449\\u0438\\u0445 \\u0441\\u0442\\u0440\\u0430\\u043d\\u044b. \\u0410 \\u0442\\u0430\\u043a\\u0436\\u0435 \\u043f\\u043e\\u043b\\u043d\\u043e\\u0441\\u0442\\u044c\\u044e \\u0437\\u0430\\u043f\\u0440\\u0435\\u0442\\u044f\\u0442 \\u043d\\u0435\\u043e\\u043d\\u0430\\u0446\\u0438\\u0441\\u0442\\u0441\\u043a\\u0438\\u0435 \\u043e\\u0440\\u0433\\u0430\\u043d\\u0438\\u0437\\u0430\\u0446\\u0438\\u0438 \\u0438 \\u0434\\u0432\\u0438\\u0436\\u0435\\u043d\\u0438\\u044f, \\u043f\\u043e\\u043b\\u0438\\u0442\\u0438\\u0447\\u0435\\u0441\\u043a\\u0438\\u0435 \\u043f\\u0430\\u0440\\u0442\\u0438\\u0438, \\u043a\\u043e\\u0442\\u043e\\u0440\\u044b\\u0435 \\u0440\\u0443\\u043a\\u043e\\u0432\\u043e\\u0434\\u0441\\u0442\\u0432\\u0443\\u044e\\u0442\\u0441\\u044f \\u0438\\u0434\\u0435\\u044f\\u043c\\u0438 \\u043d\\u0430\\u0446\\u0438\\u0437\\u043c\\u0430 \\u0438 \\u0444\\u0430\\u0448\\u0438\\u0437\\u043c\\u0430.\\n\\n\\u0412\\u044b\\u0445\\u043e\\u0434 \\u0423\\u043a\\u0440\\u0430\\u0438\\u043d\\u044b \\u0437\\u0430 \\u0433\\u0440\\u0430\\u043d\\u0438\\u0446\\u044b \\u0414\\u043e\\u043d\\u0435\\u0446\\u043a\\u043e\\u0439 \\u0438 \\u041b\\u0443\\u0433\\u0430\\u043d\\u0441\\u043a\\u043e\\u0439 \\u043d\\u0430\\u0440\\u043e\\u0434\\u043d\\u044b\\u0445 \\u0440\\u0435\\u0441\\u043f\\u0443\\u0431\\u043b\\u0438\\u043a, \\u043a\\u043e\\u0442\\u043e\\u0440\\u044b\\u0435 \\u0432 \\u041a\\u0438\\u0435\\u0432\\u0435 \\u0443\\u043f\\u043e\\u0440\\u043d\\u043e \\u0441\\u0447\\u0438\\u0442\\u0430\\u044e\\u0442 \\u0441\\u0432\\u043e\\u0438\\u043c\\u0438 \\u043e\\u0431\\u043b\\u0430\\u0441\\u0442\\u044f\\u043c\\u0438, \\u043d\\u0435\\u0441\\u043c\\u043e\\u0442\\u0440\\u044f \\u043d\\u0430 \\u0440\\u0435\\u0437\\u0443\\u043b\\u044c\\u0442\\u0430\\u0442\\u044b \\u0440\\u0435\\u0444\\u0435\\u0440\\u0435\\u043d\\u0434\\u0443\\u043c\\u0430 2014 \\u0433\\u043e\\u0434\\u0430.\\n\\u0424\\u043e\\u0442\\u043e: \\u041f\\u0440\\u0435\\u0441\\u0441-\\u0441\\u043b\\u0443\\u0436\\u0431\\u0430 \\u043f\\u0440\\u0435\\u0437\\u0438\\u0434\\u0435\\u043d\\u0442\\u0430 \\u0420\\u0424\\u041f\\u0435\\u0440\\u0432\\u044b\\u0439 \\u0434\\u0435\\u043d\\u044c \\u0441\\u043f\\u0435\\u0446\\u043e\\u043f\\u0435\\u0440\\u0430\\u0446\\u0438\\u0438 \\u043d\\u0430 \\u0423\\u043a\\u0440\\u0430\\u0438\\u043d\\u0435\\u041f\\u0435\\u0440\\u0432\\u044b\\u0435 \\u043f\\u0440\\u0438\\u043b\\u0435\\u0442\\u044b \\u043f\\u043e \\u0432\\u043e\\u0435\\u043d\\u043d\\u044b\\u043c \\u043e\\u0431\\u044a\\u0435\\u043a\\u0442\\u0430\\u043c \\u043d\\u0430 \\u0423\\u043a\\u0440\\u0430\\u0438\\u043d\\u0435\\u041e\\u043a\\u043e\\u043b\\u043e 07:00 \\u043f\\u043e \\u041c\\u043e\\u0441\\u043a\\u0432\\u0435 \\u0432 \\u0443\\u043a\\u0440\\u0430\\u0438\\u043d\\u0441\\u043a\\u0438\\u0445 \\u0421\\u041c\\u0418 \\u043f\\u043e\\u044f\\u0432\\u0438\\u043b\\u0438\\u0441\\u044c \\u043f\\u0435\\u0440\\u0432\\u044b\\u0435 \\u0441\\u043e\\u043e\\u0431\\u0449\\u0435\\u043d\\u0438\\u044f \\u043e \\u0432\\u0437\\u0440\\u044b\\u0432\\u0430\\u0445 \\u0432 \\u043d\\u0435\\u043a\\u043e\\u0442\\u043e\\u0440\\u044b\\u0445 \\u0433\\u043e\\u0440\\u043e\\u0434\\u0430\\u0445 \\u0441\\u0442\\u0440\\u0430\\u043d\\u044b \\u2014 \\u041e\\u0434\\u0435\\u0441\\u0441\\u0435, \\u0411\\u0435\\u0440\\u0434\\u044f\\u043d\\u0441\\u043a\\u0435, \\u041a\\u0440\\u0430\\u043c\\u0430\\u0442\\u043e\\u0440\\u0441\\u043a\\u0435 \\u0438 \\u0425\\u0430\\u0440\\u044c\\u043a\\u043e\\u0432\\u0435. \\u0412 07:50 \\u043d\\u0430 \\u0423\\u043a\\u0440\\u0430\\u0438\\u043d\\u0435 \\u0432\\u0432\\u0435\\u043b\\u0438 \\u0432\\u043e\\u0435\\u043d\\u043d\\u043e\\u0435 \\u043f\\u043e\\u043b\\u043e\\u0436\\u0435\\u043d\\u0438\\u0435.\\u0412 \\u041c\\u0438\\u043d\\u0438\\u0441\\u0442\\u0435\\u0440\\u0441\\u0442\\u0432\\u0435 \\u043e\\u0431\\u043e\\u0440\\u043e\\u043d\\u044b \\u0420\\u0424 \\u0432\\u044b\\u0441\\u0442\\u0443\\u043f\\u0438\\u043b\\u0438 \\u0441 \\u043e\\u0444\\u0438\\u0446\\u0438\\u0430\\u043b\\u044c\\u043d\\u044b\\u043c \\u0437\\u0430\\u044f\\u0432\\u043b\\u0435\\u043d\\u0438\\u0435\\u043c, \\u0432 \\u043a\\u043e\\u0442\\u043e\\u0440\\u043e\\u043c \\u043f\\u043e\\u0434\\u0447\\u0435\\u0440\\u043a\\u043d\\u0443\\u043b\\u0438, \\u0447\\u0442\\u043e \\u0412\\u043e\\u043e\\u0440\\u0443\\u0436\\u0435\\u043d\\u043d\\u044b\\u0435 \\u0441\\u0438\\u043b\\u044b \\u0441\\u0442\\u0440\\u0430\\u043d\\u044b \\u043d\\u0435 \\u043d\\u0430\\u043d\\u043e\\u0441\\u044f\\u0442 \\u0443\\u0434\\u0430\\u0440\\u043e\\u0432 \\u0440\\u0430\\u043a\\u0435\\u0442\\u0430\\u043c\\u0438, \\u0430\\u0432\\u0438\\u0430\\u0446\\u0438\\u0435\\u0439 \\u0438\\u043b\\u0438 \\u0430\\u0440\\u0442\\u0438\\u043b\\u043b\\u0435\\u0440\\u0438\\u0435\\u0439 \\u043f\\u043e \\u0433\\u043e\\u0440\\u043e\\u0434\\u0430\\u043c \\u0423\\u043a\\u0440\\u0430\\u0438\\u043d\\u044b \\u0438 \\u0438\\u0445 \\u043c\\u0438\\u0440\\u043d\\u044b\\u043c \\u0436\\u0438\\u0442\\u0435\\u043b\\u044f\\u043c.\\u0412\\u044b\\u0441\\u043e\\u043a\\u043e\\u0442\\u043e\\u0447\\u043d\\u044b\\u043c\\u0438 \\u0441\\u0440\\u0435\\u0434\\u0441\\u0442\\u0432\\u0430\\u043c\\u0438 \\u043f\\u043e\\u0440\\u0430\\u0436\\u0435\\u043d\\u0438\\u044f \\u0432\\u044b\\u0432\\u043e\\u0434\\u044f\\u0442\\u0441\\u044f \\u0438\\u0437 \\u0441\\u0442\\u0440\\u043e\\u044f \\u0432\\u043e\\u0435\\u043d\\u043d\\u0430\\u044f \\u0438\\u043d\\u0444\\u0440\\u0430\\u0441\\u0442\\u0440\\u0443\\u043a\\u0442\\u0443\\u0440\\u0430, \\u043e\\u0431\\u044a\\u0435\\u043a\\u0442\\u044b \\u041f\\u0412\\u041e, \\u0432\\u043e\\u0435\\u043d\\u043d\\u044b\\u0435 \\u0430\\u044d\\u0440\\u043e\\u0434\\u0440\\u043e\\u043c\\u044b, \\u0430\\u0432\\u0438\\u0430\\u0446\\u0438\\u044f \\u0412\\u043e\\u043e\\u0440\\u0443\\u0436\\u0435\\u043d\\u043d\\u044b\\u0445 \\u0441\\u0438\\u043b \\u0423\\u043a\\u0440\\u0430\\u0438\\u043d\\u044b\\u041c\\u0438\\u043d\\u043e\\u0431\\u043e\\u0440\\u043e\\u043d\\u044b \\u0420\\u043e\\u0441\\u0441\\u0438\\u0438\\u041a\\u0430\\u043a \\u044d\\u043a\\u043e\\u043d\\u043e\\u043c\\u0438\\u043a\\u0430 \\u043e\\u0442\\u0440\\u0435\\u0430\\u0433\\u0438\\u0440\\u043e\\u0432\\u0430\\u043b\\u0430 \\u0432 \\u043f\\u0435\\u0440\\u0432\\u044b\\u0439 \\u0434\\u0435\\u043d\\u044c \\u0421\\u0412\\u041e\\u0420\\u0430\\u043d\\u043e \\u0443\\u0442\\u0440\\u043e\\u043c \\u041c\\u043e\\u0441\\u043a\\u043e\\u0432\\u0441\\u043a\\u0430\\u044f \\u0438 \\u041f\\u0435\\u0442\\u0435\\u0440\\u0431\\u0443\\u0440\\u0433\\u0441\\u043a\\u0430\\u044f \\u0431\\u0438\\u0440\\u0436\\u0438 \\u043e\\u0441\\u0442\\u0430\\u043d\\u043e\\u0432\\u0438\\u043b\\u0438 \\u0442\\u043e\\u0440\\u0433\\u0438. \\u0420\\u0443\\u0431\\u043b\\u044c \\u0440\\u0435\\u0437\\u043a\\u043e \\u0443\\u043f\\u0430\\u043b, \\u0426\\u0435\\u043d\\u0442\\u0440\\u0430\\u043b\\u044c\\u043d\\u044b\\u0439 \\u0431\\u0430\\u043d\\u043a \\u0420\\u043e\\u0441\\u0441\\u0438\\u0438 \\u043f\\u043e\\u043f\\u044b\\u0442\\u0430\\u043b\\u0441\\u044f \\u0441\\u0442\\u0430\\u0431\\u0438\\u043b\\u0438\\u0437\\u0438\\u0440\\u043e\\u0432\\u0430\\u0442\\u044c \\u0435\\u0433\\u043e, \\u043d\\u043e \\u0447\\u0435\\u0440\\u0435\\u0437 \\u043d\\u0435\\u0441\\u043a\\u043e\\u043b\\u044c\\u043a\\u043e \\u0434\\u043d\\u0435\\u0439 \\u0435\\u0432\\u0440\\u043e \\u0432\\u0441\\u0435 \\u0436\\u0435 \\u043f\\u043e\\u0434\\u0441\\u043a\\u043e\\u0447\\u0438\\u043b \\u0432\\u044b\\u0448\\u0435 \\u0437\\u043d\\u0430\\u0447\\u0435\\u043d\\u0438\\u0439 \\u0432 131 \\u0440\\u0443\\u0431\\u043b\\u044c.\\u0412\\u0442\\u043e\\u0440\\u043e\\u0439 \\u0434\\u0435\\u043d\\u044c \\u0441\\u043f\\u0435\\u0446\\u043e\\u043f\\u0435\\u0440\\u0430\\u0446\\u0438\\u0438 \\u043d\\u0430 \\u0423\\u043a\\u0440\\u0430\\u0438\\u043d\\u043525 \\u0444\\u0435\\u0432\\u0440\\u0430\\u043b\\u044f \\u0412\\u0414\\u0412 \\u0420\\u043e\\u0441\\u0441\\u0438\\u0438 \\u0432\\u0437\\u044f\\u043b\\u0438 \\u043f\\u043e\\u0434 \\u043a\\u043e\\u043d\\u0442\\u0440\\u043e\\u043b\\u044c \\u0442\\u0435\\u0440\\u0440\\u0438\\u0442\\u043e\\u0440\\u0438\\u044e \\u0432\\u043e\\u043a\\u0440\\u0443\\u0433 \\u0427\\u0435\\u0440\\u043d\\u043e\\u0431\\u044b\\u043b\\u044c\\u0441\\u043a\\u043e\\u0439 \\u0430\\u0442\\u043e\\u043c\\u043d\\u043e\\u0439 \\u044d\\u043b\\u0435\\u043a\\u0442\\u0440\\u043e\\u0441\\u0442\\u0430\\u043d\\u0446\\u0438\\u0438 (\\u0410\\u042d\\u0421). \\u0420\\u043e\\u0441\\u0441\\u0438\\u0439\\u0441\\u043a\\u0438\\u0435 \\u0431\\u043e\\u0439\\u0446\\u044b \\u0434\\u043e\\u0433\\u043e\\u0432\\u043e\\u0440\\u0438\\u043b\\u0438\\u0441\\u044c \\u0432\\u043c\\u0435\\u0441\\u0442\\u0435 \\u0441 \\u0443\\u043a\\u0440\\u0430\\u0438\\u043d\\u0441\\u043a\\u0438\\u043c \\u0431\\u0430\\u0442\\u0430\\u043b\\u044c\\u043e\\u043d\\u043e\\u043c \\u043e\\u0445\\u0440\\u0430\\u043d\\u044b \\u0410\\u042d\\u0421 \\u043f\\u0440\\u043e\\u0434\\u043e\\u043b\\u0436\\u0430\\u0442\\u044c \\u0441\\u043b\\u0435\\u0434\\u0438\\u0442\\u044c \\u0437\\u0430 \\u0431\\u0435\\u0437\\u043e\\u043f\\u0430\\u0441\\u043d\\u043e\\u0441\\u0442\\u044c\\u044e \\u0441\\u0430\\u0440\\u043a\\u043e\\u0444\\u0430\\u0433\\u0430 \\u0438 \\u044d\\u043d\\u0435\\u0440\\u0433\\u0435\\u0442\\u0438\\u0447\\u0435\\u0441\\u043a\\u0438\\u0445 \\u0431\\u043b\\u043e\\u043a\\u043e\\u0432 \\u0441\\u0442\\u0430\\u043d\\u0446\\u0438\\u0438.\\u0412 \\u0442\\u043e\\u0442 \\u0436\\u0435 \\u0434\\u0435\\u043d\\u044c \\u0415\\u0432\\u0440\\u043e\\u0441\\u043e\\u044e\\u0437, \\u0421\\u043e\\u0435\\u0434\\u0438\\u043d\\u0435\\u043d\\u043d\\u044b\\u0435 \\u0428\\u0442\\u0430\\u0442\\u044b \\u0438 \\u0412\\u0435\\u043b\\u0438\\u043a\\u043e\\u0431\\u0440\\u0438\\u0442\\u0430\\u043d\\u0438\\u044f \\u0432\\u0432\\u0435\\u043b\\u0438 \\u043f\\u0435\\u0440\\u0432\\u044b\\u0435 \\u0432 \\u0440\\u0430\\u043c\\u043a\\u0430\\u0445 \\u0440\\u043e\\u0441\\u0441\\u0438\\u0439\\u0441\\u043a\\u043e-\\u0443\\u043a\\u0440\\u0430\\u0438\\u043d\\u0441\\u043a\\u043e\\u0433\\u043e \\u043a\\u043e\\u043d\\u0444\\u043b\\u0438\\u043a\\u0442\\u0430 2022 \\u0433\\u043e\\u0434\\u0430 \\u0441\\u0430\\u043d\\u043a\\u0446\\u0438\\u0438. \\u041e\\u0433\\u0440\\u0430\\u043d\\u0438\\u0447\\u0435\\u043d\\u0438\\u044f \\u0437\\u0430\\u0440\\u0430\\u0431\\u043e\\u0442\\u0430\\u043b\\u0438 \\u043f\\u0440\\u043e\\u0442\\u0438\\u0432 \\u0412\\u043b\\u0430\\u0434\\u0438\\u043c\\u0438\\u0440\\u0430 \\u041f\\u0443\\u0442\\u0438\\u043d\\u0430 \\u0438 \\u0433\\u043b\\u0430\\u0432\\u044b \\u041c\\u0418\\u0414 \\u0441\\u0442\\u0440\\u0430\\u043d\\u044b \\u0421\\u0435\\u0440\\u0433\\u0435\\u044f \\u041b\\u0430\\u0432\\u0440\\u043e\\u0432\\u0430. \\u0412 \\u0442\\u043e\\u0442 \\u0436\\u0435 \\u0441\\u043f\\u0438\\u0441\\u043e\\u043a \\u0432\\u043e\\u0448\\u043b\\u0438 \\u043c\\u0438\\u043d\\u0438\\u0441\\u0442\\u0440 \\u043e\\u0431\\u043e\\u0440\\u043e\\u043d\\u044b \\u0421\\u0435\\u0440\\u0433\\u0435\\u0439 \\u0428\\u043e\\u0439\\u0433\\u0443 \\u0438 \\u043d\\u0430\\u0447\\u0430\\u043b\\u044c\\u043d\\u0438\\u043a \\u0413\\u0435\\u043d\\u0448\\u0442\\u0430\\u0431\\u0430 \\u0412\\u0421 \\u0420\\u043e\\u0441\\u0441\\u0438\\u0438 \\u0412\\u0430\\u043b\\u0435\\u0440\\u0438\\u0439 \\u0413\\u0435\\u0440\\u0430\\u0441\\u0438\\u043c\\u043e\\u0432.\\u0424\\u043e\\u0442\\u043e: \\u041f\\u0440\\u0435\\u0441\\u0441-\\u0441\\u043b\\u0443\\u0436\\u0431\\u0430 \\u041c\\u0438\\u043d\\u043e\\u0431\\u043e\\u0440\\u043e\\u043d\\u044b \\u0420\\u0424\\u0422\\u0440\\u0435\\u0442\\u0438\\u0439 \\u0434\\u0435\\u043d\\u044c \\u0441\\u043f\\u0435\\u0446\\u043e\\u043f\\u0435\\u0440\\u0430\\u0446\\u0438\\u0438 \\u043d\\u0430 \\u0423\\u043a\\u0440\\u0430\\u0438\\u043d\\u0435\\u0420\\u0430\\u043d\\u043e \\u0443\\u0442\\u0440\\u043e\\u043c 26 \\u0444\\u0435\\u0432\\u0440\\u0430\\u043b\\u044f \\u0440\\u043e\\u0441\\u0441\\u0438\\u0439\\u0441\\u043a\\u043e\\u0435 \\u041c\\u0438\\u043d\\u043e\\u0431\\u043e\\u0440\\u043e\\u043d\\u044b \\u043e\\u0442\\u0447\\u0438\\u0442\\u0430\\u043b\\u043e\\u0441\\u044c \\u043e\\u0431 \\u0443\\u0441\\u0442\\u0430\\u043d\\u043e\\u0432\\u043b\\u0435\\u043d\\u0438\\u0438 \\u043a\\u043e\\u043d\\u0442\\u0440\\u043e\\u043b\\u044f \\u043d\\u0430\\u0434 \\u041c\\u0435\\u043b\\u0438\\u0442\\u043e\\u043f\\u043e\\u043b\\u0435\\u043c. \\u041f\\u0440\\u0438 \\u044d\\u0442\\u043e\\u043c \\u043f\\u0440\\u0435\\u0434\\u0441\\u0442\\u0430\\u0432\\u0438\\u0442\\u0435\\u043b\\u0438 \\u0432\\u0435\\u0434\\u043e\\u043c\\u0441\\u0442\\u0432\\u0430 \\u043e\\u0442\\u043c\\u0435\\u0442\\u0438\\u043b\\u0438, \\u0447\\u0442\\u043e \\u0443\\u043a\\u0440\\u0430\\u0438\\u043d\\u0441\\u043a\\u0438\\u0435 \\u043d\\u0430\\u0446\\u0431\\u0430\\u0442\\u0430\\u043b\\u044c\\u043e\\u043d\\u044b \\u043d\\u0430 \\u043f\\u0443\\u0442\\u044f\\u0445 \\u043e\\u0442\\u0445\\u043e\\u0434\\u0430 \\u0432\\u0437\\u0440\\u044b\\u0432\\u0430\\u044e\\u0442 \\u043c\\u043e\\u0441\\u0442\\u044b \\u0438 \\u044d\\u043b\\u0435\\u043a\\u0442\\u0440\\u043e\\u043f\\u043e\\u0434\\u0441\\u0442\\u0430\\u043d\\u0446\\u0438\\u0438.\\u0412 \\u0442\\u043e\\u0442 \\u0436\\u0435 \\u0434\\u0435\\u043d\\u044c \\u0440\\u043e\\u0441\\u0441\\u0438\\u0439\\u0441\\u043a\\u0438\\u0435 \\u043a\\u043e\\u0440\\u0430\\u0431\\u043b\\u0438 \\u0427\\u0435\\u0440\\u043d\\u043e\\u043c\\u043e\\u0440\\u0441\\u043a\\u043e\\u0433\\u043e \\u0444\\u043b\\u043e\\u0442\\u0430 \\u043e\\u0442\\u043f\\u0440\\u0430\\u0432\\u0438\\u043b\\u0438\\u0441\\u044c \\u043d\\u0430 \\u044d\\u0432\\u0430\\u043a\\u0443\\u0430\\u0446\\u0438\\u044e 82 \\u0441\\u0434\\u0430\\u0432\\u0448\\u0438\\u0445\\u0441\\u044f \\u0443\\u043a\\u0440\\u0430\\u0438\\u043d\\u0441\\u043a\\u0438\\u0445 \\u0432\\u043e\\u0435\\u043d\\u043d\\u043e\\u0441\\u043b\\u0443\\u0436\\u0430\\u0449\\u0438\\u0445 \\u043d\\u0430 \\u043e\\u0441\\u0442\\u0440\\u043e\\u0432\\u0435 \\u0417\\u043c\\u0435\\u0438\\u043d\\u044b\\u0439. \\u0420\\u043e\\u0441\\u0441\\u0438\\u0439\\u0441\\u043a\\u0438\\u0435 \\u0441\\u0443\\u0434\\u0430 \\u0430\\u0442\\u0430\\u043a\\u043e\\u0432\\u0430\\u043b\\u0438 16 \\u043a\\u0430\\u0442\\u0435\\u0440\\u043e\\u0432 \\u0432\\u043e\\u0435\\u043d\\u043d\\u043e-\\u043c\\u043e\\u0440\\u0441\\u043a\\u0438\\u0445 \\u0441\\u0438\\u043b \\u0423\\u043a\\u0440\\u0430\\u0438\\u043d\\u044b, \\u043d\\u0435\\u043a\\u043e\\u0442\\u043e\\u0440\\u044b\\u0435 \\u0438\\u0437 \\u043d\\u0438\\u0445 \\u0437\\u0430\\u043c\\u0430\\u0441\\u043a\\u0438\\u0440\\u043e\\u0432\\u0430\\u043b\\u0438\\u0441\\u044c \\u043f\\u043e\\u0434 \\u0433\\u0440\\u0430\\u0436\\u0434\\u0430\\u043d\\u0441\\u043a\\u0438\\u0435.\\u041f\\u0440\\u0438\\u0447\\u0438\\u043d\\u044b \\u043d\\u0430\\u0447\\u0430\\u043b\\u0430 \\u0441\\u043f\\u0435\\u0446\\u043e\\u043f\\u0435\\u0440\\u0430\\u0446\\u0438\\u0438 \\u043d\\u0430 \\u0423\\u043a\\u0440\\u0430\\u0438\\u043d\\u0435\\u0412 \\u043a\\u043e\\u043d\\u0446\\u0435 \\u043e\\u043a\\u0442\\u044f\\u0431\\u0440\\u044f 2022 \\u0433\\u043e\\u0434\\u0430 \\u0412\\u043b\\u0430\\u0434\\u0438\\u043c\\u0438\\u0440 \\u041f\\u0443\\u0442\\u0438\\u043d \\u043d\\u0430\\u0437\\u0432\\u0430\\u043b \\u0434\\u0432\\u0435 \\u0433\\u043b\\u0430\\u0432\\u043d\\u044b\\u0435 \\u043f\\u0440\\u0438\\u0447\\u0438\\u043d\\u044b \\u043d\\u0430\\u0447\\u0430\\u043b\\u0430 \\u0441\\u043f\\u0435\\u0446\\u043e\\u043f\\u0435\\u0440\\u0430\\u0446\\u0438\\u0438 \\u043d\\u0430 \\u0423\\u043a\\u0440\\u0430\\u0438\\u043d\\u0435.\\n\\u0412\\u043e-\\u043f\\u0435\\u0440\\u0432\\u044b\\u0445, \\u044d\\u0442\\u043e \\u0440\\u0430\\u0441\\u0448\\u0438\\u0440\\u0435\\u043d\\u0438\\u0435 \\u041d\\u0410\\u0422\\u041e, \\u0430 \\u0437\\u043d\\u0430\\u0447\\u0438\\u0442, \\u043d\\u0430\\u0440\\u0430\\u0449\\u0438\\u0432\\u0430\\u043d\\u0438\\u0435 \\u0432\\u043e\\u0437\\u043c\\u043e\\u0436\\u043d\\u043e\\u0439 \\u0443\\u0433\\u0440\\u043e\\u0437\\u044b \\u0434\\u043b\\u044f \\u0420\\u043e\\u0441\\u0441\\u0438\\u0438 \\u043d\\u0430 \\u0432\\u043e\\u0441\\u0442\\u043e\\u043a\\u0435 \\u0415\\u0432\\u0440\\u043e\\u043f\\u044b. \\n\\u0412\\u043e-\\u0432\\u0442\\u043e\\u0440\\u044b\\u0445, \\u043f\\u0440\\u0438\\u0437\\u043d\\u0430\\u043d\\u0438\\u0435 \\u043d\\u0435\\u0437\\u0430\\u0432\\u0438\\u0441\\u0438\\u043c\\u043e\\u0441\\u0442\\u0438 \\u0440\\u0435\\u0441\\u043f\\u0443\\u0431\\u043b\\u0438\\u043a \\u0414\\u043e\\u043d\\u0431\\u0430\\u0441\\u0441\\u0430 \\u043d\\u0430\\u043b\\u043e\\u0436\\u0438\\u043b\\u043e \\u043d\\u0430 \\u0420\\u043e\\u0441\\u0441\\u0438\\u044e \\u043e\\u0431\\u044f\\u0437\\u0430\\u0442\\u0435\\u043b\\u044c\\u0441\\u0442\\u0432\\u0430 \\u2014 \\u043d\\u0435\\u043b\\u044c\\u0437\\u044f \\u0431\\u044b\\u043b\\u043e \\u043f\\u0440\\u043e\\u0441\\u0442\\u043e \\u0442\\u0430\\u043a \\u0431\\u0440\\u043e\\u0441\\u0438\\u0442\\u044c \\u0438\\u0445, \\u0437\\u0430\\u044f\\u0432\\u0438\\u043b \\u043f\\u0440\\u0435\\u0437\\u0438\\u0434\\u0435\\u043d\\u0442. \\u041e\\u0444\\u0438\\u0446\\u0438\\u0430\\u043b\\u044c\\u043d\\u0430\\u044f \\u041c\\u043e\\u0441\\u043a\\u0432\\u0430 \\u043d\\u0435 \\u043d\\u0430\\u0447\\u0438\\u043d\\u0430\\u043b\\u0430 \\u0432\\u043e\\u0439\\u043d\\u0443, \\u043f\\u043e\\u0434\\u0447\\u0435\\u0440\\u043a\\u043d\\u0443\\u043b \\u041f\\u0443\\u0442\\u0438\\u043d, \\u0430 \\u0440\\u0435\\u0448\\u0438\\u043b\\u0430 \\u0437\\u0430\\u0432\\u0435\\u0440\\u0448\\u0438\\u0442\\u044c \\u0432\\u043e\\u0441\\u044c\\u043c\\u0438\\u043b\\u0435\\u0442\\u043d\\u044e\\u044e \\u0432\\u043e\\u0439\\u043d\\u0443 \\u0423\\u043a\\u0440\\u0430\\u0438\\u043d\\u044b \\u0441 \\u0414\\u043e\\u043d\\u0431\\u0430\\u0441\\u0441\\u043e\\u043c.\\n\\u0418\\u0441\\u0442\\u043e\\u0440\\u0438\\u0447\\u0435\\u0441\\u043a\\u043e\\u0435 \\u0437\\u043d\\u0430\\u0447\\u0435\\u043d\\u0438\\u0435 \\u0441\\u043f\\u0435\\u0446\\u043e\\u043f\\u0435\\u0440\\u0430\\u0446\\u0438\\u0438 \\u043d\\u0430 \\u0423\\u043a\\u0440\\u0430\\u0438\\u043d\\u0435\\u0418\\u0441\\u0442\\u043e\\u0440\\u0438\\u043a \\u042e\\u0440\\u0438\\u0439 \\u0411\\u043e\\u043d\\u0434\\u0430\\u0440\\u0435\\u043d\\u043a\\u043e \\u0432 \\u0431\\u0435\\u0441\\u0435\\u0434\\u0435 \\u0441 \\u00ab\\u041b\\u0435\\u043d\\u0442\\u043e\\u0439.\\u0440\\u0443\\u00bb \\u043f\\u0440\\u043e\\u0432\\u0435\\u043b \\u043f\\u0430\\u0440\\u0430\\u043b\\u043b\\u0435\\u043b\\u0438 \\u043c\\u0435\\u0436\\u0434\\u0443 \\u0421\\u0412\\u041e \\u0438 \\u043e\\u043a\\u043e\\u043d\\u0447\\u0430\\u043d\\u0438\\u0435\\u043c \\u0421\\u043c\\u0443\\u0442\\u043d\\u043e\\u0433\\u043e \\u0432\\u0440\\u0435\\u043c\\u0435\\u043d\\u0438 \\u043d\\u0430 \\u0420\\u0443\\u0441\\u0438 \\u0432 \\u043d\\u0430\\u0447\\u0430\\u043b\\u0435 XVII \\u0432\\u0435\\u043a\\u0430.\\u00ab\\u0421\\u043f\\u0435\\u0446\\u0438\\u0430\\u043b\\u044c\\u043d\\u0430\\u044f \\u0432\\u043e\\u0435\\u043d\\u043d\\u0430\\u044f \\u043e\\u043f\\u0435\\u0440\\u0430\\u0446\\u0438\\u044f \\u2014 \\u044d\\u0442\\u043e, \\u043f\\u043e \\u0441\\u0443\\u0442\\u0438, \\u0431\\u0438\\u0442\\u0432\\u0430 \\u0437\\u0430 \\u0432\\u043e\\u0441\\u0441\\u043e\\u0435\\u0434\\u0438\\u043d\\u0435\\u043d\\u0438\\u0435 \\u0440\\u0443\\u0441\\u0441\\u043a\\u0438\\u0445 \\u0437\\u0435\\u043c\\u0435\\u043b\\u044c, \\u043f\\u043e\\u0441\\u043a\\u043e\\u043b\\u044c\\u043a\\u0443 \\u0432\\u0441\\u0435 \\u0438\\u0441\\u0442\\u043e\\u0440\\u0438\\u0447\\u0435\\u0441\\u043a\\u0438\\u0435 \\u0432\\u0440\\u0430\\u0433\\u0438 \\u0420\\u043e\\u0441\\u0441\\u0438\\u0438 \\u043e\\u0431\\u044a\\u0435\\u0434\\u0438\\u043d\\u0438\\u043b\\u0438\\u0441\\u044c \\u0438 \\u0440\\u0435\\u0448\\u0438\\u043b\\u0438 \\u0441\\u0434\\u0435\\u043b\\u0430\\u0442\\u044c \\u0438\\u0437 \\u0423\\u043a\\u0440\\u0430\\u0438\\u043d\\u044b \\u0442\\u043e\\u043f\\u043e\\u0440 \\u0434\\u043b\\u044f \\u0443\\u043d\\u0438\\u0447\\u0442\\u043e\\u0436\\u0435\\u043d\\u0438\\u044f \\u0420\\u043e\\u0441\\u0441\\u0438\\u0438 \\u043a\\u0430\\u043a \\u0433\\u043e\\u0441\\u0443\\u0434\\u0430\\u0440\\u0441\\u0442\\u0432\\u0430 \\u0438 \\u0440\\u0443\\u0441\\u0441\\u043a\\u043e\\u0433\\u043e \\u043c\\u0438\\u0440\\u0430. \\u041f\\u0440\\u043e\\u0438\\u0433\\u0440\\u0430\\u0442\\u044c \\u043c\\u044b \\u043d\\u0435 \\u0438\\u043c\\u0435\\u0435\\u043c \\u043f\\u0440\\u0430\\u0432\\u0430: \\u0438\\u043b\\u0438 \\u043c\\u044b \\u043f\\u043e\\u0431\\u0435\\u0434\\u0438\\u043c, \\u0438\\u043b\\u0438 \\u0420\\u043e\\u0441\\u0441\\u0438\\u044f \\u0438\\u0441\\u0447\\u0435\\u0437\\u043d\\u0435\\u0442\\u00bb, \\u2014 \\u0432\\u044b\\u0440\\u0430\\u0437\\u0438\\u043b \\u0443\\u0432\\u0435\\u0440\\u0435\\u043d\\u043d\\u043e\\u0441\\u0442\\u044c \\u0441\\u043f\\u0435\\u0446\\u0438\\u0430\\u043b\\u0438\\u0441\\u0442.\\u0424\\u043e\\u0442\\u043e: \\u0421\\u0442\\u0430\\u043d\\u0438\\u0441\\u043b\\u0430\\u0432 \\u041a\\u0440\\u0430\\u0441\\u0438\\u043b\\u044c\\u043d\\u0438\\u043a\\u043e\\u0432 / \\u0420\\u0418\\u0410 \\u041d\\u043e\\u0432\\u043e\\u0441\\u0442\\u0438\\u0412\\u0430\\u0440\\u0438\\u0430\\u043d\\u0442\\u044b \\u0440\\u0430\\u0437\\u0432\\u0438\\u0442\\u0438\\u044f \\u0421\\u0412\\u041e\\u0421\\u0434\\u0435\\u043b\\u0430\\u0442\\u044c \\u0442\\u043e\\u0447\\u043d\\u044b\\u0435 \\u043f\\u0440\\u043e\\u0433\\u043d\\u043e\\u0437\\u044b \\u043e \\u0431\\u043e\\u0435\\u0432\\u044b\\u0445 \\u0434\\u0435\\u0439\\u0441\\u0442\\u0432\\u0438\\u044f\\u0445 \\u043f\\u043e\\u0447\\u0442\\u0438 \\u043d\\u0435\\u0432\\u043e\\u0437\\u043c\\u043e\\u0436\\u043d\\u043e, \\u0441\\u043e\\u0431\\u044b\\u0442\\u0438\\u044f \\u043e\\u0434\\u043d\\u043e\\u0433\\u043e \\u043b\\u0438\\u0448\\u044c \\u0434\\u043d\\u044f \\u043c\\u043e\\u0433\\u0443\\u0442 \\u043a\\u0430\\u0440\\u0434\\u0438\\u043d\\u0430\\u043b\\u044c\\u043d\\u043e \\u0438\\u0437\\u043c\\u0435\\u043d\\u0438\\u0442\\u044c \\u0445\\u043e\\u0434 \\u043a\\u043e\\u043d\\u0444\\u043b\\u0438\\u043a\\u0442\\u0430, \\u043f\\u043e\\u0434\\u0447\\u0435\\u0440\\u043a\\u043d\\u0443\\u043b \\u0432 \\u0440\\u0430\\u0437\\u0433\\u043e\\u0432\\u043e\\u0440\\u0435 \\u0441 \\u00ab\\u041b\\u0435\\u043d\\u0442\\u043e\\u0439.\\u0440\\u0443\\u00bb \\u0420\\u043e\\u043c\\u0430\\u043d \\u0428\\u043a\\u0443\\u0440\\u043b\\u0430\\u0442\\u043e\\u0432, \\u043f\\u0440\\u0435\\u0434\\u0441\\u0435\\u0434\\u0430\\u0442\\u0435\\u043b\\u044c \\u043f\\u0440\\u0430\\u0432\\u043b\\u0435\\u043d\\u0438\\u044f \\u041e\\u0431\\u0449\\u0435\\u0440\\u043e\\u0441\\u0441\\u0438\\u0439\\u0441\\u043a\\u043e\\u0439 \\u043e\\u0440\\u0433\\u0430\\u043d\\u0438\\u0437\\u0430\\u0446\\u0438\\u0438 \\u00ab\\u041e\\u0444\\u0438\\u0446\\u0435\\u0440\\u044b \\u0420\\u043e\\u0441\\u0441\\u0438\\u0438\\u00bb, \\u0432\\u043e\\u0435\\u043d\\u043d\\u044b\\u0439 \\u044d\\u043a\\u0441\\u043f\\u0435\\u0440\\u0442.\\u041e\\u043d \\u043f\\u043e\\u044f\\u0441\\u043d\\u0438\\u043b, \\u0447\\u0442\\u043e \\u0440\\u0430\\u0441\\u0441\\u043c\\u0430\\u0442\\u0440\\u0438\\u0432\\u0430\\u0435\\u0442 \\u0434\\u043b\\u044f \\u0441\\u0435\\u0431\\u044f \\u043b\\u0438\\u0447\\u043d\\u043e \\u0434\\u0432\\u0430 \\u0441\\u0446\\u0435\\u043d\\u0430\\u0440\\u0438\\u044f \\u0434\\u0430\\u043b\\u044c\\u043d\\u0435\\u0439\\u0448\\u0435\\u0433\\u043e \\u0440\\u0430\\u0437\\u0432\\u0438\\u0442\\u0438\\u044f \\u0421\\u0412\\u041e: \\u0443\\u043c\\u0435\\u0440\\u0435\\u043d\\u043d\\u043e \\u043e\\u043f\\u0442\\u0438\\u043c\\u0438\\u0441\\u0442\\u0438\\u0447\\u043d\\u044b\\u0439 \\u0438 \\u043f\\u043e\\u0432\\u044b\\u0448\\u0435\\u043d\\u043d\\u043e \\u043e\\u043f\\u0442\\u0438\\u043c\\u0438\\u0441\\u0442\\u0438\\u0447\\u043d\\u044b\\u0439, \\u0431\\u043b\\u0438\\u0437\\u043a\\u0438\\u0439 \\u043a \\u0438\\u0434\\u0435\\u0430\\u043b\\u044c\\u043d\\u043e\\u043c\\u0443. \\u041e\\u043d \\u043f\\u043e\\u0434\\u0447\\u0435\\u0440\\u043a\\u043d\\u0443\\u043b, \\u0447\\u0442\\u043e \\u043e\\u0431\\u0430 \\u044d\\u0442\\u0438\\u0445 \\u043f\\u0440\\u043e\\u0433\\u043d\\u043e\\u0437\\u0430 \\u0441\\u0443\\u0433\\u0443\\u0431\\u043e \\u0441\\u0443\\u0431\\u044a\\u0435\\u043a\\u0442\\u0438\\u0432\\u043d\\u044b.\\u0423\\u043c\\u0435\\u0440\\u0435\\u043d\\u043d\\u043e \\u043e\\u043f\\u0442\\u0438\\u043c\\u0438\\u0441\\u0442\\u0438\\u0447\\u043d\\u044b\\u0439 \\u0441\\u0446\\u0435\\u043d\\u0430\\u0440\\u0438\\u0439 \\u0440\\u0430\\u0437\\u0432\\u0438\\u0442\\u0438\\u044f \\u0421\\u0412\\u041e\\u042d\\u0442\\u043e\\u0442 \\u0441\\u0446\\u0435\\u043d\\u0430\\u0440\\u0438\\u0439 \\u0431\\u0443\\u0434\\u0435\\u0442 \\u0437\\u0430\\u043a\\u043b\\u044e\\u0447\\u0430\\u0442\\u044c\\u0441\\u044f \\u0432 \\u0442\\u043e\\u043c, \\u0447\\u0442\\u043e \\u0438\\u043d\\u0438\\u0446\\u0438\\u0430\\u0442\\u0438\\u0432\\u0430, \\u043a\\u043e\\u0442\\u043e\\u0440\\u0430\\u044f \\u043d\\u0430 \\u043a\\u043e\\u043d\\u0435\\u0446 \\u0444\\u0435\\u0432\\u0440\\u0430\\u043b\\u044f 2024 \\u0433\\u043e\\u0434\\u0430 \\u043f\\u043e\\u043b\\u043d\\u043e\\u0441\\u0442\\u044c\\u044e \\u043d\\u0430 \\u0441\\u0442\\u043e\\u0440\\u043e\\u043d\\u0435 \\u0412\\u043e\\u043e\\u0440\\u0443\\u0436\\u0435\\u043d\\u043d\\u044b\\u0445 \\u0441\\u0438\\u043b \\u0420\\u043e\\u0441\\u0441\\u0438\\u0439\\u0441\\u043a\\u043e\\u0439 \\u0424\\u0435\\u0434\\u0435\\u0440\\u0430\\u0446\\u0438\\u0438, \\u0442\\u0430\\u043a \\u0438 \\u043f\\u0440\\u043e\\u0434\\u043e\\u043b\\u0436\\u0438\\u0442 \\u043e\\u0441\\u0442\\u0430\\u0432\\u0430\\u0442\\u044c\\u0441\\u044f \\u0437\\u0430 \\u041c\\u043e\\u0441\\u043a\\u0432\\u043e\\u0439. \\u0412\\u043e\\u0439\\u0441\\u043a\\u0430 \\u043f\\u0440\\u043e\\u0434\\u043e\\u043b\\u0436\\u0430\\u0442 \\u043f\\u043e\\u043b\\u043d\\u043e\\u043c\\u0435\\u0440\\u043d\\u043e\\u0435 \\u043d\\u0430\\u0441\\u0442\\u0443\\u043f\\u0430\\u0442\\u0435\\u043b\\u044c\\u043d\\u043e\\u0435 \\u0438\\u043b\\u0438 \\u0430\\u043a\\u0442\\u0438\\u0432\\u043d\\u043e\\u0435 \\u043e\\u0431\\u043e\\u0440\\u043e\\u043d\\u0438\\u0442\\u0435\\u043b\\u044c\\u043d\\u043e\\u0435 \\u0434\\u0435\\u0439\\u0441\\u0442\\u0432\\u0438\\u0435 \\u043d\\u0430 \\u0432\\u0441\\u0435\\u0445 \\u043d\\u0430\\u043f\\u0440\\u0430\\u0432\\u043b\\u0435\\u043d\\u0438\\u044f\\u0445 \\u0421\\u0412\\u041e \\u2014 \\u043d\\u0430\\u0447\\u0438\\u043d\\u0430\\u044f \\u043e\\u0442 \\u043d\\u0438\\u0437\\u043e\\u0432\\u044c\\u0435\\u0432 \\u0414\\u043d\\u0435\\u043f\\u0440\\u0430 \\u0438 \\u0437\\u0430\\u043a\\u0430\\u043d\\u0447\\u0438\\u0432\\u0430\\u044f \\u0425\\u0430\\u0440\\u044c\\u043a\\u043e\\u0432\\u0441\\u043a\\u043e\\u0439 \\u043e\\u0431\\u043b\\u0430\\u0441\\u0442\\u044c\\u044e.\\u0424\\u043e\\u0442\\u043e: Thomas Peter/ Reuters\\u00ab\\u0412\\u0435\\u0437\\u0434\\u0435 \\u0431\\u0443\\u0434\\u0435\\u043c \\u043f\\u043e\\u043b\\u043d\\u043e\\u043c\\u0435\\u0440\\u043d\\u043e \\u043f\\u043e\\u0434\\u0436\\u0438\\u043c\\u0430\\u0442\\u044c \\u043f\\u0440\\u043e\\u0442\\u0438\\u0432\\u043d\\u0438\\u043a\\u0430, \\u043e\\u0441\\u0432\\u043e\\u0431\\u043e\\u0436\\u0434\\u0430\\u044f \\u043d\\u0430\\u0448\\u0438 \\u043d\\u0430\\u0441\\u0435\\u043b\\u0435\\u043d\\u043d\\u044b\\u0435 \\u043f\\u0443\\u043d\\u043a\\u0442\\u044b \\u0432 \\u0441\\u0443\\u0431\\u044a\\u0435\\u043a\\u0442\\u0430\\u0445 \\u0420\\u043e\\u0441\\u0441\\u0438\\u0439\\u0441\\u043a\\u043e\\u0439 \\u0424\\u0435\\u0434\\u0435\\u0440\\u0430\\u0446\\u0438\\u0438, \\u043d\\u0430 \\u0442\\u0430\\u043a \\u043d\\u0430\\u0437\\u044b\\u0432\\u0430\\u0435\\u043c\\u044b\\u0445 \\u043d\\u043e\\u0432\\u044b\\u0445 \\u0442\\u0435\\u0440\\u0440\\u0438\\u0442\\u043e\\u0440\\u0438\\u044f\\u0445, \\u043a\\u043e\\u0442\\u043e\\u0440\\u044b\\u0435 \\u043f\\u043e \\u041a\\u043e\\u043d\\u0441\\u0442\\u0438\\u0442\\u0443\\u0446\\u0438\\u0438 \\u0443\\u0436\\u0435 \\u044f\\u0432\\u043b\\u044f\\u044e\\u0442\\u0441\\u044f \\u0447\\u0430\\u0441\\u0442\\u044c\\u044e \\u0420\\u043e\\u0441\\u0441\\u0438\\u0439\\u0441\\u043a\\u043e\\u0439 \\u0424\\u0435\\u0434\\u0435\\u0440\\u0430\\u0446\\u0438\\u0438. \\u042d\\u0442\\u043e \\u0417\\u0430\\u043f\\u043e\\u0440\\u043e\\u0436\\u0441\\u043a\\u0430\\u044f \\u0438 \\u0425\\u0435\\u0440\\u0441\\u043e\\u043d\\u0441\\u043a\\u0430\\u044f \\u043e\\u0431\\u043b\\u0430\\u0441\\u0442\\u0438, \\u0414\\u043e\\u043d\\u0435\\u0446\\u043a\\u0430\\u044f \\u0438 \\u041b\\u0443\\u0433\\u0430\\u043d\\u0441\\u043a\\u0430\\u044f \\u043d\\u0430\\u0440\\u043e\\u0434\\u043d\\u044b\\u0435 \\u0440\\u0435\\u0441\\u043f\\u0443\\u0431\\u043b\\u0438\\u043a\\u0438\\u00bb, \\u2014 \\u043f\\u043e\\u044f\\u0441\\u043d\\u0438\\u043b \\u0428\\u043a\\u0443\\u0440\\u043b\\u0430\\u0442\\u043e\\u0432.\\u041a\\u0430\\u043a \\u0414\\u041d\\u0420, \\u041b\\u041d\\u0420 \\u0438 \\u0434\\u0432\\u0435 \\u043e\\u0431\\u043b\\u0430\\u0441\\u0442\\u0438 \\u0432\\u043e\\u0448\\u043b\\u0438 \\u0432 \\u0441\\u043e\\u0441\\u0442\\u0430\\u0432 \\u0420\\u043e\\u0441\\u0441\\u0438\\u0438?30 \\u0441\\u0435\\u043d\\u0442\\u044f\\u0431\\u0440\\u044f 2022 \\u0433\\u043e\\u0434\\u0430 \\u0414\\u041d\\u0420, \\u041b\\u041d\\u0420, \\u0430 \\u0442\\u0430\\u043a\\u0436\\u0435 \\u0417\\u0430\\u043f\\u043e\\u0440\\u043e\\u0436\\u0441\\u043a\\u0430\\u044f \\u043e\\u0431\\u043b\\u0430\\u0441\\u0442\\u044c \\u043f\\u043e \\u0438\\u0442\\u043e\\u0433\\u0430\\u043c \\u0440\\u0435\\u0444\\u0435\\u0440\\u0435\\u043d\\u0434\\u0443\\u043c\\u0430 \\u0432\\u043e\\u0448\\u043b\\u0438 \\u0432 \\u0441\\u043e\\u0441\\u0442\\u0430\\u0432 \\u0420\\u043e\\u0441\\u0441\\u0438\\u0438 \\u0432 \\u0441\\u0432\\u043e\\u0438\\u0445 \\u0430\\u0434\\u043c\\u0438\\u043d\\u0438\\u0441\\u0442\\u0440\\u0430\\u0442\\u0438\\u0432\\u043d\\u044b\\u0445 \\u0433\\u0440\\u0430\\u043d\\u0438\\u0446\\u0430\\u0445. \\u0422\\u0430\\u043a\\u0436\\u0435 \\u043a \\u0420\\u043e\\u0441\\u0441\\u0438\\u0438 \\u043f\\u0440\\u0438\\u0441\\u043e\\u0435\\u0434\\u0438\\u043d\\u0438\\u043b\\u0430\\u0441\\u044c \\u0438 \\u0425\\u0435\\u0440\\u0441\\u043e\\u043d\\u0441\\u043a\\u0430\\u044f \\u043e\\u0431\\u043b\\u0430\\u0441\\u0442\\u044c \\u0441 \\u0434\\u0432\\u0443\\u043c\\u044f \\u0440\\u0430\\u0439\\u043e\\u043d\\u0430\\u043c\\u0438 \\u041d\\u0438\\u043a\\u043e\\u043b\\u0430\\u0435\\u0432\\u0441\\u043a\\u043e\\u0439 \\u043e\\u0431\\u043b\\u0430\\u0441\\u0442\\u0438. \\u0412 \\u044d\\u0442\\u043e\\u0442 \\u0434\\u0435\\u043d\\u044c \\u0412\\u043b\\u0430\\u0434\\u0438\\u043c\\u0438\\u0440 \\u041f\\u0443\\u0442\\u0438\\u043d \\u043f\\u043e\\u0434\\u043f\\u0438\\u0441\\u0430\\u043b \\u0434\\u043e\\u0433\\u043e\\u0432\\u043e\\u0440 \\u043e \\u043f\\u0440\\u0438\\u0441\\u043e\\u0435\\u0434\\u0438\\u043d\\u0435\\u043d\\u0438\\u0438 \\u0441 \\u0433\\u043b\\u0430\\u0432\\u0430\\u043c\\u0438 \\u044d\\u0442\\u0438\\u0445 \\u0440\\u0435\\u0441\\u043f\\u0443\\u0431\\u043b\\u0438\\u043a \\u0438 \\u043e\\u0431\\u043b\\u0430\\u0441\\u0442\\u0435\\u0439. 3 \\u043e\\u043a\\u0442\\u044f\\u0431\\u0440\\u044f \\u0442\\u043e\\u0433\\u043e \\u0436\\u0435 \\u0433\\u043e\\u0434\\u0430 \\u0413\\u043e\\u0441\\u0434\\u0443\\u043c\\u0430 \\u043f\\u0440\\u043e\\u0433\\u043e\\u043b\\u043e\\u0441\\u043e\\u0432\\u0430\\u043b\\u0430 \\u0437\\u0430 \\u0440\\u0430\\u0442\\u0438\\u0444\\u0438\\u043a\\u0430\\u0446\\u0438\\u044e \\u0434\\u043e\\u0433\\u043e\\u0432\\u043e\\u0440\\u0430, \\u0430 \\u043d\\u0430 \\u0441\\u043b\\u0435\\u0434\\u0443\\u044e\\u0449\\u0438\\u0439 \\u0434\\u0435\\u043d\\u044c \\u0421\\u043e\\u0432\\u0435\\u0442 \\u0424\\u0435\\u0434\\u0435\\u0440\\u0430\\u0446\\u0438\\u0438 \\u043e\\u0434\\u043e\\u0431\\u0440\\u0438\\u043b \\u044d\\u0442\\u043e\\u0442 \\u0434\\u043e\\u043a\\u0443\\u043c\\u0435\\u043d\\u0442. \\u0412 \\u0438\\u0442\\u043e\\u0433\\u0435 \\u0447\\u0438\\u0441\\u043b\\u043e \\u0440\\u0435\\u0433\\u0438\\u043e\\u043d\\u043e\\u0432 \\u0441\\u0442\\u0440\\u0430\\u043d\\u044b \\u0432\\u044b\\u0440\\u043e\\u0441\\u043b\\u043e \\u0441 85 \\u0434\\u043e 89.\\u041f\\u0430\\u0443\\u0437\\u0430, \\u043a\\u043e\\u0442\\u043e\\u0440\\u0443\\u044e \\u0441\\u0435\\u0439\\u0447\\u0430\\u0441 \\u0432\\u0437\\u044f\\u043b\\u0438 \\u0421\\u043e\\u0435\\u0434\\u0438\\u043d\\u0435\\u043d\\u043d\\u044b\\u0435 \\u0428\\u0442\\u0430\\u0442\\u044b \\u0410\\u043c\\u0435\\u0440\\u0438\\u043a\\u0438 \\u0432 \\u043f\\u043e\\u0441\\u0442\\u0430\\u0432\\u043a\\u0430\\u0445 \\u0432\\u043e\\u043e\\u0440\\u0443\\u0436\\u0435\\u043d\\u0438\\u044f \\u0431\\u043e\\u0435\\u043f\\u0440\\u0438\\u043f\\u0430\\u0441\\u043e\\u0432 \\u0438 \\u0432\\u043e\\u0435\\u043d\\u043d\\u043e\\u0439 \\u0442\\u0435\\u0445\\u043d\\u0438\\u043a\\u0438 \\u043d\\u0430 \\u0423\\u043a\\u0440\\u0430\\u0438\\u043d\\u0443, \\u043f\\u0440\\u043e\\u0434\\u043b\\u0438\\u0442\\u0441\\u044f \\u0445\\u043e\\u0442\\u044f \\u0431\\u044b \\u0434\\u043e \\u043d\\u043e\\u044f\\u0431\\u0440\\u044f \\u0442\\u0435\\u043a\\u0443\\u0449\\u0435\\u0433\\u043e \\u0433\\u043e\\u0434\\u0430, \\u0442\\u043e \\u0435\\u0441\\u0442\\u044c \\u043a\\u043e\\u0433\\u0434\\u0430 \\u0432 \\u0421\\u0428\\u0410 \\u043f\\u0440\\u043e\\u0439\\u0434\\u0443\\u0442 \\u0432\\u044b\\u0431\\u043e\\u0440\\u044b \\u043f\\u0440\\u0435\\u0437\\u0438\\u0434\\u0435\\u043d\\u0442\\u0430. \\u042d\\u0442\\u043e \\u043f\\u043e\\u0437\\u0432\\u043e\\u043b\\u0438\\u0442 \\u0440\\u043e\\u0441\\u0441\\u0438\\u0439\\u0441\\u043a\\u043e\\u0439 \\u0430\\u0440\\u043c\\u0438\\u0438 \\u043f\\u043e\\u0441\\u0442\\u0443\\u043f\\u0430\\u0442\\u0435\\u043b\\u044c\\u043d\\u043e \\u0434\\u043e\\u0431\\u0438\\u0432\\u0430\\u0442\\u044c\\u0441\\u044f \\u043f\\u043e\\u0441\\u0442\\u0430\\u0432\\u043b\\u0435\\u043d\\u043d\\u044b\\u0445 \\u0446\\u0435\\u043b\\u0435\\u0439, \\u043e\\u0442\\u043c\\u0435\\u0442\\u0438\\u043b \\u0432\\u043e\\u0435\\u043d\\u043d\\u044b\\u0439 \\u044d\\u043a\\u0441\\u043f\\u0435\\u0440\\u0442.\\u041f\\u043e\\u0432\\u044b\\u0448\\u0435\\u043d\\u043d\\u043e \\u043e\\u043f\\u0442\\u0438\\u043c\\u0438\\u0441\\u0442\\u0438\\u0447\\u043d\\u044b\\u0439 \\u0441\\u0446\\u0435\\u043d\\u0430\\u0440\\u0438\\u0439 \\u0440\\u0430\\u0437\\u0432\\u0438\\u0442\\u0438\\u044f \\u0421\\u0412\\u041e\\u0428\\u043a\\u0443\\u0440\\u043b\\u0430\\u0442\\u043e\\u0432 \\u043f\\u043e\\u0434\\u0447\\u0435\\u0440\\u043a\\u043d\\u0443\\u043b, \\u0447\\u0442\\u043e \\u0443 \\u0423\\u043a\\u0440\\u0430\\u0438\\u043d\\u044b \\u0435\\u0441\\u0442\\u044c \\u0441\\u0435\\u0440\\u044c\\u0435\\u0437\\u043d\\u044b\\u0435 \\u043f\\u0440\\u043e\\u0431\\u043b\\u0435\\u043c\\u044b \\u0441 \\u043f\\u043e\\u0441\\u0442\\u0430\\u0432\\u043a\\u0430\\u043c\\u0438 \\u0438 \\u043e\\u0431\\u0441\\u043b\\u0443\\u0436\\u0438\\u0432\\u0430\\u043d\\u0438\\u0435\\u043c \\u0437\\u0430\\u043f\\u0430\\u0434\\u043d\\u043e\\u0433\\u043e \\u043e\\u0440\\u0443\\u0436\\u0438\\u044f, \\u0430 \\u0442\\u0430\\u043a\\u0436\\u0435 \\u043f\\u0440\\u043e\\u0431\\u043b\\u0435\\u043c\\u044b \\u0441 \\u0431\\u043e\\u0435\\u043f\\u0440\\u0438\\u043f\\u0430\\u0441\\u0430\\u043c\\u0438 \\u043a \\u044d\\u0442\\u043e\\u043c\\u0443 \\u043e\\u0440\\u0443\\u0436\\u0438\\u044e, \\u043a\\u043e\\u0442\\u043e\\u0440\\u044b\\u0435 \\u043d\\u0435 \\u043d\\u0430\\u0441\\u0442\\u043e\\u043b\\u044c\\u043a\\u043e \\u0443\\u043d\\u0438\\u0444\\u0438\\u0446\\u0438\\u0440\\u043e\\u0432\\u0430\\u043d\\u044b, \\u043a\\u0430\\u043a \\u043a\\u0430\\u0437\\u0430\\u043b\\u043e\\u0441\\u044c. \\u00ab\\u0414\\u0430\\u0436\\u0435 \\u043f\\u0440\\u0435\\u0441\\u043b\\u043e\\u0432\\u0443\\u0442\\u044b\\u0435 \\u043d\\u0430\\u0442\\u043e\\u0432\\u0441\\u043a\\u0438\\u0435 \\u0441\\u0442\\u0430\\u043d\\u0434\\u0430\\u0440\\u0442\\u044b \\u043e\\u043a\\u0430\\u0437\\u0430\\u043b\\u0438\\u0441\\u044c \\u043d\\u0435\\u0441\\u0442\\u0430\\u043d\\u0434\\u0430\\u0440\\u0442\\u043d\\u044b. \\u0422\\u0435 \\u0436\\u0435, \\u0434\\u043e\\u043f\\u0443\\u0441\\u0442\\u0438\\u043c, 150-\\u043c\\u0438\\u043b\\u043b\\u0438\\u043c\\u0435\\u0442\\u0440\\u043e\\u0432\\u044b\\u0435 \\u0441\\u043d\\u0430\\u0440\\u044f\\u0434\\u044b \\u043f\\u043e\\u0434\\u0445\\u043e\\u0434\\u044f\\u0442 \\u043a \\u043e\\u0434\\u043d\\u043e\\u0439 \\u043f\\u0443\\u0448\\u043a\\u0435, \\u043d\\u043e \\u043d\\u0435 \\u043f\\u043e\\u0434\\u0445\\u043e\\u0434\\u044f\\u0442 \\u043a \\u0434\\u0440\\u0443\\u0433\\u043e\\u0439, \\u0445\\u043e\\u0442\\u044f \\u043a\\u0430\\u043b\\u0438\\u0431\\u0440 \\u0430\\u0431\\u0441\\u043e\\u043b\\u044e\\u0442\\u043d\\u043e \\u043e\\u0434\\u0438\\u043d\\u0430\\u043a\\u043e\\u0432\\u044b\\u0439\\u00bb, \\u2014 \\u043e\\u0431\\u044a\\u044f\\u0441\\u043d\\u0438\\u043b \\u0441\\u043e\\u0431\\u0435\\u0441\\u0435\\u0434\\u043d\\u0438\\u043a \\u00ab\\u041b\\u0435\\u043d\\u0442\\u044b.\\u0440\\u0443\\u00bb.\\u0424\\u043e\\u0442\\u043e: Reuters\\u041a \\u0442\\u043e\\u043c\\u0443 \\u0436\\u0435 \\u0443 \\u0423\\u043a\\u0440\\u0430\\u0438\\u043d\\u044b \\u0435\\u0441\\u0442\\u044c \\u043f\\u0440\\u043e\\u0431\\u043b\\u0435\\u043c\\u044b \\u0441 \\u0436\\u0438\\u0432\\u043e\\u0439 \\u0441\\u0438\\u043b\\u043e\\u0439.\\u0423\\u043a\\u0440\\u0430\\u0438\\u043d\\u0430 \\u0432\\u044b\\u0433\\u0440\\u0435\\u0431\\u0430\\u0435\\u0442 \\u043f\\u043e\\u0441\\u043b\\u0435\\u0434\\u043d\\u0438\\u0435 \\u043c\\u043e\\u0431\\u0438\\u043b\\u0438\\u0437\\u0430\\u0446\\u0438\\u043e\\u043d\\u043d\\u044b\\u0435 \\u0440\\u0435\\u0441\\u0443\\u0440\\u0441\\u044b, \\u043a\\u043e\\u0442\\u043e\\u0440\\u044b\\u0435 \\u043d\\u0435 \\u043e\\u0442\\u043b\\u0438\\u0447\\u0430\\u044e\\u0442\\u0441\\u044f \\u043d\\u0438 \\u043f\\u043e\\u0434\\u0433\\u043e\\u0442\\u043e\\u0432\\u043a\\u043e\\u0439, \\u043d\\u0438 \\u043c\\u043e\\u0442\\u0438\\u0432\\u0430\\u0446\\u0438\\u0435\\u0439, \\u2014 \\u043d\\u0438 \\u0442\\u043e\\u0433\\u043e \\u043d\\u0438 \\u0434\\u0440\\u0443\\u0433\\u043e\\u0433\\u043e \\u0443 \\u043d\\u0438\\u0445 \\u043d\\u0435\\u0442. \\u0410 \\u0435\\u0449\\u0435 \\u0438 \\u043f\\u0440\\u043e\\u0431\\u043b\\u0435\\u043c\\u044b \\u0441 \\u043e\\u0440\\u0443\\u0436\\u0438\\u0435\\u043c. \\u0412 \\u043e\\u0431\\u0449\\u0435\\u043c, \\u0435\\u0441\\u043b\\u0438 \\u0432\\u0441\\u0435 \\u044d\\u0442\\u0438 \\u0441\\u043e\\u0441\\u0442\\u0430\\u0432\\u043b\\u044f\\u044e\\u0449\\u0438\\u0435 \\u0441\\u043e\\u0439\\u0434\\u0443\\u0442\\u0441\\u044f \\u0432 \\u043e\\u0434\\u043d\\u043e\\u0439 \\u0442\\u043e\\u0447\\u043a\\u0435, \\u0412\\u0421\\u0423, \\u0432\\u043f\\u043e\\u043b\\u043d\\u0435 \\u0432\\u043e\\u0437\\u043c\\u043e\\u0436\\u043d\\u043e, \\u0433\\u0434\\u0435-\\u0442\\u043e \\u043f\\u0440\\u043e\\u0432\\u0430\\u043b\\u044f\\u0442 \\u0444\\u0440\\u043e\\u043d\\u0442, \\u0438 \\u043c\\u044b \\u044d\\u0442\\u0438\\u043c \\u0432\\u043e\\u0441\\u043f\\u043e\\u043b\\u044c\\u0437\\u0443\\u0435\\u043c\\u0441\\u044f. \\u0422\\u043e\\u0433\\u0434\\u0430 \\u0432 \\u043e\\u0434\\u043d\\u043e\\u0447\\u0430\\u0441\\u044c\\u0435 \\u0432 \\u0412\\u0421\\u0423 \\u043c\\u043e\\u0436\\u0435\\u0442 \\u043f\\u0440\\u043e\\u0438\\u0437\\u043e\\u0439\\u0442\\u0438 \\u043a\\u0430\\u0440\\u0434\\u0438\\u043d\\u0430\\u043b\\u044c\\u043d\\u044b\\u0439 \\u0441\\u0442\\u0440\\u0430\\u0442\\u0435\\u0433\\u0438\\u0447\\u0435\\u0441\\u043a\\u0438\\u0439 \\u043f\\u0435\\u0440\\u0435\\u043b\\u043e\\u043c. \\u0418 \\u043f\\u0440\\u043e\\u0442\\u0438\\u0432\\u043d\\u0438\\u043a\\u0443 \\u043d\\u0438\\u0447\\u0435\\u0433\\u043e \\u043d\\u0435 \\u043e\\u0441\\u0442\\u0430\\u043d\\u0435\\u0442\\u0441\\u044f, \\u043a\\u0430\\u043a \\u043f\\u0440\\u043e\\u0441\\u0442\\u043e \\u0431\\u0435\\u0436\\u0430\\u0442\\u044c\\u0420\\u043e\\u043c\\u0430\\u043d \\u0428\\u043a\\u0443\\u0440\\u043b\\u0430\\u0442\\u043e\\u0432\\u0432\\u043e\\u0435\\u043d\\u043d\\u044b\\u0439 \\u044d\\u043a\\u0441\\u043f\\u0435\\u0440\\u0442\\u0427\\u0435\\u043c \\u043c\\u043e\\u0436\\u0435\\u0442 \\u0437\\u0430\\u0432\\u0435\\u0440\\u0448\\u0438\\u0442\\u044c\\u0441\\u044f \\u0421\\u0412\\u041e\\u041f\\u043e\\u043b\\u0438\\u0442\\u043a\\u043e\\u043d\\u0441\\u0443\\u043b\\u044c\\u0442\\u0430\\u043d\\u0442 \\u0420\\u0443\\u0441\\u043b\\u0430\\u043d \\u0410\\u043d\\u0434\\u0440\\u0435\\u0435\\u0432 \\u0432 \\u0440\\u0430\\u0437\\u0433\\u043e\\u0432\\u043e\\u0440\\u0435 \\u0441 \\u00ab\\u041b\\u0435\\u043d\\u0442\\u043e\\u0439.\\u0440\\u0443\\u00bb \\u0432\\u044b\\u0440\\u0430\\u0437\\u0438\\u043b \\u0443\\u0432\\u0435\\u0440\\u0435\\u043d\\u043d\\u043e\\u0441\\u0442\\u044c, \\u0447\\u0442\\u043e \\u0441\\u043f\\u0435\\u0446\\u0438\\u0430\\u043b\\u044c\\u043d\\u0430\\u044f \\u0432\\u043e\\u0435\\u043d\\u043d\\u0430\\u044f \\u043e\\u043f\\u0435\\u0440\\u0430\\u0446\\u0438\\u044f, \\u043a\\u0430\\u043a \\u0438 \\u043b\\u044e\\u0431\\u043e\\u0439 \\u043a\\u043e\\u043d\\u0444\\u043b\\u0438\\u043a\\u0442, \\u0434\\u043e\\u043b\\u0436\\u0435\\u043d \\u0437\\u0430\\u0432\\u0435\\u0440\\u0448\\u0438\\u0442\\u044c\\u0441\\u044f \\u043f\\u0435\\u0440\\u0435\\u0433\\u043e\\u0432\\u043e\\u0440\\u0430\\u043c\\u0438.\\u00ab\\u0412\\u043b\\u0430\\u0434\\u0438\\u043c\\u0438\\u0440 \\u041f\\u0443\\u0442\\u0438\\u043d \\u0432 \\u0438\\u043d\\u0442\\u0435\\u0440\\u0432\\u044c\\u044e \\u0422\\u0430\\u043a\\u0435\\u0440\\u0443 \\u041a\\u0430\\u0440\\u043b\\u0441\\u043e\\u043d\\u0443 \\u0434\\u0430\\u043b \\u0447\\u0435\\u0442\\u043a\\u0443\\u044e \\u0440\\u0430\\u043c\\u043a\\u0443 \\u043f\\u0435\\u0440\\u0432\\u043e\\u0439 \\u043f\\u043e\\u0437\\u0438\\u0446\\u0438\\u0438 \\u0420\\u043e\\u0441\\u0441\\u0438\\u0438 \\u043e \\u0433\\u043e\\u0442\\u043e\\u0432\\u043d\\u043e\\u0441\\u0442\\u0438 \\u043a \\u043f\\u0435\\u0440\\u0435\\u0433\\u043e\\u0432\\u043e\\u0440\\u0430\\u043c. \\u0412\\u0442\\u043e\\u0440\\u043e\\u0435 \\u2014 \\u044d\\u0442\\u043e \\u043e\\u0431\\u0441\\u0443\\u0436\\u0434\\u0435\\u043d\\u0438\\u0435 \\u043d\\u0435\\u043e\\u0431\\u0445\\u043e\\u0434\\u0438\\u043c\\u044b\\u0445 \\u0443\\u0441\\u043b\\u043e\\u0432\\u0438\\u0439 \\u0443\\u0436\\u0435 \\u043d\\u0430 \\u044d\\u0442\\u0438\\u0445 \\u043f\\u0435\\u0440\\u0435\\u0433\\u043e\\u0432\\u043e\\u0440\\u0430\\u0445. \\u0415\\u0434\\u0438\\u043d\\u0441\\u0442\\u0432\\u0435\\u043d\\u043d\\u043e\\u0435 \\u043f\\u0440\\u0435\\u043f\\u044f\\u0442\\u0441\\u0442\\u0432\\u0438\\u0435 \\u0432 \\u044d\\u0442\\u0438\\u0445 \\u043f\\u0435\\u0440\\u0435\\u0433\\u043e\\u0432\\u043e\\u0440\\u0430\\u0445 \\u2014 \\u044d\\u0442\\u043e \\u043e\\u0444\\u0438\\u0446\\u0438\\u0430\\u043b\\u044c\\u043d\\u044b\\u0439 \\u0437\\u0430\\u043f\\u0440\\u0435\\u0442 \\u0412\\u0435\\u0440\\u0445\\u043e\\u0432\\u043d\\u043e\\u0439 \\u0420\\u0430\\u0434\\u044b \\u0423\\u043a\\u0440\\u0430\\u0438\\u043d\\u044b \\u0432\\u0435\\u0441\\u0442\\u0438 \\u043f\\u0435\\u0440\\u0435\\u0433\\u043e\\u0432\\u043e\\u0440\\u044b \\u0441 \\u0420\\u043e\\u0441\\u0441\\u0438\\u0439\\u0441\\u043a\\u043e\\u0439 \\u0424\\u0435\\u0434\\u0435\\u0440\\u0430\\u0446\\u0438\\u0435\\u0439. \\u0427\\u0442\\u043e \\u043a\\u0430\\u0441\\u0430\\u0435\\u0442\\u0441\\u044f \\u0437\\u0430\\u043f\\u0430\\u0434\\u043d\\u044b\\u0445 \\u043f\\u0430\\u0440\\u0442\\u043d\\u0435\\u0440\\u043e\\u0432 \\u0423\\u043a\\u0440\\u0430\\u0438\\u043d\\u044b, \\u0442\\u043e \\u043a \\u043f\\u0435\\u0440\\u0435\\u0433\\u043e\\u0432\\u043e\\u0440\\u0430\\u043c \\u043e\\u043d\\u0438 \\u043d\\u0435 \\u0433\\u043e\\u0442\\u043e\\u0432\\u044b. \\u041e\\u0431 \\u044d\\u0442\\u043e\\u043c \\u043d\\u0435\\u043e\\u0434\\u043d\\u043e\\u043a\\u0440\\u0430\\u0442\\u043d\\u043e \\u0437\\u0430\\u044f\\u0432\\u043b\\u044f\\u043b\\u0438 \\u043e\\u0444\\u0438\\u0446\\u0438\\u0430\\u043b\\u044c\\u043d\\u044b\\u0435 \\u043f\\u0440\\u0435\\u0434\\u0441\\u0442\\u0430\\u0432\\u0438\\u0442\\u0435\\u043b\\u0438\\u00bb, \\u2014 \\u043f\\u043e\\u044f\\u0441\\u043d\\u0438\\u043b \\u0410\\u043d\\u0434\\u0440\\u0435\\u0435\\u0432.\\u041f\\u043e\\u043b\\u0438\\u0442\\u043a\\u043e\\u043d\\u0441\\u0443\\u043b\\u044c\\u0442\\u0430\\u043d\\u0442 \\u043e\\u0431\\u0440\\u0430\\u0442\\u0438\\u043b \\u0432\\u043d\\u0438\\u043c\\u0430\\u043d\\u0438\\u0435, \\u0447\\u0442\\u043e \\u0432\\u043d\\u0443\\u0442\\u0440\\u0438 \\u0423\\u043a\\u0440\\u0430\\u0438\\u043d\\u044b \\u0443\\u0436\\u0435 \\u0432\\u044b\\u0437\\u0440\\u0435\\u043b \\u0432\\u043d\\u0443\\u0442\\u0440\\u0438\\u043f\\u043e\\u043b\\u0438\\u0442\\u0438\\u0447\\u0435\\u0441\\u043a\\u0438\\u0439 \\u043a\\u0440\\u0438\\u0437\\u0438\\u0441, \\u0438 \\u043e\\u043d \\u0443\\u0441\\u0438\\u043b\\u0438\\u0432\\u0430\\u0435\\u0442\\u0441\\u044f \\u043f\\u043e \\u043c\\u0435\\u0440\\u0435 \\u043f\\u0440\\u0438\\u0431\\u043b\\u0438\\u0436\\u0435\\u043d\\u0438\\u044f \\u043a \\u043e\\u043a\\u043e\\u043d\\u0447\\u0430\\u043d\\u0438\\u044e \\u043e\\u0444\\u0438\\u0446\\u0438\\u0430\\u043b\\u044c\\u043d\\u043e\\u0433\\u043e \\u043f\\u0440\\u0435\\u0437\\u0438\\u0434\\u0435\\u043d\\u0442\\u0441\\u043a\\u043e\\u0433\\u043e \\u0441\\u0440\\u043e\\u043a\\u0430 \\u0433\\u043b\\u0430\\u0432\\u044b \\u0441\\u0442\\u0440\\u0430\\u043d\\u044b \\u0412\\u043b\\u0430\\u0434\\u0438\\u043c\\u0438\\u0440\\u0430 \\u0417\\u0435\\u043b\\u0435\\u043d\\u0441\\u043a\\u043e\\u0433\\u043e. \\u0412 \\u043c\\u0430\\u0435 2024 \\u0433\\u043e\\u0434\\u0430 \\u0438\\u0441\\u0442\\u0435\\u043a\\u0430\\u0435\\u0442 \\u043f\\u044f\\u0442\\u0438\\u043b\\u0435\\u0442\\u043d\\u0438\\u0439 \\u0441\\u0440\\u043e\\u043a \\u0435\\u0433\\u043e \\u043f\\u0440\\u0430\\u0432\\u043b\\u0435\\u043d\\u0438\\u044f.\\u0424\\u043e\\u0442\\u043e: Doug Mills / Reuters\\u0412 \\u041a\\u043e\\u043d\\u0441\\u0442\\u0438\\u0442\\u0443\\u0446\\u0438\\u0438 \\u0423\\u043a\\u0440\\u0430\\u0438\\u043d\\u044b \\u043d\\u0435 \\u0443\\u043a\\u0430\\u0437\\u0430\\u043d\\u043e, \\u0447\\u0442\\u043e \\u0434\\u0435\\u043b\\u0430\\u0442\\u044c \\u043f\\u0440\\u0438 \\u0432\\u043e\\u0435\\u043d\\u043d\\u043e\\u043c \\u043f\\u043e\\u043b\\u043e\\u0436\\u0435\\u043d\\u0438\\u0438, \\u043a\\u043e\\u0433\\u0434\\u0430 \\u043e\\u0442\\u043c\\u0435\\u043d\\u0435\\u043d\\u044b \\u0432\\u044b\\u0431\\u043e\\u0440\\u044b, \\u043e\\u0434\\u043d\\u0430\\u043a\\u043e \\u043b\\u0435\\u0433\\u0438\\u0442\\u0438\\u043c\\u043d\\u043e\\u0441\\u0442\\u044c \\u0434\\u0435\\u0439\\u0441\\u0442\\u0432\\u0443\\u044e\\u0449\\u0435\\u0433\\u043e \\u043f\\u0440\\u0435\\u0437\\u0438\\u0434\\u0435\\u043d\\u0442\\u0430 \\u0437\\u0430\\u043a\\u0430\\u043d\\u0447\\u0438\\u0432\\u0430\\u0435\\u0442\\u0441\\u044f. \\u041f\\u043e \\u0441\\u043b\\u043e\\u0432\\u0430\\u043c \\u0410\\u043d\\u0434\\u0440\\u0435\\u0435\\u0432\\u0430, \\u0443 \\u043d\\u044b\\u043d\\u0435\\u0448\\u043d\\u0435\\u0433\\u043e \\u0433\\u043b\\u0430\\u0432\\u044b \\u0441\\u0442\\u0440\\u0430\\u043d\\u044b \\u0412\\u043b\\u0430\\u0434\\u0438\\u043c\\u0438\\u0440\\u0430 \\u0417\\u0435\\u043b\\u0435\\u043d\\u0441\\u043a\\u043e\\u0433\\u043e \\u043e\\u0447\\u0435\\u043d\\u044c \\u043d\\u0438\\u0437\\u043a\\u0438\\u0439 \\u0440\\u0435\\u0439\\u0442\\u0438\\u043d\\u0433 \\u0441\\u0440\\u0435\\u0434\\u0438 \\u043f\\u0440\\u043e\\u0441\\u0442\\u043e\\u0433\\u043e \\u043d\\u0430\\u0440\\u043e\\u0434\\u0430: \\u043f\\u043e\\u0441\\u043b\\u0435\\u0434\\u043d\\u0438\\u0439 \\u043e\\u043f\\u0440\\u043e\\u0441 \\u043f\\u043e\\u043a\\u0430\\u0437\\u0430\\u043b, \\u0447\\u0442\\u043e 43 \\u043f\\u0440\\u043e\\u0446\\u0435\\u043d\\u0442\\u0430 \\u0433\\u0440\\u0430\\u0436\\u0434\\u0430\\u043d \\u0423\\u043a\\u0440\\u0430\\u0438\\u043d\\u044b \\u043d\\u0435 \\u0445\\u043e\\u0442\\u044f\\u0442 \\u0435\\u0433\\u043e \\u043f\\u0435\\u0440\\u0435\\u0438\\u0437\\u0431\\u0440\\u0430\\u043d\\u0438\\u044f \\u043d\\u0430 \\u0432\\u0442\\u043e\\u0440\\u043e\\u0439 \\u0441\\u0440\\u043e\\u043a.\\u0410 \\u0432\\u043e\\u0442 \\u0440\\u0435\\u0439\\u0442\\u0438\\u043d\\u0433 \\u0435\\u0433\\u043e \\u0433\\u043b\\u0430\\u0432\\u043d\\u043e\\u0433\\u043e \\u043d\\u0430 \\u0441\\u0435\\u0433\\u043e\\u0434\\u043d\\u044f\\u0448\\u043d\\u0438\\u0439 \\u0434\\u0435\\u043d\\u044c \\u043f\\u043e\\u043b\\u0438\\u0442\\u0438\\u0447\\u0435\\u0441\\u043a\\u043e\\u0433\\u043e \\u043e\\u043f\\u043f\\u043e\\u043d\\u0435\\u043d\\u0442\\u0430, \\u0431\\u044b\\u0432\\u0448\\u0435\\u0433\\u043e \\u0433\\u043b\\u0430\\u0432\\u043a\\u043e\\u043c\\u0430 \\u0412\\u0421\\u0423 \\u0412\\u0430\\u043b\\u0435\\u0440\\u0438\\u044f \\u0417\\u0430\\u043b\\u0443\\u0436\\u043d\\u043e\\u0433\\u043e, \\u0432 \\u0434\\u0432\\u0430 \\u0440\\u0430\\u0437\\u0430 \\u043f\\u0440\\u0435\\u0432\\u044b\\u0448\\u0430\\u0435\\u0442 \\u0440\\u0435\\u0439\\u0442\\u0438\\u043d\\u0433 \\u0417\\u0435\\u043b\\u0435\\u043d\\u0441\\u043a\\u043e\\u0433\\u043e, \\u0441\\u043e\\u0433\\u043b\\u0430\\u0441\\u043d\\u043e \\u043d\\u043e\\u044f\\u0431\\u0440\\u044c\\u0441\\u043a\\u043e\\u043c\\u0443 \\u043e\\u043f\\u0440\\u043e\\u0441\\u0443 The Economist.\\u041f\\u043e \\u0434\\u0430\\u043d\\u043d\\u044b\\u043c \\u043e\\u043f\\u0440\\u043e\\u0441\\u043e\\u0432, \\u043d\\u0430 \\u0431\\u043b\\u0438\\u0436\\u0430\\u0439\\u0448\\u0438\\u0445 \\u0432\\u044b\\u0431\\u043e\\u0440\\u0430\\u0445 \\u043f\\u0440\\u0435\\u0437\\u0438\\u0434\\u0435\\u043d\\u0442\\u0430 \\u0417\\u0430\\u043b\\u0443\\u0436\\u043d\\u044b\\u0439 \\u0441\\u043f\\u043e\\u0441\\u043e\\u0431\\u0435\\u043d \\u043f\\u043e\\u0431\\u0435\\u0434\\u0438\\u0442\\u044c \\u0417\\u0435\\u043b\\u0435\\u043d\\u0441\\u043a\\u043e\\u0433\\u043e \\u0441 \\u0431\\u043e\\u043b\\u044c\\u0448\\u0438\\u043c \\u043e\\u0442\\u0440\\u044b\\u0432\\u043e\\u043c \\u0434\\u0430\\u0436\\u0435 \\u0432 \\u043f\\u0435\\u0440\\u0432\\u043e\\u043c \\u0442\\u0443\\u0440\\u0435. \\u0412 \\u0442\\u043e \\u0436\\u0435 \\u0432\\u0440\\u0435\\u043c\\u044f \\u0432 \\u043c\\u0430\\u0440\\u0442\\u0435 \\u043f\\u0440\\u043e\\u0439\\u0434\\u0443\\u0442 \\u0432\\u044b\\u0431\\u043e\\u0440\\u044b \\u043f\\u0440\\u0435\\u0437\\u0438\\u0434\\u0435\\u043d\\u0442\\u0430 \\u0420\\u043e\\u0441\\u0441\\u0438\\u0438, \\u043a\\u043e\\u0442\\u043e\\u0440\\u044b\\u0435 \\u0434\\u043e\\u043b\\u0436\\u043d\\u044b \\u043f\\u043e\\u0434\\u0442\\u0432\\u0435\\u0440\\u0434\\u0438\\u0442\\u044c \\u043b\\u0435\\u0433\\u0438\\u0442\\u0438\\u043c\\u043d\\u043e\\u0441\\u0442\\u044c \\u0440\\u043e\\u0441\\u0441\\u0438\\u0439\\u0441\\u043a\\u0438\\u0445 \\u0432\\u043b\\u0430\\u0441\\u0442\\u0435\\u0439, \\u043a\\u043e\\u0442\\u043e\\u0440\\u044b\\u0435 \\u043c\\u043e\\u0433\\u0443\\u0442 \\u0432\\u0435\\u0441\\u0442\\u0438 \\u043f\\u0435\\u0440\\u0435\\u0433\\u043e\\u0432\\u043e\\u0440\\u044b \\u0441 \\u0423\\u043a\\u0440\\u0430\\u0438\\u043d\\u043e\\u0439\\u0420\\u0443\\u0441\\u043b\\u0430\\u043d \\u0410\\u043d\\u0434\\u0440\\u0435\\u0435\\u0432\\u043f\\u043e\\u043b\\u0438\\u0442\\u043a\\u043e\\u043d\\u0441\\u0443\\u043b\\u044c\\u0442\\u0430\\u043d\\u0442\\u0412 \\u0438\\u0442\\u043e\\u0433\\u0435, \\u043f\\u043e\\u044f\\u0441\\u043d\\u0438\\u043b \\u0441\\u043e\\u0431\\u0435\\u0441\\u0435\\u0434\\u043d\\u0438\\u043a \\u00ab\\u041b\\u0435\\u043d\\u0442\\u044b.\\u0440\\u0443\\u00bb, \\u043c\\u043e\\u0436\\u0435\\u0442 \\u0441\\u043b\\u043e\\u0436\\u0438\\u0442\\u044c\\u0441\\u044f \\u0441\\u0438\\u0442\\u0443\\u0430\\u0446\\u0438\\u044f, \\u0447\\u0442\\u043e \\u0443 \\u0420\\u043e\\u0441\\u0441\\u0438\\u0438 \\u043f\\u0440\\u043e\\u0441\\u0442\\u043e \\u043d\\u0435 \\u0431\\u0443\\u0434\\u0435\\u0442 \\u043b\\u0435\\u0433\\u0438\\u0442\\u0438\\u043c\\u043d\\u043e\\u0433\\u043e \\u0441\\u043e\\u0431\\u0435\\u0441\\u0435\\u0434\\u043d\\u0438\\u043a\\u0430 \\u0434\\u043b\\u044f \\u043f\\u0435\\u0440\\u0435\\u0433\\u043e\\u0432\\u043e\\u0440\\u043e\\u0432. \\u0418 \\u044d\\u0442\\u043e \\u043e\\u0447\\u0435\\u043d\\u044c \\u0431\\u043e\\u043b\\u044c\\u0448\\u0430\\u044f \\u0432\\u043d\\u0443\\u0442\\u0440\\u0435\\u043d\\u043d\\u044f\\u044f \\u043f\\u0440\\u043e\\u0431\\u043b\\u0435\\u043c\\u0430 \\u0432 \\u043f\\u0435\\u0440\\u0432\\u0443\\u044e \\u043e\\u0447\\u0435\\u0440\\u0435\\u0434\\u044c \\u0434\\u043b\\u044f \\u0441\\u0430\\u043c\\u043e\\u0439 \\u0423\\u043a\\u0440\\u0430\\u0438\\u043d\\u044b.\\u00ab\\u041d\\u0430 \\u0423\\u043a\\u0440\\u0430\\u0438\\u043d\\u0435 \\u043d\\u0430\\u0440\\u0430\\u0441\\u0442\\u0430\\u044e\\u0442 \\u043f\\u0440\\u043e\\u0442\\u0438\\u0432\\u043e\\u0440\\u0435\\u0447\\u0438\\u044f \\u0432 \\u0432\\u043e\\u043f\\u0440\\u043e\\u0441\\u0435 \\u043c\\u043e\\u0431\\u0438\\u043b\\u0438\\u0437\\u0430\\u0446\\u0438\\u0438, \\u043f\\u0440\\u043e\\u0431\\u043b\\u0435\\u043c \\u043d\\u0430 \\u0444\\u0440\\u043e\\u043d\\u0442\\u0435, \\u043d\\u0438\\u0437\\u043a\\u043e\\u0433\\u043e \\u0440\\u0435\\u0439\\u0442\\u0438\\u043d\\u0433\\u0430 \\u0432\\u043b\\u0430\\u0441\\u0442\\u0438. \\u0414\\u043b\\u044f \\u0441\\u043e\\u0442\\u0440\\u0443\\u0434\\u043d\\u0438\\u0447\\u0435\\u0441\\u0442\\u0432\\u0430 \\u0441 \\u0417\\u0430\\u043f\\u0430\\u0434\\u043e\\u043c \\u0441\\u0435\\u0439\\u0447\\u0430\\u0441 \\u0442\\u043e\\u0436\\u0435 \\u043c\\u043d\\u043e\\u0433\\u043e \\u043f\\u0440\\u043e\\u0431\\u043b\\u0435\\u043c: \\u043f\\u043e\\u0442\\u043e\\u043c\\u0443 \\u0447\\u0442\\u043e \\u043a\\u043e\\u0433\\u0434\\u0430 \\u0434\\u0435\\u0439\\u0441\\u0442\\u0432\\u0443\\u044e\\u0449\\u0438\\u0439 \\u043f\\u0440\\u0435\\u0437\\u0438\\u0434\\u0435\\u043d\\u0442 \\u0443\\u0436\\u0435 \\u043d\\u0435 \\u044f\\u0432\\u043b\\u044f\\u0435\\u0442\\u0441\\u044f, \\u0441\\u043a\\u0430\\u0436\\u0435\\u043c \\u0442\\u0430\\u043a, \\u043f\\u0440\\u0435\\u0434\\u0441\\u0442\\u0430\\u0432\\u0438\\u0442\\u0435\\u043b\\u0435\\u043c \\u043e\\u0442 \\u0443\\u043a\\u0440\\u0430\\u0438\\u043d\\u0441\\u043a\\u043e\\u0433\\u043e \\u043d\\u0430\\u0440\\u043e\\u0434\\u0430, \\u0442\\u043e \\u0437\\u0430\\u043f\\u0440\\u0430\\u0448\\u0438\\u0432\\u0430\\u0442\\u044c \\u043f\\u043e\\u043c\\u043e\\u0449\\u044c \\u043d\\u0430 \\u0417\\u0430\\u043f\\u0430\\u0434\\u0435 \\u0435\\u043c\\u0443 \\u0431\\u0443\\u0434\\u0435\\u0442 \\u0435\\u0449\\u0435 \\u0441\\u043b\\u043e\\u0436\\u043d\\u0435\\u0435\\u00bb, \\u2014 \\u043f\\u043e\\u0434\\u0447\\u0435\\u0440\\u043a\\u043d\\u0443\\u043b \\u0410\\u043d\\u0434\\u0440\\u0435\\u0435\\u0432.\\u0424\\u043e\\u0442\\u043e: \\u0413\\u0430\\u0432\\u0440\\u0438\\u0438\\u043b \\u0413\\u0440\\u0438\\u0433\\u043e\\u0440\\u043e\\u0432 / \\u0420\\u0418\\u0410 \\u041d\\u043e\\u0432\\u043e\\u0441\\u0442\\u0438\\u041a\\u043e\\u0433\\u0434\\u0430 \\u043c\\u043e\\u0436\\u0435\\u0442 \\u0437\\u0430\\u0432\\u0435\\u0440\\u0448\\u0438\\u0442\\u044c\\u0441\\u044f \\u0421\\u0412\\u041e\\u041d\\u0430 \\u043a\\u043e\\u043d\\u0435\\u0446 \\u0444\\u0435\\u0432\\u0440\\u0430\\u043b\\u044f 2024 \\u0433\\u043e\\u0434\\u0430 \\u043f\\u0440\\u0435\\u0438\\u043c\\u0443\\u0449\\u0435\\u0441\\u0442\\u0432\\u043e \\u043d\\u0430 \\u0440\\u043e\\u0441\\u0441\\u0438\\u0439\\u0441\\u043a\\u043e\\u0439 \\u0441\\u0442\\u043e\\u0440\\u043e\\u043d\\u0435 \\u043f\\u043e \\u0432\\u0441\\u0435\\u043c \\u043d\\u0430\\u043f\\u0440\\u0430\\u0432\\u043b\\u0435\\u043d\\u0438\\u044f\\u043c, \\u043e\\u0431\\u0440\\u0430\\u0449\\u0430\\u0435\\u0442 \\u0432\\u043d\\u0438\\u043c\\u0430\\u043d\\u0438\\u0435 \\u0420\\u0443\\u0441\\u043b\\u0430\\u043d \\u0410\\u043d\\u0434\\u0440\\u0435\\u0435\\u0432. \\u041f\\u043e \\u0435\\u0433\\u043e \\u0441\\u043b\\u043e\\u0432\\u0430\\u043c, \\u0443\\u043a\\u0440\\u0430\\u0438\\u043d\\u0441\\u043a\\u0430\\u044f \\u0430\\u0440\\u043c\\u0438\\u044f \\u0441\\u0442\\u0440\\u0430\\u0434\\u0430\\u0435\\u0442 \\u043e\\u0442 \\u043d\\u0435\\u0445\\u0432\\u0430\\u0442\\u043a\\u0438 \\u0431\\u043e\\u0435\\u043f\\u0440\\u0438\\u043f\\u0430\\u0441\\u043e\\u0432, \\u043e\\u0434\\u043d\\u0430\\u043a\\u043e \\u0443 \\u043d\\u0438\\u0445 \\u043d\\u0430 \\u0441\\u0435\\u0433\\u043e\\u0434\\u043d\\u044f\\u0448\\u043d\\u0438\\u0439 \\u043c\\u043e\\u043c\\u0435\\u043d\\u0442 \\u0435\\u0449\\u0435 \\u0434\\u043e\\u0441\\u0442\\u0430\\u0442\\u043e\\u0447\\u043d\\u043e \\u0441\\u0438\\u043b \\u0434\\u043b\\u044f \\u0442\\u043e\\u0433\\u043e, \\u0447\\u0442\\u043e\\u0431\\u044b \\u0434\\u0435\\u0440\\u0436\\u0430\\u0442\\u044c \\u043b\\u0438\\u043d\\u0438\\u044e \\u0444\\u0440\\u043e\\u043d\\u0442\\u0430.\\u041a\\u043e\\u0433\\u0434\\u0430 \\u043c\\u043e\\u0436\\u0435\\u0442 \\u0437\\u0430\\u0432\\u0435\\u0440\\u0448\\u0438\\u0442\\u044c\\u0441\\u044f \\u043a\\u043e\\u043d\\u0444\\u043b\\u0438\\u043a\\u0442 \\u2014 \\u044d\\u0442\\u043e \\u0437\\u0430\\u0432\\u0438\\u0441\\u0438\\u0442 \\u0438\\u0441\\u043a\\u043b\\u044e\\u0447\\u0438\\u0442\\u0435\\u043b\\u044c\\u043d\\u043e \\u043e\\u0442 \\u0433\\u043e\\u0442\\u043e\\u0432\\u043d\\u043e\\u0441\\u0442\\u0438 \\u0440\\u0443\\u043a\\u043e\\u0432\\u043e\\u0434\\u0441\\u0442\\u0432\\u0430 \\u0423\\u043a\\u0440\\u0430\\u0438\\u043d\\u044b \\u043a \\u0432\\u0435\\u0434\\u0435\\u043d\\u0438\\u044e \\u043f\\u0435\\u0440\\u0435\\u0433\\u043e\\u0432\\u043e\\u0440\\u043e\\u0432. \\u041d\\u043e \\u043c\\u043e\\u0439 \\u043f\\u0440\\u043e\\u0433\\u043d\\u043e\\u0437, \\u0447\\u0442\\u043e \\u0434\\u043e \\u043d\\u0430\\u0447\\u0430\\u043b\\u0430 2025 \\u0433\\u043e\\u0434\\u0430, \\u0441\\u043a\\u043e\\u0440\\u0435\\u0435 \\u0432\\u0441\\u0435\\u0433\\u043e, \\u043d\\u0435 \\u0437\\u0430\\u0432\\u0435\\u0440\\u0448\\u0438\\u0442\\u0441\\u044f\\u0420\\u0443\\u0441\\u043b\\u0430\\u043d \\u0410\\u043d\\u0434\\u0440\\u0435\\u0435\\u0432\\u043f\\u043e\\u043b\\u0438\\u0442\\u043a\\u043e\\u043d\\u0441\\u0443\\u043b\\u044c\\u0442\\u0430\\u043d\\u0442\\u041f\\u043e\\u0441\\u043b\\u0435\\u0434\\u0441\\u0442\\u0432\\u0438\\u044f \\u0421\\u0412\\u041e\\u0427\\u0442\\u043e \\u0431\\u0443\\u0434\\u0435\\u0442 \\u043f\\u043e\\u0441\\u043b\\u0435 \\u0442\\u043e\\u0433\\u043e, \\u043a\\u0430\\u043a \\u0437\\u0430\\u0432\\u0435\\u0440\\u0448\\u0438\\u0442\\u0441\\u044f \\u0421\\u0412\\u041e, \\u0441\\u0435\\u0439\\u0447\\u0430\\u0441 \\u0433\\u043e\\u0432\\u043e\\u0440\\u0438\\u0442\\u044c \\u0441\\u043b\\u043e\\u0436\\u043d\\u043e, \\u043e\\u0442\\u043c\\u0435\\u0442\\u0438\\u043b\\u0438 \\u0441\\u043e\\u0431\\u0435\\u0441\\u0435\\u0434\\u043d\\u0438\\u043a\\u0438 \\u00ab\\u041b\\u0435\\u043d\\u0442\\u044b.\\u0440\\u0443\\u00bb. \\u041f\\u043e \\u043c\\u043d\\u0435\\u043d\\u0438\\u044e \\u043f\\u043e\\u043b\\u0438\\u0442\\u043e\\u043b\\u043e\\u0433\\u0430 \\u0410\\u043d\\u043d\\u044b \\u0411\\u043e\\u0433\\u0430\\u0447\\u0435\\u0432\\u043e\\u0439, \\u043f\\u043e\\u043b\\u0438\\u0442\\u0438\\u0447\\u0435\\u0441\\u043a\\u0438\\u0435 \\u043f\\u0440\\u043e\\u0433\\u043d\\u043e\\u0437\\u0438\\u0440\\u043e\\u0432\\u0430\\u043d\\u0438\\u044f \\u0432 \\u0446\\u0435\\u043b\\u043e\\u043c \\u0441\\u0440\\u043e\\u0434\\u043d\\u0438 \\u0433\\u0430\\u0434\\u0430\\u043d\\u0438\\u044e \\u043d\\u0430 \\u043a\\u0430\\u0440\\u0442\\u0430\\u0445 \\u0422\\u0430\\u0440\\u043e, \\u043f\\u043e\\u0441\\u043a\\u043e\\u043b\\u044c\\u043a\\u0443 \\u0432\\u044b\\u0441\\u043e\\u043a\\u0430 \\u0432\\u0435\\u0440\\u043e\\u044f\\u0442\\u043d\\u043e\\u0441\\u0442\\u044c \\u0432\\u043d\\u0435\\u0437\\u0430\\u043f\\u043d\\u044b\\u0445 \\u00ab\\u0447\\u0435\\u0440\\u043d\\u044b\\u0445 \\u043b\\u0435\\u0431\\u0435\\u0434\\u0435\\u0439\\u00bb \\u2014 \\u043d\\u0435\\u043e\\u0436\\u0438\\u0434\\u0430\\u043d\\u043d\\u044b\\u0445 \\u043b\\u044e\\u0434\\u0435\\u0439, \\u0432\\u043d\\u0435\\u0437\\u0430\\u043f\\u043d\\u044b\\u0445 \\u0441\\u043e\\u0431\\u044b\\u0442\\u0438\\u0439 \\u0438\\u043b\\u0438 \\u043d\\u043e\\u0432\\u043e\\u0433\\u043e \\u043e\\u0440\\u0443\\u0436\\u0438\\u044f.\\u00ab\\u0411\\u0435\\u0437\\u0443\\u0441\\u043b\\u043e\\u0432\\u043d\\u043e, \\u043f\\u0440\\u0438 \\u043f\\u0435\\u0440\\u0435\\u0433\\u043e\\u0432\\u043e\\u0440\\u0430\\u0445 \\u043e\\u0431 \\u043e\\u0431\\u0449\\u0435\\u043c \\u0431\\u0443\\u0434\\u0443\\u0449\\u0435\\u043c \\u0420\\u043e\\u0441\\u0441\\u0438\\u044f \\u0431\\u0443\\u0434\\u0435\\u0442 \\u0438\\u0441\\u043a\\u0430\\u0442\\u044c \\u043c\\u0430\\u043a\\u0441\\u0438\\u043c\\u0430\\u043b\\u044c\\u043d\\u043e \\u0432\\u044b\\u0433\\u043e\\u0434\\u043d\\u044b\\u0435 \\u0434\\u043b\\u044f \\u0441\\u0435\\u0431\\u044f \\u0440\\u0435\\u0448\\u0435\\u043d\\u0438\\u044f \\u0432 \\u044d\\u0442\\u043e\\u0439 \\u0441\\u0438\\u0442\\u0443\\u0430\\u0446\\u0438\\u0438, \\u043e\\u0441\\u043e\\u0431\\u0435\\u043d\\u043d\\u043e \\u0441 \\u0443\\u0447\\u0435\\u0442\\u043e\\u043c \\u0442\\u043e\\u0433\\u043e, \\u0447\\u0442\\u043e \\u0434\\u043b\\u044f \\u044d\\u0442\\u043e\\u0433\\u043e \\u0435\\u0441\\u0442\\u044c \\u0435\\u0449\\u0435 \\u0434\\u043e\\u0441\\u0442\\u0430\\u0442\\u043e\\u0447\\u043d\\u044b\\u0439 \\u0437\\u0430\\u043f\\u0430\\u0441 \\u0440\\u0435\\u0441\\u0443\\u0440\\u0441\\u043e\\u0432. \\u0412 \\u043b\\u044e\\u0431\\u043e\\u043c \\u0441\\u043b\\u0443\\u0447\\u0430\\u0435 \\u0447\\u0435\\u0440\\u0435\\u0437 \\u043c\\u043d\\u043e\\u0433\\u043e \\u043b\\u0435\\u0442 \\u043d\\u0430\\u0447\\u0430\\u043b\\u043e \\u0421\\u0412\\u041e \\u0431\\u0443\\u0434\\u0435\\u0442 \\u0438\\u0437\\u0443\\u0447\\u0430\\u0442\\u044c\\u0441\\u044f \\u0438\\u0441\\u0442\\u043e\\u0440\\u0438\\u043a\\u0430\\u043c\\u0438 \\u043a\\u0430\\u043a \\u043f\\u0435\\u0440\\u0435\\u043b\\u043e\\u043c\\u043d\\u044b\\u0439 \\u043c\\u043e\\u043c\\u0435\\u043d\\u0442 \\u0432 \\u0438\\u0437\\u043c\\u0435\\u043d\\u0435\\u043d\\u0438\\u0438 \\u0433\\u0435\\u043e\\u043f\\u043e\\u043b\\u0438\\u0442\\u0438\\u0447\\u0435\\u0441\\u043a\\u043e\\u0439 \\u0441\\u0438\\u0442\\u0443\\u0430\\u0446\\u0438\\u0438 \\u0438 \\u0444\\u043e\\u0440\\u043c\\u0430\\u0442\\u0430 \\u043c\\u0435\\u0436\\u0434\\u0443\\u043d\\u0430\\u0440\\u043e\\u0434\\u043d\\u044b\\u0445 \\u043e\\u0442\\u043d\\u043e\\u0448\\u0435\\u043d\\u0438\\u0439\\u00bb, \\u2014 \\u0437\\u0430\\u043a\\u043b\\u044e\\u0447\\u0438\\u043b\\u0430 \\u0410\\u043d\\u043d\\u0430 \\u0411\\u043e\\u0433\\u0430\\u0447\\u0435\\u0432\\u0430.\",\n          \"\\u0411\\u0443\\u043d\\u0442 \\u043d\\u0435\\u043f\\u0440\\u0438\\u0447\\u0430\\u0441\\u0442\\u043d\\u044b\\u0445 \\u0420\\u043e\\u0441\\u0441\\u0438\\u0439\\u0441\\u043a\\u0438\\u0435 \\u043a\\u043e\\u043c\\u043f\\u0430\\u043d\\u0438\\u0438 \\u0441\\u0446\\u0435\\u043f\\u0438\\u043b\\u0438\\u0441\\u044c \\u0441\\u043e \\u0441\\u0432\\u043e\\u0438\\u043c\\u0438 \\u0436\\u0435 \\u0430\\u043a\\u0446\\u0438\\u043e\\u043d\\u0435\\u0440\\u0430\\u043c\\u0438\\u041d\\u0430 \\u0431\\u043b\\u0438\\u0436\\u0430\\u0439\\u0448\\u0438\\u0435 \\u0433\\u043e\\u0434\\u044b \\u043f\\u0440\\u0430\\u0432\\u0438\\u0442\\u0435\\u043b\\u044c\\u0441\\u0442\\u0432\\u043e \\u0420\\u043e\\u0441\\u0441\\u0438\\u0438 \\u0437\\u0430\\u043f\\u043b\\u0430\\u043d\\u0438\\u0440\\u043e\\u0432\\u0430\\u043b\\u043e \\u0433\\u0440\\u0430\\u043d\\u0434\\u0438\\u043e\\u0437\\u043d\\u0443\\u044e \\u043f\\u0440\\u0438\\u0432\\u0430\\u0442\\u0438\\u0437\\u0430\\u0446\\u0438\\u044e \\u0433\\u043e\\u0441\\u043a\\u043e\\u043c\\u043f\\u0430\\u043d\\u0438\\u0439. \\u0423\\u0432\\u0435\\u043b\\u0438\\u0447\\u0435\\u043d\\u0438\\u0435 \\u043a\\u043e\\u043b\\u0438\\u0447\\u0435\\u0441\\u0442\\u0432\\u0430 \\u043f\\u0440\\u0438\\u0432\\u0430\\u0442\\u0438\\u0437\\u0438\\u0440\\u043e\\u0432\\u0430\\u043d\\u043d\\u044b\\u0445 \\u0430\\u043a\\u0442\\u0438\\u0432\\u043e\\u0432 \\u0431\\u0443\\u0434\\u0435\\u0442 \\u0441\\u043e\\u043f\\u0440\\u043e\\u0432\\u043e\\u0436\\u0434\\u0430\\u0442\\u044c\\u0441\\u044f \\u0441\\u043e\\u043b\\u0438\\u0434\\u043d\\u044b\\u043c \\u0440\\u043e\\u0441\\u0442\\u043e\\u043c \\u043f\\u0440\\u043e\\u0441\\u043b\\u043e\\u0439\\u043a\\u0438 \\u0438\\u043d\\u0432\\u0435\\u0441\\u0442\\u043e\\u0440\\u043e\\u0432, \\u043a\\u043e\\u0442\\u043e\\u0440\\u044b\\u0435, \\u043c\\u043e\\u0436\\u043d\\u043e \\u043d\\u0435 \\u0441\\u043e\\u043c\\u043d\\u0435\\u0432\\u0430\\u0442\\u044c\\u0441\\u044f, \\u043f\\u043e\\u0436\\u0435\\u043b\\u0430\\u044e\\u0442 \\u0443\\u0447\\u0430\\u0441\\u0442\\u0432\\u043e\\u0432\\u0430\\u0442\\u044c \\u0432 \\u0443\\u043f\\u0440\\u0430\\u0432\\u043b\\u0435\\u043d\\u0438\\u0438 \\u0441\\u0432\\u043e\\u0438\\u043c\\u0438 \\u0438\\u043d\\u0432\\u0435\\u0441\\u0442\\u0438\\u0446\\u0438\\u044f\\u043c\\u0438. \\u0413\\u043e\\u0441\\u0443\\u0434\\u0430\\u0440\\u0441\\u0442\\u0432\\u043e \\u0443\\u0436\\u0435 \\u0433\\u043e\\u0442\\u043e\\u0432\\u0438\\u0442\\u0441\\u044f \\u043a \\u043d\\u0430\\u043f\\u043b\\u044b\\u0432\\u0443 \\u043c\\u0438\\u043d\\u043e\\u0440\\u0438\\u0442\\u0430\\u0440\\u0438\\u0435\\u0432, \\u043e\\u0431\\u0435\\u0449\\u0430\\u044f \\u0437\\u0430\\u043a\\u0440\\u0435\\u043f\\u0438\\u0442\\u044c \\u0438\\u0445 \\u043f\\u0440\\u0430\\u0432\\u0430 \\u0432 \\u0437\\u0430\\u043a\\u043e\\u043d\\u043e\\u0434\\u0430\\u0442\\u0435\\u043b\\u044c\\u0441\\u0442\\u0432\\u0435. \\u041f\\u0440\\u043e\\u0442\\u0438\\u0432\\u043d\\u0438\\u043a\\u043e\\u0432 \\u0442\\u0430\\u043a\\u0438\\u0445 \\u043c\\u0435\\u0440 \\u043d\\u0435 \\u0441\\u0447\\u0435\\u0441\\u0442\\u044c.\\u0420\\u0430\\u0437\\u043c\\u0435\\u0440 \\u0438\\u043c\\u0435\\u0435\\u0442 \\u0437\\u043d\\u0430\\u0447\\u0435\\u043d\\u0438\\u0435\\u0412 1980-\\u0435 \\u0433\\u043e\\u0434\\u044b \\u0447\\u0430\\u0441\\u0442\\u043d\\u044b\\u0435 \\u0438\\u043d\\u0432\\u0435\\u0441\\u0442\\u0431\\u0430\\u043d\\u043a\\u0438 \\u0432 \\u0421\\u0428\\u0410 \\u0441\\u0442\\u0440\\u0435\\u043c\\u0438\\u0442\\u0435\\u043b\\u044c\\u043d\\u043e \\u0441\\u0442\\u0430\\u043b\\u0438 \\u043f\\u0440\\u0435\\u0432\\u0440\\u0430\\u0449\\u0430\\u0442\\u044c\\u0441\\u044f \\u0432 \\u043f\\u0443\\u0431\\u043b\\u0438\\u0447\\u043d\\u044b\\u0435 \\u043a\\u043e\\u043c\\u043f\\u0430\\u043d\\u0438\\u0438. \\u0422\\u0430\\u043a\\u0438\\u043c \\u043e\\u0431\\u0440\\u0430\\u0437\\u043e\\u043c, \\u0438\\u0445 \\u0441\\u043e\\u0432\\u043b\\u0430\\u0434\\u0435\\u043b\\u044c\\u0446\\u044b \\u0438 \\u043c\\u0435\\u043d\\u0435\\u0434\\u0436\\u043c\\u0435\\u043d\\u0442 \\u043f\\u043e\\u043b\\u0443\\u0447\\u0430\\u043b\\u0438 \\u043d\\u0435 \\u0442\\u043e\\u043b\\u044c\\u043a\\u043e \\u043a\\u0430\\u043f\\u0438\\u0442\\u0430\\u043b \\u0438\\u043d\\u0432\\u0435\\u0441\\u0442\\u043e\\u0440\\u043e\\u0432, \\u043d\\u043e \\u0438 \\u0434\\u0435\\u043b\\u0438\\u043b\\u0438 \\u0440\\u0438\\u0441\\u043a\\u0438 \\u0441 \\u043b\\u044e\\u0434\\u044c\\u043c\\u0438, \\u043a\\u043e\\u0442\\u043e\\u0440\\u044b\\u0435 \\u0437\\u0430\\u0447\\u0430\\u0441\\u0442\\u0443\\u044e \\u0432\\u043e\\u043e\\u0431\\u0449\\u0435 \\u043d\\u0435 \\u0438\\u043c\\u0435\\u043b\\u0438 \\u043d\\u0438\\u043a\\u0430\\u043a\\u043e\\u0433\\u043e \\u043f\\u043e\\u043d\\u044f\\u0442\\u0438\\u044f \\u043e \\u0442\\u043e\\u043c \\u0431\\u0438\\u0437\\u043d\\u0435\\u0441\\u0435, \\u0432 \\u043a\\u043e\\u0442\\u043e\\u0440\\u044b\\u0439 \\u043e\\u043d\\u0438 \\u0432\\u043b\\u043e\\u0436\\u0438\\u043b\\u0438\\u0441\\u044c. \\u0412\\u0437\\u0440\\u044b\\u0432\\u043d\\u043e\\u0439 \\u0440\\u043e\\u0441\\u0442 \\u0444\\u0438\\u043d\\u0430\\u043d\\u0441\\u043e\\u0432\\u043e\\u0439 \\u0441\\u0438\\u0441\\u0442\\u0435\\u043c\\u044b \\u0437\\u0430 \\u043f\\u043e\\u0441\\u043b\\u0435\\u0434\\u043d\\u0438\\u0435 \\u0434\\u0432\\u0430 \\u0434\\u0435\\u0441\\u044f\\u0442\\u0438\\u043b\\u0435\\u0442\\u0438\\u044f \\u0443\\u0432\\u0435\\u043b\\u0438\\u0447\\u0438\\u043b \\u044d\\u0442\\u0438 \\u0440\\u0438\\u0441\\u043a\\u0438 \\u0432 \\u043d\\u0435\\u0441\\u043a\\u043e\\u043b\\u044c\\u043a\\u043e \\u0440\\u0430\\u0437, \\u0430 \\u043a\\u0440\\u0438\\u0437\\u0438\\u0441 \\u043d\\u0430 \\u0440\\u044b\\u043d\\u043a\\u0435 \\u043d\\u0435\\u0434\\u0432\\u0438\\u0436\\u0438\\u043c\\u043e\\u0441\\u0442\\u0438, \\u043e\\u0431\\u0432\\u0430\\u043b\\u0438\\u0432\\u0448\\u0438\\u0439 \\u0431\\u0430\\u043d\\u043a\\u043e\\u0432\\u0441\\u043a\\u0443\\u044e \\u0441\\u0438\\u0441\\u0442\\u0435\\u043c\\u0443 \\u0421\\u0428\\u0410, \\u043e\\u0431\\u0430\\u043d\\u043a\\u0440\\u043e\\u0442\\u0438\\u043b \\u0441\\u043e\\u0442\\u043d\\u0438 \\u0442\\u044b\\u0441\\u044f\\u0447 \\u0438\\u043d\\u0432\\u0435\\u0441\\u0442\\u043e\\u0440\\u043e\\u0432, \\u0434\\u043e\\u0432\\u0435\\u0440\\u0438\\u0432\\u0448\\u0438\\u0445 \\u0441\\u0432\\u043e\\u0438 \\u043d\\u0430\\u043a\\u043e\\u043f\\u043b\\u0435\\u043d\\u0438\\u044f \\u0431\\u043b\\u0438\\u0437\\u043e\\u0440\\u0443\\u043a\\u043e\\u043c\\u0443, \\u043d\\u043e \\u043d\\u0430\\u043f\\u044b\\u0449\\u0435\\u043d\\u043d\\u043e\\u043c\\u0443 \\u043c\\u0435\\u043d\\u0435\\u0434\\u0436\\u043c\\u0435\\u043d\\u0442\\u0443 \\u0430\\u043c\\u0435\\u0440\\u0438\\u043a\\u0430\\u043d\\u0441\\u043a\\u0438\\u0445 \\u0431\\u0430\\u043d\\u043a\\u043e\\u0432.\\u0418\\u043d\\u0432\\u0435\\u0441\\u0442\\u043e\\u0440\\u044b \\u0431\\u044b\\u0432\\u0430\\u044e\\u0442 \\u0440\\u0430\\u0437\\u043d\\u044b\\u043c\\u0438, \\u043d\\u043e \\u0441\\u0438\\u043b\\u044c\\u043d\\u0435\\u0435 \\u0432\\u0441\\u0435\\u0433\\u043e \\u043f\\u043e\\u0434\\u043e\\u0431\\u043d\\u044b\\u0435 \\u0444\\u0438\\u043d\\u0430\\u043d\\u0441\\u043e\\u0432\\u044b\\u0435 \\u043a\\u0430\\u0442\\u0430\\u0441\\u0442\\u0440\\u043e\\u0444\\u044b \\u0431\\u044c\\u044e\\u0442 \\u043f\\u043e \\u043c\\u0438\\u043d\\u043e\\u0440\\u0438\\u0442\\u0430\\u0440\\u043d\\u044b\\u043c \\u0430\\u043a\\u0446\\u0438\\u043e\\u043d\\u0435\\u0440\\u0430\\u043c - \\u0444\\u0438\\u0437\\u0438\\u0447\\u0435\\u0441\\u043a\\u0438\\u043c \\u043b\\u0438\\u0446\\u0430\\u043c, \\u043a\\u043e\\u0442\\u043e\\u0440\\u044b\\u0435 \\u0442\\u0435\\u0440\\u044f\\u044e\\u0442 \\u0441\\u0432\\u043e\\u0438 \\u043d\\u0430\\u043a\\u043e\\u043f\\u043b\\u0435\\u043d\\u0438\\u044f. \\u041a\\u043e\\u0448\\u043c\\u0430\\u0440\\u043d\\u0430\\u044f \\u0438\\u0441\\u0442\\u043e\\u0440\\u0438\\u044f \\u0441 \\u043f\\u043e\\u043a\\u0443\\u043f\\u043a\\u043e\\u0439 \\u0433\\u043e\\u0441\\u0431\\u0430\\u043d\\u043a\\u043e\\u043c \\u0412\\u0422\\u0411 \\u0441\\u0442\\u043e\\u043b\\u0438\\u0447\\u043d\\u043e\\u0433\\u043e \\u0411\\u0430\\u043d\\u043a\\u0430 \\u041c\\u043e\\u0441\\u043a\\u0432\\u044b, \\u043f\\u0440\\u0435\\u0442\\u0435\\u043d\\u0434\\u0443\\u044e\\u0449\\u0430\\u044f \\u043d\\u0430 \\u043f\\u0435\\u0440\\u0432\\u043e\\u0435 \\u043c\\u0435\\u0441\\u0442\\u043e \\u0432 \\u0440\\u0435\\u0439\\u0442\\u0438\\u043d\\u0433\\u0435 \\u0430\\u043d\\u0442\\u0438\\u0441\\u0434\\u0435\\u043b\\u043e\\u043a \\u043d\\u0430 \\u0440\\u043e\\u0441\\u0441\\u0438\\u0439\\u0441\\u043a\\u043e\\u043c \\u0440\\u044b\\u043d\\u043a\\u0435 \\u0432 2011 \\u0433\\u043e\\u0434\\u0443, \\u043c\\u043e\\u0433\\u043b\\u0430 \\u0431\\u044b \\u0441\\u0442\\u0430\\u0442\\u044c \\u0445\\u043e\\u0440\\u043e\\u0448\\u0438\\u043c \\u0442\\u043e\\u043c\\u0443 \\u043f\\u0440\\u0438\\u043c\\u0435\\u0440\\u043e\\u043c, \\u043d\\u043e \\u043b\\u0438\\u0448\\u044c \\u0431\\u043b\\u0430\\u0433\\u043e\\u0434\\u0430\\u0440\\u044f \\u0432\\u043c\\u0435\\u0448\\u0430\\u0442\\u0435\\u043b\\u044c\\u0441\\u0442\\u0432\\u0443 \\u0447\\u0438\\u043d\\u043e\\u0432\\u043d\\u0438\\u043a\\u043e\\u0432 \\u043d\\u0435 \\u0441\\u0442\\u0430\\u043b\\u0430 \\u0442\\u0430\\u043a\\u043e\\u0432\\u044b\\u043c. \\u041a\\u0440\\u0430\\u0442\\u043a\\u043e \\u044d\\u0442\\u0430 \\u0438\\u0441\\u0442\\u043e\\u0440\\u0438\\u044f \\u0432\\u044b\\u0433\\u043b\\u044f\\u0434\\u0438\\u0442 \\u0442\\u0430\\u043a: \\u0433\\u043e\\u0441\\u0431\\u0430\\u043d\\u043a \\u0412\\u0422\\u0411 \\u0432\\u044b\\u043a\\u0443\\u043f\\u0430\\u0435\\u0442 \\u0411\\u0430\\u043d\\u043a \\u041c\\u043e\\u0441\\u043a\\u0432\\u044b \\u0443 \\u0441\\u0442\\u043e\\u043b\\u0438\\u0447\\u043d\\u043e\\u0433\\u043e \\u043f\\u0440\\u0430\\u0432\\u0438\\u0442\\u0435\\u043b\\u044c\\u0441\\u0442\\u0432\\u0430, \\u0438\\u0437\\u0433\\u043e\\u043d\\u044f\\u0435\\u0442 \\u0432\\u0440\\u0430\\u0436\\u0434\\u0435\\u0431\\u043d\\u044b\\u0439 \\u043c\\u0435\\u043d\\u0435\\u0434\\u0436\\u043c\\u0435\\u043d\\u0442 \\u0438, \\u043e\\u0434\\u043d\\u043e\\u0432\\u0440\\u0435\\u043c\\u0435\\u043d\\u043d\\u043e, \\u0441\\u043e\\u0431\\u0441\\u0442\\u0432\\u0435\\u043d\\u043d\\u0438\\u043a\\u043e\\u0432 \\u0431\\u0430\\u043d\\u043a\\u0430, \\u043f\\u043e\\u0441\\u043b\\u0435 \\u0447\\u0435\\u0433\\u043e \\u043e\\u0431\\u043d\\u0430\\u0440\\u0443\\u0436\\u0438\\u0432\\u0430\\u0435\\u0442 \\u043d\\u0430 \\u0431\\u0430\\u043b\\u0430\\u043d\\u0441\\u0435 \\u0431\\u0430\\u043d\\u043a\\u0430 \\u0433\\u0438\\u0433\\u0430\\u043d\\u0442\\u0441\\u043a\\u043e\\u0435 \\u043a\\u043e\\u043b\\u0438\\u0447\\u0435\\u0441\\u0442\\u0432\\u043e \\u043f\\u0440\\u043e\\u0431\\u043b\\u0435\\u043c\\u043d\\u044b\\u0445 \\u0430\\u043a\\u0442\\u0438\\u0432\\u043e\\u0432 \\\"\\u043c\\u0443\\u0441\\u043e\\u0440\\u043d\\u043e\\u0433\\u043e\\\" \\u043a\\u0430\\u0447\\u0435\\u0441\\u0442\\u0432\\u0430. \\u0414\\u0430\\u043b\\u044c\\u0448\\u0435 \\u043d\\u0430 \\u043f\\u043e\\u043c\\u043e\\u0449\\u044c \\u0433\\u043e\\u0441\\u0431\\u0430\\u043d\\u043a\\u0443 \\u043f\\u0440\\u0438\\u0445\\u043e\\u0434\\u0438\\u0442 \\u0433\\u043e\\u0441\\u0443\\u0434\\u0430\\u0440\\u0441\\u0442\\u0432\\u043e, \\u0441\\u043f\\u0430\\u0441\\u0430\\u044f \\u0435\\u0433\\u043e \\u043e\\u0442 \\\"\\u0434\\u043e\\u043b\\u0433\\u043e\\u0432\\\" \\u0434\\u043e\\u0447\\u043a\\u0438.\\u0417\\u0434\\u0435\\u0441\\u044c \\u0441\\u0442\\u043e\\u0438\\u0442 \\u0432\\u0441\\u043f\\u043e\\u043c\\u043d\\u0438\\u0442\\u044c, \\u0447\\u0442\\u043e \\u0412\\u0422\\u0411 \\u043f\\u043e\\u0441\\u0447\\u0430\\u0441\\u0442\\u043b\\u0438\\u0432\\u0438\\u043b\\u043e\\u0441\\u044c \\u0432 2007 \\u0433\\u043e\\u0434\\u0443 \\u043f\\u0440\\u043e\\u0432\\u0435\\u0441\\u0442\\u0438 \\u043d\\u0430\\u0440\\u043e\\u0434\\u043d\\u043e\\u0435 IPO. \\u0414\\u0430\\u043d\\u043d\\u043e\\u0435 \\u0440\\u0435\\u0448\\u0435\\u043d\\u0438\\u0435 \\u043f\\u0440\\u0430\\u0432\\u0438\\u0442\\u0435\\u043b\\u044c\\u0441\\u0442\\u0432\\u0430 \\u0441\\u0434\\u0435\\u043b\\u0430\\u043b\\u043e \\u0430\\u043a\\u0446\\u0438\\u043e\\u043d\\u0435\\u0440\\u0430\\u043c\\u0438 \\u0431\\u0430\\u043d\\u043a\\u0430 \\u043f\\u0430\\u0440\\u0443 \\u0441\\u043e\\u0442\\u0435\\u043d \\u0442\\u044b\\u0441\\u044f\\u0447 \\\"\\u0440\\u0430\\u0437\\u0433\\u043d\\u0435\\u0432\\u0430\\u043d\\u043d\\u044b\\u0445 \\u043c\\u0443\\u0436\\u0447\\u0438\\u043d\\\": \\u0441 \\u043c\\u043e\\u043c\\u0435\\u043d\\u0442\\u0430 \\u0440\\u0430\\u0437\\u043c\\u0435\\u0449\\u0435\\u043d\\u0438\\u044f \\u0430\\u043a\\u0446\\u0438\\u0439 \\u0412\\u0422\\u0411 \\u0446\\u0435\\u043d\\u0430 \\u0431\\u0443\\u043c\\u0430\\u0433 \\u0443\\u043f\\u0430\\u043b\\u0430 \\u0431\\u043e\\u043b\\u044c\\u0448\\u0435 \\u0447\\u0435\\u043c \\u043d\\u0430 38 \\u043f\\u0440\\u043e\\u0446\\u0435\\u043d\\u0442\\u043e\\u0432. \\u0421\\u043f\\u0435\\u0446\\u043e\\u043f\\u0435\\u0440\\u0430\\u0446\\u0438\\u044f \\u043f\\u043e \\u0441\\u043f\\u0430\\u0441\\u0435\\u043d\\u0438\\u044e \\u0411\\u0430\\u043d\\u043a\\u0430 \\u041c\\u043e\\u0441\\u043a\\u0432\\u044b, \\u043a\\u043e\\u0442\\u043e\\u0440\\u0443\\u044e \\u043f\\u0440\\u043e\\u0432\\u0435\\u0440\\u043d\\u0443\\u043b\\u0438 \\u041c\\u0438\\u043d\\u0444\\u0438\\u043d \\u0438 \\u0426\\u0411, \\u043c\\u043e\\u0436\\u0435\\u0442 \\u0432\\u044b\\u0437\\u044b\\u0432\\u0430\\u0442\\u044c \\u0440\\u0430\\u0437\\u043d\\u044b\\u0435 \\u043e\\u0446\\u0435\\u043d\\u043a\\u0438, \\u043e\\u0434\\u043d\\u0430\\u043a\\u043e \\u043d\\u0435\\u043b\\u044c\\u0437\\u044f \\u043d\\u0435 \\u043e\\u0442\\u043c\\u0435\\u0442\\u0438\\u0442\\u044c, \\u0447\\u0442\\u043e \\u0432 \\u0434\\u0430\\u043d\\u043d\\u043e\\u043c \\u0441\\u043b\\u0443\\u0447\\u0430\\u0435 \\u0433\\u043e\\u0441\\u0443\\u0434\\u0430\\u0440\\u0441\\u0442\\u0432\\u043e \\u0440\\u0443\\u0431\\u043b\\u0435\\u043c \\u0437\\u0430\\u0449\\u0438\\u0442\\u0438\\u043b\\u043e \\u043c\\u0438\\u043d\\u043e\\u0440\\u0438\\u0442\\u0430\\u0440\\u0438\\u0435\\u0432 \\u0412\\u0422\\u0411 \\u043e\\u0442 \\u043d\\u0435\\u0434\\u0430\\u043b\\u044c\\u043d\\u043e\\u0432\\u0438\\u0434\\u043d\\u043e\\u0433\\u043e \\u0440\\u0435\\u0448\\u0435\\u043d\\u0438\\u044f \\u043c\\u0435\\u043d\\u0435\\u0434\\u0436\\u043c\\u0435\\u043d\\u0442\\u0430 \\u0433\\u043e\\u0441\\u0431\\u0430\\u043d\\u043a\\u0430. \\u041e\\u0442\\u043a\\u0430\\u0436\\u0438\\u0441\\u044c \\u041c\\u0438\\u043d\\u0444\\u0438\\u043d \\u043f\\u043e\\u0434\\u0434\\u0435\\u0440\\u0436\\u0430\\u0442\\u044c \\u0412\\u0422\\u0411, \\u0434\\u0430\\u043d\\u043d\\u043e\\u0435 \\u0440\\u0435\\u0448\\u0435\\u043d\\u0438\\u0435 \\u043e\\u0442\\u043f\\u0440\\u0430\\u0432\\u0438\\u043b\\u043e \\u0431\\u044b \\u0430\\u043a\\u0446\\u0438\\u0438 \\u0444\\u0438\\u043d\\u0430\\u043d\\u0441\\u043e\\u0432\\u043e\\u0439 \\u043e\\u0440\\u0433\\u0430\\u043d\\u0438\\u0437\\u0430\\u0446\\u0438\\u0438 \\u043f\\u0440\\u044f\\u043c\\u0438\\u043a\\u043e\\u043c \\u0432 \\u0442\\u0430\\u0440\\u0442\\u0430\\u0440\\u0430\\u0440\\u044b.\\u0412 \\u0420\\u043e\\u0441\\u0441\\u0438\\u0438 \\u0431\\u043e\\u043b\\u044c\\u0448\\u0438\\u043d\\u0441\\u0442\\u0432\\u043e \\u043a\\u043e\\u043d\\u0444\\u043b\\u0438\\u043a\\u0442\\u043d\\u044b\\u0445 \\u0441\\u0438\\u0442\\u0443\\u0430\\u0446\\u0438\\u0439 \\u0441 \\u0443\\u0447\\u0430\\u0441\\u0442\\u0438\\u0435\\u043c \\u043c\\u0438\\u043d\\u043e\\u0440\\u0438\\u0442\\u0430\\u0440\\u0438\\u0435\\u0432 \\u043f\\u0440\\u043e\\u0438\\u0441\\u0445\\u043e\\u0434\\u044f\\u0442 \\u0432 \\u043a\\u043e\\u043c\\u043f\\u0430\\u043d\\u0438\\u044f\\u0445 \\u0441 \\u0433\\u043e\\u0441\\u0443\\u0447\\u0430\\u0441\\u0442\\u0438\\u0435\\u043c, \\u043a\\u043e\\u0442\\u043e\\u0440\\u044b\\u0435 \\u0433\\u043e\\u0441\\u0443\\u0434\\u0430\\u0440\\u0441\\u0442\\u0432\\u043e \\u043b\\u0438\\u0431\\u043e \\u043d\\u0435 \\u0437\\u0430\\u0445\\u043e\\u0442\\u0435\\u043b\\u043e, \\u043b\\u0438\\u0431\\u043e \\u043d\\u0435 \\u0441\\u043c\\u043e\\u0433\\u043b\\u043e \\u0434\\u043e \\u043a\\u043e\\u043d\\u0446\\u0430 \\u043f\\u0440\\u0438\\u0432\\u0430\\u0442\\u0438\\u0437\\u0438\\u0440\\u043e\\u0432\\u0430\\u0442\\u044c. \\u0421\\u043e\\u0442\\u0440\\u0443\\u0434\\u043d\\u0438\\u043a\\u0438 \\u044d\\u0442\\u0438\\u0445 \\u043e\\u0440\\u0433\\u0430\\u043d\\u0438\\u0437\\u0430\\u0446\\u0438\\u0439, \\u0432\\u043a\\u043b\\u044e\\u0447\\u0430\\u044f \\u0432\\u044b\\u0441\\u0448\\u0438\\u0445 \\u0447\\u0438\\u043d\\u043e\\u0432\\u043d\\u0438\\u043a\\u043e\\u0432, \\u0434\\u043e \\u043d\\u0435\\u0434\\u0430\\u0432\\u043d\\u0435\\u0433\\u043e \\u0432\\u0440\\u0435\\u043c\\u0435\\u043d\\u0438 \\u0437\\u0430\\u0441\\u0435\\u0434\\u0430\\u0432\\u0448\\u0438\\u0445 \\u0432 \\u0438\\u0445 \\u0441\\u043e\\u0432\\u0435\\u0442\\u0430\\u0445 \\u0434\\u0438\\u0440\\u0435\\u043a\\u0442\\u043e\\u0440\\u043e\\u0432, \\u043d\\u0430 \\u0441\\u043b\\u043e\\u0432\\u0430\\u0445 \\u0431\\u0435\\u0437 \\u0443\\u0441\\u0442\\u0430\\u043b\\u0438 \\u043f\\u0440\\u043e\\u044f\\u0432\\u043b\\u044f\\u044e\\u0442 \\u0437\\u0430\\u0431\\u043e\\u0442\\u0443 \\\"\\u043e \\u043d\\u0430\\u0440\\u043e\\u0434\\u0435\\\". \\u041d\\u0430 \\u0434\\u0435\\u043b\\u0435 \\u0436\\u0435 \\u0441\\u043e\\u0432\\u043b\\u0430\\u0434\\u0435\\u043b\\u0435\\u0446 \\u043a\\u043e\\u043c\\u043f\\u0430\\u043d\\u0438\\u0438, \\u043f\\u0443\\u0441\\u043a\\u0430\\u0439 \\u0435\\u0433\\u043e \\u0434\\u043e\\u043b\\u044f \\u0438 \\u043d\\u0438\\u0447\\u0442\\u043e\\u0436\\u043d\\u0430, \\u043d\\u0438\\u043a\\u0430\\u043a \\u043d\\u0435 \\u043c\\u043e\\u0436\\u0435\\u0442 \\u043f\\u043e\\u043b\\u0443\\u0447\\u0438\\u0442\\u044c \\u0434\\u0430\\u0436\\u0435 \\u044d\\u043b\\u0435\\u043c\\u0435\\u043d\\u0442\\u0430\\u0440\\u043d\\u043e\\u0439 \\u0438\\u043d\\u0444\\u043e\\u0440\\u043c\\u0430\\u0446\\u0438\\u0438 \\u043e \\u0442\\u043e\\u043c, \\u043a\\u0430\\u043a \\u0443\\u043f\\u0440\\u0430\\u0432\\u043b\\u044f\\u0435\\u0442\\u0441\\u044f \\u0430\\u043a\\u0442\\u0438\\u0432, \\u0432 \\u043a\\u043e\\u0442\\u043e\\u0440\\u044b\\u0439 \\u043e\\u043d \\u0438\\u043d\\u0432\\u0435\\u0441\\u0442\\u0438\\u0440\\u043e\\u0432\\u0430\\u043b \\u0441\\u0432\\u043e\\u0438 \\u043d\\u0430\\u043a\\u043e\\u043f\\u043b\\u0435\\u043d\\u0438\\u044f.\\u041d\\u0430 \\u043f\\u043e\\u0441\\u043b\\u0435\\u0434\\u043d\\u0435\\u043c \\u0441\\u043e\\u0431\\u0440\\u0430\\u043d\\u0438\\u0438 \\u0430\\u043a\\u0446\\u0438\\u043e\\u043d\\u0435\\u0440\\u043e\\u0432 \\u0412\\u0422\\u0411 \\u043c\\u0438\\u043d\\u043e\\u0440\\u0438\\u0442\\u0430\\u0440\\u0438\\u0438, \\u043a \\u043f\\u0440\\u0438\\u043c\\u0435\\u0440\\u0443, \\u043f\\u0440\\u044f\\u043c\\u043e \\u0437\\u0430\\u044f\\u0432\\u0438\\u043b\\u0438 \\u043e \\u0441\\u0432\\u043e\\u0435\\u0439 \\u0433\\u043e\\u0442\\u043e\\u0432\\u043d\\u043e\\u0441\\u0442\\u0438 \\u043d\\u0430\\u0447\\u0430\\u0442\\u044c \\u0443\\u043f\\u0440\\u0430\\u0432\\u043b\\u044f\\u0442\\u044c \\u0431\\u0430\\u043d\\u043a\\u043e\\u043c, \\u043f\\u043e\\u043f\\u0440\\u043e\\u0441\\u0438\\u0432 \\u043c\\u0435\\u0441\\u0442\\u0430 \\u0432 \\u043d\\u0430\\u0431\\u043b\\u044e\\u0434\\u0430\\u0442\\u0435\\u043b\\u044c\\u043d\\u043e\\u043c \\u0441\\u043e\\u0432\\u0435\\u0442\\u0435. \\u0414\\u0435\\u0439\\u0441\\u0442\\u0432\\u0438\\u0442\\u0435\\u043b\\u044c\\u043d\\u043e, \\u043f\\u043e\\u0434\\u043e\\u0431\\u043d\\u043e\\u0435 \\u043f\\u0440\\u0435\\u0434\\u0441\\u0442\\u0430\\u0432\\u0438\\u0442\\u0435\\u043b\\u044c\\u0441\\u0442\\u0432\\u043e \\u0432 \\u0433\\u043e\\u0441\\u0431\\u0430\\u043d\\u043a\\u0435 \\u0431\\u044b\\u043b\\u043e \\u0431\\u044b \\u043b\\u043e\\u0433\\u0438\\u0447\\u043d\\u044b\\u043c, \\u043f\\u043e\\u0441\\u043a\\u043e\\u043b\\u044c\\u043a\\u0443 \\u0443 \\u0431\\u043e\\u043b\\u044c\\u0448\\u0438\\u043d\\u0441\\u0442\\u0432\\u0430 \\u043c\\u0438\\u043d\\u043e\\u0440\\u0438\\u0442\\u0430\\u0440\\u0438\\u0435\\u0432 \\u043d\\u0435\\u0442 \\u043d\\u0438 \\u0432\\u0440\\u0435\\u043c\\u0435\\u043d\\u0438, \\u043d\\u0438 \\u0432\\u043e\\u0437\\u043c\\u043e\\u0436\\u043d\\u043e\\u0441\\u0442\\u0438 \\u0437\\u0430\\u043d\\u0438\\u043c\\u0430\\u0442\\u044c\\u0441\\u044f \\u043f\\u043e\\u0434\\u043e\\u0431\\u043d\\u043e\\u0439 \\u0440\\u0430\\u0431\\u043e\\u0442\\u043e\\u0439. \\u0414\\u0430 \\u0438 \\u0432\\u043e\\u043e\\u0431\\u0449\\u0435, \\u044d\\u0442\\u043e \\u043e\\u0431\\u044b\\u0447\\u043d\\u0430\\u044f \\u043f\\u0440\\u0430\\u043a\\u0442\\u0438\\u043a\\u0430 \\u0432 \\u043c\\u0438\\u043b\\u043b\\u0438\\u043e\\u043d\\u0430\\u0445 \\u0434\\u0440\\u0443\\u0433\\u0438\\u0445 \\u043a\\u043e\\u043c\\u043f\\u0430\\u043d\\u0438\\u0439, \\u0432\\u0435\\u0434\\u044c \\u043f\\u0440\\u0435\\u043a\\u0440\\u0430\\u0441\\u043d\\u043e \\u0438\\u0437\\u0432\\u0435\\u0441\\u0442\\u043d\\u043e, \\u0447\\u0442\\u043e \\u0444\\u0438\\u0440\\u043c\\u044b \\u0441 \\u0445\\u043e\\u0440\\u043e\\u0448\\u0438\\u043c \\u043a\\u043e\\u0440\\u043f\\u043e\\u0440\\u0430\\u0442\\u0438\\u0432\\u043d\\u044b\\u043c \\u0443\\u043f\\u0440\\u0430\\u0432\\u043b\\u0435\\u043d\\u0438\\u0435\\u043c \\u043f\\u043e\\u043a\\u0430\\u0437\\u044b\\u0432\\u0430\\u044e\\u0442 \\u043d\\u0430\\u043c\\u043d\\u043e\\u0433\\u043e \\u043b\\u0443\\u0447\\u0448\\u0438\\u0435 \\u0440\\u0435\\u0437\\u0443\\u043b\\u044c\\u0442\\u0430\\u0442\\u044b.\\u041d\\u043e, \\u043f\\u043e\\u043c\\u0438\\u043c\\u043e \\u043a\\u043e\\u043c\\u043f\\u0435\\u0442\\u0435\\u043d\\u0442\\u043d\\u043e\\u0433\\u043e \\u043f\\u0440\\u0435\\u0434\\u0441\\u0442\\u0430\\u0432\\u0438\\u0442\\u0435\\u043b\\u044f \\u0438 \\u0441\\u043e\\u0432\\u0435\\u0442\\u043d\\u0438\\u043a\\u0430, \\u0443 \\u0430\\u043a\\u0446\\u0438\\u043e\\u043d\\u0435\\u0440\\u0430 \\u0434\\u043e\\u043b\\u0436\\u043d\\u0430 \\u0431\\u044b\\u0442\\u044c \\u0432\\u043e\\u0437\\u043c\\u043e\\u0436\\u043d\\u043e\\u0441\\u0442\\u044c \\u0438 \\u043b\\u0438\\u0447\\u043d\\u043e \\u0437\\u0430\\u043f\\u0440\\u0430\\u0448\\u0438\\u0432\\u0430\\u0442\\u044c \\u0443 \\u043a\\u043e\\u043c\\u043f\\u0430\\u043d\\u0438\\u0438, \\u0438\\u043d\\u0432\\u0435\\u0441\\u0442\\u043e\\u0440\\u043e\\u043c \\u043a\\u043e\\u0442\\u043e\\u0440\\u043e\\u0439 \\u043e\\u043d \\u044f\\u0432\\u043b\\u044f\\u0435\\u0442\\u0441\\u044f, \\u043d\\u0435\\u043e\\u0431\\u0445\\u043e\\u0434\\u0438\\u043c\\u0443\\u044e \\u0435\\u043c\\u0443 \\u0434\\u043b\\u044f \\u043f\\u0440\\u0438\\u043d\\u044f\\u0442\\u0438\\u044f \\u0440\\u0435\\u0448\\u0435\\u043d\\u0438\\u0439 \\u0438\\u043d\\u0444\\u043e\\u0440\\u043c\\u0430\\u0446\\u0438\\u044e. \\u0412 \\u043f\\u0440\\u043e\\u0442\\u0438\\u0432\\u043d\\u043e\\u043c \\u0441\\u043b\\u0443\\u0447\\u0430\\u0435, \\u043f\\u0440\\u0430\\u0432\\u0438\\u043b\\u043e \\u0430\\u0441\\u0441\\u0438\\u043c\\u0435\\u0442\\u0440\\u0438\\u0447\\u043d\\u043e\\u0439 \\u0438\\u043d\\u0444\\u043e\\u0440\\u043c\\u0430\\u0446\\u0438\\u0438, \\u0441\\u043e\\u0433\\u043b\\u0430\\u0441\\u043d\\u043e \\u043a\\u043e\\u0442\\u043e\\u0440\\u043e\\u043c\\u0443 \\u043c\\u0435\\u043d\\u0435\\u0434\\u0436\\u043c\\u0435\\u043d\\u0442 \\u043a\\u043e\\u043c\\u043f\\u0430\\u043d\\u0438\\u0438 (\\u0438, \\u0432 \\u0440\\u043e\\u0441\\u0441\\u0438\\u0439\\u0441\\u043a\\u043e\\u043c \\u0441\\u043b\\u0443\\u0447\\u0430\\u0435, \\u0433\\u043e\\u0441\\u0443\\u0434\\u0430\\u0440\\u0441\\u0442\\u0432\\u043e, \\u043a\\u0430\\u043a \\u0430\\u043a\\u0446\\u0438\\u043e\\u043d\\u0435\\u0440) \\u043e\\u0431\\u043b\\u0430\\u0434\\u0430\\u0435\\u0442 \\u0433\\u043e\\u0440\\u0430\\u0437\\u0434\\u043e \\u0431\\u043e\\u043b\\u044c\\u0448\\u0435\\u0439 \\u0438\\u043d\\u0444\\u043e\\u0440\\u043c\\u0430\\u0446\\u0438\\u0435\\u0439 \\u043e \\u043d\\u0435\\u0439, \\u0447\\u0435\\u043c \\u0438\\u043d\\u0432\\u0435\\u0441\\u0442\\u043e\\u0440, \\u043c\\u043e\\u0436\\u0435\\u0442 \\u043e\\u0431\\u0435\\u0441\\u0446\\u0435\\u043d\\u0438\\u0442\\u044c \\u0432\\u043b\\u043e\\u0436\\u0435\\u043d\\u0438\\u044f \\u0432 \\u0446\\u0435\\u043d\\u043d\\u044b\\u0435 \\u0431\\u0443\\u043c\\u0430\\u0433\\u0438 \\u043f\\u043e\\u0434\\u043e\\u0431\\u043d\\u043e\\u0439 \\u0444\\u0438\\u0440\\u043c\\u044b.\\u0421\\u043c\\u043e\\u0442\\u0440\\u044f\\u0442 \\u0432\\u043e\\u043b\\u043a\\u043e\\u043c\\u041e\\u0441\\u043b\\u043e\\u0436\\u043d\\u044f\\u0435\\u0442\\u0441\\u044f \\u0440\\u0430\\u0431\\u043e\\u0442\\u0430 \\u043c\\u0438\\u043d\\u043e\\u0440\\u0438\\u0442\\u0430\\u0440\\u0438\\u0435\\u0432 \\u0441 \\u0433\\u043e\\u0441\\u043a\\u043e\\u043c\\u043f\\u0430\\u043d\\u0438\\u044f\\u043c\\u0438, \\u0430 \\u0433\\u043e\\u0441\\u043a\\u043e\\u043c\\u043f\\u0430\\u043d\\u0438\\u0439 - \\u0441 \\u043c\\u0438\\u043d\\u043e\\u0440\\u0438\\u0442\\u0430\\u0440\\u0438\\u044f\\u043c\\u0438 \\u0442\\u0435\\u043c, \\u0447\\u0442\\u043e \\u0431\\u043e\\u043b\\u044c\\u0448\\u0438\\u043d\\u0441\\u0442\\u0432\\u043e \\u0438\\u043d\\u0432\\u0435\\u0441\\u0442\\u043e\\u0440\\u043e\\u0432-\\u0444\\u0438\\u0437\\u043b\\u0438\\u0446 \\u0432 \\u0420\\u043e\\u0441\\u0441\\u0438\\u0438 - \\u043b\\u044e\\u0434\\u0438 \\u0441 \\u043d\\u0438\\u0437\\u043a\\u043e\\u0439 \\u0444\\u0438\\u043d\\u0430\\u043d\\u0441\\u043e\\u0432\\u043e\\u0439 \\u0433\\u0440\\u0430\\u043c\\u043e\\u0442\\u043d\\u043e\\u0441\\u0442\\u044c\\u044e. \\u0414\\u0435\\u0432\\u0438\\u0437 \\u0423\\u043e\\u0440\\u0440\\u0435\\u043d\\u0430 \\u0411\\u0430\\u0444\\u0444\\u0435\\u0442\\u0430 - \\\"\\u0438\\u043d\\u0432\\u0435\\u0441\\u0442\\u0438\\u0440\\u0443\\u0439\\u0442\\u0435 \\u0442\\u043e\\u043b\\u044c\\u043a\\u043e \\u0432 \\u0431\\u0438\\u0437\\u043d\\u0435\\u0441, \\u043a\\u043e\\u0442\\u043e\\u0440\\u044b\\u0439 \\u043f\\u043e\\u043d\\u0438\\u043c\\u0430\\u0435\\u0442\\u0435\\\" \\u2013 \\u0437\\u0434\\u0435\\u0441\\u044c \\u0447\\u0430\\u0441\\u0442\\u043e \\u043d\\u0435 \\u0440\\u0430\\u0431\\u043e\\u0442\\u0430\\u0435\\u0442. \\u041d\\u043e \\u0435\\u0441\\u0442\\u044c \\u0438 \\u0442\\u0435, \\u043a\\u0442\\u043e \\u0432 \\u0441\\u043e\\u0441\\u0442\\u043e\\u044f\\u043d\\u0438\\u0438 \\u0441\\u043f\\u043e\\u0440\\u0438\\u0442\\u044c \\u0441 \\u043a\\u043e\\u0440\\u043f\\u043e\\u0440\\u0430\\u0442\\u0438\\u0432\\u043d\\u044b\\u043c\\u0438 \\u044e\\u0440\\u0438\\u0441\\u0442\\u0430\\u043c\\u0438 \\u043d\\u0430 \\u0438\\u0445 \\u044f\\u0437\\u044b\\u043a\\u0435, \\u043e\\u0442\\u0441\\u0442\\u0430\\u0438\\u0432\\u0430\\u044f \\u0441\\u0432\\u043e\\u0438 \\u043f\\u0440\\u0430\\u0432\\u0430 \\u0432 \\u0441\\u0443\\u0434\\u0430\\u0445. \\u0412\\u043e\\u0442, \\u043a \\u043f\\u0440\\u0438\\u043c\\u0435\\u0440\\u0443, \\u0435\\u0441\\u0442\\u044c \\u0431\\u043b\\u043e\\u0433\\u0435\\u0440 \\u0410\\u043b\\u0435\\u043a\\u0441\\u0435\\u0439 \\u041d\\u0430\\u0432\\u0430\\u043b\\u044c\\u043d\\u044b\\u0439, \\u043a\\u043e\\u0442\\u043e\\u0440\\u044b\\u0439 \\u0442\\u043e \\u043b\\u0438 \\u0447\\u0443\\u0432\\u0441\\u0442\\u0432\\u0443\\u0435\\u0442 \\u043f\\u0440\\u0438\\u0440\\u043e\\u0434\\u043d\\u0443\\u044e \\u0441\\u043a\\u043b\\u043e\\u043d\\u043d\\u043e\\u0441\\u0442\\u044c \\u043a \\u0431\\u043e\\u0440\\u044c\\u0431\\u0435 \\u0437\\u0430 \\u043f\\u0440\\u043e\\u0437\\u0440\\u0430\\u0447\\u043d\\u043e\\u0441\\u0442\\u044c \\u044d\\u043c\\u0438\\u0442\\u0435\\u043d\\u0442\\u043e\\u0432, \\u0442\\u043e \\u043b\\u0438 \\u0438\\u0441\\u043f\\u043e\\u043b\\u044c\\u0437\\u0443\\u0435\\u0442 \\u044d\\u0442\\u0443 \\u0442\\u0435\\u043c\\u0443 \\u0434\\u043b\\u044f \\u0441\\u0432\\u043e\\u0438\\u0445 \\u043a\\u0430\\u0440\\u044c\\u0435\\u0440\\u043d\\u044b\\u0445 \\u0446\\u0435\\u043b\\u0435\\u0439. \\u041d\\u043e \\u0432 \\u0434\\u0430\\u043d\\u043d\\u043e\\u043c \\u043a\\u043e\\u043d\\u043a\\u0440\\u0435\\u0442\\u043d\\u043e\\u043c \\u0441\\u043b\\u0443\\u0447\\u0430\\u0435 \\u043c\\u043e\\u0442\\u0438\\u0432\\u044b \\u0435\\u0433\\u043e \\u0434\\u0435\\u0439\\u0441\\u0442\\u0432\\u0438\\u0439 \\u0441\\u043e\\u0432\\u0435\\u0440\\u0448\\u0435\\u043d\\u043d\\u043e \\u043d\\u0435 \\u0432\\u0430\\u0436\\u043d\\u044b, \\u0432\\u0435\\u0434\\u044c \\u0435\\u0433\\u043e \\u043f\\u043e\\u043f\\u044b\\u0442\\u043a\\u0438 \\u043f\\u043e\\u043b\\u0443\\u0447\\u0438\\u0442\\u044c \\u0438\\u043d\\u0444\\u043e\\u0440\\u043c\\u0430\\u0446\\u0438\\u044e \\u043e\\u0442 \\u0433\\u043e\\u0441\\u043a\\u043e\\u043c\\u043f\\u0430\\u043d\\u0438\\u0439 \\u0440\\u0430\\u0431\\u043e\\u0442\\u0430\\u044e\\u0442 \\u043d\\u0430 \\u0431\\u043b\\u0430\\u0433\\u043e \\u0432\\u0441\\u0435\\u0445 \\u043c\\u0438\\u043d\\u043e\\u0440\\u0438\\u0442\\u0430\\u0440\\u0438\\u0435\\u0432.\\u0410\\u043b\\u0435\\u043a\\u0441\\u0435\\u0439 \\u041d\\u0430\\u0432\\u0430\\u043b\\u044c\\u043d\\u044b\\u0439. \\u0424\\u043e\\u0442\\u043e \\u0420\\u0418\\u0410 \\u041d\\u043e\\u0432\\u043e\\u0441\\u0442\\u0438, \\u041f\\u0430\\u0432\\u0435\\u043b \\u041b\\u0438\\u0441\\u0438\\u0446\\u044b\\u043dLenta.ru\\u041f\\u043e\\u043c\\u0438\\u043c\\u043e \\u041d\\u0430\\u0432\\u0430\\u043b\\u044c\\u043d\\u043e\\u0433\\u043e \\u0432 \\u0420\\u043e\\u0441\\u0441\\u0438\\u0438 \\u0434\\u0435\\u0439\\u0441\\u0442\\u0432\\u0443\\u044e\\u0442 \\u0438 \\u0434\\u0440\\u0443\\u0433\\u0438\\u0435 \\\"\\u043f\\u0440\\u043e\\u0444\\u0435\\u0441\\u0441\\u0438\\u043e\\u043d\\u0430\\u043b\\u044c\\u043d\\u044b\\u0435\\\" \\u0430\\u043a\\u0446\\u0438\\u043e\\u043d\\u0435\\u0440\\u044b, \\u043e\\u0434\\u043d\\u0430\\u043a\\u043e \\u0438\\u043c\\u0435\\u043d\\u043d\\u043e \\u0435\\u0433\\u043e \\u0440\\u0430\\u0431\\u043e\\u0442\\u0430 \\u043d\\u0430\\u0438\\u0431\\u043e\\u043b\\u0435\\u0435 \\u043d\\u0430\\u0433\\u043b\\u044f\\u0434\\u043d\\u043e \\u0434\\u0435\\u043c\\u043e\\u043d\\u0441\\u0442\\u0440\\u0438\\u0440\\u0443\\u0435\\u0442, \\u043a\\u0430\\u043a \\u043d\\u0435\\u0434\\u0430\\u043b\\u0435\\u043a\\u043e \\u0443\\u0448\\u043b\\u0438 \\u0440\\u043e\\u0441\\u0441\\u0438\\u0439\\u0441\\u043a\\u0438\\u0435 \\u043a\\u043e\\u043c\\u043f\\u0430\\u043d\\u0438\\u0438 \\u0432 \\u0440\\u0430\\u0437\\u0432\\u0438\\u0442\\u0438\\u0438 \\u0441\\u0432\\u043e\\u0438\\u0445 \\u043e\\u0442\\u043d\\u043e\\u0448\\u0435\\u043d\\u0438\\u0439 \\u0441 \\u0438\\u043d\\u0432\\u0435\\u0441\\u0442\\u043e\\u0440\\u0430\\u043c\\u0438. \\u041e\\u043d\\u0438 \\u0431\\u0430\\u043d\\u0430\\u043b\\u044c\\u043d\\u043e \\u043f\\u0440\\u0435\\u0434\\u043f\\u043e\\u0447\\u0438\\u0442\\u0430\\u044e\\u0442 \\u0441\\u043a\\u0440\\u044b\\u0432\\u0430\\u0442\\u044c \\u0438\\u043d\\u0444\\u043e\\u0440\\u043c\\u0430\\u0446\\u0438\\u044e \\u043e\\u0442 \\u043c\\u0438\\u043d\\u043e\\u0440\\u0438\\u0442\\u0430\\u0440\\u0438\\u0435\\u0432. \\u041a \\u043f\\u0440\\u0438\\u043c\\u0435\\u0440\\u0443, \\\"\\u0420\\u043e\\u0441\\u043d\\u0435\\u0444\\u0442\\u044c\\\", \\u043a\\u0440\\u0443\\u043f\\u043d\\u0435\\u0439\\u0448\\u0430\\u044f \\u043d\\u0435\\u0444\\u0442\\u044f\\u043d\\u0430\\u044f \\u043a\\u043e\\u043c\\u043f\\u0430\\u043d\\u0438\\u044f \\u0420\\u043e\\u0441\\u0441\\u0438\\u0438, \\u0443\\u0436\\u0435 \\u0431\\u043e\\u043b\\u044c\\u0448\\u0435 \\u0433\\u043e\\u0434\\u0430 \\u0441\\u0443\\u0434\\u0438\\u0442\\u0441\\u044f \\u0441\\u043e \\u0441\\u0432\\u043e\\u0438\\u043c \\u043c\\u0438\\u043d\\u043e\\u0440\\u0438\\u0442\\u0430\\u0440\\u043d\\u044b\\u043c \\u0430\\u043a\\u0446\\u0438\\u043e\\u043d\\u0435\\u0440\\u043e\\u043c \\u041d\\u0430\\u0432\\u0430\\u043b\\u044c\\u043d\\u044b\\u043c, \\u043e\\u0431\\u0432\\u0438\\u043d\\u044f\\u044f \\u0435\\u0433\\u043e \\u0432 \\u0437\\u043b\\u043e\\u0443\\u043f\\u043e\\u0442\\u0440\\u0435\\u0431\\u043b\\u0435\\u043d\\u0438\\u0438 \\u043f\\u0440\\u0430\\u0432\\u043e\\u043c.\\u041d\\u0435\\u0441\\u043c\\u043e\\u0442\\u0440\\u044f \\u043d\\u0430 \\u0442\\u043e, \\u0447\\u0442\\u043e \\u0441\\u0443\\u0434 \\u043e\\u0431\\u044f\\u0437\\u0430\\u043b \\\"\\u0420\\u043e\\u0441\\u043d\\u0435\\u0444\\u0442\\u044c\\\" \\u043f\\u0440\\u0435\\u0434\\u043e\\u0441\\u0442\\u0430\\u0432\\u0438\\u0442\\u044c \\u041d\\u0430\\u0432\\u0430\\u043b\\u044c\\u043d\\u043e\\u043c\\u0443 \\u043f\\u0440\\u043e\\u0442\\u043e\\u043a\\u043e\\u043b\\u044b \\u0441\\u043e\\u0432\\u0435\\u0442\\u0430 \\u0434\\u0438\\u0440\\u0435\\u043a\\u0442\\u043e\\u0440\\u043e\\u0432 (\\u0447\\u0442\\u043e, \\u043a\\u0441\\u0442\\u0430\\u0442\\u0438, \\u043f\\u0440\\u0435\\u0434\\u0443\\u0441\\u043c\\u043e\\u0442\\u0440\\u0435\\u043d\\u043e \\u0437\\u0430\\u043a\\u043e\\u043d\\u043e\\u043c), \\u0434\\u043e\\u043a\\u0443\\u043c\\u0435\\u043d\\u0442\\u044b \\u0438\\u043d\\u0432\\u0435\\u0441\\u0442\\u043e\\u0440\\u043e\\u043c \\u043d\\u0435 \\u043f\\u043e\\u043b\\u0443\\u0447\\u0435\\u043d\\u044b. \\u0412\\u043f\\u0440\\u043e\\u0447\\u0435\\u043c, \\u0434\\u0440\\u0443\\u0433\\u0438\\u0435 \\u043a\\u043e\\u043c\\u043f\\u0430\\u043d\\u0438\\u0438 \\u0440\\u0435\\u0430\\u0433\\u0438\\u0440\\u0443\\u044e\\u0442 \\u043d\\u0430 \\u0442\\u0440\\u0435\\u0431\\u043e\\u0432\\u0430\\u043d\\u0438\\u044f \\\"\\u0432\\u044b\\u0441\\u043a\\u043e\\u0447\\u0435\\u043a\\\" \\u043a\\u0443\\u0434\\u0430 \\u043a\\u0430\\u043a \\u0431\\u043e\\u043b\\u0435\\u0435 \\u044d\\u043c\\u043e\\u0446\\u0438\\u043e\\u043d\\u0430\\u043b\\u044c\\u043d\\u043e. \\u041c\\u0435\\u043d\\u0435\\u0434\\u0436\\u0435\\u0440\\u044b \\\"\\u0422\\u0440\\u0430\\u043d\\u0441\\u043d\\u0435\\u0444\\u0442\\u0438\\\", \\u043a \\u043f\\u0440\\u0438\\u043c\\u0435\\u0440\\u0443, \\u043d\\u0435 \\u0440\\u0430\\u0437 \\u0437\\u0430\\u044f\\u0432\\u043b\\u044f\\u043b\\u0438, \\u0447\\u0442\\u043e \\u043a\\u043e\\u043c\\u043f\\u0430\\u043d\\u0438\\u044e \\u043d\\u0435 \\u0438\\u043d\\u0442\\u0435\\u0440\\u0435\\u0441\\u0443\\u044e\\u0442 \\u043e\\u0442\\u043d\\u043e\\u0448\\u0435\\u043d\\u0438\\u044f \\u0441 \\u043c\\u0438\\u043d\\u043e\\u0440\\u0438\\u0442\\u0430\\u0440\\u043d\\u044b\\u043c\\u0438 \\u0430\\u043a\\u0446\\u0438\\u043e\\u043d\\u0435\\u0440\\u0430\\u043c\\u0438, \\u0432\\u043b\\u0430\\u0434\\u0435\\u043b\\u044c\\u0446\\u0430\\u043c\\u0438 \\u043f\\u0440\\u0438\\u0432\\u0438\\u043b\\u0435\\u0433\\u0438\\u0440\\u043e\\u0432\\u0430\\u043d\\u043d\\u044b\\u0445 \\u0430\\u043a\\u0446\\u0438\\u0439. \\u041d\\u0443 \\u0430 \\u0441\\u043b\\u0438\\u0448\\u043a\\u043e\\u043c \\u043b\\u044e\\u0431\\u043e\\u043f\\u044b\\u0442\\u043d\\u044b\\u0439 \\u041d\\u0430\\u0432\\u0430\\u043b\\u044c\\u043d\\u044b\\u0439, \\u043a\\u043e\\u0442\\u043e\\u0440\\u044b\\u0439 \\u0432 \\u0434\\u043e\\u0432\\u0435\\u0441\\u043e\\u043a \\u043e\\u0431\\u0432\\u0438\\u043d\\u0438\\u043b \\u043a\\u043e\\u043c\\u043f\\u0430\\u043d\\u0438\\u044e \\u0432 \\u043a\\u043e\\u0440\\u0440\\u0443\\u043f\\u0446\\u0438\\u0438, \\u0443\\u0434\\u043e\\u0441\\u0442\\u043e\\u0438\\u043b\\u0441\\u044f \\u043e\\u0442 \\u043c\\u0435\\u043d\\u0435\\u0434\\u0436\\u043c\\u0435\\u043d\\u0442\\u0430 \\u043a\\u043e\\u043c\\u043f\\u0430\\u043d\\u0438\\u0438 \\u043f\\u0435\\u0440\\u0441\\u043e\\u043d\\u0430\\u043b\\u044c\\u043d\\u043e\\u0439 \\u0432\\u044b\\u0432\\u043e\\u043b\\u043e\\u0447\\u043a\\u0438 \\u043d\\u0430 \\u043f\\u0435\\u0440\\u0435\\u0434\\u043e\\u0432\\u0438\\u0446\\u0435 \\\"\\u0418\\u0437\\u0432\\u0435\\u0441\\u0442\\u0438\\u0439\\\".\\u041e\\u0434\\u043d\\u0430\\u043a\\u043e \\u043f\\u0440\\u043e\\u0446\\u0435\\u0441\\u0441, \\u0447\\u0442\\u043e \\u043d\\u0430\\u0437\\u044b\\u0432\\u0430\\u0435\\u0442\\u0441\\u044f, \\u043f\\u043e\\u0448\\u0435\\u043b. \\u0412 \\u0438\\u044e\\u043d\\u0435 \\u0413\\u043e\\u0441\\u0434\\u0443\\u043c\\u0430 \\u043f\\u0440\\u0438\\u043d\\u044f\\u043b\\u0430 \\u0432 \\u043f\\u0435\\u0440\\u0432\\u043e\\u043c \\u0447\\u0442\\u0435\\u043d\\u0438\\u0438 \\u0437\\u0430\\u043a\\u043e\\u043d\\u043e\\u043f\\u0440\\u043e\\u0435\\u043a\\u0442, \\u0440\\u0430\\u0441\\u0448\\u0438\\u0440\\u044f\\u044e\\u0449\\u0438\\u0439 \\u043f\\u0440\\u0430\\u0432\\u0430 \\u043c\\u0438\\u043d\\u043e\\u0440\\u0438\\u0442\\u0430\\u0440\\u0438\\u0435\\u0432. \\u0414\\u043e\\u043a\\u0443\\u043c\\u0435\\u043d\\u0442 \\u0431\\u044b\\u043b \\u0440\\u0430\\u0437\\u0440\\u0430\\u0431\\u043e\\u0442\\u0430\\u043d \\u043f\\u043e\\u0441\\u043b\\u0435 \\u0442\\u043e\\u0433\\u043e, \\u043a\\u0430\\u043a \\u0432 \\u043c\\u0430\\u0440\\u0442\\u0435 \\u043f\\u0440\\u0435\\u0437\\u0438\\u0434\\u0435\\u043d\\u0442 \\u0420\\u043e\\u0441\\u0441\\u0438\\u0438 \\u0414\\u043c\\u0438\\u0442\\u0440\\u0438\\u0439 \\u041c\\u0435\\u0434\\u0432\\u0435\\u0434\\u0435\\u0432 \\u043f\\u0440\\u0435\\u0434\\u043b\\u043e\\u0436\\u0438\\u043b \\u0440\\u044f\\u0434 \\u043c\\u0435\\u0440 \\u043f\\u043e \\u0443\\u043b\\u0443\\u0447\\u0448\\u0435\\u043d\\u0438\\u044e \\u0438\\u043d\\u0432\\u0435\\u0441\\u0442\\u0438\\u0446\\u0438\\u043e\\u043d\\u043d\\u043e\\u0433\\u043e \\u043a\\u043b\\u0438\\u043c\\u0430\\u0442\\u0430 \\u0432 \\u0420\\u043e\\u0441\\u0441\\u0438\\u0438. \\u0412 \\u0447\\u0430\\u0441\\u0442\\u043d\\u043e\\u0441\\u0442\\u0438, \\u041c\\u0435\\u0434\\u0432\\u0435\\u0434\\u0435\\u0432 \\u043f\\u043e\\u0440\\u0443\\u0447\\u0438\\u043b \\u043f\\u0440\\u0430\\u0432\\u0438\\u0442\\u0435\\u043b\\u044c\\u0441\\u0442\\u0432\\u0443 \\u043f\\u043e\\u0434\\u0433\\u043e\\u0442\\u043e\\u0432\\u0438\\u0442\\u044c \\u0437\\u0430\\u043a\\u043e\\u043d\\u043e\\u043f\\u0440\\u043e\\u0435\\u043a\\u0442, \\u0441\\u043e\\u0433\\u043b\\u0430\\u0441\\u043d\\u043e \\u043a\\u043e\\u0442\\u043e\\u0440\\u043e\\u043c\\u0443 \\u043c\\u0438\\u043d\\u043e\\u0440\\u0438\\u0442\\u0430\\u0440\\u043d\\u044b\\u0435 \\u0430\\u043a\\u0446\\u0438\\u043e\\u043d\\u0435\\u0440\\u044b \\u0441\\u043c\\u043e\\u0433\\u0443\\u0442 \\u043f\\u043e\\u043b\\u0443\\u0447\\u0430\\u0442\\u044c \\u0431\\u043e\\u043b\\u0435\\u0435 \\u0448\\u0438\\u0440\\u043e\\u043a\\u0443\\u044e \\u0438\\u043d\\u0444\\u043e\\u0440\\u043c\\u0430\\u0446\\u0438\\u044e \\u043e \\u0441\\u0432\\u043e\\u0438\\u0445 \\u043a\\u043e\\u043c\\u043f\\u0430\\u043d\\u0438\\u044f\\u0445.\\u0420\\u0430\\u0437\\u0440\\u0430\\u0431\\u043e\\u0442\\u0430\\u043d\\u043d\\u044b\\u0439 \\u0413\\u043e\\u0441\\u0434\\u0443\\u043c\\u043e\\u0439 \\u0434\\u043e\\u043a\\u0443\\u043c\\u0435\\u043d\\u0442 \\u0434\\u0435\\u0439\\u0441\\u0442\\u0432\\u0438\\u0442\\u0435\\u043b\\u044c\\u043d\\u043e \\u043e\\u0442\\u043a\\u0440\\u044b\\u0432\\u0430\\u0435\\u0442 \\u043c\\u0438\\u043d\\u043e\\u0440\\u0438\\u0442\\u0430\\u0440\\u0438\\u044f\\u043c \\u0434\\u043e\\u0441\\u0442\\u0443\\u043f \\u043a \\u043a\\u043e\\u043c\\u043c\\u0435\\u0440\\u0447\\u0435\\u0441\\u043a\\u043e\\u0439 \\u0442\\u0430\\u0439\\u043d\\u0435 \\u043a\\u043e\\u043c\\u043f\\u0430\\u043d\\u0438\\u0439 \\u0438 \\u0438\\u043d\\u0444\\u043e\\u0440\\u043c\\u0430\\u0446\\u0438\\u0438 \\u043e\\u0431 \\u0438\\u0445 \\\"\\u0434\\u043e\\u0447\\u043a\\u0430\\u0445\\\". \\u041f\\u043e\\u043b\\u0443\\u0447\\u0438\\u0442\\u044c \\u044d\\u0442\\u0438 \\u0441\\u0432\\u0435\\u0434\\u0435\\u043d\\u0438\\u044f \\u043c\\u043e\\u0436\\u043d\\u043e \\u0431\\u0443\\u0434\\u0435\\u0442, \\u043f\\u0440\\u0435\\u0434\\u0432\\u0430\\u0440\\u0438\\u0442\\u0435\\u043b\\u044c\\u043d\\u043e \\u0432\\u044b\\u0434\\u0430\\u0432 \\u0440\\u0430\\u0441\\u043f\\u0438\\u0441\\u043a\\u0443 \\u0441 \\u043e\\u0431\\u0435\\u0449\\u0430\\u043d\\u0438\\u0435\\u043c \\u043d\\u0435 \\u0440\\u0430\\u0437\\u0433\\u043b\\u0430\\u0448\\u0430\\u0442\\u044c \\u043a\\u043e\\u043c\\u043c\\u0435\\u0440\\u0447\\u0435\\u0441\\u043a\\u0443\\u044e \\u0442\\u0430\\u0439\\u043d\\u0443. \\u0415\\u0441\\u0442\\u0435\\u0441\\u0442\\u0432\\u0435\\u043d\\u043d\\u043e, \\u0434\\u043e\\u0441\\u0442\\u0443\\u043f \\u043a \\u0431\\u0443\\u0445\\u0433\\u0430\\u043b\\u0442\\u0435\\u0440\\u0441\\u043a\\u043e\\u0439 \\u0438\\u043d\\u0444\\u043e\\u0440\\u043c\\u0430\\u0446\\u0438\\u0438 \\u043f\\u043e-\\u043f\\u0440\\u0435\\u0436\\u043d\\u0435\\u043c\\u0443 \\u0441\\u043c\\u043e\\u0433\\u0443\\u0442 \\u043f\\u043e\\u043b\\u0443\\u0447\\u0438\\u0442\\u044c \\u0432\\u043b\\u0430\\u0434\\u0435\\u043b\\u044c\\u0446\\u044b \\u043d\\u0435 \\u043c\\u0435\\u043d\\u0435\\u0435 25 \\u043f\\u0440\\u043e\\u0446\\u0435\\u043d\\u0442\\u043e\\u0432 \\u0430\\u043a\\u0446\\u0438\\u0439. \\u0418\\u043d\\u0438\\u0446\\u0438\\u0430\\u0442\\u0438\\u0432\\u0430 \\u0434\\u0435\\u043f\\u0443\\u0442\\u0430\\u0442\\u043e\\u0432 \\u0443\\u0436\\u0435 \\u0432\\u044b\\u0437\\u0432\\u0430\\u043b\\u0430 \\u043a\\u0440\\u0438\\u0442\\u0438\\u043a\\u0443 \\u0441\\u043e \\u0441\\u0442\\u043e\\u0440\\u043e\\u043d\\u044b \\u043a\\u043e\\u043c\\u043f\\u0430\\u043d\\u0438\\u0439.\\u0413\\u0430\\u0437\\u0435\\u0442\\u0430 \\\"\\u0412\\u0435\\u0434\\u043e\\u043c\\u043e\\u0441\\u0442\\u0438\\\" \\u0441\\u043e\\u043e\\u0431\\u0449\\u0438\\u043b\\u0430, \\u0447\\u0442\\u043e \\\"\\u0420\\u043e\\u0441\\u043d\\u0435\\u0444\\u0442\\u044c\\\", \\\"\\u0422\\u0440\\u0430\\u043d\\u0441\\u043d\\u0435\\u0444\\u0442\\u044c\\\", \\\"\\u0421\\u0443\\u0440\\u0433\\u0443\\u0442\\u043d\\u0435\\u0444\\u0442\\u0435\\u0433\\u0430\\u0437\\\" \\u0438 \\u0422\\u0413\\u041a-2 \\u043f\\u043e\\u0436\\u0430\\u043b\\u043e\\u0432\\u0430\\u043b\\u0438\\u0441\\u044c \\u043d\\u0430 \\u0434\\u043e\\u043a\\u0443\\u043c\\u0435\\u043d\\u0442 \\u0432\\u0438\\u0446\\u0435-\\u043f\\u0440\\u0435\\u043c\\u044c\\u0435\\u0440\\u0443 \\u0418\\u0433\\u043e\\u0440\\u044e \\u0421\\u0435\\u0447\\u0438\\u043d\\u0443. \\u041f\\u043e \\u0438\\u0445 \\u043c\\u043d\\u0435\\u043d\\u0438\\u044e, \\u0437\\u0430\\u043a\\u043e\\u043d\\u043e\\u043f\\u0440\\u043e\\u0435\\u043a\\u0442 \\u0441\\u043d\\u0438\\u0437\\u0438\\u0442 \\u0438\\u043d\\u0432\\u0435\\u0441\\u0442\\u0438\\u0446\\u0438\\u043e\\u043d\\u043d\\u0443\\u044e \\u043f\\u0440\\u0438\\u0432\\u043b\\u0435\\u043a\\u0430\\u0442\\u0435\\u043b\\u044c\\u043d\\u043e\\u0441\\u0442\\u044c \\u043e\\u0442\\u0435\\u0447\\u0435\\u0441\\u0442\\u0432\\u0435\\u043d\\u043d\\u043e\\u0439 \\u044d\\u043a\\u043e\\u043d\\u043e\\u043c\\u0438\\u043a\\u0438 \\u0438 \\u043d\\u0435\\u0433\\u0430\\u0442\\u0438\\u0432\\u043d\\u043e \\u0441\\u043a\\u0430\\u0436\\u0435\\u0442\\u0441\\u044f \\u043d\\u0430 \\u043a\\u043e\\u043d\\u043a\\u0443\\u0440\\u0435\\u043d\\u0442\\u043e\\u0441\\u043f\\u043e\\u0441\\u043e\\u0431\\u043d\\u043e\\u0441\\u0442\\u0438 \\u0430\\u043a\\u0446\\u0438\\u043e\\u043d\\u0435\\u0440\\u043d\\u044b\\u0445 \\u043e\\u0431\\u0449\\u0435\\u0441\\u0442\\u0432. \\u041d\\u0435 \\u043b\\u0438\\u0448\\u043d\\u0438\\u043c \\u0431\\u0443\\u0434\\u0435\\u0442 \\u043e\\u0442\\u043c\\u0435\\u0442\\u0438\\u0442\\u044c, \\u0447\\u0442\\u043e \\u0432\\u0441\\u0435 \\u0447\\u0435\\u0442\\u044b\\u0440\\u0435 \\u043a\\u043e\\u043c\\u043f\\u0430\\u043d\\u0438\\u0438, \\u043e\\u0431\\u0440\\u0430\\u0442\\u0438\\u0432\\u0448\\u0438\\u0435\\u0441\\u044f \\u0441 \\u043f\\u0438\\u0441\\u044c\\u043c\\u043e\\u043c \\u043a \\u0421\\u0435\\u0447\\u0438\\u043d\\u0443, \\u043a\\u043e\\u043d\\u0444\\u043b\\u0438\\u043a\\u0442\\u0443\\u044e\\u0442 \\u0441\\u043e \\u0441\\u0432\\u043e\\u0438\\u043c\\u0438 \\u043c\\u0438\\u043d\\u043e\\u0440\\u0438\\u0442\\u0430\\u0440\\u0438\\u044f\\u043c\\u0438. \\u0412 \\u043d\\u0438\\u0445 \\u043e\\u043d\\u0438 \\u0432\\u0438\\u0434\\u044f\\u0442, \\u043f\\u0440\\u0435\\u0436\\u0434\\u0435 \\u0432\\u0441\\u0435\\u0433\\u043e, \\u0443\\u0433\\u0440\\u043e\\u0437\\u0443 \\u0431\\u0438\\u0437\\u043d\\u0435\\u0441\\u0443 \\u0438 \\u0448\\u043f\\u0438\\u043e\\u043d\\u043e\\u0432, \\u0430 \\u043d\\u0435 \\u043f\\u043e\\u043b\\u043d\\u043e\\u043f\\u0440\\u0430\\u0432\\u043d\\u044b\\u0445 \\u0443\\u0447\\u0430\\u0441\\u0442\\u043d\\u0438\\u043a\\u043e\\u0432 \\u0430\\u043a\\u0446\\u0438\\u043e\\u043d\\u0435\\u0440\\u043d\\u044b\\u0445 \\u043e\\u0431\\u0449\\u0435\\u0441\\u0442\\u0432. \\u0411\\u043e\\u043b\\u0435\\u0435 \\u0442\\u043e\\u0433\\u043e, \\u0430\\u0432\\u0442\\u043e\\u0440\\u044b \\u043f\\u0438\\u0441\\u044c\\u043c\\u0430 \\u0433\\u043e\\u0442\\u043e\\u0432\\u044b \\u043e\\u0442\\u043a\\u0430\\u0437\\u0430\\u0442\\u044c \\u0432 \\u0442\\u0430\\u043a\\u043e\\u043c \\u043f\\u0440\\u0430\\u0432\\u0435 \\u0438 \\u0447\\u043b\\u0435\\u043d\\u0430\\u043c \\u0441\\u043e\\u0431\\u0441\\u0442\\u0432\\u0435\\u043d\\u043d\\u044b\\u0445 \\u0441\\u043e\\u0432\\u0435\\u0442\\u043e\\u0432 \\u0434\\u0438\\u0440\\u0435\\u043a\\u0442\\u043e\\u0440\\u043e\\u0432. \\u041f\\u043e \\u0438\\u0445 \\u043c\\u043d\\u0435\\u043d\\u0438\\u044e, \\u043f\\u0440\\u0438\\u0433\\u043b\\u0430\\u0448\\u0435\\u043d\\u043d\\u044b\\u0435 \\u0443\\u043f\\u0440\\u0430\\u0432\\u043b\\u0435\\u043d\\u0446\\u044b (1 \\u0438\\u044e\\u043b\\u044f \\u0437\\u0430\\u0432\\u0435\\u0440\\u0448\\u0435\\u043d\\u0430 \\u0437\\u0430\\u043c\\u0435\\u043d\\u0430 \\u043f\\u0440\\u043e\\u0444\\u0438\\u043b\\u044c\\u043d\\u044b\\u0445 \\u0447\\u0438\\u043d\\u043e\\u0432\\u043d\\u0438\\u043a\\u043e\\u0432 \\u0432 \\u0441\\u043e\\u0432\\u0435\\u0442\\u0430\\u0445 \\u043d\\u0430 \\u043d\\u0435\\u0437\\u0430\\u0432\\u0438\\u0441\\u0438\\u043c\\u044b\\u0445 \\u0434\\u0438\\u0440\\u0435\\u043a\\u0442\\u043e\\u0440\\u043e\\u0432) \\u043d\\u0435 \\u043c\\u043e\\u0433\\u0443\\u0442 \\u0431\\u044b\\u0442\\u044c \\u0443\\u0440\\u0430\\u0432\\u043d\\u0435\\u043d\\u044b \\u0432 \\u043f\\u0440\\u0430\\u0432\\u0430\\u0445 \\u0441 \\u0435\\u0435 \\u0441\\u043e\\u0431\\u0441\\u0442\\u0432\\u0435\\u043d\\u043d\\u0438\\u043a\\u0430\\u043c\\u0438 (\\u0432\\u0438\\u0434\\u0438\\u043c\\u043e, \\u0435\\u0441\\u043b\\u0438 \\u0440\\u0435\\u0447\\u044c \\u043d\\u0435 \\u0438\\u0434\\u0435\\u0442 \\u043e \\u043c\\u0438\\u043d\\u043e\\u0440\\u0438\\u0442\\u0430\\u0440\\u0438\\u044f\\u0445), \\u043f\\u043e\\u0441\\u043a\\u043e\\u043b\\u044c\\u043a\\u0443 \\u0442\\u0430\\u043a\\u0430\\u044f \\u0441\\u0438\\u0442\\u0443\\u0430\\u0446\\u0438\\u044f \\u0438\\u0437-\\u0437\\u0430 \\\"\\u043d\\u0435\\u0447\\u0435\\u0442\\u043a\\u0438\\u0445 \\u0444\\u043e\\u0440\\u043c\\u0443\\u043b\\u0438\\u0440\\u043e\\u0432\\u043e\\u043a\\\" \\u0437\\u0430\\u043a\\u043e\\u043d\\u043e\\u043f\\u0440\\u043e\\u0435\\u043a\\u0442\\u0430 \\\"\\u0441\\u043e\\u0437\\u0434\\u0430\\u0435\\u0442 \\u043e\\u0431\\u0448\\u0438\\u0440\\u043d\\u043e\\u0435 \\u043f\\u043e\\u043b\\u0435 \\u0434\\u043b\\u044f \\u0437\\u043b\\u043e\\u0443\\u043f\\u043e\\u0442\\u0440\\u0435\\u0431\\u043b\\u0435\\u043d\\u0438\\u0439 \\u0441\\u043e \\u0441\\u0442\\u043e\\u0440\\u043e\\u043d\\u044b \\u043d\\u0435\\u0434\\u043e\\u0431\\u0440\\u043e\\u0441\\u043e\\u0432\\u0435\\u0441\\u0442\\u043d\\u044b\\u0445 \\u0447\\u043b\\u0435\\u043d\\u043e\\u0432 \\u0441\\u043e\\u0432\\u0435\\u0442\\u0430\\\".\\u041f\\u043e\\u043c\\u043d\\u0435\\u043d\\u0438\\u044e \\u041d\\u0430\\u0432\\u0430\\u043b\\u044c\\u043d\\u043e\\u0433\\u043e, \\\"\\u043c\\u0435\\u0434\\u0432\\u0435\\u0434\\u0435\\u0432\\u0441\\u043a\\u0438\\u0435\\\" \\u043f\\u043e\\u043f\\u0440\\u0430\\u0432\\u043a\\u0438 \\u043f\\u0440\\u0438\\u0432\\u0435\\u0434\\u0443\\u0442 \\u043a \\u0442\\u043e\\u043c\\u0443, \\u0447\\u0442\\u043e \\u0443 \\\"\\u044d\\u0442\\u0438\\u0445 \\u0436\\u0443\\u043b\\u0438\\u043a\\u043e\\u0432 \\u043d\\u0435 \\u0431\\u0443\\u0434\\u0435\\u0442 \\u0448\\u0430\\u043d\\u0441\\u043e\\u0432 \\u0443\\u0441\\u043f\\u0435\\u0448\\u043d\\u043e \\u0437\\u0430\\u0449\\u0438\\u0442\\u0438\\u0442\\u044c \\u0432 \\u0441\\u0443\\u0434\\u0435 \\u0441\\u0432\\u043e\\u0438 \\u043e\\u0442\\u043a\\u0430\\u0437\\u044b \\u0432 \\u043f\\u0440\\u0435\\u0434\\u043e\\u0441\\u0442\\u0430\\u0432\\u043b\\u0435\\u043d\\u0438\\u0438 \\u0438\\u043d\\u0444\\u043e\\u0440\\u043c\\u0430\\u0446\\u0438\\u0438\\\". \\u041e\\u043d \\u043e\\u0442\\u043c\\u0435\\u0447\\u0430\\u0435\\u0442, \\u0447\\u0442\\u043e \\\"\\u0431\\u0440\\u0435\\u0434\\u043e\\u0432\\u043e\\u0441\\u0442\\u044c \\u0438 \\u0433\\u043b\\u0443\\u043f\\u043e\\u0441\\u0442\\u044c\\\" \\u043f\\u0438\\u0441\\u044c\\u043c\\u0430 \\u0441\\u0442\\u0430\\u043d\\u043e\\u0432\\u0438\\u0442\\u0441\\u044f \\u043e\\u0447\\u0435\\u0432\\u0438\\u0434\\u043d\\u0430 \\u0432 \\u043f\\u0443\\u043d\\u043a\\u0442\\u0435, \\u0432 \\u043a\\u043e\\u0442\\u043e\\u0440\\u043e\\u043c \\u0444\\u0438\\u0440\\u043c\\u044b \\u0432\\u043e\\u0437\\u0440\\u0430\\u0436\\u0430\\u044e\\u0442 \\u043f\\u0440\\u043e\\u0442\\u0438\\u0432 \\u0440\\u0430\\u0441\\u043a\\u0440\\u044b\\u0442\\u0438\\u044f \\u0438\\u043d\\u0444\\u043e\\u0440\\u043c\\u0430\\u0446\\u0438\\u0438 \\u043d\\u0435 \\u0442\\u043e\\u043b\\u044c\\u043a\\u043e \\u0430\\u043a\\u0446\\u0438\\u043e\\u043d\\u0435\\u0440\\u0430\\u043c, \\u043d\\u043e \\u0438 \\u0447\\u043b\\u0435\\u043d\\u0430\\u043c \\u0441\\u043e\\u0432\\u0435\\u0442\\u0430 \\u0434\\u0438\\u0440\\u0435\\u043a\\u0442\\u043e\\u0440\\u043e\\u0432 \\u043a\\u043e\\u043c\\u043f\\u0430\\u043d\\u0438\\u0438. \\\"\\u0415\\u0441\\u043b\\u0438 \\u0443\\u0436 \\u0447\\u043b\\u0435\\u043d \\u0441\\u043e\\u0432\\u0435\\u0442\\u0430 \\u0434\\u0438\\u0440\\u0435\\u043a\\u0442\\u043e\\u0440\\u043e\\u0432, \\u043d\\u0430\\u043f\\u0440\\u0438\\u043c\\u0435\\u0440, '\\u0420\\u043e\\u0441\\u043d\\u0435\\u0444\\u0442\\u0438' \\u043d\\u0435 \\u0431\\u0443\\u0434\\u0435\\u0442 \\u0438\\u043c\\u0435\\u0442\\u044c \\u043f\\u0440\\u0430\\u0432\\u0430 \\u0434\\u043e\\u0441\\u0442\\u0443\\u043f\\u0430 \\u043a \\u0434\\u043e\\u043a\\u0443\\u043c\\u0435\\u043d\\u0442\\u0430\\u043c '\\u0420\\u043e\\u0441\\u043d\\u0435\\u0444\\u0442\\u0438', \\u0442\\u043e \\u043a\\u0430\\u043a\\u043e\\u0439 \\u0432\\u043e\\u043e\\u0431\\u0449\\u0435 \\u0441\\u043c\\u044b\\u0441\\u043b \\u0432 \\u0441\\u043e\\u0432\\u0435\\u0442\\u0435 \\u0434\\u0438\\u0440\\u0435\\u043a\\u0442\\u043e\\u0440\\u043e\\u0432 \\u0438 \\u043a\\u043e\\u0440\\u043f\\u043e\\u0440\\u0430\\u0442\\u0438\\u0432\\u043d\\u043e\\u043c \\u0443\\u043f\\u0440\\u0430\\u0432\\u043b\\u0435\\u043d\\u0438\\u0438 \\u0432\\u043e\\u043e\\u0431\\u0449\\u0435?\\\" - \\u0441\\u043f\\u0440\\u0430\\u0448\\u0438\\u0432\\u0430\\u0435\\u0442 \\u043e\\u043d. \\u0414\\u0435\\u0439\\u0441\\u0442\\u0432\\u0438\\u0442\\u0435\\u043b\\u044c\\u043d\\u043e, \\u043a\\u0430\\u043a\\u0438\\u0435 \\u0443\\u0436 \\u0442\\u0443\\u0442 \\u043c\\u0438\\u043d\\u043e\\u0440\\u0438\\u0442\\u0430\\u0440\\u0438\\u0438.\"\n        ],\n        \"semantic_type\": \"\",\n        \"description\": \"\"\n      }\n    },\n    {\n      \"column\": \"topic_id\",\n      \"properties\": {\n        \"dtype\": \"number\",\n        \"std\": 2,\n        \"min\": 0,\n        \"max\": 8,\n        \"num_unique_values\": 8,\n        \"samples\": [\n          1,\n          0,\n          2\n        ],\n        \"semantic_type\": \"\",\n        \"description\": \"\"\n      }\n    },\n    {\n      \"column\": \"article_preprocessed\",\n      \"properties\": {\n        \"dtype\": \"object\",\n        \"semantic_type\": \"\",\n        \"description\": \"\"\n      }\n    },\n    {\n      \"column\": \"vector\",\n      \"properties\": {\n        \"dtype\": \"object\",\n        \"semantic_type\": \"\",\n        \"description\": \"\"\n      }\n    }\n  ]\n}"
            }
          },
          "metadata": {},
          "execution_count": 79
        }
      ]
    },
    {
      "cell_type": "markdown",
      "metadata": {
        "id": "wCRrxzl2a7q5"
      },
      "source": [
        "# Parser"
      ]
    },
    {
      "cell_type": "code",
      "source": [
        "!pip install loguru fake_useragent"
      ],
      "metadata": {
        "id": "ebCClZJr8lZN"
      },
      "execution_count": null,
      "outputs": []
    },
    {
      "cell_type": "code",
      "execution_count": null,
      "metadata": {
        "id": "NasitYtGTJ_l"
      },
      "outputs": [],
      "source": [
        "from loguru import logger\n",
        "from bs4 import BeautifulSoup\n",
        "from fake_useragent import UserAgent"
      ]
    },
    {
      "cell_type": "code",
      "execution_count": null,
      "metadata": {
        "colab": {
          "base_uri": "https://localhost:8080/"
        },
        "id": "SQWFjd0STJ_r",
        "outputId": "e021828c-45e1-44d9-9350-140af649fa9b"
      },
      "outputs": [
        {
          "output_type": "execute_result",
          "data": {
            "text/plain": [
              "1"
            ]
          },
          "metadata": {},
          "execution_count": 5
        }
      ],
      "source": [
        "LOGGING = 'logs.log'\n",
        "logger.add(LOGGING, level='DEBUG')"
      ]
    },
    {
      "cell_type": "code",
      "execution_count": null,
      "metadata": {
        "id": "DbEuoS7BTJ_u"
      },
      "outputs": [],
      "source": [
        "def add_day(d: date) -> date:\n",
        "    return d + timedelta(days=1)\n",
        "\n",
        "\n",
        "def get_date_as_str(d: date):\n",
        "    return d.strftime(date_format)\n",
        "\n",
        "\n",
        "def get_url_from_date(d: date) -> str:\n",
        "    return f'https://lenta.ru/articles/{get_date_as_str(d)}/'\n",
        "\n",
        "\n",
        "def get_url_from_href(s: str) -> str:\n",
        "    return f'https://lenta.ru/{s}'\n",
        "\n",
        "\n",
        "def get_page_tree_by_date(response) -> BeautifulSoup:\n",
        "    tree = BeautifulSoup(response.content, 'html.parser')\n",
        "    return tree\n",
        "\n",
        "\n",
        "def get_href_from_new(new) -> str:\n",
        "    return new.a.get('href')\n",
        "\n",
        "\n",
        "def requests_get(url: str):\n",
        "    response = requests.get(url, headers={'User-Agent': UserAgent().chrome})\n",
        "    return response"
      ]
    },
    {
      "cell_type": "code",
      "execution_count": null,
      "metadata": {
        "id": "3DSPRUxSTJ_w"
      },
      "outputs": [],
      "source": [
        "def parse_lentaru(d: date, save_every_min: int = 5) -> None:\n",
        "    global df\n",
        "\n",
        "    if save_every_min <= 0:\n",
        "        save_every_min = 5\n",
        "\n",
        "    d_1 = datetime.now()\n",
        "\n",
        "    while True:\n",
        "        url = get_url_from_date(d)\n",
        "\n",
        "        response = requests_get(url)\n",
        "        if response.status_code != 200:\n",
        "            logger.error(response.status_code)\n",
        "            save_df(df)\n",
        "            logger.warning('Checkpoint saved!')\n",
        "            return\n",
        "\n",
        "        tree = get_page_tree_by_date(response)\n",
        "        news_li = tree.find_all('li', {'class': 'archive-page__item _article'})\n",
        "\n",
        "        result_pages = 0\n",
        "        for new in news_li:\n",
        "            full_article_url = get_href_from_new(new)\n",
        "            full_article_url = get_url_from_href(full_article_url) # https://lenta.ru//articles/2022/12/02/prison/\n",
        "\n",
        "            response = requests_get(full_article_url)\n",
        "            if response.status_code != 200:\n",
        "                logger.error(response.status_code)\n",
        "                return\n",
        "\n",
        "            full_article_tree = get_page_tree_by_date(response)\n",
        "\n",
        "            topic = full_article_tree.find('a', {'class': 'topic-header__item topic-header__rubric'})\n",
        "            if not topic:\n",
        "                continue\n",
        "\n",
        "            topic = topic.text\n",
        "            if topic not in labels_set:\n",
        "                continue\n",
        "\n",
        "            article = full_article_tree.find('div', {'class': 'topic-body _article'}).text\n",
        "            if not article:\n",
        "                continue\n",
        "\n",
        "            df = pd.concat([df, pd.DataFrame({'topic': [topic], 'article': [article]})], ignore_index=True)\n",
        "            result_pages += 1\n",
        "\n",
        "        d -= timedelta(days=1)\n",
        "        logger.info(f'{get_date_as_str(d)} - {result_pages} pages')\n",
        "\n",
        "        d_2 = datetime.now()\n",
        "        if (d_2 - d_1).seconds // 60 >= save_every_min:\n",
        "            d_1 = d_2\n",
        "            save_df(df)\n",
        "            logger.warning('Checkpoint saved!')"
      ]
    },
    {
      "cell_type": "code",
      "execution_count": null,
      "metadata": {
        "id": "7qmdlROZTJ_z"
      },
      "outputs": [],
      "source": [
        "df.groupby('topic', group_keys=False)['article'].count()"
      ]
    },
    {
      "cell_type": "code",
      "execution_count": null,
      "metadata": {
        "id": "lwEkgPRNxZIc"
      },
      "outputs": [],
      "source": [
        "labels_counts = df.groupby('topic_id', group_keys=False)['article'].count()"
      ]
    },
    {
      "cell_type": "code",
      "execution_count": null,
      "metadata": {
        "id": "65hulFecxdTV"
      },
      "outputs": [],
      "source": [
        "sns.barplot(labels_counts)"
      ]
    },
    {
      "cell_type": "code",
      "execution_count": null,
      "metadata": {
        "id": "rdCLBlGvTJ_0"
      },
      "outputs": [],
      "source": [
        "df = df[df['topic'].isin(labels_set)]"
      ]
    },
    {
      "cell_type": "code",
      "execution_count": null,
      "metadata": {
        "id": "CTUnpOQuTJ_0"
      },
      "outputs": [],
      "source": [
        "save_df(df)"
      ]
    },
    {
      "cell_type": "code",
      "execution_count": null,
      "metadata": {
        "id": "WqLZU-cGTJ_1"
      },
      "outputs": [],
      "source": [
        "# start = date.today()\n",
        "\n",
        "start = datetime.strptime('2009/08/28', date_format) - timedelta(days=1)\n",
        "\n",
        "parse_lentaru(start, save_every_min=5)"
      ]
    },
    {
      "cell_type": "markdown",
      "metadata": {
        "id": "BVnbTLc0TJ_1"
      },
      "source": [
        "# LabelEncoder"
      ]
    },
    {
      "cell_type": "code",
      "execution_count": 46,
      "metadata": {
        "id": "ht3xCvoATJ_3"
      },
      "outputs": [],
      "source": [
        "df['topic_id'] = df['topic'].map(labels)"
      ]
    },
    {
      "cell_type": "code",
      "execution_count": null,
      "metadata": {
        "id": "PsOdjLAXTqAo"
      },
      "outputs": [],
      "source": [
        "df['topic_id'].value_counts(normalize=True)"
      ]
    },
    {
      "cell_type": "markdown",
      "metadata": {
        "id": "N-3NGXwdd8pV"
      },
      "source": [
        "# Process & Models"
      ]
    },
    {
      "cell_type": "code",
      "execution_count": 134,
      "metadata": {
        "id": "hTzSFETXTJ_4"
      },
      "outputs": [],
      "source": [
        "from sklearn.model_selection import train_test_split\n",
        "from sklearn.metrics import f1_score, accuracy_score, roc_auc_score, classification_report\n",
        "\n",
        "from sklearn.pipeline import Pipeline\n",
        "from sklearn.pipeline import make_pipeline\n",
        "from sklearn.model_selection import cross_validate\n",
        "\n",
        "from sklearn.model_selection import GridSearchCV, RandomizedSearchCV\n",
        "from sklearn.feature_extraction.text import CountVectorizer, TfidfVectorizer, TfidfTransformer\n",
        "from sklearn.preprocessing import MaxAbsScaler\n",
        "from sklearn.decomposition import PCA\n",
        "\n",
        "from gensim.models import Word2Vec\n",
        "\n",
        "from tqdm import tqdm\n",
        "\n",
        "\n",
        "tqdm.pandas()"
      ]
    },
    {
      "cell_type": "markdown",
      "source": [
        "## preprocess text"
      ],
      "metadata": {
        "id": "yg27HPV3ksga"
      }
    },
    {
      "cell_type": "code",
      "source": [
        "import re\n",
        "\n",
        "import nltk\n",
        "from pymystem3 import Mystem\n",
        "from string import punctuation\n",
        "\n",
        "nltk.download(\"stopwords\")\n",
        "russian_stopwords = nltk.corpus.stopwords.words(\"russian\")"
      ],
      "metadata": {
        "colab": {
          "base_uri": "https://localhost:8080/"
        },
        "id": "WYuWq8X4krVD",
        "outputId": "d562c9c6-3a9b-4002-ff7b-77640fea1595"
      },
      "execution_count": 10,
      "outputs": [
        {
          "output_type": "stream",
          "name": "stderr",
          "text": [
            "[nltk_data] Downloading package stopwords to /root/nltk_data...\n",
            "[nltk_data]   Unzipping corpora/stopwords.zip.\n"
          ]
        }
      ]
    },
    {
      "cell_type": "code",
      "source": [
        "# Create lemmatizer and stopwords list\n",
        "mystem = Mystem()\n",
        "\n",
        "# Preprocess function\n",
        "def preprocess_text(text):\n",
        "    text = re.sub('[^а-яёА-ЯЁ]', ' ', text) # оставляем только кириллицу\n",
        "    tokens = mystem.lemmatize(text.lower())\n",
        "    tokens = [token for token in tokens if token not in russian_stopwords \\\n",
        "              and token != \" \" \\\n",
        "              and token.strip() not in punctuation]\n",
        "\n",
        "    return text"
      ],
      "metadata": {
        "id": "6QR0tZKfm-gU",
        "colab": {
          "base_uri": "https://localhost:8080/"
        },
        "outputId": "53cbe7df-165e-46da-ac5a-294547916a6a"
      },
      "execution_count": 10,
      "outputs": [
        {
          "output_type": "stream",
          "name": "stderr",
          "text": [
            "Installing mystem to /root/.local/bin/mystem from http://download.cdn.yandex.net/mystem/mystem-3.1-linux-64bit.tar.gz\n"
          ]
        }
      ]
    },
    {
      "cell_type": "code",
      "source": [
        "# df['article_preprocessed'] = df['article'].progress_apply(preprocess_text)"
      ],
      "metadata": {
        "colab": {
          "base_uri": "https://localhost:8080/"
        },
        "id": "Yt5W-Y4_k4wY",
        "outputId": "54136f14-db52-4cea-ee32-891ea8359898"
      },
      "execution_count": null,
      "outputs": [
        {
          "output_type": "stream",
          "name": "stderr",
          "text": [
            "100%|██████████| 6661/6661 [00:01<00:00, 4948.24it/s]\n"
          ]
        }
      ]
    },
    {
      "cell_type": "code",
      "source": [
        "# Article_preprocessed and Vector are lists\n",
        "\n",
        "# df['article_preprocessed'] = df['article_preprocessed'].progress_apply(ast.literal_eval)"
      ],
      "metadata": {
        "colab": {
          "base_uri": "https://localhost:8080/"
        },
        "id": "L9gnx0cEulK9",
        "outputId": "2097f711-fb62-4c0e-e2aa-00243ecae63b"
      },
      "execution_count": 50,
      "outputs": [
        {
          "output_type": "stream",
          "name": "stderr",
          "text": [
            "100%|██████████| 6661/6661 [00:20<00:00, 327.14it/s]\n"
          ]
        }
      ]
    },
    {
      "cell_type": "markdown",
      "source": [
        "## Vectorization"
      ],
      "metadata": {
        "id": "yeWwiLNSl2Eo"
      }
    },
    {
      "cell_type": "code",
      "source": [
        "def vectorize(sentence: list):\n",
        "    Sum = 0\n",
        "    Count = 0\n",
        "\n",
        "    for w in sentence:\n",
        "        if w in w2v.wv:\n",
        "            Sum += w2v.wv[w]\n",
        "            Count += 1\n",
        "\n",
        "    if Count == 0:\n",
        "        return 0\n",
        "\n",
        "    return Sum / Count"
      ],
      "metadata": {
        "id": "eyGoDVQVreQT"
      },
      "execution_count": 76,
      "outputs": []
    },
    {
      "cell_type": "code",
      "source": [
        "w2v = Word2Vec(\n",
        "    workers=multiprocessing.cpu_count()\n",
        ")\n",
        "\n",
        "w2v.build_vocab(df['article_preprocessed'], progress_per=10000)\n",
        "\n",
        "w2v.train(\n",
        "    df['article_preprocessed'], total_examples=w2v.corpus_count, epochs=30, report_delay=1\n",
        ")"
      ],
      "metadata": {
        "id": "T26TPJxbUUzq"
      },
      "execution_count": null,
      "outputs": []
    },
    {
      "cell_type": "code",
      "source": [
        "# w2v.save(BASE_PATH + \"word2vec.model\")\n",
        "# w2v = Word2Vec.load(BASE_PATH + \"word2vec.model\")"
      ],
      "metadata": {
        "colab": {
          "base_uri": "https://localhost:8080/"
        },
        "id": "Oc_K90Ua1Fpy",
        "outputId": "734e9baf-a6d8-4909-a0da-54c51dfabbcc"
      },
      "execution_count": 75,
      "outputs": [
        {
          "output_type": "stream",
          "name": "stderr",
          "text": [
            "INFO:gensim.utils:Word2Vec lifecycle event {'fname_or_handle': 'drive/MyDrive/Colab Notebooks/studcamp/word2vec.model', 'separately': 'None', 'sep_limit': 10485760, 'ignore': frozenset(), 'datetime': '2024-04-09T15:15:19.900194', 'gensim': '4.3.2', 'python': '3.10.12 (main, Nov 20 2023, 15:14:05) [GCC 11.4.0]', 'platform': 'Linux-6.1.58+-x86_64-with-glibc2.35', 'event': 'saving'}\n",
            "INFO:gensim.utils:not storing attribute cum_table\n",
            "DEBUG:smart_open.smart_open_lib:{'uri': 'drive/MyDrive/Colab Notebooks/studcamp/word2vec.model', 'mode': 'wb', 'buffering': -1, 'encoding': None, 'errors': None, 'newline': None, 'closefd': True, 'opener': None, 'compression': 'infer_from_extension', 'transport_params': None}\n",
            "INFO:gensim.utils:saved drive/MyDrive/Colab Notebooks/studcamp/word2vec.model\n"
          ]
        }
      ]
    },
    {
      "cell_type": "code",
      "source": [
        "df['vector'] = df['article_preprocessed'].progress_apply(vectorize)"
      ],
      "metadata": {
        "id": "8BHdp01rr3XO",
        "colab": {
          "base_uri": "https://localhost:8080/"
        },
        "outputId": "c3689925-8d7b-4f2e-991d-2f36fa49789f"
      },
      "execution_count": 77,
      "outputs": [
        {
          "output_type": "stream",
          "name": "stderr",
          "text": [
            "100%|██████████| 6661/6661 [00:19<00:00, 333.44it/s]\n"
          ]
        }
      ]
    },
    {
      "cell_type": "code",
      "source": [
        "# pca = PCA(n_components=30)\n",
        "# pca.fit(X)"
      ],
      "metadata": {
        "colab": {
          "base_uri": "https://localhost:8080/",
          "height": 74
        },
        "id": "8pVN_nibXzNb",
        "outputId": "8c20ed32-711d-4858-d604-1ca84effe690"
      },
      "execution_count": 39,
      "outputs": [
        {
          "output_type": "execute_result",
          "data": {
            "text/plain": [
              "PCA(n_components=30)"
            ],
            "text/html": [
              "<style>#sk-container-id-1 {color: black;background-color: white;}#sk-container-id-1 pre{padding: 0;}#sk-container-id-1 div.sk-toggleable {background-color: white;}#sk-container-id-1 label.sk-toggleable__label {cursor: pointer;display: block;width: 100%;margin-bottom: 0;padding: 0.3em;box-sizing: border-box;text-align: center;}#sk-container-id-1 label.sk-toggleable__label-arrow:before {content: \"▸\";float: left;margin-right: 0.25em;color: #696969;}#sk-container-id-1 label.sk-toggleable__label-arrow:hover:before {color: black;}#sk-container-id-1 div.sk-estimator:hover label.sk-toggleable__label-arrow:before {color: black;}#sk-container-id-1 div.sk-toggleable__content {max-height: 0;max-width: 0;overflow: hidden;text-align: left;background-color: #f0f8ff;}#sk-container-id-1 div.sk-toggleable__content pre {margin: 0.2em;color: black;border-radius: 0.25em;background-color: #f0f8ff;}#sk-container-id-1 input.sk-toggleable__control:checked~div.sk-toggleable__content {max-height: 200px;max-width: 100%;overflow: auto;}#sk-container-id-1 input.sk-toggleable__control:checked~label.sk-toggleable__label-arrow:before {content: \"▾\";}#sk-container-id-1 div.sk-estimator input.sk-toggleable__control:checked~label.sk-toggleable__label {background-color: #d4ebff;}#sk-container-id-1 div.sk-label input.sk-toggleable__control:checked~label.sk-toggleable__label {background-color: #d4ebff;}#sk-container-id-1 input.sk-hidden--visually {border: 0;clip: rect(1px 1px 1px 1px);clip: rect(1px, 1px, 1px, 1px);height: 1px;margin: -1px;overflow: hidden;padding: 0;position: absolute;width: 1px;}#sk-container-id-1 div.sk-estimator {font-family: monospace;background-color: #f0f8ff;border: 1px dotted black;border-radius: 0.25em;box-sizing: border-box;margin-bottom: 0.5em;}#sk-container-id-1 div.sk-estimator:hover {background-color: #d4ebff;}#sk-container-id-1 div.sk-parallel-item::after {content: \"\";width: 100%;border-bottom: 1px solid gray;flex-grow: 1;}#sk-container-id-1 div.sk-label:hover label.sk-toggleable__label {background-color: #d4ebff;}#sk-container-id-1 div.sk-serial::before {content: \"\";position: absolute;border-left: 1px solid gray;box-sizing: border-box;top: 0;bottom: 0;left: 50%;z-index: 0;}#sk-container-id-1 div.sk-serial {display: flex;flex-direction: column;align-items: center;background-color: white;padding-right: 0.2em;padding-left: 0.2em;position: relative;}#sk-container-id-1 div.sk-item {position: relative;z-index: 1;}#sk-container-id-1 div.sk-parallel {display: flex;align-items: stretch;justify-content: center;background-color: white;position: relative;}#sk-container-id-1 div.sk-item::before, #sk-container-id-1 div.sk-parallel-item::before {content: \"\";position: absolute;border-left: 1px solid gray;box-sizing: border-box;top: 0;bottom: 0;left: 50%;z-index: -1;}#sk-container-id-1 div.sk-parallel-item {display: flex;flex-direction: column;z-index: 1;position: relative;background-color: white;}#sk-container-id-1 div.sk-parallel-item:first-child::after {align-self: flex-end;width: 50%;}#sk-container-id-1 div.sk-parallel-item:last-child::after {align-self: flex-start;width: 50%;}#sk-container-id-1 div.sk-parallel-item:only-child::after {width: 0;}#sk-container-id-1 div.sk-dashed-wrapped {border: 1px dashed gray;margin: 0 0.4em 0.5em 0.4em;box-sizing: border-box;padding-bottom: 0.4em;background-color: white;}#sk-container-id-1 div.sk-label label {font-family: monospace;font-weight: bold;display: inline-block;line-height: 1.2em;}#sk-container-id-1 div.sk-label-container {text-align: center;}#sk-container-id-1 div.sk-container {/* jupyter's `normalize.less` sets `[hidden] { display: none; }` but bootstrap.min.css set `[hidden] { display: none !important; }` so we also need the `!important` here to be able to override the default hidden behavior on the sphinx rendered scikit-learn.org. See: https://github.com/scikit-learn/scikit-learn/issues/21755 */display: inline-block !important;position: relative;}#sk-container-id-1 div.sk-text-repr-fallback {display: none;}</style><div id=\"sk-container-id-1\" class=\"sk-top-container\"><div class=\"sk-text-repr-fallback\"><pre>PCA(n_components=30)</pre><b>In a Jupyter environment, please rerun this cell to show the HTML representation or trust the notebook. <br />On GitHub, the HTML representation is unable to render, please try loading this page with nbviewer.org.</b></div><div class=\"sk-container\" hidden><div class=\"sk-item\"><div class=\"sk-estimator sk-toggleable\"><input class=\"sk-toggleable__control sk-hidden--visually\" id=\"sk-estimator-id-1\" type=\"checkbox\" checked><label for=\"sk-estimator-id-1\" class=\"sk-toggleable__label sk-toggleable__label-arrow\">PCA</label><div class=\"sk-toggleable__content\"><pre>PCA(n_components=30)</pre></div></div></div></div></div>"
            ]
          },
          "metadata": {},
          "execution_count": 39
        }
      ]
    },
    {
      "cell_type": "markdown",
      "source": [
        "## Split dataset"
      ],
      "metadata": {
        "id": "F6KDL2_pXCkj"
      }
    },
    {
      "cell_type": "code",
      "source": [
        "X, y = df['vector'].to_numpy(), df['topic_id'].to_numpy(dtype=int)"
      ],
      "metadata": {
        "id": "taW-sHb0tOyP"
      },
      "execution_count": 80,
      "outputs": []
    },
    {
      "cell_type": "code",
      "source": [
        "X = np.concatenate(X).reshape(len(X), -1) # if arr of arrays\n",
        "# X = X.reshape(-1, 1) # if arr of numbers"
      ],
      "metadata": {
        "id": "ZE6EL31hcFbR"
      },
      "execution_count": 81,
      "outputs": []
    },
    {
      "cell_type": "code",
      "source": [
        "X_train, X_test, y_train, y_test = train_test_split(X, y, test_size=0.2, random_state=random_state)\n",
        "X_train.shape, X_test.shape"
      ],
      "metadata": {
        "id": "E1NrhtIEtQlx",
        "colab": {
          "base_uri": "https://localhost:8080/"
        },
        "outputId": "b29f0a5d-a6c4-469d-b2f6-588399f8a902"
      },
      "execution_count": 82,
      "outputs": [
        {
          "output_type": "execute_result",
          "data": {
            "text/plain": [
              "((5328, 100), (1333, 100))"
            ]
          },
          "metadata": {},
          "execution_count": 82
        }
      ]
    },
    {
      "cell_type": "markdown",
      "metadata": {
        "id": "mkL6s8QXTJ_3"
      },
      "source": [
        "# Train"
      ]
    },
    {
      "cell_type": "code",
      "execution_count": 35,
      "metadata": {
        "id": "68w27IzRVL_v"
      },
      "outputs": [],
      "source": [
        "def print_scores(accuracy):\n",
        "  print('accuracy: ', f'train {accuracy[0]}, test {accuracy[1]}')\n",
        "\n",
        "\n",
        "def get_vectorizer_Xtrain_Xtest(vectorizer, X_train, X_test):\n",
        "  vectorizer.fit(X_train)\n",
        "  Xtrain = vectorizer.transform(X_train)\n",
        "  Xtest = vectorizer.transform(X_test)\n",
        "\n",
        "  print(f\"{Xtrain.shape = }\", f\"{Xtest.shape = }\")\n",
        "  return vectorizer, Xtrain, Xtest\n",
        "\n",
        "\n",
        "def get_predictions(model, Xtrain, Xtest, y_train, y_test):\n",
        "  model.fit(Xtrain, y_train)\n",
        "\n",
        "  train_pred = model.predict(Xtrain)\n",
        "  test_pred = model.predict(Xtest)\n",
        "\n",
        "  class_report = classification_report(y_test, test_pred)\n",
        "  return model, train_pred, test_pred, class_report\n",
        "\n",
        "\n",
        "def get_compute_metrics(y_train, y_test, train_pred, test_pred):\n",
        "  accuracy = accuracy_score(y_train, train_pred), accuracy_score(y_test, test_pred)\n",
        "  return accuracy"
      ]
    },
    {
      "cell_type": "markdown",
      "metadata": {
        "id": "W3rgW3a0dL6N"
      },
      "source": [
        "## LogisticRegression"
      ]
    },
    {
      "cell_type": "code",
      "source": [
        "from sklearn.linear_model import LogisticRegression"
      ],
      "metadata": {
        "id": "hNq04X9TYS2O"
      },
      "execution_count": 83,
      "outputs": []
    },
    {
      "cell_type": "code",
      "execution_count": null,
      "metadata": {
        "id": "v_-FEgBZbaWk"
      },
      "outputs": [],
      "source": [
        "# vec, Xtrain, Xtest = get_vectorizer_Xtrain_Xtest(CountVectorizer(), X_train, X_test)"
      ]
    },
    {
      "cell_type": "code",
      "execution_count": 126,
      "metadata": {
        "id": "y9YbyoS0nGIz"
      },
      "outputs": [],
      "source": [
        "model_logreg, train_pred, test_pred, class_report = \\\n",
        "          get_predictions(LogisticRegression(max_iter=1000, random_state=random_state), X_train, X_test, y_train, y_test)"
      ]
    },
    {
      "cell_type": "code",
      "source": [
        "# model = LogisticRegression(max_iter=200, random_state=random_state)\n",
        "# model.fit(X_train, y_train)"
      ],
      "metadata": {
        "id": "2tedYW3lRgvR"
      },
      "execution_count": null,
      "outputs": []
    },
    {
      "cell_type": "code",
      "execution_count": 127,
      "metadata": {
        "id": "Y80frMTJXEUK",
        "colab": {
          "base_uri": "https://localhost:8080/"
        },
        "outputId": "9dadd277-deb5-4efa-e274-a2d6063b76e6"
      },
      "outputs": [
        {
          "output_type": "stream",
          "name": "stdout",
          "text": [
            "              precision    recall  f1-score   support\n",
            "\n",
            "           0       0.83      0.84      0.84       386\n",
            "           1       0.87      0.92      0.89       266\n",
            "           2       0.68      0.63      0.65        81\n",
            "           3       0.91      0.84      0.87       151\n",
            "           4       0.99      0.97      0.98       180\n",
            "           5       0.84      0.88      0.86        24\n",
            "           7       0.92      0.85      0.88        54\n",
            "           8       0.86      0.86      0.86       191\n",
            "\n",
            "    accuracy                           0.87      1333\n",
            "   macro avg       0.86      0.85      0.86      1333\n",
            "weighted avg       0.87      0.87      0.87      1333\n",
            "\n"
          ]
        }
      ],
      "source": [
        "print(class_report)"
      ]
    },
    {
      "cell_type": "code",
      "execution_count": 128,
      "metadata": {
        "id": "7aAdNpAkWF4N",
        "colab": {
          "base_uri": "https://localhost:8080/"
        },
        "outputId": "3b6b2454-8a1c-4ae4-fd9a-575801a1353d"
      },
      "outputs": [
        {
          "output_type": "stream",
          "name": "stdout",
          "text": [
            "accuracy:  train 0.8888888888888888, test 0.8664666166541636\n"
          ]
        }
      ],
      "source": [
        "accuracy = get_compute_metrics(y_train, y_test, train_pred, test_pred)\n",
        "print_scores(accuracy)"
      ]
    },
    {
      "cell_type": "markdown",
      "metadata": {
        "id": "AFXBbO7Wav42"
      },
      "source": [
        "## MultinomialNB"
      ]
    },
    {
      "cell_type": "code",
      "execution_count": null,
      "metadata": {
        "id": "oZvrumJKwdbo"
      },
      "outputs": [],
      "source": [
        "labels"
      ]
    },
    {
      "cell_type": "code",
      "execution_count": null,
      "metadata": {
        "id": "cHafs0t1wxhh"
      },
      "outputs": [],
      "source": [
        "labels_counts"
      ]
    },
    {
      "cell_type": "code",
      "execution_count": 42,
      "metadata": {
        "id": "6EMET8rGljVV"
      },
      "outputs": [],
      "source": [
        "from sklearn.naive_bayes import MultinomialNB"
      ]
    },
    {
      "cell_type": "code",
      "execution_count": 125,
      "metadata": {
        "id": "_aZD3u2-a4XM",
        "colab": {
          "base_uri": "https://localhost:8080/",
          "height": 356
        },
        "outputId": "bde6cc98-2076-41b8-b908-47f111c5f33d"
      },
      "outputs": [
        {
          "output_type": "error",
          "ename": "ValueError",
          "evalue": "Negative values in data passed to MultinomialNB (input X)",
          "traceback": [
            "\u001b[0;31m---------------------------------------------------------------------------\u001b[0m",
            "\u001b[0;31mValueError\u001b[0m                                Traceback (most recent call last)",
            "\u001b[0;32m<ipython-input-125-f909f03af07e>\u001b[0m in \u001b[0;36m<cell line: 13>\u001b[0;34m()\u001b[0m\n\u001b[1;32m     11\u001b[0m \u001b[0;31m# accuracy_score(y_test, predicted)\u001b[0m\u001b[0;34m\u001b[0m\u001b[0;34m\u001b[0m\u001b[0m\n\u001b[1;32m     12\u001b[0m \u001b[0;34m\u001b[0m\u001b[0m\n\u001b[0;32m---> 13\u001b[0;31m \u001b[0mmodel_MultinomialNB\u001b[0m \u001b[0;34m=\u001b[0m \u001b[0mMultinomialNB\u001b[0m\u001b[0;34m(\u001b[0m\u001b[0;34m)\u001b[0m\u001b[0;34m.\u001b[0m\u001b[0mfit\u001b[0m\u001b[0;34m(\u001b[0m\u001b[0mX_train\u001b[0m\u001b[0;34m,\u001b[0m \u001b[0my_train\u001b[0m\u001b[0;34m)\u001b[0m\u001b[0;34m\u001b[0m\u001b[0;34m\u001b[0m\u001b[0m\n\u001b[0m\u001b[1;32m     14\u001b[0m \u001b[0mpredicted\u001b[0m \u001b[0;34m=\u001b[0m \u001b[0mmodel_MultinomialNB\u001b[0m\u001b[0;34m.\u001b[0m\u001b[0mpredict\u001b[0m\u001b[0;34m(\u001b[0m\u001b[0mX_test\u001b[0m\u001b[0;34m)\u001b[0m\u001b[0;34m\u001b[0m\u001b[0;34m\u001b[0m\u001b[0m\n\u001b[1;32m     15\u001b[0m \u001b[0maccuracy_score\u001b[0m\u001b[0;34m(\u001b[0m\u001b[0my_test\u001b[0m\u001b[0;34m,\u001b[0m \u001b[0mpredicted\u001b[0m\u001b[0;34m)\u001b[0m\u001b[0;34m\u001b[0m\u001b[0;34m\u001b[0m\u001b[0m\n",
            "\u001b[0;32m/usr/local/lib/python3.10/dist-packages/sklearn/naive_bayes.py\u001b[0m in \u001b[0;36mfit\u001b[0;34m(self, X, y, sample_weight)\u001b[0m\n\u001b[1;32m    774\u001b[0m         \u001b[0mn_classes\u001b[0m \u001b[0;34m=\u001b[0m \u001b[0mY\u001b[0m\u001b[0;34m.\u001b[0m\u001b[0mshape\u001b[0m\u001b[0;34m[\u001b[0m\u001b[0;36m1\u001b[0m\u001b[0;34m]\u001b[0m\u001b[0;34m\u001b[0m\u001b[0;34m\u001b[0m\u001b[0m\n\u001b[1;32m    775\u001b[0m         \u001b[0mself\u001b[0m\u001b[0;34m.\u001b[0m\u001b[0m_init_counters\u001b[0m\u001b[0;34m(\u001b[0m\u001b[0mn_classes\u001b[0m\u001b[0;34m,\u001b[0m \u001b[0mn_features\u001b[0m\u001b[0;34m)\u001b[0m\u001b[0;34m\u001b[0m\u001b[0;34m\u001b[0m\u001b[0m\n\u001b[0;32m--> 776\u001b[0;31m         \u001b[0mself\u001b[0m\u001b[0;34m.\u001b[0m\u001b[0m_count\u001b[0m\u001b[0;34m(\u001b[0m\u001b[0mX\u001b[0m\u001b[0;34m,\u001b[0m \u001b[0mY\u001b[0m\u001b[0;34m)\u001b[0m\u001b[0;34m\u001b[0m\u001b[0;34m\u001b[0m\u001b[0m\n\u001b[0m\u001b[1;32m    777\u001b[0m         \u001b[0malpha\u001b[0m \u001b[0;34m=\u001b[0m \u001b[0mself\u001b[0m\u001b[0;34m.\u001b[0m\u001b[0m_check_alpha\u001b[0m\u001b[0;34m(\u001b[0m\u001b[0;34m)\u001b[0m\u001b[0;34m\u001b[0m\u001b[0;34m\u001b[0m\u001b[0m\n\u001b[1;32m    778\u001b[0m         \u001b[0mself\u001b[0m\u001b[0;34m.\u001b[0m\u001b[0m_update_feature_log_prob\u001b[0m\u001b[0;34m(\u001b[0m\u001b[0malpha\u001b[0m\u001b[0;34m)\u001b[0m\u001b[0;34m\u001b[0m\u001b[0;34m\u001b[0m\u001b[0m\n",
            "\u001b[0;32m/usr/local/lib/python3.10/dist-packages/sklearn/naive_bayes.py\u001b[0m in \u001b[0;36m_count\u001b[0;34m(self, X, Y)\u001b[0m\n\u001b[1;32m    896\u001b[0m     \u001b[0;32mdef\u001b[0m \u001b[0m_count\u001b[0m\u001b[0;34m(\u001b[0m\u001b[0mself\u001b[0m\u001b[0;34m,\u001b[0m \u001b[0mX\u001b[0m\u001b[0;34m,\u001b[0m \u001b[0mY\u001b[0m\u001b[0;34m)\u001b[0m\u001b[0;34m:\u001b[0m\u001b[0;34m\u001b[0m\u001b[0;34m\u001b[0m\u001b[0m\n\u001b[1;32m    897\u001b[0m         \u001b[0;34m\"\"\"Count and smooth feature occurrences.\"\"\"\u001b[0m\u001b[0;34m\u001b[0m\u001b[0;34m\u001b[0m\u001b[0m\n\u001b[0;32m--> 898\u001b[0;31m         \u001b[0mcheck_non_negative\u001b[0m\u001b[0;34m(\u001b[0m\u001b[0mX\u001b[0m\u001b[0;34m,\u001b[0m \u001b[0;34m\"MultinomialNB (input X)\"\u001b[0m\u001b[0;34m)\u001b[0m\u001b[0;34m\u001b[0m\u001b[0;34m\u001b[0m\u001b[0m\n\u001b[0m\u001b[1;32m    899\u001b[0m         \u001b[0mself\u001b[0m\u001b[0;34m.\u001b[0m\u001b[0mfeature_count_\u001b[0m \u001b[0;34m+=\u001b[0m \u001b[0msafe_sparse_dot\u001b[0m\u001b[0;34m(\u001b[0m\u001b[0mY\u001b[0m\u001b[0;34m.\u001b[0m\u001b[0mT\u001b[0m\u001b[0;34m,\u001b[0m \u001b[0mX\u001b[0m\u001b[0;34m)\u001b[0m\u001b[0;34m\u001b[0m\u001b[0;34m\u001b[0m\u001b[0m\n\u001b[1;32m    900\u001b[0m         \u001b[0mself\u001b[0m\u001b[0;34m.\u001b[0m\u001b[0mclass_count_\u001b[0m \u001b[0;34m+=\u001b[0m \u001b[0mY\u001b[0m\u001b[0;34m.\u001b[0m\u001b[0msum\u001b[0m\u001b[0;34m(\u001b[0m\u001b[0maxis\u001b[0m\u001b[0;34m=\u001b[0m\u001b[0;36m0\u001b[0m\u001b[0;34m)\u001b[0m\u001b[0;34m\u001b[0m\u001b[0;34m\u001b[0m\u001b[0m\n",
            "\u001b[0;32m/usr/local/lib/python3.10/dist-packages/sklearn/utils/validation.py\u001b[0m in \u001b[0;36mcheck_non_negative\u001b[0;34m(X, whom)\u001b[0m\n\u001b[1;32m   1416\u001b[0m \u001b[0;34m\u001b[0m\u001b[0m\n\u001b[1;32m   1417\u001b[0m     \u001b[0;32mif\u001b[0m \u001b[0mX_min\u001b[0m \u001b[0;34m<\u001b[0m \u001b[0;36m0\u001b[0m\u001b[0;34m:\u001b[0m\u001b[0;34m\u001b[0m\u001b[0;34m\u001b[0m\u001b[0m\n\u001b[0;32m-> 1418\u001b[0;31m         \u001b[0;32mraise\u001b[0m \u001b[0mValueError\u001b[0m\u001b[0;34m(\u001b[0m\u001b[0;34m\"Negative values in data passed to %s\"\u001b[0m \u001b[0;34m%\u001b[0m \u001b[0mwhom\u001b[0m\u001b[0;34m)\u001b[0m\u001b[0;34m\u001b[0m\u001b[0;34m\u001b[0m\u001b[0m\n\u001b[0m\u001b[1;32m   1419\u001b[0m \u001b[0;34m\u001b[0m\u001b[0m\n\u001b[1;32m   1420\u001b[0m \u001b[0;34m\u001b[0m\u001b[0m\n",
            "\u001b[0;31mValueError\u001b[0m: Negative values in data passed to MultinomialNB (input X)"
          ]
        }
      ],
      "source": [
        "# count_vect = CountVectorizer()\n",
        "# X_train_counts = count_vect.fit_transform(X_train)\n",
        "# X_test_counts = count_vect.transform(X_test)\n",
        "\n",
        "# model_MultinomialNB = MultinomialNB().fit(X_train_counts, y_train)\n",
        "# model_MultinomialNB\n",
        "\n",
        "# predicted_proba = model_MultinomialNB.predict_proba(X_test_counts)\n",
        "# predicted = model_MultinomialNB.predict(X_test_counts)\n",
        "\n",
        "# accuracy_score(y_test, predicted)\n",
        "\n",
        "model_MultinomialNB = MultinomialNB().fit(X_train, y_train)\n",
        "predicted = model_MultinomialNB.predict(X_test)\n",
        "accuracy_score(y_test, predicted)"
      ]
    },
    {
      "cell_type": "markdown",
      "metadata": {
        "id": "RuLVRKxbeFQk"
      },
      "source": [
        "## LinearSVC"
      ]
    },
    {
      "cell_type": "code",
      "execution_count": 87,
      "metadata": {
        "id": "lF1t0VV4lehg"
      },
      "outputs": [],
      "source": [
        "from sklearn.svm import LinearSVC\n",
        "from sklearn.calibration import CalibratedClassifierCV"
      ]
    },
    {
      "cell_type": "code",
      "execution_count": null,
      "metadata": {
        "id": "LreF-LYjl2N6"
      },
      "outputs": [],
      "source": [
        "count_vect = CountVectorizer()\n",
        "X_train_counts = count_vect.fit_transform(X)\n",
        "tf_transformer = TfidfTransformer().fit(X_train_counts)\n",
        "X_train_transformed = tf_transformer.transform(X_train_counts)\n",
        "\n",
        "X_test_counts = count_vect.transform(X_test)\n",
        "X_test_transformed = tf_transformer.transform(X_test_counts)"
      ]
    },
    {
      "cell_type": "code",
      "execution_count": 88,
      "metadata": {
        "id": "4ghq4KbBloEy",
        "colab": {
          "base_uri": "https://localhost:8080/",
          "height": 109
        },
        "outputId": "2f973e50-2d19-4f26-9573-37ebeed0b07c"
      },
      "outputs": [
        {
          "output_type": "stream",
          "name": "stderr",
          "text": [
            "/usr/local/lib/python3.10/dist-packages/sklearn/svm/_base.py:1244: ConvergenceWarning: Liblinear failed to converge, increase the number of iterations.\n",
            "  warnings.warn(\n"
          ]
        },
        {
          "output_type": "execute_result",
          "data": {
            "text/plain": [
              "LinearSVC()"
            ],
            "text/html": [
              "<style>#sk-container-id-5 {color: black;background-color: white;}#sk-container-id-5 pre{padding: 0;}#sk-container-id-5 div.sk-toggleable {background-color: white;}#sk-container-id-5 label.sk-toggleable__label {cursor: pointer;display: block;width: 100%;margin-bottom: 0;padding: 0.3em;box-sizing: border-box;text-align: center;}#sk-container-id-5 label.sk-toggleable__label-arrow:before {content: \"▸\";float: left;margin-right: 0.25em;color: #696969;}#sk-container-id-5 label.sk-toggleable__label-arrow:hover:before {color: black;}#sk-container-id-5 div.sk-estimator:hover label.sk-toggleable__label-arrow:before {color: black;}#sk-container-id-5 div.sk-toggleable__content {max-height: 0;max-width: 0;overflow: hidden;text-align: left;background-color: #f0f8ff;}#sk-container-id-5 div.sk-toggleable__content pre {margin: 0.2em;color: black;border-radius: 0.25em;background-color: #f0f8ff;}#sk-container-id-5 input.sk-toggleable__control:checked~div.sk-toggleable__content {max-height: 200px;max-width: 100%;overflow: auto;}#sk-container-id-5 input.sk-toggleable__control:checked~label.sk-toggleable__label-arrow:before {content: \"▾\";}#sk-container-id-5 div.sk-estimator input.sk-toggleable__control:checked~label.sk-toggleable__label {background-color: #d4ebff;}#sk-container-id-5 div.sk-label input.sk-toggleable__control:checked~label.sk-toggleable__label {background-color: #d4ebff;}#sk-container-id-5 input.sk-hidden--visually {border: 0;clip: rect(1px 1px 1px 1px);clip: rect(1px, 1px, 1px, 1px);height: 1px;margin: -1px;overflow: hidden;padding: 0;position: absolute;width: 1px;}#sk-container-id-5 div.sk-estimator {font-family: monospace;background-color: #f0f8ff;border: 1px dotted black;border-radius: 0.25em;box-sizing: border-box;margin-bottom: 0.5em;}#sk-container-id-5 div.sk-estimator:hover {background-color: #d4ebff;}#sk-container-id-5 div.sk-parallel-item::after {content: \"\";width: 100%;border-bottom: 1px solid gray;flex-grow: 1;}#sk-container-id-5 div.sk-label:hover label.sk-toggleable__label {background-color: #d4ebff;}#sk-container-id-5 div.sk-serial::before {content: \"\";position: absolute;border-left: 1px solid gray;box-sizing: border-box;top: 0;bottom: 0;left: 50%;z-index: 0;}#sk-container-id-5 div.sk-serial {display: flex;flex-direction: column;align-items: center;background-color: white;padding-right: 0.2em;padding-left: 0.2em;position: relative;}#sk-container-id-5 div.sk-item {position: relative;z-index: 1;}#sk-container-id-5 div.sk-parallel {display: flex;align-items: stretch;justify-content: center;background-color: white;position: relative;}#sk-container-id-5 div.sk-item::before, #sk-container-id-5 div.sk-parallel-item::before {content: \"\";position: absolute;border-left: 1px solid gray;box-sizing: border-box;top: 0;bottom: 0;left: 50%;z-index: -1;}#sk-container-id-5 div.sk-parallel-item {display: flex;flex-direction: column;z-index: 1;position: relative;background-color: white;}#sk-container-id-5 div.sk-parallel-item:first-child::after {align-self: flex-end;width: 50%;}#sk-container-id-5 div.sk-parallel-item:last-child::after {align-self: flex-start;width: 50%;}#sk-container-id-5 div.sk-parallel-item:only-child::after {width: 0;}#sk-container-id-5 div.sk-dashed-wrapped {border: 1px dashed gray;margin: 0 0.4em 0.5em 0.4em;box-sizing: border-box;padding-bottom: 0.4em;background-color: white;}#sk-container-id-5 div.sk-label label {font-family: monospace;font-weight: bold;display: inline-block;line-height: 1.2em;}#sk-container-id-5 div.sk-label-container {text-align: center;}#sk-container-id-5 div.sk-container {/* jupyter's `normalize.less` sets `[hidden] { display: none; }` but bootstrap.min.css set `[hidden] { display: none !important; }` so we also need the `!important` here to be able to override the default hidden behavior on the sphinx rendered scikit-learn.org. See: https://github.com/scikit-learn/scikit-learn/issues/21755 */display: inline-block !important;position: relative;}#sk-container-id-5 div.sk-text-repr-fallback {display: none;}</style><div id=\"sk-container-id-5\" class=\"sk-top-container\"><div class=\"sk-text-repr-fallback\"><pre>LinearSVC()</pre><b>In a Jupyter environment, please rerun this cell to show the HTML representation or trust the notebook. <br />On GitHub, the HTML representation is unable to render, please try loading this page with nbviewer.org.</b></div><div class=\"sk-container\" hidden><div class=\"sk-item\"><div class=\"sk-estimator sk-toggleable\"><input class=\"sk-toggleable__control sk-hidden--visually\" id=\"sk-estimator-id-7\" type=\"checkbox\" checked><label for=\"sk-estimator-id-7\" class=\"sk-toggleable__label sk-toggleable__label-arrow\">LinearSVC</label><div class=\"sk-toggleable__content\"><pre>LinearSVC()</pre></div></div></div></div></div>"
            ]
          },
          "metadata": {},
          "execution_count": 88
        }
      ],
      "source": [
        "model = LinearSVC()\n",
        "# model.fit(X_train_transformed, y)\n",
        "\n",
        "model.fit(X_train, y_train)"
      ]
    },
    {
      "cell_type": "code",
      "execution_count": 89,
      "metadata": {
        "id": "XtzSk15Jls7H"
      },
      "outputs": [],
      "source": [
        "calibrated_svc = CalibratedClassifierCV(model, cv=\"prefit\")"
      ]
    },
    {
      "cell_type": "code",
      "execution_count": 90,
      "metadata": {
        "id": "iGx6I86dnJ-N",
        "colab": {
          "base_uri": "https://localhost:8080/",
          "height": 115
        },
        "outputId": "ba7d5613-2d1e-4299-985e-0a20b7d581ed"
      },
      "outputs": [
        {
          "output_type": "execute_result",
          "data": {
            "text/plain": [
              "CalibratedClassifierCV(cv='prefit', estimator=LinearSVC())"
            ],
            "text/html": [
              "<style>#sk-container-id-6 {color: black;background-color: white;}#sk-container-id-6 pre{padding: 0;}#sk-container-id-6 div.sk-toggleable {background-color: white;}#sk-container-id-6 label.sk-toggleable__label {cursor: pointer;display: block;width: 100%;margin-bottom: 0;padding: 0.3em;box-sizing: border-box;text-align: center;}#sk-container-id-6 label.sk-toggleable__label-arrow:before {content: \"▸\";float: left;margin-right: 0.25em;color: #696969;}#sk-container-id-6 label.sk-toggleable__label-arrow:hover:before {color: black;}#sk-container-id-6 div.sk-estimator:hover label.sk-toggleable__label-arrow:before {color: black;}#sk-container-id-6 div.sk-toggleable__content {max-height: 0;max-width: 0;overflow: hidden;text-align: left;background-color: #f0f8ff;}#sk-container-id-6 div.sk-toggleable__content pre {margin: 0.2em;color: black;border-radius: 0.25em;background-color: #f0f8ff;}#sk-container-id-6 input.sk-toggleable__control:checked~div.sk-toggleable__content {max-height: 200px;max-width: 100%;overflow: auto;}#sk-container-id-6 input.sk-toggleable__control:checked~label.sk-toggleable__label-arrow:before {content: \"▾\";}#sk-container-id-6 div.sk-estimator input.sk-toggleable__control:checked~label.sk-toggleable__label {background-color: #d4ebff;}#sk-container-id-6 div.sk-label input.sk-toggleable__control:checked~label.sk-toggleable__label {background-color: #d4ebff;}#sk-container-id-6 input.sk-hidden--visually {border: 0;clip: rect(1px 1px 1px 1px);clip: rect(1px, 1px, 1px, 1px);height: 1px;margin: -1px;overflow: hidden;padding: 0;position: absolute;width: 1px;}#sk-container-id-6 div.sk-estimator {font-family: monospace;background-color: #f0f8ff;border: 1px dotted black;border-radius: 0.25em;box-sizing: border-box;margin-bottom: 0.5em;}#sk-container-id-6 div.sk-estimator:hover {background-color: #d4ebff;}#sk-container-id-6 div.sk-parallel-item::after {content: \"\";width: 100%;border-bottom: 1px solid gray;flex-grow: 1;}#sk-container-id-6 div.sk-label:hover label.sk-toggleable__label {background-color: #d4ebff;}#sk-container-id-6 div.sk-serial::before {content: \"\";position: absolute;border-left: 1px solid gray;box-sizing: border-box;top: 0;bottom: 0;left: 50%;z-index: 0;}#sk-container-id-6 div.sk-serial {display: flex;flex-direction: column;align-items: center;background-color: white;padding-right: 0.2em;padding-left: 0.2em;position: relative;}#sk-container-id-6 div.sk-item {position: relative;z-index: 1;}#sk-container-id-6 div.sk-parallel {display: flex;align-items: stretch;justify-content: center;background-color: white;position: relative;}#sk-container-id-6 div.sk-item::before, #sk-container-id-6 div.sk-parallel-item::before {content: \"\";position: absolute;border-left: 1px solid gray;box-sizing: border-box;top: 0;bottom: 0;left: 50%;z-index: -1;}#sk-container-id-6 div.sk-parallel-item {display: flex;flex-direction: column;z-index: 1;position: relative;background-color: white;}#sk-container-id-6 div.sk-parallel-item:first-child::after {align-self: flex-end;width: 50%;}#sk-container-id-6 div.sk-parallel-item:last-child::after {align-self: flex-start;width: 50%;}#sk-container-id-6 div.sk-parallel-item:only-child::after {width: 0;}#sk-container-id-6 div.sk-dashed-wrapped {border: 1px dashed gray;margin: 0 0.4em 0.5em 0.4em;box-sizing: border-box;padding-bottom: 0.4em;background-color: white;}#sk-container-id-6 div.sk-label label {font-family: monospace;font-weight: bold;display: inline-block;line-height: 1.2em;}#sk-container-id-6 div.sk-label-container {text-align: center;}#sk-container-id-6 div.sk-container {/* jupyter's `normalize.less` sets `[hidden] { display: none; }` but bootstrap.min.css set `[hidden] { display: none !important; }` so we also need the `!important` here to be able to override the default hidden behavior on the sphinx rendered scikit-learn.org. See: https://github.com/scikit-learn/scikit-learn/issues/21755 */display: inline-block !important;position: relative;}#sk-container-id-6 div.sk-text-repr-fallback {display: none;}</style><div id=\"sk-container-id-6\" class=\"sk-top-container\"><div class=\"sk-text-repr-fallback\"><pre>CalibratedClassifierCV(cv=&#x27;prefit&#x27;, estimator=LinearSVC())</pre><b>In a Jupyter environment, please rerun this cell to show the HTML representation or trust the notebook. <br />On GitHub, the HTML representation is unable to render, please try loading this page with nbviewer.org.</b></div><div class=\"sk-container\" hidden><div class=\"sk-item sk-dashed-wrapped\"><div class=\"sk-label-container\"><div class=\"sk-label sk-toggleable\"><input class=\"sk-toggleable__control sk-hidden--visually\" id=\"sk-estimator-id-8\" type=\"checkbox\" ><label for=\"sk-estimator-id-8\" class=\"sk-toggleable__label sk-toggleable__label-arrow\">CalibratedClassifierCV</label><div class=\"sk-toggleable__content\"><pre>CalibratedClassifierCV(cv=&#x27;prefit&#x27;, estimator=LinearSVC())</pre></div></div></div><div class=\"sk-parallel\"><div class=\"sk-parallel-item\"><div class=\"sk-item\"><div class=\"sk-label-container\"><div class=\"sk-label sk-toggleable\"><input class=\"sk-toggleable__control sk-hidden--visually\" id=\"sk-estimator-id-9\" type=\"checkbox\" ><label for=\"sk-estimator-id-9\" class=\"sk-toggleable__label sk-toggleable__label-arrow\">estimator: LinearSVC</label><div class=\"sk-toggleable__content\"><pre>LinearSVC()</pre></div></div></div><div class=\"sk-serial\"><div class=\"sk-item\"><div class=\"sk-estimator sk-toggleable\"><input class=\"sk-toggleable__control sk-hidden--visually\" id=\"sk-estimator-id-10\" type=\"checkbox\" ><label for=\"sk-estimator-id-10\" class=\"sk-toggleable__label sk-toggleable__label-arrow\">LinearSVC</label><div class=\"sk-toggleable__content\"><pre>LinearSVC()</pre></div></div></div></div></div></div></div></div></div></div>"
            ]
          },
          "metadata": {},
          "execution_count": 90
        }
      ],
      "source": [
        "# calibrated_svc.fit(X_train_transformed, y)\n",
        "calibrated_svc.fit(X_train, y_train)"
      ]
    },
    {
      "cell_type": "code",
      "execution_count": 91,
      "metadata": {
        "id": "SpXnCqkfmO8p",
        "colab": {
          "base_uri": "https://localhost:8080/"
        },
        "outputId": "c80b7b33-1bd7-4a3e-9bde-f82a7419bb2a"
      },
      "outputs": [
        {
          "output_type": "execute_result",
          "data": {
            "text/plain": [
              "0.8612153038259565"
            ]
          },
          "metadata": {},
          "execution_count": 91
        }
      ],
      "source": [
        "predicted = calibrated_svc.predict(X_test)\n",
        "accuracy_score(y_test, predicted)"
      ]
    },
    {
      "cell_type": "markdown",
      "metadata": {
        "id": "zAKdv356JDVd"
      },
      "source": [
        "## CatBoost"
      ]
    },
    {
      "cell_type": "code",
      "execution_count": null,
      "metadata": {
        "id": "Dtp6U5M9JLfi"
      },
      "outputs": [],
      "source": [
        "!pip install catboost"
      ]
    },
    {
      "cell_type": "code",
      "execution_count": 107,
      "metadata": {
        "id": "1uZkapkxJO-f"
      },
      "outputs": [],
      "source": [
        "from catboost import CatBoostClassifier\n",
        "from catboost.text_processing import Tokenizer"
      ]
    },
    {
      "cell_type": "code",
      "execution_count": 115,
      "metadata": {
        "id": "4WpBG9_yNKmD"
      },
      "outputs": [],
      "source": [
        "def fit_model(X_train, y_train):\n",
        "    model = CatBoostClassifier(\n",
        "        random_seed=random_state,\n",
        "        iterations=1000,\n",
        "        # learning_rate=0.05,\n",
        "        eval_metric='Accuracy',\n",
        "        task_type='CPU',\n",
        "        verbose=True,\n",
        "\n",
        "    )\n",
        "    # model = make_pipeline(CountVectorizer(), cat)\n",
        "\n",
        "    return model.fit(X_train, y_train)"
      ]
    },
    {
      "cell_type": "code",
      "execution_count": null,
      "metadata": {
        "id": "4YkMp9fHJZYc"
      },
      "outputs": [],
      "source": [
        "model_catboost = fit_model(X_train, y_train)"
      ]
    },
    {
      "cell_type": "code",
      "source": [
        " model_catboost.score(X_test, y_test)"
      ],
      "metadata": {
        "colab": {
          "base_uri": "https://localhost:8080/"
        },
        "id": "PVQ1nwOecGfi",
        "outputId": "464d5cce-47cd-4479-b913-cb9f3bda47fe"
      },
      "execution_count": 118,
      "outputs": [
        {
          "output_type": "execute_result",
          "data": {
            "text/plain": [
              "0.8717179294823706"
            ]
          },
          "metadata": {},
          "execution_count": 118
        }
      ]
    },
    {
      "cell_type": "markdown",
      "source": [
        "## TfidfVectorizer + MultinomialNB"
      ],
      "metadata": {
        "id": "DSSKLhzUiFQf"
      }
    },
    {
      "cell_type": "code",
      "source": [
        "tfidf_vect = TfidfVectorizer()\n",
        "X_train_counts = tfidf_vect.fit_transform(X_train)\n",
        "X_test_counts = tfidf_vect.transform(X_test)"
      ],
      "metadata": {
        "colab": {
          "base_uri": "https://localhost:8080/",
          "height": 180
        },
        "id": "g4omUddHiPHt",
        "outputId": "da6d87d6-5f81-4276-be57-b34aaf2ea177"
      },
      "execution_count": null,
      "outputs": [
        {
          "output_type": "error",
          "ename": "NameError",
          "evalue": "name 'TfidfVectorizer' is not defined",
          "traceback": [
            "\u001b[0;31m---------------------------------------------------------------------------\u001b[0m",
            "\u001b[0;31mNameError\u001b[0m                                 Traceback (most recent call last)",
            "\u001b[0;32m<ipython-input-4-a4e8b4766ec0>\u001b[0m in \u001b[0;36m<cell line: 1>\u001b[0;34m()\u001b[0m\n\u001b[0;32m----> 1\u001b[0;31m \u001b[0mtfidf_vect\u001b[0m \u001b[0;34m=\u001b[0m \u001b[0mTfidfVectorizer\u001b[0m\u001b[0;34m(\u001b[0m\u001b[0;34m)\u001b[0m\u001b[0;34m\u001b[0m\u001b[0;34m\u001b[0m\u001b[0m\n\u001b[0m\u001b[1;32m      2\u001b[0m \u001b[0mX_train_counts\u001b[0m \u001b[0;34m=\u001b[0m \u001b[0mtfidf_vect\u001b[0m\u001b[0;34m.\u001b[0m\u001b[0mfit_transform\u001b[0m\u001b[0;34m(\u001b[0m\u001b[0mX_train\u001b[0m\u001b[0;34m)\u001b[0m\u001b[0;34m\u001b[0m\u001b[0;34m\u001b[0m\u001b[0m\n\u001b[1;32m      3\u001b[0m \u001b[0mX_test_counts\u001b[0m \u001b[0;34m=\u001b[0m \u001b[0mtfidf_vect\u001b[0m\u001b[0;34m.\u001b[0m\u001b[0mtransform\u001b[0m\u001b[0;34m(\u001b[0m\u001b[0mX_test\u001b[0m\u001b[0;34m)\u001b[0m\u001b[0;34m\u001b[0m\u001b[0;34m\u001b[0m\u001b[0m\n",
            "\u001b[0;31mNameError\u001b[0m: name 'TfidfVectorizer' is not defined"
          ]
        }
      ]
    },
    {
      "cell_type": "code",
      "source": [
        "model_MultinomialNB = MultinomialNB().fit(X_train_counts, y_train)\n",
        "model_MultinomialNB\n",
        "\n",
        "predicted_proba = model_MultinomialNB.predict_proba(X_test_counts)\n",
        "predicted = model_MultinomialNB.predict(X_test_counts)\n",
        "\n",
        "accuracy_score(y_test, predicted)"
      ],
      "metadata": {
        "id": "eKSIYI_Byb52"
      },
      "execution_count": null,
      "outputs": []
    },
    {
      "cell_type": "markdown",
      "source": [
        "## RandomForest"
      ],
      "metadata": {
        "id": "vdecoEjpeaBp"
      }
    },
    {
      "cell_type": "code",
      "source": [
        "from sklearn.ensemble import RandomForestClassifier"
      ],
      "metadata": {
        "id": "QXWZSjLlefb2"
      },
      "execution_count": 49,
      "outputs": []
    },
    {
      "cell_type": "code",
      "source": [
        "model = RandomForestClassifier()\n",
        "model = model.fit(X_train, y_train)"
      ],
      "metadata": {
        "id": "l8VqmYSVer-S"
      },
      "execution_count": 50,
      "outputs": []
    },
    {
      "cell_type": "code",
      "source": [
        "predicted = model.predict(X_test)\n",
        "accuracy_score(y_test, predicted)"
      ],
      "metadata": {
        "colab": {
          "base_uri": "https://localhost:8080/"
        },
        "id": "9yedxME7e8aP",
        "outputId": "d3ab96c5-c325-403e-d64f-9306871267e0"
      },
      "execution_count": 51,
      "outputs": [
        {
          "output_type": "execute_result",
          "data": {
            "text/plain": [
              "0.8102025506376594"
            ]
          },
          "metadata": {},
          "execution_count": 51
        }
      ]
    },
    {
      "cell_type": "markdown",
      "source": [
        "## MLPClassifier"
      ],
      "metadata": {
        "id": "zxmoTxXngrnD"
      }
    },
    {
      "cell_type": "code",
      "source": [
        "from sklearn.neural_network import MLPClassifier"
      ],
      "metadata": {
        "id": "QfrCpJg3gtTF"
      },
      "execution_count": 92,
      "outputs": []
    },
    {
      "cell_type": "code",
      "source": [
        "model = MLPClassifier(\n",
        "  solver='lbfgs', alpha=1e-5,\n",
        "  hidden_layer_sizes=(100, 20, 10), random_state=random_state\n",
        ")"
      ],
      "metadata": {
        "id": "ZzeaZ3mjgvFv"
      },
      "execution_count": 124,
      "outputs": []
    },
    {
      "cell_type": "code",
      "source": [
        "model = model.fit(X_train, y_train)"
      ],
      "metadata": {
        "colab": {
          "base_uri": "https://localhost:8080/"
        },
        "id": "Ym6sSVZdg4il",
        "outputId": "ac10b45c-ece9-4015-e971-a824d1d8b7f3"
      },
      "execution_count": 95,
      "outputs": [
        {
          "output_type": "stream",
          "name": "stderr",
          "text": [
            "/usr/local/lib/python3.10/dist-packages/sklearn/neural_network/_multilayer_perceptron.py:541: ConvergenceWarning: lbfgs failed to converge (status=1):\n",
            "STOP: TOTAL NO. of ITERATIONS REACHED LIMIT.\n",
            "\n",
            "Increase the number of iterations (max_iter) or scale the data as shown in:\n",
            "    https://scikit-learn.org/stable/modules/preprocessing.html\n",
            "  self.n_iter_ = _check_optimize_result(\"lbfgs\", opt_res, self.max_iter)\n"
          ]
        }
      ]
    },
    {
      "cell_type": "code",
      "source": [
        "predicted = model.predict(X_test)\n",
        "accuracy_score(y_test, predicted)"
      ],
      "metadata": {
        "colab": {
          "base_uri": "https://localhost:8080/"
        },
        "id": "waNS423ag8d_",
        "outputId": "e97381c7-a1e7-47e3-fdbc-95b2aa75d395"
      },
      "execution_count": 96,
      "outputs": [
        {
          "output_type": "execute_result",
          "data": {
            "text/plain": [
              "0.8619654913728432"
            ]
          },
          "metadata": {},
          "execution_count": 96
        }
      ]
    },
    {
      "cell_type": "markdown",
      "source": [
        "## KNN"
      ],
      "metadata": {
        "id": "u1cjVgzxhS64"
      }
    },
    {
      "cell_type": "code",
      "source": [
        "from sklearn.neighbors import KNeighborsClassifier"
      ],
      "metadata": {
        "id": "U3kympsLhVbt"
      },
      "execution_count": 129,
      "outputs": []
    },
    {
      "cell_type": "code",
      "source": [
        "k_range = list(range(1,100))\n",
        "weight_options = [\"uniform\", \"distance\"]\n",
        "param_grid = dict(n_neighbors=k_range, weights=weight_options)\n",
        "\n",
        "model = RandomizedSearchCV(KNeighborsClassifier(), param_grid, cv=10, scoring='accuracy', verbose=1)"
      ],
      "metadata": {
        "id": "xcmw2ZVFhcJ_"
      },
      "execution_count": 135,
      "outputs": []
    },
    {
      "cell_type": "code",
      "source": [
        "model.fit(X_train, y_train)"
      ],
      "metadata": {
        "colab": {
          "base_uri": "https://localhost:8080/",
          "height": 156
        },
        "id": "OpE6vKrVhruL",
        "outputId": "5a64d58a-5d53-494c-c69c-acba5e02d430"
      },
      "execution_count": 136,
      "outputs": [
        {
          "output_type": "stream",
          "name": "stdout",
          "text": [
            "Fitting 10 folds for each of 10 candidates, totalling 100 fits\n"
          ]
        },
        {
          "output_type": "execute_result",
          "data": {
            "text/plain": [
              "RandomizedSearchCV(cv=10, estimator=KNeighborsClassifier(),\n",
              "                   param_distributions={'n_neighbors': [1, 2, 3, 4, 5, 6, 7, 8,\n",
              "                                                        9, 10, 11, 12, 13, 14,\n",
              "                                                        15, 16, 17, 18, 19, 20,\n",
              "                                                        21, 22, 23, 24, 25, 26,\n",
              "                                                        27, 28, 29, 30, ...],\n",
              "                                        'weights': ['uniform', 'distance']},\n",
              "                   scoring='accuracy', verbose=1)"
            ],
            "text/html": [
              "<style>#sk-container-id-11 {color: black;background-color: white;}#sk-container-id-11 pre{padding: 0;}#sk-container-id-11 div.sk-toggleable {background-color: white;}#sk-container-id-11 label.sk-toggleable__label {cursor: pointer;display: block;width: 100%;margin-bottom: 0;padding: 0.3em;box-sizing: border-box;text-align: center;}#sk-container-id-11 label.sk-toggleable__label-arrow:before {content: \"▸\";float: left;margin-right: 0.25em;color: #696969;}#sk-container-id-11 label.sk-toggleable__label-arrow:hover:before {color: black;}#sk-container-id-11 div.sk-estimator:hover label.sk-toggleable__label-arrow:before {color: black;}#sk-container-id-11 div.sk-toggleable__content {max-height: 0;max-width: 0;overflow: hidden;text-align: left;background-color: #f0f8ff;}#sk-container-id-11 div.sk-toggleable__content pre {margin: 0.2em;color: black;border-radius: 0.25em;background-color: #f0f8ff;}#sk-container-id-11 input.sk-toggleable__control:checked~div.sk-toggleable__content {max-height: 200px;max-width: 100%;overflow: auto;}#sk-container-id-11 input.sk-toggleable__control:checked~label.sk-toggleable__label-arrow:before {content: \"▾\";}#sk-container-id-11 div.sk-estimator input.sk-toggleable__control:checked~label.sk-toggleable__label {background-color: #d4ebff;}#sk-container-id-11 div.sk-label input.sk-toggleable__control:checked~label.sk-toggleable__label {background-color: #d4ebff;}#sk-container-id-11 input.sk-hidden--visually {border: 0;clip: rect(1px 1px 1px 1px);clip: rect(1px, 1px, 1px, 1px);height: 1px;margin: -1px;overflow: hidden;padding: 0;position: absolute;width: 1px;}#sk-container-id-11 div.sk-estimator {font-family: monospace;background-color: #f0f8ff;border: 1px dotted black;border-radius: 0.25em;box-sizing: border-box;margin-bottom: 0.5em;}#sk-container-id-11 div.sk-estimator:hover {background-color: #d4ebff;}#sk-container-id-11 div.sk-parallel-item::after {content: \"\";width: 100%;border-bottom: 1px solid gray;flex-grow: 1;}#sk-container-id-11 div.sk-label:hover label.sk-toggleable__label {background-color: #d4ebff;}#sk-container-id-11 div.sk-serial::before {content: \"\";position: absolute;border-left: 1px solid gray;box-sizing: border-box;top: 0;bottom: 0;left: 50%;z-index: 0;}#sk-container-id-11 div.sk-serial {display: flex;flex-direction: column;align-items: center;background-color: white;padding-right: 0.2em;padding-left: 0.2em;position: relative;}#sk-container-id-11 div.sk-item {position: relative;z-index: 1;}#sk-container-id-11 div.sk-parallel {display: flex;align-items: stretch;justify-content: center;background-color: white;position: relative;}#sk-container-id-11 div.sk-item::before, #sk-container-id-11 div.sk-parallel-item::before {content: \"\";position: absolute;border-left: 1px solid gray;box-sizing: border-box;top: 0;bottom: 0;left: 50%;z-index: -1;}#sk-container-id-11 div.sk-parallel-item {display: flex;flex-direction: column;z-index: 1;position: relative;background-color: white;}#sk-container-id-11 div.sk-parallel-item:first-child::after {align-self: flex-end;width: 50%;}#sk-container-id-11 div.sk-parallel-item:last-child::after {align-self: flex-start;width: 50%;}#sk-container-id-11 div.sk-parallel-item:only-child::after {width: 0;}#sk-container-id-11 div.sk-dashed-wrapped {border: 1px dashed gray;margin: 0 0.4em 0.5em 0.4em;box-sizing: border-box;padding-bottom: 0.4em;background-color: white;}#sk-container-id-11 div.sk-label label {font-family: monospace;font-weight: bold;display: inline-block;line-height: 1.2em;}#sk-container-id-11 div.sk-label-container {text-align: center;}#sk-container-id-11 div.sk-container {/* jupyter's `normalize.less` sets `[hidden] { display: none; }` but bootstrap.min.css set `[hidden] { display: none !important; }` so we also need the `!important` here to be able to override the default hidden behavior on the sphinx rendered scikit-learn.org. See: https://github.com/scikit-learn/scikit-learn/issues/21755 */display: inline-block !important;position: relative;}#sk-container-id-11 div.sk-text-repr-fallback {display: none;}</style><div id=\"sk-container-id-11\" class=\"sk-top-container\"><div class=\"sk-text-repr-fallback\"><pre>RandomizedSearchCV(cv=10, estimator=KNeighborsClassifier(),\n",
              "                   param_distributions={&#x27;n_neighbors&#x27;: [1, 2, 3, 4, 5, 6, 7, 8,\n",
              "                                                        9, 10, 11, 12, 13, 14,\n",
              "                                                        15, 16, 17, 18, 19, 20,\n",
              "                                                        21, 22, 23, 24, 25, 26,\n",
              "                                                        27, 28, 29, 30, ...],\n",
              "                                        &#x27;weights&#x27;: [&#x27;uniform&#x27;, &#x27;distance&#x27;]},\n",
              "                   scoring=&#x27;accuracy&#x27;, verbose=1)</pre><b>In a Jupyter environment, please rerun this cell to show the HTML representation or trust the notebook. <br />On GitHub, the HTML representation is unable to render, please try loading this page with nbviewer.org.</b></div><div class=\"sk-container\" hidden><div class=\"sk-item sk-dashed-wrapped\"><div class=\"sk-label-container\"><div class=\"sk-label sk-toggleable\"><input class=\"sk-toggleable__control sk-hidden--visually\" id=\"sk-estimator-id-15\" type=\"checkbox\" ><label for=\"sk-estimator-id-15\" class=\"sk-toggleable__label sk-toggleable__label-arrow\">RandomizedSearchCV</label><div class=\"sk-toggleable__content\"><pre>RandomizedSearchCV(cv=10, estimator=KNeighborsClassifier(),\n",
              "                   param_distributions={&#x27;n_neighbors&#x27;: [1, 2, 3, 4, 5, 6, 7, 8,\n",
              "                                                        9, 10, 11, 12, 13, 14,\n",
              "                                                        15, 16, 17, 18, 19, 20,\n",
              "                                                        21, 22, 23, 24, 25, 26,\n",
              "                                                        27, 28, 29, 30, ...],\n",
              "                                        &#x27;weights&#x27;: [&#x27;uniform&#x27;, &#x27;distance&#x27;]},\n",
              "                   scoring=&#x27;accuracy&#x27;, verbose=1)</pre></div></div></div><div class=\"sk-parallel\"><div class=\"sk-parallel-item\"><div class=\"sk-item\"><div class=\"sk-label-container\"><div class=\"sk-label sk-toggleable\"><input class=\"sk-toggleable__control sk-hidden--visually\" id=\"sk-estimator-id-16\" type=\"checkbox\" ><label for=\"sk-estimator-id-16\" class=\"sk-toggleable__label sk-toggleable__label-arrow\">estimator: KNeighborsClassifier</label><div class=\"sk-toggleable__content\"><pre>KNeighborsClassifier()</pre></div></div></div><div class=\"sk-serial\"><div class=\"sk-item\"><div class=\"sk-estimator sk-toggleable\"><input class=\"sk-toggleable__control sk-hidden--visually\" id=\"sk-estimator-id-17\" type=\"checkbox\" ><label for=\"sk-estimator-id-17\" class=\"sk-toggleable__label sk-toggleable__label-arrow\">KNeighborsClassifier</label><div class=\"sk-toggleable__content\"><pre>KNeighborsClassifier()</pre></div></div></div></div></div></div></div></div></div></div>"
            ]
          },
          "metadata": {},
          "execution_count": 136
        }
      ]
    },
    {
      "cell_type": "code",
      "source": [
        "model.best_params_ # {'weights': 'uniform', 'n_neighbors': 6}"
      ],
      "metadata": {
        "colab": {
          "base_uri": "https://localhost:8080/"
        },
        "id": "hJKa8_LFipE8",
        "outputId": "34d92f7f-a71a-4fb7-e4e3-7d3bddf6b8ee"
      },
      "execution_count": 139,
      "outputs": [
        {
          "output_type": "execute_result",
          "data": {
            "text/plain": [
              "{'weights': 'uniform', 'n_neighbors': 6}"
            ]
          },
          "metadata": {},
          "execution_count": 139
        }
      ]
    },
    {
      "cell_type": "markdown",
      "metadata": {
        "id": "B2BAG8tMTJ_6"
      },
      "source": [
        "\n",
        "# Kaggle solving"
      ]
    },
    {
      "cell_type": "markdown",
      "source": [
        "## preprocessing"
      ],
      "metadata": {
        "id": "3g6wRQEdNCFi"
      }
    },
    {
      "cell_type": "code",
      "execution_count": 97,
      "metadata": {
        "id": "prqcEBiFTJ_6"
      },
      "outputs": [],
      "source": [
        "base_submission_news_path = BASE_PATH + 'news-topics-2024/base_submission_news.csv'\n",
        "test_news_path = BASE_PATH + 'news-topics-2024/test_news.csv'\n",
        "test_news_pickle_path = BASE_PATH + 'news-topics-2024/test_news.pkl'"
      ]
    },
    {
      "cell_type": "code",
      "execution_count": 61,
      "metadata": {
        "id": "bmXTe3vqTJ_7"
      },
      "outputs": [],
      "source": [
        "base_submission_news = pd.read_csv(base_submission_news_path, sep=',', index_col='index')\n",
        "# test_news = pd.read_csv(test_news_path)\n",
        "test_news = pd.read_pickle(test_news_pickle_path)"
      ]
    },
    {
      "cell_type": "code",
      "source": [
        "test_news.head()"
      ],
      "metadata": {
        "colab": {
          "base_uri": "https://localhost:8080/",
          "height": 206
        },
        "id": "tJ59p1sCEtgq",
        "outputId": "ead4d4eb-9d0f-4b96-c465-5689256478aa"
      },
      "execution_count": 98,
      "outputs": [
        {
          "output_type": "execute_result",
          "data": {
            "text/plain": [
              "                                             content  \\\n",
              "0  Фото: «Фонтанка.ру»ПоделитьсяЭкс-министру обор...   \n",
              "1  В начале февраля 2023 года в Пушкинском районе...   \n",
              "2  Фото: Andy Bao / Getty Images Анастасия Борисо...   \n",
              "3  Если вы хотели, но так и не съездили на море л...   \n",
              "4  Сергей Пиняев Фото: Алексей Филиппов / РИА Нов...   \n",
              "\n",
              "                                content_preprocessed  \\\n",
              "0  [фото, фонтанка, ру, поделитьсяэкс, министр, о...   \n",
              "1  [начало, февраль, год, пушкинский, район, санк...   \n",
              "2  [фото, анастасия, борисов, международный, феде...   \n",
              "3  [хотеть, съездить, море, лето, читать, далеко,...   \n",
              "4  [сергей, пиняев, фото, алексей, филиппов, риа,...   \n",
              "\n",
              "                                              vector  \n",
              "0  [-0.07582188, 0.0044638994, 0.09999462, 0.1718...  \n",
              "1  [-0.3711374, -0.043105647, 0.06335098, -0.2911...  \n",
              "2  [-0.6973815, 0.5147773, 0.13142203, 0.25320646...  \n",
              "3  [-0.12116184, 0.12488917, -0.033703387, 0.2104...  \n",
              "4  [-0.3308527, 0.63478416, -0.009168504, 0.23864...  "
            ],
            "text/html": [
              "\n",
              "  <div id=\"df-4f7ebbeb-371a-4daa-bf44-64b4cf3bd391\" class=\"colab-df-container\">\n",
              "    <div>\n",
              "<style scoped>\n",
              "    .dataframe tbody tr th:only-of-type {\n",
              "        vertical-align: middle;\n",
              "    }\n",
              "\n",
              "    .dataframe tbody tr th {\n",
              "        vertical-align: top;\n",
              "    }\n",
              "\n",
              "    .dataframe thead th {\n",
              "        text-align: right;\n",
              "    }\n",
              "</style>\n",
              "<table border=\"1\" class=\"dataframe\">\n",
              "  <thead>\n",
              "    <tr style=\"text-align: right;\">\n",
              "      <th></th>\n",
              "      <th>content</th>\n",
              "      <th>content_preprocessed</th>\n",
              "      <th>vector</th>\n",
              "    </tr>\n",
              "  </thead>\n",
              "  <tbody>\n",
              "    <tr>\n",
              "      <th>0</th>\n",
              "      <td>Фото: «Фонтанка.ру»ПоделитьсяЭкс-министру обор...</td>\n",
              "      <td>[фото, фонтанка, ру, поделитьсяэкс, министр, о...</td>\n",
              "      <td>[-0.07582188, 0.0044638994, 0.09999462, 0.1718...</td>\n",
              "    </tr>\n",
              "    <tr>\n",
              "      <th>1</th>\n",
              "      <td>В начале февраля 2023 года в Пушкинском районе...</td>\n",
              "      <td>[начало, февраль, год, пушкинский, район, санк...</td>\n",
              "      <td>[-0.3711374, -0.043105647, 0.06335098, -0.2911...</td>\n",
              "    </tr>\n",
              "    <tr>\n",
              "      <th>2</th>\n",
              "      <td>Фото: Andy Bao / Getty Images Анастасия Борисо...</td>\n",
              "      <td>[фото, анастасия, борисов, международный, феде...</td>\n",
              "      <td>[-0.6973815, 0.5147773, 0.13142203, 0.25320646...</td>\n",
              "    </tr>\n",
              "    <tr>\n",
              "      <th>3</th>\n",
              "      <td>Если вы хотели, но так и не съездили на море л...</td>\n",
              "      <td>[хотеть, съездить, море, лето, читать, далеко,...</td>\n",
              "      <td>[-0.12116184, 0.12488917, -0.033703387, 0.2104...</td>\n",
              "    </tr>\n",
              "    <tr>\n",
              "      <th>4</th>\n",
              "      <td>Сергей Пиняев Фото: Алексей Филиппов / РИА Нов...</td>\n",
              "      <td>[сергей, пиняев, фото, алексей, филиппов, риа,...</td>\n",
              "      <td>[-0.3308527, 0.63478416, -0.009168504, 0.23864...</td>\n",
              "    </tr>\n",
              "  </tbody>\n",
              "</table>\n",
              "</div>\n",
              "    <div class=\"colab-df-buttons\">\n",
              "\n",
              "  <div class=\"colab-df-container\">\n",
              "    <button class=\"colab-df-convert\" onclick=\"convertToInteractive('df-4f7ebbeb-371a-4daa-bf44-64b4cf3bd391')\"\n",
              "            title=\"Convert this dataframe to an interactive table.\"\n",
              "            style=\"display:none;\">\n",
              "\n",
              "  <svg xmlns=\"http://www.w3.org/2000/svg\" height=\"24px\" viewBox=\"0 -960 960 960\">\n",
              "    <path d=\"M120-120v-720h720v720H120Zm60-500h600v-160H180v160Zm220 220h160v-160H400v160Zm0 220h160v-160H400v160ZM180-400h160v-160H180v160Zm440 0h160v-160H620v160ZM180-180h160v-160H180v160Zm440 0h160v-160H620v160Z\"/>\n",
              "  </svg>\n",
              "    </button>\n",
              "\n",
              "  <style>\n",
              "    .colab-df-container {\n",
              "      display:flex;\n",
              "      gap: 12px;\n",
              "    }\n",
              "\n",
              "    .colab-df-convert {\n",
              "      background-color: #E8F0FE;\n",
              "      border: none;\n",
              "      border-radius: 50%;\n",
              "      cursor: pointer;\n",
              "      display: none;\n",
              "      fill: #1967D2;\n",
              "      height: 32px;\n",
              "      padding: 0 0 0 0;\n",
              "      width: 32px;\n",
              "    }\n",
              "\n",
              "    .colab-df-convert:hover {\n",
              "      background-color: #E2EBFA;\n",
              "      box-shadow: 0px 1px 2px rgba(60, 64, 67, 0.3), 0px 1px 3px 1px rgba(60, 64, 67, 0.15);\n",
              "      fill: #174EA6;\n",
              "    }\n",
              "\n",
              "    .colab-df-buttons div {\n",
              "      margin-bottom: 4px;\n",
              "    }\n",
              "\n",
              "    [theme=dark] .colab-df-convert {\n",
              "      background-color: #3B4455;\n",
              "      fill: #D2E3FC;\n",
              "    }\n",
              "\n",
              "    [theme=dark] .colab-df-convert:hover {\n",
              "      background-color: #434B5C;\n",
              "      box-shadow: 0px 1px 3px 1px rgba(0, 0, 0, 0.15);\n",
              "      filter: drop-shadow(0px 1px 2px rgba(0, 0, 0, 0.3));\n",
              "      fill: #FFFFFF;\n",
              "    }\n",
              "  </style>\n",
              "\n",
              "    <script>\n",
              "      const buttonEl =\n",
              "        document.querySelector('#df-4f7ebbeb-371a-4daa-bf44-64b4cf3bd391 button.colab-df-convert');\n",
              "      buttonEl.style.display =\n",
              "        google.colab.kernel.accessAllowed ? 'block' : 'none';\n",
              "\n",
              "      async function convertToInteractive(key) {\n",
              "        const element = document.querySelector('#df-4f7ebbeb-371a-4daa-bf44-64b4cf3bd391');\n",
              "        const dataTable =\n",
              "          await google.colab.kernel.invokeFunction('convertToInteractive',\n",
              "                                                    [key], {});\n",
              "        if (!dataTable) return;\n",
              "\n",
              "        const docLinkHtml = 'Like what you see? Visit the ' +\n",
              "          '<a target=\"_blank\" href=https://colab.research.google.com/notebooks/data_table.ipynb>data table notebook</a>'\n",
              "          + ' to learn more about interactive tables.';\n",
              "        element.innerHTML = '';\n",
              "        dataTable['output_type'] = 'display_data';\n",
              "        await google.colab.output.renderOutput(dataTable, element);\n",
              "        const docLink = document.createElement('div');\n",
              "        docLink.innerHTML = docLinkHtml;\n",
              "        element.appendChild(docLink);\n",
              "      }\n",
              "    </script>\n",
              "  </div>\n",
              "\n",
              "\n",
              "<div id=\"df-7da34c25-2f0d-4f6a-bdb5-04d9ae70cdcc\">\n",
              "  <button class=\"colab-df-quickchart\" onclick=\"quickchart('df-7da34c25-2f0d-4f6a-bdb5-04d9ae70cdcc')\"\n",
              "            title=\"Suggest charts\"\n",
              "            style=\"display:none;\">\n",
              "\n",
              "<svg xmlns=\"http://www.w3.org/2000/svg\" height=\"24px\"viewBox=\"0 0 24 24\"\n",
              "     width=\"24px\">\n",
              "    <g>\n",
              "        <path d=\"M19 3H5c-1.1 0-2 .9-2 2v14c0 1.1.9 2 2 2h14c1.1 0 2-.9 2-2V5c0-1.1-.9-2-2-2zM9 17H7v-7h2v7zm4 0h-2V7h2v10zm4 0h-2v-4h2v4z\"/>\n",
              "    </g>\n",
              "</svg>\n",
              "  </button>\n",
              "\n",
              "<style>\n",
              "  .colab-df-quickchart {\n",
              "      --bg-color: #E8F0FE;\n",
              "      --fill-color: #1967D2;\n",
              "      --hover-bg-color: #E2EBFA;\n",
              "      --hover-fill-color: #174EA6;\n",
              "      --disabled-fill-color: #AAA;\n",
              "      --disabled-bg-color: #DDD;\n",
              "  }\n",
              "\n",
              "  [theme=dark] .colab-df-quickchart {\n",
              "      --bg-color: #3B4455;\n",
              "      --fill-color: #D2E3FC;\n",
              "      --hover-bg-color: #434B5C;\n",
              "      --hover-fill-color: #FFFFFF;\n",
              "      --disabled-bg-color: #3B4455;\n",
              "      --disabled-fill-color: #666;\n",
              "  }\n",
              "\n",
              "  .colab-df-quickchart {\n",
              "    background-color: var(--bg-color);\n",
              "    border: none;\n",
              "    border-radius: 50%;\n",
              "    cursor: pointer;\n",
              "    display: none;\n",
              "    fill: var(--fill-color);\n",
              "    height: 32px;\n",
              "    padding: 0;\n",
              "    width: 32px;\n",
              "  }\n",
              "\n",
              "  .colab-df-quickchart:hover {\n",
              "    background-color: var(--hover-bg-color);\n",
              "    box-shadow: 0 1px 2px rgba(60, 64, 67, 0.3), 0 1px 3px 1px rgba(60, 64, 67, 0.15);\n",
              "    fill: var(--button-hover-fill-color);\n",
              "  }\n",
              "\n",
              "  .colab-df-quickchart-complete:disabled,\n",
              "  .colab-df-quickchart-complete:disabled:hover {\n",
              "    background-color: var(--disabled-bg-color);\n",
              "    fill: var(--disabled-fill-color);\n",
              "    box-shadow: none;\n",
              "  }\n",
              "\n",
              "  .colab-df-spinner {\n",
              "    border: 2px solid var(--fill-color);\n",
              "    border-color: transparent;\n",
              "    border-bottom-color: var(--fill-color);\n",
              "    animation:\n",
              "      spin 1s steps(1) infinite;\n",
              "  }\n",
              "\n",
              "  @keyframes spin {\n",
              "    0% {\n",
              "      border-color: transparent;\n",
              "      border-bottom-color: var(--fill-color);\n",
              "      border-left-color: var(--fill-color);\n",
              "    }\n",
              "    20% {\n",
              "      border-color: transparent;\n",
              "      border-left-color: var(--fill-color);\n",
              "      border-top-color: var(--fill-color);\n",
              "    }\n",
              "    30% {\n",
              "      border-color: transparent;\n",
              "      border-left-color: var(--fill-color);\n",
              "      border-top-color: var(--fill-color);\n",
              "      border-right-color: var(--fill-color);\n",
              "    }\n",
              "    40% {\n",
              "      border-color: transparent;\n",
              "      border-right-color: var(--fill-color);\n",
              "      border-top-color: var(--fill-color);\n",
              "    }\n",
              "    60% {\n",
              "      border-color: transparent;\n",
              "      border-right-color: var(--fill-color);\n",
              "    }\n",
              "    80% {\n",
              "      border-color: transparent;\n",
              "      border-right-color: var(--fill-color);\n",
              "      border-bottom-color: var(--fill-color);\n",
              "    }\n",
              "    90% {\n",
              "      border-color: transparent;\n",
              "      border-bottom-color: var(--fill-color);\n",
              "    }\n",
              "  }\n",
              "</style>\n",
              "\n",
              "  <script>\n",
              "    async function quickchart(key) {\n",
              "      const quickchartButtonEl =\n",
              "        document.querySelector('#' + key + ' button');\n",
              "      quickchartButtonEl.disabled = true;  // To prevent multiple clicks.\n",
              "      quickchartButtonEl.classList.add('colab-df-spinner');\n",
              "      try {\n",
              "        const charts = await google.colab.kernel.invokeFunction(\n",
              "            'suggestCharts', [key], {});\n",
              "      } catch (error) {\n",
              "        console.error('Error during call to suggestCharts:', error);\n",
              "      }\n",
              "      quickchartButtonEl.classList.remove('colab-df-spinner');\n",
              "      quickchartButtonEl.classList.add('colab-df-quickchart-complete');\n",
              "    }\n",
              "    (() => {\n",
              "      let quickchartButtonEl =\n",
              "        document.querySelector('#df-7da34c25-2f0d-4f6a-bdb5-04d9ae70cdcc button');\n",
              "      quickchartButtonEl.style.display =\n",
              "        google.colab.kernel.accessAllowed ? 'block' : 'none';\n",
              "    })();\n",
              "  </script>\n",
              "</div>\n",
              "    </div>\n",
              "  </div>\n"
            ],
            "application/vnd.google.colaboratory.intrinsic+json": {
              "type": "dataframe",
              "variable_name": "test_news",
              "summary": "{\n  \"name\": \"test_news\",\n  \"rows\": 26275,\n  \"fields\": [\n    {\n      \"column\": \"content\",\n      \"properties\": {\n        \"dtype\": \"string\",\n        \"num_unique_values\": 26274,\n        \"samples\": [\n          \"\\u041f\\u0440\\u0435\\u0437\\u0438\\u0434\\u0435\\u043d\\u0442 \\u043d\\u0430\\u0446\\u0438\\u043e\\u043d\\u0430\\u043b\\u044c\\u043d\\u043e\\u0439 \\u0430\\u0441\\u0441\\u043e\\u0446\\u0438\\u0430\\u0446\\u0438\\u0438 \\u0442\\u0435\\u043b\\u0435\\u0440\\u0430\\u0434\\u0438\\u043e\\u0432\\u0435\\u0449\\u0430\\u0442\\u0435\\u043b\\u0435\\u0439 \\u042d\\u0434\\u0443\\u0430\\u0440\\u0434 \\u0421\\u0430\\u0433\\u0430\\u043b\\u0430\\u0435\\u0432 \\u0441\\u043a\\u043e\\u0440\\u043e\\u043f\\u043e\\u0441\\u0442\\u0438\\u0436\\u043d\\u043e \\u0441\\u043a\\u043e\\u043d\\u0447\\u0430\\u043b\\u0441\\u044f \\u0432 \\u041c\\u043e\\u0441\\u043a\\u0432\\u0435. \\u0415\\u043c\\u0443 \\u0431\\u044b\\u043b\\u043e 76 \\u043b\\u0435\\u0442. \\u041e \\u043a\\u043e\\u043d\\u0447\\u0438\\u043d\\u0435 \\u0421\\u0430\\u0433\\u0430\\u043b\\u0430\\u0435\\u0432\\u0430 \\u0422\\u0410\\u0421\\u0421 \\u0441\\u043e\\u043e\\u0431\\u0449\\u0438\\u043b \\u0433\\u043b\\u0430\\u0432\\u0430 \\u041e\\u0431\\u0449\\u0435\\u0441\\u0442\\u0432\\u0435\\u043d\\u043d\\u043e\\u0433\\u043e \\u0442\\u0435\\u043b\\u0435\\u0432\\u0438\\u0434\\u0435\\u043d\\u0438\\u044f \\u0420\\u043e\\u0441\\u0441\\u0438\\u0438 \\u0412\\u0438\\u0442\\u0430\\u043b\\u0438\\u0439 \\u0418\\u0433\\u043d\\u0430\\u0442\\u0435\\u043d\\u043a\\u043e. \\u041e\\u043d \\u0432\\u043e\\u0437\\u0433\\u043b\\u0430\\u0432\\u043b\\u044f\\u043b \\u0430\\u0441\\u0441\\u043e\\u0446\\u0438\\u0430\\u0446\\u0438\\u044e \\u0441 1995 \\u0433\\u043e\\u0434\\u0430, \\u043d\\u0430 \\u0442\\u0435\\u043b\\u0435\\u0432\\u0438\\u0434\\u0435\\u043d\\u0438\\u0438 \\u0441 1975-\\u0433\\u043e. \\u0421\\u043f\\u0435\\u0440\\u0432\\u0430 \\u043e\\u043d \\u043f\\u0440\\u0438\\u0434\\u0443\\u043c\\u044b\\u0432\\u0430\\u043b \\u043f\\u0440\\u043e\\u0433\\u0440\\u0430\\u043c\\u043c\\u044b \\u0434\\u043b\\u044f \\u043c\\u043e\\u043b\\u043e\\u0434\\u0435\\u0436\\u0438, \\u0437\\u0430\\u0442\\u0435\\u043c \\u0431\\u044b\\u043b \\u0433\\u043b\\u0430\\u0432\\u043d\\u044b\\u043c \\u0440\\u0435\\u0434\\u0430\\u043a\\u0442\\u043e\\u0440\\u043e\\u043c \\u0438\\u043d\\u0444\\u043e\\u0440\\u043c\\u0430\\u0446\\u0438\\u0438 \\u0426\\u0435\\u043d\\u0442\\u0440\\u0430\\u043b\\u044c\\u043d\\u043e\\u0433\\u043e \\u0442\\u0435\\u043b\\u0435\\u0432\\u0438\\u0434\\u0435\\u043d\\u0438\\u044f \\u0421\\u0421\\u0421\\u0420. \\u0412 1990-\\u0435 \\u0431\\u044b\\u043b \\u043f\\u0440\\u0435\\u0437\\u0438\\u0434\\u0435\\u043d\\u0442\\u043e\\u043c \\u0422\\u0412-6. \\u0413\\u043e\\u0434 \\u0440\\u0443\\u043a\\u043e\\u0432\\u043e\\u0434\\u0438\\u043b \\u0412\\u0413\\u0422\\u0420\\u041a, \\u043d\\u043e \\u0432\\u044b\\u043d\\u0443\\u0436\\u0434\\u0435\\u043d \\u0431\\u044b\\u043b \\u0443\\u0439\\u0442\\u0438 \\u0438\\u0437-\\u0437\\u0430 \\u043a\\u043e\\u043d\\u0444\\u043b\\u0438\\u043a\\u0442\\u0430 \\u0441 \\u0441\\u043e\\u0442\\u0440\\u0443\\u0434\\u043d\\u0438\\u043a\\u0430\\u043c\\u0438. \\n\\n\\n\\n\\n\\n\\u0424\\u043e\\u0442\\u043e: \\u041c\\u0438\\u0445\\u0430\\u0438\\u043b \\u041e\\u0433\\u043d\\u0435\\u0432 / \\u00ab\\u0424\\u043e\\u043d\\u0442\\u0430\\u043d\\u043a\\u0430.\\u0440\\u0443\\u00bb\\u041f\\u043e\\u0434\\u0435\\u043b\\u0438\\u0442\\u044c\\u0441\\u044f\\u041e\\u0434\\u0438\\u043d \\u0438\\u0437 \\u0441\\u043e\\u0437\\u0434\\u0430\\u0442\\u0435\\u043b\\u0435\\u0439 \\u0434\\u0435\\u0440\\u0435\\u0432\\u043d\\u0438 \\u0432\\u044b\\u043f\\u0443\\u0441\\u043a\\u043d\\u0438\\u043a\\u043e\\u0432 \\u043f\\u0435\\u0442\\u0435\\u0440\\u0431\\u0443\\u0440\\u0433\\u0441\\u043a\\u043e\\u0433\\u043e \\u0444\\u0438\\u0437\\u0438\\u043a\\u043e-\\u043c\\u0430\\u0442\\u0435\\u043c\\u0430\\u0442\\u0438\\u0447\\u0435\\u0441\\u043a\\u043e\\u0433\\u043e \\u043b\\u0438\\u0446\\u0435\\u044f 239 \\u0418\\u0432\\u0430\\u043d \\u041e\\u0432\\u0447\\u0438\\u043d\\u043d\\u0438\\u043a\\u043e\\u0432 \\u0441\\u043a\\u043e\\u043d\\u0447\\u0430\\u043b\\u0441\\u044f. \\u041e\\u0431 \\u044d\\u0442\\u043e\\u043c \\u0441\\u043e\\u043e\\u0431\\u0449\\u0430\\u0435\\u0442\\u0441\\u044f \\u043d\\u0430 \\u0435\\u0433\\u043e \\u0441\\u0442\\u0440\\u0430\\u043d\\u0438\\u0446\\u0435 \\u0432\\u043e \\u00ab\\u0412\\u041a\\u043e\\u043d\\u0442\\u0430\\u043a\\u0442\\u0435\\u00bb 15 \\u043c\\u0430\\u044f.\\u00ab13 \\u043c\\u0430\\u044f \\u043f\\u043e\\u0441\\u043b\\u0435 \\u043f\\u0440\\u043e\\u0434\\u043e\\u043b\\u0436\\u0438\\u0442\\u0435\\u043b\\u044c\\u043d\\u043e\\u0439 \\u0431\\u043e\\u043b\\u0435\\u0437\\u043d\\u0438 \\u0418\\u0432\\u0430\\u043d \\u0443\\u0448\\u0435\\u043b \\u043e\\u0442 \\u043d\\u0430\\u0441\\u00bb, \\u2014 \\u0443\\u043a\\u0430\\u0437\\u0430\\u043d\\u043e \\u0432 \\u0441\\u043e\\u043e\\u0431\\u0449\\u0435\\u043d\\u0438\\u0438.\\n\\n\\n\\u0424\\u043e\\u0442\\u043e: \\u041c\\u0438\\u0445\\u0430\\u0438\\u043b \\u041e\\u0433\\u043d\\u0435\\u0432 / \\u00ab\\u0424\\u043e\\u043d\\u0442\\u0430\\u043d\\u043a\\u0430.\\u0440\\u0443\\u00bb\\u0424\\u043e\\u0442\\u043e: \\u041c\\u0438\\u0445\\u0430\\u0438\\u043b \\u041e\\u0433\\u043d\\u0435\\u0432 / \\u00ab\\u0424\\u043e\\u043d\\u0442\\u0430\\u043d\\u043a\\u0430.\\u0440\\u0443\\u00bb\\u0424\\u043e\\u0442\\u043e: \\u041c\\u0438\\u0445\\u0430\\u0438\\u043b \\u041e\\u0433\\u043d\\u0435\\u0432 / \\u00ab\\u0424\\u043e\\u043d\\u0442\\u0430\\u043d\\u043a\\u0430.\\u0440\\u0443\\u00bb\\u041f\\u043e\\u0434\\u0435\\u043b\\u0438\\u0442\\u044c\\u0441\\u044f\\n\\n\\n\\u0418\\u0432\\u0430\\u043d \\u041e\\u0432\\u0447\\u0438\\u043d\\u043d\\u0438\\u043a\\u043e\\u0432 \\u0432\\u043c\\u0435\\u0441\\u0442\\u0435 \\u0441 \\u0434\\u0440\\u0443\\u0437\\u044c\\u044f\\u043c\\u0438 \\u0432\\u043e\\u0437\\u0440\\u043e\\u0434\\u0438\\u043b \\u0437\\u0430\\u0431\\u0440\\u043e\\u0448\\u0435\\u043d\\u043d\\u0443\\u044e \\u0432\\u0435\\u043f\\u0441\\u0441\\u043a\\u0443\\u044e \\u0434\\u0435\\u0440\\u0435\\u0432\\u043d\\u044e \\u0432 \\u041f\\u043e\\u0434\\u043f\\u043e\\u0440\\u043e\\u0436\\u0441\\u043a\\u043e\\u043c \\u0440\\u0430\\u0439\\u043e\\u043d\\u0435. \\u0412 \\u043d\\u0430\\u0447\\u0430\\u043b\\u0435 80-\\u0445 \\u043a\\u043e\\u043c\\u043f\\u0430\\u043d\\u0438\\u044f \\u0432\\u044b\\u043f\\u0443\\u0441\\u043a\\u043d\\u0438\\u043a\\u043e\\u0432 \\u043b\\u0438\\u0446\\u0435\\u044f 239 \\u0432\\u044b\\u043a\\u0443\\u043f\\u0438\\u043b\\u0430 \\u043d\\u0435\\u0441\\u043a\\u043e\\u043b\\u044c\\u043a\\u043e \\u0440\\u0430\\u0437\\u0440\\u0443\\u0448\\u0430\\u044e\\u0449\\u0438\\u0445\\u0441\\u044f \\u0438\\u0437\\u0431. \\u0421\\u043e \\u0432\\u0440\\u0435\\u043c\\u0435\\u043d\\u0435\\u043c \\u0436\\u0438\\u043b\\u044c\\u0435 \\u0443\\u0434\\u0430\\u043b\\u043e\\u0441\\u044c \\u043e\\u0431\\u043b\\u0430\\u0433\\u043e\\u0440\\u043e\\u0434\\u0438\\u0442\\u044c, \\u0430 \\u0418\\u0432\\u0430\\u043d \\u0441\\u0430\\u043c \\u0441\\u043e\\u0437\\u0434\\u0430\\u043b \\u0443\\u043c\\u043d\\u0443\\u044e \\u0438\\u0437\\u0431\\u0443, \\u0432 \\u043a\\u043e\\u0442\\u043e\\u0440\\u043e\\u0439 \\u043e\\u0442\\u043e\\u043f\\u043b\\u0435\\u043d\\u0438\\u0435 \\u043c\\u043e\\u0436\\u043d\\u043e \\u0432\\u043a\\u043b\\u044e\\u0447\\u0438\\u0442\\u044c, \\u043d\\u0430\\u0445\\u043e\\u0434\\u044f\\u0441\\u044c \\u0432 \\u041f\\u0435\\u0442\\u0435\\u0440\\u0431\\u0443\\u0440\\u0433\\u0435.\\n\\n\\n\\u0411\\u043b\\u0430\\u0433\\u043e\\u0434\\u0430\\u0440\\u044f \\u041e\\u0432\\u0447\\u0438\\u043d\\u043d\\u0438\\u043a\\u043e\\u0432\\u0443 \\u0438 \\u0435\\u0433\\u043e \\u0431\\u0440\\u0430\\u0442\\u0443 \\u042e\\u0440\\u0438\\u044e \\u0443\\u0447\\u0430\\u0441\\u0442\\u043a\\u0438 \\u0432\\u0435\\u0440\\u043d\\u0443\\u043b\\u0438\\u0441\\u044c \\u043d\\u0430 \\u043a\\u0430\\u0440\\u0442\\u044b \\u0420\\u043e\\u0441\\u0440\\u0435\\u0435\\u0441\\u0442\\u0440\\u0430, \\u043c\\u0435\\u0436\\u0434\\u0443 \\u0441\\u043e\\u0431\\u043e\\u0439 \\u0434\\u0440\\u0443\\u0437\\u044c\\u044f \\u0441\\u0442\\u0430\\u043b\\u0438 \\u043d\\u0430\\u0437\\u044b\\u0432\\u0430\\u0442\\u044c \\u044d\\u0442\\u043e \\u043c\\u0435\\u0441\\u0442\\u043e \\u0414\\u0435\\u0440\\u0435\\u0432\\u043d\\u0435\\u0439 239. \\u041a 72 \\u0433\\u043e\\u0434\\u0430\\u043c \\u0418\\u0432\\u0430\\u043d \\u043e\\u0441\\u0442\\u0430\\u0432\\u0430\\u043b\\u0441\\u044f \\u043f\\u043e\\u0441\\u043b\\u0435\\u0434\\u043d\\u0438\\u043c \\u043f\\u043e\\u0441\\u0442\\u043e\\u044f\\u043d\\u043d\\u044b\\u043c \\u0436\\u0438\\u0442\\u0435\\u043b\\u0435\\u043c \\u0434\\u0435\\u0440\\u0435\\u0432\\u043d\\u0438, \\u0435\\u0433\\u043e \\u0434\\u0440\\u0443\\u0437\\u044c\\u044f \\u043f\\u0440\\u0438\\u0435\\u0437\\u0436\\u0430\\u043b\\u0438 \\u043d\\u0430\\u0435\\u0437\\u0434\\u0430\\u043c\\u0438.\\u041f\\u043e\\u043b\\u043d\\u0443\\u044e \\u0438\\u0441\\u0442\\u043e\\u0440\\u0438\\u044e \\u043f\\u0435\\u0442\\u0435\\u0440\\u0431\\u0443\\u0440\\u0436\\u0446\\u0430 \\u0438 \\u0443\\u043d\\u0438\\u043a\\u0430\\u043b\\u044c\\u043d\\u043e\\u0433\\u043e \\u043d\\u0430\\u0441\\u0435\\u043b\\u0435\\u043d\\u043d\\u043e\\u0433\\u043e \\u043f\\u0443\\u043d\\u043a\\u0442\\u0430 \\u0447\\u0438\\u0442\\u0430\\u0439\\u0442\\u0435 \\u0432 \\u043c\\u0430\\u0442\\u0435\\u0440\\u0438\\u0430\\u043b\\u0435 \\u00ab\\u0421\\u0430\\u043c\\u0430\\u044f \\u0441\\u0442\\u0440\\u0430\\u043d\\u043d\\u0430\\u044f \\u0434\\u0435\\u0440\\u0435\\u0432\\u043d\\u044f \\u0432 \\u041b\\u0435\\u043d\\u043e\\u0431\\u043b\\u0430\\u0441\\u0442\\u0438 \\u2014 \\u0435\\u0435 \\u043d\\u0435\\u0442 \\u043d\\u0430 \\u043a\\u0430\\u0440\\u0442\\u0435 \\u0438 \\u0437\\u0434\\u0435\\u0441\\u044c \\u0436\\u0438\\u0432\\u0443\\u0442 \\u0443\\u0434\\u0438\\u0432\\u0438\\u0442\\u0435\\u043b\\u044c\\u043d\\u044b\\u0435 \\u043b\\u044e\\u0434\\u0438\\u00bb.\\u0424\\u043e\\u0442\\u043e: \\u041c\\u0438\\u0445\\u0430\\u0438\\u043b \\u041e\\u0433\\u043d\\u0435\\u0432 / \\u00ab\\u0424\\u043e\\u043d\\u0442\\u0430\\u043d\\u043a\\u0430.\\u0440\\u0443\\u00bb\",\n          \"\\u0424\\u043e\\u0442\\u043e: Freestocks / Unsplash \\u0412\\u0430\\u0440\\u0432\\u0430\\u0440\\u0430 \\u0420\\u043e\\u0434\\u0438\\u043a\\u043e\\u0432\\u0430 \\u0413\\u043b\\u0430\\u0432\\u0443 \\u0422\\u0430\\u043c\\u0430\\u043d\\u0438 \\u041a\\u0440\\u0430\\u0441\\u043d\\u043e\\u0434\\u0430\\u0440\\u0441\\u043a\\u043e\\u0433\\u043e \\u043a\\u0440\\u0430\\u044f \\u041c\\u0430\\u043a\\u0441\\u0438\\u043c\\u0430 \\u0425\\u043e\\u0440\\u043e\\u0448\\u0438\\u043b\\u043e\\u0432\\u0430 \\u0437\\u0430\\u043f\\u043e\\u0434\\u043e\\u0437\\u0440\\u0438\\u043b\\u0438 \\u0432 \\u0441\\u043e\\u0437\\u0434\\u0430\\u043d\\u0438\\u0438 \\u0444\\u0435\\u0439\\u043a\\u043e\\u0432\\u043e\\u0439 \\u0441\\u0442\\u0440\\u0430\\u043d\\u0438\\u0446\\u044b \\u0432 \\u0441\\u043e\\u0446\\u0441\\u0435\\u0442\\u0438, \\u0441 \\u043a\\u043e\\u0442\\u043e\\u0440\\u043e\\u0439 \\u043e\\u043d \\u043e\\u0441\\u043a\\u043e\\u0440\\u0431\\u043b\\u044f\\u043b \\u0440\\u043e\\u0441\\u0441\\u0438\\u044f\\u043d. \\u041e\\u0431 \\u044d\\u0442\\u043e\\u043c \\u0441\\u043e\\u043e\\u0431\\u0449\\u0430\\u0435\\u0442 Telegram-\\u043a\\u0430\\u043d\\u0430\\u043b Kub Mash. \\u0412 \\u043f\\u0440\\u043e\\u0444\\u0438\\u043b\\u0435 \\u0418\\u043e\\u0430\\u043d\\u043d\\u0430 \\u041b\\u0443\\u0447\\u0435\\u0432\\u043d\\u0438\\u043a\\u043e\\u0432\\u0430, \\u043f\\u043e\\u0434 \\u0438\\u043c\\u0435\\u043d\\u0435\\u043c \\u043a\\u043e\\u0442\\u043e\\u0440\\u043e\\u0433\\u043e, \\u043f\\u0440\\u0435\\u0434\\u043f\\u043e\\u043b\\u043e\\u0436\\u0438\\u0442\\u0435\\u043b\\u044c\\u043d\\u043e, \\u0437\\u0430\\u0440\\u0435\\u0433\\u0438\\u0441\\u0442\\u0440\\u0438\\u0440\\u043e\\u0432\\u0430\\u043b\\u0441\\u044f \\u0425\\u043e\\u0440\\u043e\\u0448\\u0438\\u043b\\u043e\\u0432, \\u0431\\u044b\\u043b \\u0443\\u043a\\u0430\\u0437\\u0430\\u043d \\u0440\\u0435\\u0430\\u043b\\u044c\\u043d\\u044b\\u0439 \\u043d\\u043e\\u043c\\u0435\\u0440 \\u0442\\u0435\\u043b\\u0435\\u0444\\u043e\\u043d\\u0430 \\u0447\\u0438\\u043d\\u043e\\u0432\\u043d\\u0438\\u043a\\u0430. \\u041b\\u0443\\u0447\\u0435\\u0432\\u043d\\u0438\\u043a\\u043e\\u0432 \\u043d\\u0430\\u0445\\u043e\\u0434\\u0438\\u043b \\u043f\\u043e\\u0441\\u0442\\u044b, \\u0433\\u0434\\u0435 \\u043f\\u043e\\u0434\\u043d\\u0438\\u043c\\u0430\\u043b\\u0438\\u0441\\u044c \\u0430\\u043a\\u0442\\u0443\\u0430\\u043b\\u044c\\u043d\\u044b\\u0435 \\u0433\\u043e\\u0440\\u043e\\u0434\\u0441\\u043a\\u0438\\u0435 \\u043f\\u0440\\u043e\\u0431\\u043b\\u0435\\u043c\\u044b, \\u0438 \\u043e\\u0441\\u043a\\u043e\\u0440\\u0431\\u043b\\u044f\\u043b \\u0433\\u043e\\u0440\\u043e\\u0436\\u0430\\u043d, \\u0430\\u0434\\u0440\\u0435\\u0441\\u0443\\u044f \\u0438\\u043c \\u043a\\u043e\\u043c\\u043c\\u0435\\u043d\\u0442\\u0430\\u0440\\u0438\\u0438 \\u0441 \\u043e\\u0440\\u0444\\u043e\\u0433\\u0440\\u0430\\u0444\\u0438\\u0447\\u0435\\u0441\\u043a\\u0438\\u043c\\u0438 \\u043e\\u0448\\u0438\\u0431\\u043a\\u0430\\u043c\\u0438. \\u00ab\\u0422\\u0435\\u0431\\u044f, \\u043a\\u043b\\u0438\\u0437\\u043c\\u0430, \\u0437\\u0430\\u0431\\u044b\\u043b\\u0438 \\u0441\\u043f\\u0440\\u043e\\u0441\\u0438\\u0442\\u044c\\u00bb, \\u2014 \\u0437\\u0430\\u044f\\u0432\\u0438\\u043b \\u043e\\u043d \\u0432 \\u043e\\u0442\\u0432\\u0435\\u0442 \\u043d\\u0430 \\u0441\\u043b\\u043e\\u0432\\u0430 \\u043c\\u0435\\u0441\\u0442\\u043d\\u043e\\u0439 \\u0436\\u0438\\u0442\\u0435\\u043b\\u044c\\u043d\\u0438\\u0446\\u044b. \\u041a\\u0440\\u043e\\u043c\\u0435 \\u044d\\u0442\\u043e\\u0433\\u043e, \\u041b\\u0443\\u0447\\u0435\\u0432\\u043d\\u0438\\u043a\\u043e\\u0432 \\u043e\\u0431\\u0437\\u044b\\u0432\\u0430\\u043b \\u0432\\u044b\\u0441\\u0442\\u0443\\u043f\\u0430\\u0432\\u0448\\u0438\\u0445 \\u043f\\u0440\\u043e\\u0442\\u0438\\u0432 \\u0430\\u0434\\u043c\\u0438\\u043d\\u0438\\u0441\\u0442\\u0440\\u0430\\u0446\\u0438\\u0438 \\u043a\\u043e\\u043c\\u043c\\u0435\\u043d\\u0442\\u0430\\u0442\\u043e\\u0440\\u043e\\u0432 \\u00ab\\u043f\\u0440\\u0438\\u0445\\u0432\\u043e\\u0441\\u0442\\u043d\\u044f\\u043c\\u0438\\u00bb, \\u00ab\\u0430\\u0444\\u0438\\u0440\\u0438\\u0441\\u0442\\u0430\\u043c\\u0438\\u00bb \\u0438 \\u00ab\\u0431\\u043e\\u043b\\u044c\\u043d\\u044b\\u043c\\u0438 \\u0437\\u043e\\u043c\\u0431\\u0438\\u00bb. \\u0411\\u044b\\u0432\\u0448\\u0435\\u0433\\u043e \\u043c\\u044d\\u0440\\u0430 \\u041a\\u0440\\u0430\\u0441\\u043d\\u043e\\u0434\\u0430\\u0440\\u0430 \\u0410\\u043d\\u0434\\u0440\\u0435\\u044f \\u0410\\u043b\\u0435\\u043a\\u0441\\u0435\\u0435\\u043d\\u043a\\u043e \\u0438 \\u0435\\u0433\\u043e \\u0436\\u0435\\u043d\\u0443 \\u0438\\u043d\\u0442\\u0435\\u0440\\u043d\\u0435\\u0442-\\u0442\\u0440\\u043e\\u043b\\u043b\\u044c \\u043e\\u043a\\u0440\\u0435\\u0441\\u0442\\u0438\\u043b \\u00ab\\u043f\\u0440\\u0430\\u0434\\u0430\\u0436\\u043d\\u044b\\u043c\\u0438 \\u0448\\u043a\\u0443\\u0440\\u0430\\u043c\\u0438\\u00bb, \\u043a\\u043e\\u0442\\u043e\\u0440\\u044b\\u0435 \\u00ab\\u043f\\u0440\\u0430\\u0434\\u0430\\u043b\\u0438 \\u043b\\u044e\\u0434\\u0435\\u0439\\u00bb. \\u0410\\u0432\\u0442\\u043e\\u0440\\u044b \\u043a\\u0430\\u043d\\u0430\\u043b\\u0430 \\u043f\\u043e\\u043f\\u0440\\u043e\\u0441\\u0438\\u043b\\u0438 \\u0425\\u043e\\u0440\\u043e\\u0448\\u0438\\u043b\\u043e\\u0432\\u0430 \\u043f\\u0440\\u043e\\u043a\\u043e\\u043c\\u043c\\u0435\\u043d\\u0442\\u0438\\u0440\\u043e\\u0432\\u0430\\u0442\\u044c \\u0441\\u0438\\u0442\\u0443\\u0430\\u0446\\u0438\\u044e. \\u0427\\u0438\\u043d\\u043e\\u0432\\u043d\\u0438\\u043a \\u043e\\u0442\\u0432\\u0435\\u0442\\u0438\\u043b, \\u0447\\u0442\\u043e \\u043d\\u0435 \\u0438\\u043c\\u0435\\u0435\\u0442 \\u043e\\u0442\\u043d\\u043e\\u0448\\u0435\\u043d\\u0438\\u044f \\u043a \\u043a\\u043e\\u043c\\u043c\\u0435\\u043d\\u0442\\u0430\\u0440\\u0438\\u044f\\u043c \\u041b\\u0443\\u0447\\u0435\\u0432\\u043d\\u0438\\u043a\\u043e\\u0432\\u0430. \\u00ab\\u0410\\u0431\\u0441\\u043e\\u043b\\u044e\\u0442\\u043d\\u0430\\u044f \\u043b\\u043e\\u0436\\u044c!\\u00bb \\u2014 \\u0437\\u0430\\u043a\\u043b\\u044e\\u0447\\u0438\\u043b \\u0447\\u0438\\u043d\\u043e\\u0432\\u043d\\u0438\\u043a. \\u0421\\u043f\\u0443\\u0441\\u0442\\u044f \\u0434\\u0432\\u0435 \\u043c\\u0438\\u043d\\u0443\\u0442\\u044b \\u0430\\u043a\\u043a\\u0430\\u0443\\u043d\\u0442 \\u041b\\u0443\\u0447\\u0435\\u0432\\u043d\\u0438\\u043a\\u043e\\u0432\\u0430 \\u0431\\u044b\\u043b \\u0443\\u0434\\u0430\\u043b\\u0435\\u043d, \\u043f\\u0438\\u0448\\u0435\\u0442 Kub Mash. \\u0420\\u0430\\u043d\\u0435\\u0435 \\u0441\\u043e\\u043e\\u0431\\u0449\\u0430\\u043b\\u043e\\u0441\\u044c, \\u0447\\u0442\\u043e \\u043c\\u044d\\u0440 \\u0433\\u043e\\u0440\\u043e\\u0434\\u0430 \\u041d\\u0430\\u0437\\u0430\\u0440\\u043e\\u0432\\u043e \\u0412\\u043b\\u0430\\u0434\\u0438\\u043c\\u0438\\u0440 \\u0421\\u0430\\u0430\\u0440 \\u043f\\u043e\\u0441\\u043e\\u0432\\u0435\\u0442\\u043e\\u0432\\u0430\\u043b \\u043c\\u0435\\u0441\\u0442\\u043d\\u044b\\u043c \\u0436\\u0438\\u0442\\u0435\\u043b\\u044f\\u043c \\u00ab\\u0445\\u0432\\u0430\\u043b\\u0438\\u0442\\u044c\\u0441\\u044f, \\u0438\\u0434\\u0443\\u0447\\u0438 \\u0441\\u0440\\u0430\\u0442\\u044c\\u00bb, \\u043f\\u0435\\u0440\\u0435\\u043f\\u0443\\u0442\\u0430\\u0432 \\u0441\\u043b\\u043e\\u0432\\u0430 \\u0432 \\u043f\\u043e\\u0441\\u043b\\u043e\\u0432\\u0438\\u0446\\u0435. \\u041f\\u043e \\u0443\\u0442\\u0432\\u0435\\u0440\\u0436\\u0434\\u0435\\u043d\\u0438\\u044e \\u0433\\u043e\\u0440\\u043e\\u0434\\u0441\\u043a\\u043e\\u0439 \\u0430\\u0434\\u043c\\u0438\\u043d\\u0438\\u0441\\u0442\\u0440\\u0430\\u0446\\u0438\\u0438, \\u0441\\u043b\\u043e\\u0432\\u0430 \\u0447\\u0438\\u043d\\u043e\\u0432\\u043d\\u0438\\u043a\\u0430 \\u0438\\u0441\\u0442\\u043e\\u043b\\u043a\\u043e\\u0432\\u0430\\u043b\\u0438 \\u043d\\u0435\\u0432\\u0435\\u0440\\u043d\\u043e, \\u043f\\u043e\\u0442\\u043e\\u043c\\u0443 \\u0447\\u0442\\u043e \\u0421\\u0430\\u0430\\u0440 \\u043f\\u0440\\u043e\\u0438\\u0437\\u043d\\u0435\\u0441 \\u0438\\u0445 \\u043d\\u0435\\u0432\\u043d\\u044f\\u0442\\u043d\\u043e.\",\n          \"\\u0412\\u044b\\u0441\\u0442\\u0443\\u043f\\u043b\\u0435\\u043d\\u0438\\u0435 \\u0433\\u0440\\u0443\\u043f\\u043f\\u044b \\u00ab\\u041c\\u0430\\u0447\\u0435\\u0442\\u0435\\u00bb \\u043d\\u0430 \\u0444\\u0435\\u0441\\u0442\\u0438\\u0432\\u0430\\u043b\\u0435 \\u00ab\\u0410\\u043a\\u0443\\u0441\\u0442\\u0438\\u043a\\u0430 \\u0441\\u0447\\u0430\\u0441\\u0442\\u044c\\u044f\\u00bb, \\u043a\\u043e\\u0442\\u043e\\u0440\\u044b\\u0439 \\u043f\\u0440\\u043e\\u0439\\u0434\\u0435\\u0442 \\u0432 \\u041f\\u0435\\u0442\\u0435\\u0440\\u0431\\u0443\\u0440\\u0433\\u0435 29\\u201330 \\u0438\\u044e\\u043b\\u044f, \\u043d\\u0435 \\u0441\\u043e\\u0441\\u0442\\u043e\\u0438\\u0442\\u0441\\u044f. \\u041e\\u0431 \\u044d\\u0442\\u043e\\u043c 28 \\u0438\\u044e\\u043b\\u044f \\u0441\\u043e\\u043e\\u0431\\u0449\\u0438\\u043b\\u0438 \\u043e\\u0440\\u0433\\u0430\\u043d\\u0438\\u0437\\u0430\\u0442\\u043e\\u0440\\u044b.\\u00ab\\u041c\\u044b \\u0441\\u0434\\u0435\\u043b\\u0430\\u043b\\u0438 \\u0432\\u0441\\u0435 \\u0432\\u043e\\u0437\\u043c\\u043e\\u0436\\u043d\\u043e\\u0435, \\u043d\\u043e \\u00ab\\u041c\\u0430\\u0447\\u0435\\u0442\\u0435\\u00bb \\u043d\\u0435 \\u043f\\u0440\\u0438\\u043c\\u0435\\u0442 \\u0443\\u0447\\u0430\\u0441\\u0442\\u0438\\u044f \\u0432 \\u0444\\u0435\\u0441\\u0442\\u0438\\u0432\\u0430\\u043b\\u0435 \\u043f\\u043e \\u043d\\u0435 \\u0437\\u0430\\u0432\\u0438\\u0441\\u044f\\u0449\\u0438\\u043c \\u043e\\u0442 \\u043d\\u0430\\u0441 \\u043f\\u0440\\u0438\\u0447\\u0438\\u043d\\u0430\\u043c\\u00bb, \\u2014 \\u0433\\u043e\\u0432\\u043e\\u0440\\u0438\\u0442\\u0441\\u044f \\u0432 \\u0433\\u0440\\u0443\\u043f\\u043f\\u0435 \\u0444\\u0435\\u0441\\u0442\\u0438\\u0432\\u0430\\u043b\\u044f \\u00ab\\u0412\\u041a\\u043e\\u043d\\u0442\\u0430\\u043a\\u0442\\u0435\\u00bb. \\u041f\\u0440\\u0438\\u0447\\u0438\\u043d\\u044b \\u043e\\u0442\\u043c\\u0435\\u043d\\u044b \\u0432\\u044b\\u0441\\u0442\\u0443\\u043f\\u043b\\u0435\\u043d\\u0438\\u044f \\u043d\\u0435 \\u0441\\u043e\\u043e\\u0431\\u0449\\u0430\\u044e\\u0442\\u0441\\u044f.\\u0412 \\u0442\\u0435\\u043b\\u0435\\u0433\\u0440\\u0430\\u043c-\\u043a\\u0430\\u043d\\u0430\\u043b\\u0435 \\u00ab\\u041c\\u0430\\u0447\\u0435\\u0442\\u0435\\u00bb \\u0432\\u044b\\u043b\\u043e\\u0436\\u0435\\u043d\\u043e \\u0432\\u0438\\u0434\\u0435\\u043e\\u043e\\u0431\\u0440\\u0430\\u0449\\u0435\\u043d\\u0438\\u0435 \\u043b\\u0438\\u0434\\u0435\\u0440\\u0430 \\u0433\\u0440\\u0443\\u043f\\u043f\\u044b \\u042f\\u0440\\u043e\\u0441\\u043b\\u0430\\u0432\\u0430 \\u041c\\u0430\\u043b\\u043e\\u0433\\u043e, \\u0432 \\u043a\\u043e\\u0442\\u043e\\u0440\\u043e\\u043c \\u043e\\u043d \\u0433\\u043e\\u0432\\u043e\\u0440\\u0438\\u0442, \\u0447\\u0442\\u043e \\u043a\\u043e\\u043b\\u043b\\u0435\\u043a\\u0442\\u0438\\u0432 \\u0442\\u043e\\u0436\\u0435 \\u0432\\u044b\\u044f\\u0441\\u043d\\u044f\\u0435\\u0442 \\u043f\\u0440\\u0438\\u0447\\u0438\\u043d\\u044b \\u043e\\u0442\\u043c\\u0435\\u043d\\u044b, \\u043e\\u0444\\u0438\\u0446\\u0438\\u0430\\u043b\\u044c\\u043d\\u043e\\u0439 \\u0438\\u043d\\u0444\\u043e\\u0440\\u043c\\u0430\\u0446\\u0438\\u0438 \\u0443 \\u043c\\u0443\\u0437\\u044b\\u043a\\u0430\\u043d\\u0442\\u043e\\u0432 \\u043d\\u0435\\u0442. \\u00ab\\u0424\\u043e\\u043d\\u0442\\u0430\\u043d\\u043a\\u0430\\u00bb \\u043e\\u0436\\u0438\\u0434\\u0430\\u0435\\u0442 \\u043a\\u043e\\u043c\\u043c\\u0435\\u043d\\u0442\\u0430\\u0440\\u0438\\u044f \\u043e \\u043f\\u0440\\u0438\\u0447\\u0438\\u043d\\u0430\\u0445 \\u043e\\u0442\\u043c\\u0435\\u043d\\u044b \\u0432\\u044b\\u0441\\u0442\\u0443\\u043f\\u043b\\u0435\\u043d\\u0438\\u044f \\u00ab\\u041c\\u0430\\u0447\\u0435\\u0442\\u0435\\u00bb \\u043e\\u0442 \\u043e\\u0440 , \\u0447\\u0442\\u043e \\u042f\\u0440\\u043e\\u0441\\u043b\\u0430\\u0432 \\u041c\\u0430\\u043b\\u044b\\u0439 \\u0432\\u044b\\u0441\\u043a\\u0430\\u0437\\u044b\\u0432\\u0430\\u043b\\u0441\\u044f \\u043f\\u0440\\u043e\\u0442\\u0438\\u0432 \\u0420\\u043e\\u0441\\u0441\\u0438\\u0438 \\u0438 \\u0421\\u0412\\u041e, \\u0430 \\u043f\\u043e\\u0441\\u043b\\u0435 2015 \\u0433\\u043e\\u0434\\u0430 \\u043f\\u0440\\u043e\\u0436\\u0438\\u0432\\u0430\\u043b \\u043d\\u0430 \\u0423\\u043a\\u0440\\u0430\\u0438\\u043d\\u0435. \\u041f\\u0430\\u0440\\u043b\\u0430\\u043c\\u0435\\u043d\\u0442\\u0430\\u0440\\u0438\\u044f \\u043f\\u0440\\u043e\\u0441\\u044f\\u0442 \\u043e\\u0431\\u0440\\u0430\\u0442\\u0438\\u0442\\u044c \\u0432\\u043d\\u0438\\u043c\\u0430\\u043d\\u0438\\u0435 \\u043d\\u0430 \\u0444\\u0435\\u0441\\u0442\\u0438\\u0432\\u0430\\u043b\\u044c \\u0438 \\u043f\\u043e \\u0432\\u043e\\u0437\\u043c\\u043e\\u0436\\u043d\\u043e\\u0441\\u0442\\u0438 \\u043f\\u043e\\u0432\\u043b\\u0438\\u044f\\u0442\\u044c \\u043d\\u0430 \\u043e\\u0440\\u0433\\u0430\\u043d\\u0438\\u0437\\u0430\\u0442\\u043e\\u0440\\u043e\\u0432.\\n\\n\\n\\u042f\\u0440\\u043e\\u0441\\u043b\\u0430\\u0432 \\u041c\\u0430\\u043b\\u044b\\u0439 \\u0440\\u043e\\u0434\\u0438\\u043b\\u0441\\u044f \\u0432 \\u041a\\u0440\\u0438\\u0432\\u043e\\u043c \\u0420\\u043e\\u0433\\u0435 \\u0432 1973 \\u0433\\u043e\\u0434\\u0443. \\u042f\\u0432\\u043b\\u044f\\u0435\\u0442\\u0441\\u044f \\u043b\\u0438\\u0434\\u0435\\u0440\\u043e\\u043c \\u0433\\u0440\\u0443\\u043f\\u043f \\u00ab\\u0422\\u043e\\u043a\\u0438\\u043e\\u00bb \\u0438 \\u00ab\\u041c\\u0430\\u0447\\u0435\\u0442\\u0435\\u00bb. \\u0410\\u0432\\u0442\\u043e\\u0440 \\u0441\\u0430\\u0443\\u043d\\u0434\\u0442\\u0440\\u0435\\u043a\\u043e\\u0432 \\u043a \\u0444\\u0438\\u043b\\u044c\\u043c\\u0430\\u043c \\u00ab9 \\u0440\\u043e\\u0442\\u0430\\u00bb, \\u00ab\\u041e\\u0431\\u0438\\u0442\\u0430\\u0435\\u043c\\u044b\\u0439 \\u043e\\u0441\\u0442\\u0440\\u043e\\u0432\\u00bb, \\u00ab\\u0416\\u0430\\u0440\\u0430\\u00bb \\u0438 \\u00ab\\u0421\\u043e\\u043c\\u043d\\u0430\\u043c\\u0431\\u0443\\u043b\\u0430\\u00bb. \\u0412 2014 \\u0433\\u043e\\u0434\\u0443 \\u043d\\u0430\\u043f\\u0438\\u0441\\u0430\\u043b \\u0433\\u0438\\u043c\\u043d \\u0431\\u043e\\u043b\\u0435\\u043b\\u044c\\u0449\\u0438\\u043a\\u043e\\u0432 \\u0437\\u0438\\u043c\\u043d\\u0438\\u0445 \\u041e\\u043b\\u0438\\u043c\\u043f\\u0438\\u0439\\u0441\\u043a\\u0438\\u0445 \\u0438\\u0433\\u0440 2014 \\u0433\\u043e\\u0434\\u0430 \\u0432 \\u0421\\u043e\\u0447\\u0438. \\u0422\\u0430\\u043a\\u0436\\u0435 \\u0440\\u0430\\u043d\\u0435\\u0435 \\u0441\\u043e\\u043e\\u0431\\u0449\\u0430\\u043b\\u043e\\u0441\\u044c, \\u0447\\u0442\\u043e \\u043c\\u0435\\u0441\\u044f\\u0446 \\u043d\\u0430\\u0437\\u0430\\u0434 \\u0440\\u0430\\u0431\\u043e\\u0442\\u0430 \\u0440\\u0435\\u0441\\u0442\\u043e\\u0440\\u0430\\u043d\\u0430 \\u00ab\\u0421\\u0447\\u0430\\u0441\\u0442\\u044c\\u0435\\u00bb, \\u043a\\u043e\\u0442\\u043e\\u0440\\u044b\\u0439 \\u0438 \\u043f\\u0440\\u043e\\u0432\\u043e\\u0434\\u0438\\u0442 \\u0444\\u0435\\u0441\\u0442\\u0438\\u0432\\u0430\\u043b\\u044c, \\u043d\\u0430 \\u041c\\u0430\\u043b\\u043e\\u0439 \\u041c\\u043e\\u0440\\u0441\\u043a\\u043e\\u0439 \\u0431\\u044b\\u043b\\u0430 \\u043f\\u0440\\u0438\\u043e\\u0441\\u0442\\u0430\\u043d\\u043e\\u0432\\u043b\\u0435\\u043d\\u0430 \\u043f\\u043e \\u0440\\u0435\\u0448\\u0435\\u043d\\u0438\\u044e \\u0420\\u043e\\u0441\\u043f\\u043e\\u0442\\u0440\\u0435\\u0431\\u043d\\u0430\\u0434\\u0437\\u043e\\u0440\\u0430. \"\n        ],\n        \"semantic_type\": \"\",\n        \"description\": \"\"\n      }\n    },\n    {\n      \"column\": \"content_preprocessed\",\n      \"properties\": {\n        \"dtype\": \"object\",\n        \"semantic_type\": \"\",\n        \"description\": \"\"\n      }\n    },\n    {\n      \"column\": \"vector\",\n      \"properties\": {\n        \"dtype\": \"object\",\n        \"semantic_type\": \"\",\n        \"description\": \"\"\n      }\n    }\n  ]\n}"
            }
          },
          "metadata": {},
          "execution_count": 98
        }
      ]
    },
    {
      "cell_type": "code",
      "source": [
        "# test_news['content_preprocessed'] = test_news['content'].progress_apply(preprocess_text)\n",
        "# test_news['content_preprocessed'] = test_news['content_preprocessed'].progress_apply(ast.literal_eval)\n",
        "# test_news['vector'] = test_news['content_preprocessed'].progress_apply(vectorize)\n",
        "\n",
        "# test_news.to_csv(BASE_PATH + 'news-topics-2024/test_news.csv', index=False)\n",
        "# test_news.to_pickle(BASE_PATH + 'news-topics-2024/test_news.pkl')"
      ],
      "metadata": {
        "id": "FlUEhhuluurm"
      },
      "execution_count": 100,
      "outputs": []
    },
    {
      "cell_type": "code",
      "execution_count": null,
      "metadata": {
        "id": "584HKIgnTJ_7"
      },
      "outputs": [],
      "source": [
        "base_submission_news"
      ]
    },
    {
      "cell_type": "code",
      "execution_count": null,
      "metadata": {
        "id": "MkER1r-nTJ_7"
      },
      "outputs": [],
      "source": [
        "base_submission_news.value_counts(normalize=True)"
      ]
    },
    {
      "cell_type": "markdown",
      "source": [
        "## preds"
      ],
      "metadata": {
        "id": "ckg5-gtPNFto"
      }
    },
    {
      "cell_type": "code",
      "source": [
        "# Define current model\n",
        "clf = model\n",
        "clf"
      ],
      "metadata": {
        "colab": {
          "base_uri": "https://localhost:8080/",
          "height": 115
        },
        "id": "ZLvZMzRgM_pG",
        "outputId": "9089de1c-9d03-49c6-985e-3cd82fdf8a7b"
      },
      "execution_count": 140,
      "outputs": [
        {
          "output_type": "execute_result",
          "data": {
            "text/plain": [
              "RandomizedSearchCV(cv=10, estimator=KNeighborsClassifier(),\n",
              "                   param_distributions={'n_neighbors': [1, 2, 3, 4, 5, 6, 7, 8,\n",
              "                                                        9, 10, 11, 12, 13, 14,\n",
              "                                                        15, 16, 17, 18, 19, 20,\n",
              "                                                        21, 22, 23, 24, 25, 26,\n",
              "                                                        27, 28, 29, 30, ...],\n",
              "                                        'weights': ['uniform', 'distance']},\n",
              "                   scoring='accuracy', verbose=1)"
            ],
            "text/html": [
              "<style>#sk-container-id-12 {color: black;background-color: white;}#sk-container-id-12 pre{padding: 0;}#sk-container-id-12 div.sk-toggleable {background-color: white;}#sk-container-id-12 label.sk-toggleable__label {cursor: pointer;display: block;width: 100%;margin-bottom: 0;padding: 0.3em;box-sizing: border-box;text-align: center;}#sk-container-id-12 label.sk-toggleable__label-arrow:before {content: \"▸\";float: left;margin-right: 0.25em;color: #696969;}#sk-container-id-12 label.sk-toggleable__label-arrow:hover:before {color: black;}#sk-container-id-12 div.sk-estimator:hover label.sk-toggleable__label-arrow:before {color: black;}#sk-container-id-12 div.sk-toggleable__content {max-height: 0;max-width: 0;overflow: hidden;text-align: left;background-color: #f0f8ff;}#sk-container-id-12 div.sk-toggleable__content pre {margin: 0.2em;color: black;border-radius: 0.25em;background-color: #f0f8ff;}#sk-container-id-12 input.sk-toggleable__control:checked~div.sk-toggleable__content {max-height: 200px;max-width: 100%;overflow: auto;}#sk-container-id-12 input.sk-toggleable__control:checked~label.sk-toggleable__label-arrow:before {content: \"▾\";}#sk-container-id-12 div.sk-estimator input.sk-toggleable__control:checked~label.sk-toggleable__label {background-color: #d4ebff;}#sk-container-id-12 div.sk-label input.sk-toggleable__control:checked~label.sk-toggleable__label {background-color: #d4ebff;}#sk-container-id-12 input.sk-hidden--visually {border: 0;clip: rect(1px 1px 1px 1px);clip: rect(1px, 1px, 1px, 1px);height: 1px;margin: -1px;overflow: hidden;padding: 0;position: absolute;width: 1px;}#sk-container-id-12 div.sk-estimator {font-family: monospace;background-color: #f0f8ff;border: 1px dotted black;border-radius: 0.25em;box-sizing: border-box;margin-bottom: 0.5em;}#sk-container-id-12 div.sk-estimator:hover {background-color: #d4ebff;}#sk-container-id-12 div.sk-parallel-item::after {content: \"\";width: 100%;border-bottom: 1px solid gray;flex-grow: 1;}#sk-container-id-12 div.sk-label:hover label.sk-toggleable__label {background-color: #d4ebff;}#sk-container-id-12 div.sk-serial::before {content: \"\";position: absolute;border-left: 1px solid gray;box-sizing: border-box;top: 0;bottom: 0;left: 50%;z-index: 0;}#sk-container-id-12 div.sk-serial {display: flex;flex-direction: column;align-items: center;background-color: white;padding-right: 0.2em;padding-left: 0.2em;position: relative;}#sk-container-id-12 div.sk-item {position: relative;z-index: 1;}#sk-container-id-12 div.sk-parallel {display: flex;align-items: stretch;justify-content: center;background-color: white;position: relative;}#sk-container-id-12 div.sk-item::before, #sk-container-id-12 div.sk-parallel-item::before {content: \"\";position: absolute;border-left: 1px solid gray;box-sizing: border-box;top: 0;bottom: 0;left: 50%;z-index: -1;}#sk-container-id-12 div.sk-parallel-item {display: flex;flex-direction: column;z-index: 1;position: relative;background-color: white;}#sk-container-id-12 div.sk-parallel-item:first-child::after {align-self: flex-end;width: 50%;}#sk-container-id-12 div.sk-parallel-item:last-child::after {align-self: flex-start;width: 50%;}#sk-container-id-12 div.sk-parallel-item:only-child::after {width: 0;}#sk-container-id-12 div.sk-dashed-wrapped {border: 1px dashed gray;margin: 0 0.4em 0.5em 0.4em;box-sizing: border-box;padding-bottom: 0.4em;background-color: white;}#sk-container-id-12 div.sk-label label {font-family: monospace;font-weight: bold;display: inline-block;line-height: 1.2em;}#sk-container-id-12 div.sk-label-container {text-align: center;}#sk-container-id-12 div.sk-container {/* jupyter's `normalize.less` sets `[hidden] { display: none; }` but bootstrap.min.css set `[hidden] { display: none !important; }` so we also need the `!important` here to be able to override the default hidden behavior on the sphinx rendered scikit-learn.org. See: https://github.com/scikit-learn/scikit-learn/issues/21755 */display: inline-block !important;position: relative;}#sk-container-id-12 div.sk-text-repr-fallback {display: none;}</style><div id=\"sk-container-id-12\" class=\"sk-top-container\"><div class=\"sk-text-repr-fallback\"><pre>RandomizedSearchCV(cv=10, estimator=KNeighborsClassifier(),\n",
              "                   param_distributions={&#x27;n_neighbors&#x27;: [1, 2, 3, 4, 5, 6, 7, 8,\n",
              "                                                        9, 10, 11, 12, 13, 14,\n",
              "                                                        15, 16, 17, 18, 19, 20,\n",
              "                                                        21, 22, 23, 24, 25, 26,\n",
              "                                                        27, 28, 29, 30, ...],\n",
              "                                        &#x27;weights&#x27;: [&#x27;uniform&#x27;, &#x27;distance&#x27;]},\n",
              "                   scoring=&#x27;accuracy&#x27;, verbose=1)</pre><b>In a Jupyter environment, please rerun this cell to show the HTML representation or trust the notebook. <br />On GitHub, the HTML representation is unable to render, please try loading this page with nbviewer.org.</b></div><div class=\"sk-container\" hidden><div class=\"sk-item sk-dashed-wrapped\"><div class=\"sk-label-container\"><div class=\"sk-label sk-toggleable\"><input class=\"sk-toggleable__control sk-hidden--visually\" id=\"sk-estimator-id-18\" type=\"checkbox\" ><label for=\"sk-estimator-id-18\" class=\"sk-toggleable__label sk-toggleable__label-arrow\">RandomizedSearchCV</label><div class=\"sk-toggleable__content\"><pre>RandomizedSearchCV(cv=10, estimator=KNeighborsClassifier(),\n",
              "                   param_distributions={&#x27;n_neighbors&#x27;: [1, 2, 3, 4, 5, 6, 7, 8,\n",
              "                                                        9, 10, 11, 12, 13, 14,\n",
              "                                                        15, 16, 17, 18, 19, 20,\n",
              "                                                        21, 22, 23, 24, 25, 26,\n",
              "                                                        27, 28, 29, 30, ...],\n",
              "                                        &#x27;weights&#x27;: [&#x27;uniform&#x27;, &#x27;distance&#x27;]},\n",
              "                   scoring=&#x27;accuracy&#x27;, verbose=1)</pre></div></div></div><div class=\"sk-parallel\"><div class=\"sk-parallel-item\"><div class=\"sk-item\"><div class=\"sk-label-container\"><div class=\"sk-label sk-toggleable\"><input class=\"sk-toggleable__control sk-hidden--visually\" id=\"sk-estimator-id-19\" type=\"checkbox\" ><label for=\"sk-estimator-id-19\" class=\"sk-toggleable__label sk-toggleable__label-arrow\">estimator: KNeighborsClassifier</label><div class=\"sk-toggleable__content\"><pre>KNeighborsClassifier()</pre></div></div></div><div class=\"sk-serial\"><div class=\"sk-item\"><div class=\"sk-estimator sk-toggleable\"><input class=\"sk-toggleable__control sk-hidden--visually\" id=\"sk-estimator-id-20\" type=\"checkbox\" ><label for=\"sk-estimator-id-20\" class=\"sk-toggleable__label sk-toggleable__label-arrow\">KNeighborsClassifier</label><div class=\"sk-toggleable__content\"><pre>KNeighborsClassifier()</pre></div></div></div></div></div></div></div></div></div></div>"
            ]
          },
          "metadata": {},
          "execution_count": 140
        }
      ]
    },
    {
      "cell_type": "code",
      "execution_count": null,
      "metadata": {
        "id": "eHrK4kX8Zpq2"
      },
      "outputs": [],
      "source": [
        "# bow_test_news = count_vect.transform(test_news.content_preprocessed)"
      ]
    },
    {
      "cell_type": "code",
      "execution_count": 141,
      "metadata": {
        "id": "u3sz5iC-w2CW"
      },
      "outputs": [],
      "source": [
        "X_kaggle = np.concatenate(test_news.vector).reshape(len(test_news.vector), -1) # if arr of arrays\n",
        "\n",
        "kaggle_pred = clf.predict(X_kaggle)\n",
        "# kaggle_predproba = clf.predict_proba(bow_test_news)\n",
        "\n",
        "# kaggle_pred = clf.predict(test_news.content) # for catboost"
      ]
    },
    {
      "cell_type": "code",
      "source": [
        "kaggle_pred"
      ],
      "metadata": {
        "colab": {
          "base_uri": "https://localhost:8080/"
        },
        "id": "1OFJiwYnbAOF",
        "outputId": "8ad48fae-d2b4-424d-e1bd-60c89b3af7d6"
      },
      "execution_count": 142,
      "outputs": [
        {
          "output_type": "execute_result",
          "data": {
            "text/plain": [
              "array([0, 1, 4, ..., 0, 3, 3])"
            ]
          },
          "metadata": {},
          "execution_count": 142
        }
      ]
    },
    {
      "cell_type": "code",
      "execution_count": null,
      "metadata": {
        "id": "SFiKzgejw2qN"
      },
      "outputs": [],
      "source": [
        "kaggle_predproba"
      ]
    },
    {
      "cell_type": "code",
      "execution_count": null,
      "metadata": {
        "id": "RwROvf7vxItI"
      },
      "outputs": [],
      "source": [
        "kaggle_predproba[0]"
      ]
    },
    {
      "cell_type": "code",
      "execution_count": 144,
      "metadata": {
        "colab": {
          "base_uri": "https://localhost:8080/",
          "height": 455
        },
        "id": "6qJYWoNITJ_7",
        "outputId": "0795b62b-27ae-49b7-f2e2-6ef9f38ec8fb"
      },
      "outputs": [
        {
          "output_type": "execute_result",
          "data": {
            "text/plain": [
              "       topic\n",
              "index       \n",
              "0          0\n",
              "1          1\n",
              "2          4\n",
              "3          7\n",
              "4          4\n",
              "...      ...\n",
              "26270      0\n",
              "26271      0\n",
              "26272      0\n",
              "26273      3\n",
              "26274      3\n",
              "\n",
              "[26275 rows x 1 columns]"
            ],
            "text/html": [
              "\n",
              "  <div id=\"df-39716e5a-c4be-44c4-a704-ccd41d49bc61\" class=\"colab-df-container\">\n",
              "    <div>\n",
              "<style scoped>\n",
              "    .dataframe tbody tr th:only-of-type {\n",
              "        vertical-align: middle;\n",
              "    }\n",
              "\n",
              "    .dataframe tbody tr th {\n",
              "        vertical-align: top;\n",
              "    }\n",
              "\n",
              "    .dataframe thead th {\n",
              "        text-align: right;\n",
              "    }\n",
              "</style>\n",
              "<table border=\"1\" class=\"dataframe\">\n",
              "  <thead>\n",
              "    <tr style=\"text-align: right;\">\n",
              "      <th></th>\n",
              "      <th>topic</th>\n",
              "    </tr>\n",
              "    <tr>\n",
              "      <th>index</th>\n",
              "      <th></th>\n",
              "    </tr>\n",
              "  </thead>\n",
              "  <tbody>\n",
              "    <tr>\n",
              "      <th>0</th>\n",
              "      <td>0</td>\n",
              "    </tr>\n",
              "    <tr>\n",
              "      <th>1</th>\n",
              "      <td>1</td>\n",
              "    </tr>\n",
              "    <tr>\n",
              "      <th>2</th>\n",
              "      <td>4</td>\n",
              "    </tr>\n",
              "    <tr>\n",
              "      <th>3</th>\n",
              "      <td>7</td>\n",
              "    </tr>\n",
              "    <tr>\n",
              "      <th>4</th>\n",
              "      <td>4</td>\n",
              "    </tr>\n",
              "    <tr>\n",
              "      <th>...</th>\n",
              "      <td>...</td>\n",
              "    </tr>\n",
              "    <tr>\n",
              "      <th>26270</th>\n",
              "      <td>0</td>\n",
              "    </tr>\n",
              "    <tr>\n",
              "      <th>26271</th>\n",
              "      <td>0</td>\n",
              "    </tr>\n",
              "    <tr>\n",
              "      <th>26272</th>\n",
              "      <td>0</td>\n",
              "    </tr>\n",
              "    <tr>\n",
              "      <th>26273</th>\n",
              "      <td>3</td>\n",
              "    </tr>\n",
              "    <tr>\n",
              "      <th>26274</th>\n",
              "      <td>3</td>\n",
              "    </tr>\n",
              "  </tbody>\n",
              "</table>\n",
              "<p>26275 rows × 1 columns</p>\n",
              "</div>\n",
              "    <div class=\"colab-df-buttons\">\n",
              "\n",
              "  <div class=\"colab-df-container\">\n",
              "    <button class=\"colab-df-convert\" onclick=\"convertToInteractive('df-39716e5a-c4be-44c4-a704-ccd41d49bc61')\"\n",
              "            title=\"Convert this dataframe to an interactive table.\"\n",
              "            style=\"display:none;\">\n",
              "\n",
              "  <svg xmlns=\"http://www.w3.org/2000/svg\" height=\"24px\" viewBox=\"0 -960 960 960\">\n",
              "    <path d=\"M120-120v-720h720v720H120Zm60-500h600v-160H180v160Zm220 220h160v-160H400v160Zm0 220h160v-160H400v160ZM180-400h160v-160H180v160Zm440 0h160v-160H620v160ZM180-180h160v-160H180v160Zm440 0h160v-160H620v160Z\"/>\n",
              "  </svg>\n",
              "    </button>\n",
              "\n",
              "  <style>\n",
              "    .colab-df-container {\n",
              "      display:flex;\n",
              "      gap: 12px;\n",
              "    }\n",
              "\n",
              "    .colab-df-convert {\n",
              "      background-color: #E8F0FE;\n",
              "      border: none;\n",
              "      border-radius: 50%;\n",
              "      cursor: pointer;\n",
              "      display: none;\n",
              "      fill: #1967D2;\n",
              "      height: 32px;\n",
              "      padding: 0 0 0 0;\n",
              "      width: 32px;\n",
              "    }\n",
              "\n",
              "    .colab-df-convert:hover {\n",
              "      background-color: #E2EBFA;\n",
              "      box-shadow: 0px 1px 2px rgba(60, 64, 67, 0.3), 0px 1px 3px 1px rgba(60, 64, 67, 0.15);\n",
              "      fill: #174EA6;\n",
              "    }\n",
              "\n",
              "    .colab-df-buttons div {\n",
              "      margin-bottom: 4px;\n",
              "    }\n",
              "\n",
              "    [theme=dark] .colab-df-convert {\n",
              "      background-color: #3B4455;\n",
              "      fill: #D2E3FC;\n",
              "    }\n",
              "\n",
              "    [theme=dark] .colab-df-convert:hover {\n",
              "      background-color: #434B5C;\n",
              "      box-shadow: 0px 1px 3px 1px rgba(0, 0, 0, 0.15);\n",
              "      filter: drop-shadow(0px 1px 2px rgba(0, 0, 0, 0.3));\n",
              "      fill: #FFFFFF;\n",
              "    }\n",
              "  </style>\n",
              "\n",
              "    <script>\n",
              "      const buttonEl =\n",
              "        document.querySelector('#df-39716e5a-c4be-44c4-a704-ccd41d49bc61 button.colab-df-convert');\n",
              "      buttonEl.style.display =\n",
              "        google.colab.kernel.accessAllowed ? 'block' : 'none';\n",
              "\n",
              "      async function convertToInteractive(key) {\n",
              "        const element = document.querySelector('#df-39716e5a-c4be-44c4-a704-ccd41d49bc61');\n",
              "        const dataTable =\n",
              "          await google.colab.kernel.invokeFunction('convertToInteractive',\n",
              "                                                    [key], {});\n",
              "        if (!dataTable) return;\n",
              "\n",
              "        const docLinkHtml = 'Like what you see? Visit the ' +\n",
              "          '<a target=\"_blank\" href=https://colab.research.google.com/notebooks/data_table.ipynb>data table notebook</a>'\n",
              "          + ' to learn more about interactive tables.';\n",
              "        element.innerHTML = '';\n",
              "        dataTable['output_type'] = 'display_data';\n",
              "        await google.colab.output.renderOutput(dataTable, element);\n",
              "        const docLink = document.createElement('div');\n",
              "        docLink.innerHTML = docLinkHtml;\n",
              "        element.appendChild(docLink);\n",
              "      }\n",
              "    </script>\n",
              "  </div>\n",
              "\n",
              "\n",
              "<div id=\"df-ff01e3bc-f89f-42f4-ad9b-b93283dbb1f2\">\n",
              "  <button class=\"colab-df-quickchart\" onclick=\"quickchart('df-ff01e3bc-f89f-42f4-ad9b-b93283dbb1f2')\"\n",
              "            title=\"Suggest charts\"\n",
              "            style=\"display:none;\">\n",
              "\n",
              "<svg xmlns=\"http://www.w3.org/2000/svg\" height=\"24px\"viewBox=\"0 0 24 24\"\n",
              "     width=\"24px\">\n",
              "    <g>\n",
              "        <path d=\"M19 3H5c-1.1 0-2 .9-2 2v14c0 1.1.9 2 2 2h14c1.1 0 2-.9 2-2V5c0-1.1-.9-2-2-2zM9 17H7v-7h2v7zm4 0h-2V7h2v10zm4 0h-2v-4h2v4z\"/>\n",
              "    </g>\n",
              "</svg>\n",
              "  </button>\n",
              "\n",
              "<style>\n",
              "  .colab-df-quickchart {\n",
              "      --bg-color: #E8F0FE;\n",
              "      --fill-color: #1967D2;\n",
              "      --hover-bg-color: #E2EBFA;\n",
              "      --hover-fill-color: #174EA6;\n",
              "      --disabled-fill-color: #AAA;\n",
              "      --disabled-bg-color: #DDD;\n",
              "  }\n",
              "\n",
              "  [theme=dark] .colab-df-quickchart {\n",
              "      --bg-color: #3B4455;\n",
              "      --fill-color: #D2E3FC;\n",
              "      --hover-bg-color: #434B5C;\n",
              "      --hover-fill-color: #FFFFFF;\n",
              "      --disabled-bg-color: #3B4455;\n",
              "      --disabled-fill-color: #666;\n",
              "  }\n",
              "\n",
              "  .colab-df-quickchart {\n",
              "    background-color: var(--bg-color);\n",
              "    border: none;\n",
              "    border-radius: 50%;\n",
              "    cursor: pointer;\n",
              "    display: none;\n",
              "    fill: var(--fill-color);\n",
              "    height: 32px;\n",
              "    padding: 0;\n",
              "    width: 32px;\n",
              "  }\n",
              "\n",
              "  .colab-df-quickchart:hover {\n",
              "    background-color: var(--hover-bg-color);\n",
              "    box-shadow: 0 1px 2px rgba(60, 64, 67, 0.3), 0 1px 3px 1px rgba(60, 64, 67, 0.15);\n",
              "    fill: var(--button-hover-fill-color);\n",
              "  }\n",
              "\n",
              "  .colab-df-quickchart-complete:disabled,\n",
              "  .colab-df-quickchart-complete:disabled:hover {\n",
              "    background-color: var(--disabled-bg-color);\n",
              "    fill: var(--disabled-fill-color);\n",
              "    box-shadow: none;\n",
              "  }\n",
              "\n",
              "  .colab-df-spinner {\n",
              "    border: 2px solid var(--fill-color);\n",
              "    border-color: transparent;\n",
              "    border-bottom-color: var(--fill-color);\n",
              "    animation:\n",
              "      spin 1s steps(1) infinite;\n",
              "  }\n",
              "\n",
              "  @keyframes spin {\n",
              "    0% {\n",
              "      border-color: transparent;\n",
              "      border-bottom-color: var(--fill-color);\n",
              "      border-left-color: var(--fill-color);\n",
              "    }\n",
              "    20% {\n",
              "      border-color: transparent;\n",
              "      border-left-color: var(--fill-color);\n",
              "      border-top-color: var(--fill-color);\n",
              "    }\n",
              "    30% {\n",
              "      border-color: transparent;\n",
              "      border-left-color: var(--fill-color);\n",
              "      border-top-color: var(--fill-color);\n",
              "      border-right-color: var(--fill-color);\n",
              "    }\n",
              "    40% {\n",
              "      border-color: transparent;\n",
              "      border-right-color: var(--fill-color);\n",
              "      border-top-color: var(--fill-color);\n",
              "    }\n",
              "    60% {\n",
              "      border-color: transparent;\n",
              "      border-right-color: var(--fill-color);\n",
              "    }\n",
              "    80% {\n",
              "      border-color: transparent;\n",
              "      border-right-color: var(--fill-color);\n",
              "      border-bottom-color: var(--fill-color);\n",
              "    }\n",
              "    90% {\n",
              "      border-color: transparent;\n",
              "      border-bottom-color: var(--fill-color);\n",
              "    }\n",
              "  }\n",
              "</style>\n",
              "\n",
              "  <script>\n",
              "    async function quickchart(key) {\n",
              "      const quickchartButtonEl =\n",
              "        document.querySelector('#' + key + ' button');\n",
              "      quickchartButtonEl.disabled = true;  // To prevent multiple clicks.\n",
              "      quickchartButtonEl.classList.add('colab-df-spinner');\n",
              "      try {\n",
              "        const charts = await google.colab.kernel.invokeFunction(\n",
              "            'suggestCharts', [key], {});\n",
              "      } catch (error) {\n",
              "        console.error('Error during call to suggestCharts:', error);\n",
              "      }\n",
              "      quickchartButtonEl.classList.remove('colab-df-spinner');\n",
              "      quickchartButtonEl.classList.add('colab-df-quickchart-complete');\n",
              "    }\n",
              "    (() => {\n",
              "      let quickchartButtonEl =\n",
              "        document.querySelector('#df-ff01e3bc-f89f-42f4-ad9b-b93283dbb1f2 button');\n",
              "      quickchartButtonEl.style.display =\n",
              "        google.colab.kernel.accessAllowed ? 'block' : 'none';\n",
              "    })();\n",
              "  </script>\n",
              "</div>\n",
              "    </div>\n",
              "  </div>\n"
            ],
            "application/vnd.google.colaboratory.intrinsic+json": {
              "type": "dataframe",
              "variable_name": "base_submission_news",
              "summary": "{\n  \"name\": \"base_submission_news\",\n  \"rows\": 26275,\n  \"fields\": [\n    {\n      \"column\": \"index\",\n      \"properties\": {\n        \"dtype\": \"number\",\n        \"std\": 7585,\n        \"min\": 0,\n        \"max\": 26274,\n        \"num_unique_values\": 26275,\n        \"samples\": [\n          12432,\n          15334,\n          6070\n        ],\n        \"semantic_type\": \"\",\n        \"description\": \"\"\n      }\n    },\n    {\n      \"column\": \"topic\",\n      \"properties\": {\n        \"dtype\": \"number\",\n        \"std\": 2,\n        \"min\": 0,\n        \"max\": 8,\n        \"num_unique_values\": 8,\n        \"samples\": [\n          1,\n          8,\n          0\n        ],\n        \"semantic_type\": \"\",\n        \"description\": \"\"\n      }\n    }\n  ]\n}"
            }
          },
          "metadata": {},
          "execution_count": 144
        }
      ],
      "source": [
        "base_submission_news['topic'] = kaggle_pred\n",
        "base_submission_news"
      ]
    },
    {
      "cell_type": "code",
      "execution_count": null,
      "metadata": {
        "id": "Wl2jn_-1TJ_8"
      },
      "outputs": [],
      "source": [
        "base_submission_news['topic'].value_counts(normalize=True)"
      ]
    },
    {
      "cell_type": "code",
      "execution_count": 145,
      "metadata": {
        "id": "iWMxmKQTTJ_8"
      },
      "outputs": [],
      "source": [
        "base_submission_news.to_csv('drive/MyDrive/Colab Notebooks/studcamp/phil_result.csv', sep=',')"
      ]
    },
    {
      "cell_type": "markdown",
      "metadata": {
        "id": "RAj-cixRapN-"
      },
      "source": [
        "# Kaggle score\n",
        "\n",
        "**LogisticRegression**: 0.61151\n",
        "\n",
        "**MultinomialNB**: 0.72819\n",
        "\n",
        "**LinearSVC**: 0.63663\n",
        "\n",
        "**CatBoost**: 0.70971\n",
        "\n",
        "**KNeighborsClassifier**: 0.67377"
      ]
    }
  ],
  "metadata": {
    "colab": {
      "collapsed_sections": [
        "wCRrxzl2a7q5",
        "BVnbTLc0TJ_1",
        "yg27HPV3ksga",
        "W3rgW3a0dL6N",
        "AFXBbO7Wav42",
        "RuLVRKxbeFQk",
        "zAKdv356JDVd",
        "DSSKLhzUiFQf",
        "vdecoEjpeaBp",
        "zxmoTxXngrnD",
        "u1cjVgzxhS64"
      ],
      "provenance": []
    },
    "kernelspec": {
      "display_name": "Python 3",
      "name": "python3"
    },
    "language_info": {
      "codemirror_mode": {
        "name": "ipython",
        "version": 3
      },
      "file_extension": ".py",
      "mimetype": "text/x-python",
      "name": "python",
      "nbconvert_exporter": "python",
      "pygments_lexer": "ipython3",
      "version": "3.12.2"
    }
  },
  "nbformat": 4,
  "nbformat_minor": 0
}