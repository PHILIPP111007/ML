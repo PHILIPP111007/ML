{
 "cells": [
  {
   "cell_type": "code",
   "execution_count": 1,
   "metadata": {},
   "outputs": [],
   "source": [
    "from typing import Literal, TypeAlias\n",
    "from pprint import pprint\n",
    "import time\n",
    "\n",
    "import numpy as np\n",
    "import sklearn\n",
    "from sklearn.datasets import load_iris\n",
    "from sklearn.model_selection import train_test_split\n",
    "\n",
    "import seaborn as sns\n",
    "from tqdm import tqdm"
   ]
  },
  {
   "cell_type": "code",
   "execution_count": 2,
   "metadata": {},
   "outputs": [],
   "source": [
    "Sample: TypeAlias = list[int | float]\n",
    "Data: TypeAlias = list[Sample]\n",
    "\n",
    "Target: TypeAlias = int | float\n",
    "Targets: TypeAlias = list[Target]\n",
    "\n",
    "Weights: TypeAlias = list[list[float]]"
   ]
  },
  {
   "cell_type": "code",
   "execution_count": 5,
   "metadata": {},
   "outputs": [],
   "source": [
    "# Activation functions\n",
    "\n",
    "from abc import ABC, abstractmethod\n",
    "\n",
    "\n",
    "class ActivationBase(ABC):\n",
    "    @abstractmethod\n",
    "    def calc(self, x: Sample) -> list[float]:\n",
    "        \"\"\"Apply the activation function to an layer output\"\"\"\n",
    "        pass\n",
    "\n",
    "    @abstractmethod\n",
    "    def derivative(self, x: Sample):\n",
    "        pass\n",
    "\n",
    "#######################################\n",
    "\n",
    "\n",
    "class ReLU(ActivationBase):\n",
    "    def calc(self, x: Sample) -> list[float]:\n",
    "        return np.maximum(0, x)\n",
    "\n",
    "    def derivative(self, x: Sample):\n",
    "        return self.calc(x=x)\n",
    "\n",
    "\n",
    "class Sigmoid(ActivationBase):\n",
    "    def calc(self, x: Sample) -> list[float]:\n",
    "        return 1 / (1 + np.exp(-x))\n",
    "\n",
    "    def derivative(self, x: Sample):\n",
    "        return x * (1-x)\n",
    "\n",
    "\n",
    "class Softmax(ActivationBase):\n",
    "    \"\"\"returns model 'probabilities' for each class\"\"\"\n",
    "\n",
    "    def calc(self, x: Sample) -> list[float]:\n",
    "        \n",
    "        # optimization: make numbers in an array from -inf to 0 because of a np.exp growing\n",
    "        # and returns an array of floats from 0.0 to 1.0\n",
    "        max_value = np.max(x)\n",
    "        x -= max_value\n",
    "\n",
    "        exp_values = np.exp(x)\n",
    "        return exp_values / np.sum(exp_values)\n",
    "    \n",
    "    def derivative(self, x: Sample):\n",
    "        pass"
   ]
  },
  {
   "cell_type": "code",
   "execution_count": 6,
   "metadata": {},
   "outputs": [],
   "source": [
    "# Loss functions\n",
    "\n",
    "\n",
    "class LossBase(ABC):\n",
    "    @abstractmethod\n",
    "    def calc(self, x: Sample, y: Target) -> float:\n",
    "        \"\"\"Apply the loss function to an output layer\"\"\"\n",
    "        pass\n",
    "\n",
    "\n",
    "class MSELoss(LossBase):\n",
    "    \"\"\"For regression\"\"\" \n",
    "    def calc(self, x: Sample, y: Target) -> float:\n",
    "\n",
    "        loss = (y - x) ** 2\n",
    "\n",
    "        return np.mean(loss)\n",
    "\n",
    "\n",
    "class CrossEntropy(LossBase):\n",
    "    \"\"\"For classification\"\"\"\n",
    "    def calc(self, x: Sample, y: Target) -> float:\n",
    "        return -np.sum(y * np.log(x))\n"
   ]
  },
  {
   "cell_type": "code",
   "execution_count": 21,
   "metadata": {},
   "outputs": [
    {
     "name": "stdout",
     "output_type": "stream",
     "text": [
      "[7.39262147e-44 7.31058579e-01 9.74950551e-35 2.68941421e-01]\n",
      "1.0\n"
     ]
    }
   ],
   "source": [
    "a = [1, 100, 22, 99]\n",
    "\n",
    "f = Softmax()\n",
    "\n",
    "b = f.calc(a)\n",
    "print(b)\n",
    "print(sum(b))"
   ]
  },
  {
   "cell_type": "code",
   "execution_count": 7,
   "metadata": {},
   "outputs": [],
   "source": [
    "class Dataset:\n",
    "    def __init__(self, data: Data, targets: Targets) -> None:\n",
    "        self.data: Data = data\n",
    "        self._len = len(data)\n",
    "        self.targets: Targets = targets\n",
    "\n",
    "    def __len__(self) -> int:\n",
    "        return self._len\n",
    "    \n",
    "    def __getitem__(self, index) -> Sample:\n",
    "        return self.data[index]\n",
    "    \n",
    "    def __iter__(self):\n",
    "        return iter(self.data)\n"
   ]
  },
  {
   "cell_type": "code",
   "execution_count": 8,
   "metadata": {},
   "outputs": [],
   "source": [
    "class Linear:\n",
    "    def __init__(self, n_inputs: int, n_neurons: int, activation: ActivationBase) -> None:\n",
    "        self.n_inputs = n_inputs\n",
    "        self.n_neurons = n_neurons\n",
    "        \n",
    "        self.weights = self._init_weights()\n",
    "        self.bias = self._init_bias()\n",
    "        self.output = []\n",
    "\n",
    "        self.activation = activation\n",
    "    \n",
    "    def _init_weights(self) -> list[float]:\n",
    "        scale = 1/max(1., (2+2)/2.)\n",
    "        limit = np.sqrt(3.0 * scale)\n",
    "\n",
    "        # return np.random.randn(self.n_neurons, self.n_inputs) #* 0.1\n",
    "    \n",
    "        weights = np.random.uniform(-limit, limit, size=(self.n_neurons, self.n_inputs))\n",
    "        return weights\n",
    "    \n",
    "    def _init_bias(self) -> list[float]:\n",
    "        return np.random.randn(1)\n",
    "    \n",
    "    def forward(self, inputs) -> None:\n",
    "        # print(f\"{inputs = }\")\n",
    "        # print(f\"{self.weights = }\")\n",
    "\n",
    "        output = np.matmul( self.weights, inputs.T)\n",
    "\n",
    "        output += self.bias\n",
    "\n",
    "        self.output = self.activation.calc(output)\n",
    "        # print(f\"{self.output = }\")\n",
    "    \n",
    "\n",
    "    # def backward(self, grad, learning_rate: float, output):\n",
    "        \n",
    "    #     # print(f\"{self.weights = }\")\n",
    "    #     print(f\"{output = }\")\n",
    "    #     print(f\"{grad = }\")\n",
    "\n",
    "    #     print()\n",
    "\n",
    "    #     weights_new = self.weights - grad * output * learning_rate\n",
    "    #     # print(f\"{weights_new = }\")\n",
    "    #     # print('\\n\\n')\n",
    "\n",
    "    #     self.weights = weights_new\n",
    "\n",
    "\n",
    "Layers: TypeAlias = list[Linear]"
   ]
  },
  {
   "cell_type": "code",
   "execution_count": 115,
   "metadata": {},
   "outputs": [],
   "source": [
    "class Model:\n",
    "    def __init__(self, layers: Layers, loss: LossBase, n_epoch: int = 1, learning_rate: float = 0.01, verbose: bool = True):\n",
    "        self.layers = layers\n",
    "        self._layers_len = len(layers)\n",
    "        self.loss = loss\n",
    "        \n",
    "        self.n_epoch = n_epoch\n",
    "        self.learning_rate = learning_rate\n",
    "        self.verbose = verbose\n",
    "\n",
    "    def fit(self, dataset: Dataset) -> list[float]:\n",
    "        losses_by_epoch = []\n",
    "\n",
    "        range_epoch = range(self.n_epoch)\n",
    "        if self.verbose:\n",
    "            range_epoch = tqdm(range_epoch, desc=\"epochs\", position=0)\n",
    "\n",
    "        for epoch in range_epoch:\n",
    "            epoch_losses = []\n",
    "\n",
    "            for i,sample in enumerate(dataset):\n",
    "                sample = np.array(sample)\n",
    "                # sample = sample.reshape(1,len(sample))\n",
    "\n",
    "\n",
    "                # Forward pass\n",
    "                self.layers[0].forward(inputs=sample) # input layer\n",
    "                for j in range(1, self._layers_len):\n",
    "                    self.layers[j].forward(inputs=self.layers[j-1].output)\n",
    "\n",
    "                target = dataset.targets[i]\n",
    "                \n",
    "\n",
    "                # Calc loss\n",
    "                output_error = self.calc_loss(target=target)\n",
    "                epoch_losses.append(output_error)\n",
    "\n",
    "                \n",
    "\n",
    "\n",
    "                # Backward pass\n",
    "                # backward from output to input layer\n",
    "                # propagate gradients using chain rule\n",
    "\n",
    "                delta =  self.layers[-2].activation.derivative(x=self.layers[-2].output) * output_error\n",
    "\n",
    "                print(\"output_error\", output_error)\n",
    "                print(\"delta\", delta)\n",
    "\n",
    "\n",
    "                for i in range(self._layers_len - 2, 0, -1):\n",
    "                    print(\"weights\", self.layers[i+1].weights)\n",
    "                    print(\"delta\", delta)\n",
    "\n",
    "                    error = np.dot(self.layers[i+1].weights.T, delta)\n",
    "                    delta =  self.layers[i].activation.derivative(x=self.layers[i].output) * error\n",
    "                    \n",
    "            mean_loss = np.mean(epoch_losses)\n",
    "            losses_by_epoch.append(mean_loss)\n",
    "        \n",
    "        return losses_by_epoch\n",
    "    \n",
    "    def predict(self, sample: Sample) -> list[float]:\n",
    "        sample = np.array(sample)\n",
    "        sample = sample.reshape(1,len(sample))\n",
    "\n",
    "        self.layers[0].forward(inputs=sample)\n",
    "                \n",
    "        for j in range(1, self._layers_len):\n",
    "            self.layers[j].forward(inputs=self.layers[j-1].output)\n",
    "        \n",
    "        predict = self.layers[-1].output\n",
    "        return predict\n",
    "    \n",
    "    def calc_loss(self, target: Target) -> float:\n",
    "        output_layer = self.layers[-1]\n",
    "        output = output_layer.output\n",
    "\n",
    "        loss = self.loss.calc(x=output, y=target)\n",
    "        return loss\n",
    "\n",
    "    \n",
    "    def set_weights(self, weights: Weights) -> None:\n",
    "        for w,layer in zip(weights, self.layers):\n",
    "            layer.weights = w\n",
    "\n",
    "    @property\n",
    "    def weights(self) -> Weights:\n",
    "        weights = [layer.weights for layer in self.layers]\n",
    "        return weights"
   ]
  },
  {
   "cell_type": "code",
   "execution_count": 10,
   "metadata": {},
   "outputs": [],
   "source": [
    "X_train = [\n",
    "    # [1,2,3,4],\n",
    "    [4,3,2,1]\n",
    "]\n",
    "\n",
    "\n",
    "\n",
    "# X_train = [\n",
    "#     [[1,2,3], [1,2,3], [1,2,3]], # photo\n",
    "# ]\n",
    "\n",
    "y_train = [1,]\n",
    "\n",
    "\n",
    "\n",
    "train_dataset = Dataset(data=X_train, targets=y_train)\n",
    "# val_dataset = Dataset(data=X_val, targets=y_val)"
   ]
  },
  {
   "cell_type": "code",
   "execution_count": 125,
   "metadata": {},
   "outputs": [
    {
     "name": "stdout",
     "output_type": "stream",
     "text": [
      "output_error 0.9826926579181234\n",
      "delta [0.24422102 0.24343578 0.24392697 0.24350237 0.24384492 0.24334213\n",
      " 0.24391293 0.24334608 0.24334231 0.24341844 0.24373281 0.24345932\n",
      " 0.24339405 0.24390948 0.24371653 0.24403863 0.24401004 0.24423316\n",
      " 0.24358916 0.24350295 0.243364   0.24420097 0.24354119 0.24422807\n",
      " 0.24339781 0.24360016 0.24414504 0.24418392 0.24406094 0.24339365\n",
      " 0.24329724 0.24336579 0.24378104 0.24374805 0.24338903 0.24402291\n",
      " 0.24328976 0.24352151 0.24349825 0.24386744 0.24420559 0.2440817\n",
      " 0.24421115 0.24401052 0.24362556 0.24391405 0.24417258 0.24409929\n",
      " 0.24347132 0.24388627 0.24386489 0.24417797 0.24334637 0.24416905\n",
      " 0.24420178 0.2440782  0.24338741 0.24403667 0.24343162 0.24407789\n",
      " 0.24344488 0.24328405 0.24366437 0.24377841 0.24408724 0.24422144\n",
      " 0.24385528 0.24394752 0.24407315 0.24399598 0.2435094  0.24417059\n",
      " 0.24350959 0.24354083 0.24405683 0.2435223  0.24401959 0.24379082\n",
      " 0.2434787  0.24355171 0.24332596 0.2437867  0.24361155 0.24339811\n",
      " 0.24347769 0.24420437 0.24401693 0.24389297 0.24345546 0.24334912\n",
      " 0.24335274 0.24397654 0.24372992 0.24384202 0.24351527 0.24399549\n",
      " 0.2433353  0.24388062 0.24351689 0.2438201 ]\n",
      "weights [[-0.59793007 -0.81091269 -0.27369172 ...  0.5182098   1.0524413\n",
      "   1.12651011]\n",
      " [ 0.34450949  0.95311894 -1.17385108 ...  0.37351934 -0.15033757\n",
      "   1.19247717]\n",
      " [-0.15884575  0.95182964  0.64146937 ... -1.16267604 -0.86609769\n",
      "   0.1410598 ]\n",
      " ...\n",
      " [-0.80638285  0.28264795  0.99394812 ...  0.86721965  0.291471\n",
      "  -1.21552932]\n",
      " [-0.90591005 -0.42517602  0.35464138 ... -0.87639762  1.12747684\n",
      "   0.78313249]\n",
      " [ 0.0045503   0.90842919  0.03623162 ...  0.80779036 -1.22155798\n",
      "   0.98924973]]\n",
      "delta [0.24422102 0.24343578 0.24392697 0.24350237 0.24384492 0.24334213\n",
      " 0.24391293 0.24334608 0.24334231 0.24341844 0.24373281 0.24345932\n",
      " 0.24339405 0.24390948 0.24371653 0.24403863 0.24401004 0.24423316\n",
      " 0.24358916 0.24350295 0.243364   0.24420097 0.24354119 0.24422807\n",
      " 0.24339781 0.24360016 0.24414504 0.24418392 0.24406094 0.24339365\n",
      " 0.24329724 0.24336579 0.24378104 0.24374805 0.24338903 0.24402291\n",
      " 0.24328976 0.24352151 0.24349825 0.24386744 0.24420559 0.2440817\n",
      " 0.24421115 0.24401052 0.24362556 0.24391405 0.24417258 0.24409929\n",
      " 0.24347132 0.24388627 0.24386489 0.24417797 0.24334637 0.24416905\n",
      " 0.24420178 0.2440782  0.24338741 0.24403667 0.24343162 0.24407789\n",
      " 0.24344488 0.24328405 0.24366437 0.24377841 0.24408724 0.24422144\n",
      " 0.24385528 0.24394752 0.24407315 0.24399598 0.2435094  0.24417059\n",
      " 0.24350959 0.24354083 0.24405683 0.2435223  0.24401959 0.24379082\n",
      " 0.2434787  0.24355171 0.24332596 0.2437867  0.24361155 0.24339811\n",
      " 0.24347769 0.24420437 0.24401693 0.24389297 0.24345546 0.24334912\n",
      " 0.24335274 0.24397654 0.24372992 0.24384202 0.24351527 0.24399549\n",
      " 0.2433353  0.24388062 0.24351689 0.2438201 ]\n",
      "weights [[ 1.18592134]\n",
      " [-0.83402382]\n",
      " [ 0.37808435]\n",
      " [-0.67798344]\n",
      " [ 0.16490616]\n",
      " [-1.04969044]\n",
      " [ 0.34125599]\n",
      " [-1.04069313]\n",
      " [-1.04928802]\n",
      " [-0.87429531]\n",
      " [-0.1189191 ]\n",
      " [-0.77912667]\n",
      " [-0.93066076]\n",
      " [ 0.33221339]\n",
      " [-0.1594499 ]\n",
      " [ 0.67627585]\n",
      " [ 0.59898714]\n",
      " [ 1.22091484]\n",
      " [-0.47100566]\n",
      " [-0.67660466]\n",
      " [-0.99972735]\n",
      " [ 1.12841155]\n",
      " [-0.58591097]\n",
      " [ 1.20622513]\n",
      " [-0.92200968]\n",
      " [-0.44447674]\n",
      " [ 0.96998815]\n",
      " [ 1.07980632]\n",
      " [ 0.73706811]\n",
      " [-0.93159977]\n",
      " [-1.15156039]\n",
      " [-0.99563136]\n",
      " [ 0.00215956]\n",
      " [-0.08080126]\n",
      " [-0.94222644]\n",
      " [ 0.63371705]\n",
      " [-1.16844841]\n",
      " [-0.6326797 ]\n",
      " [-0.68770807]\n",
      " [ 0.22293319]\n",
      " [ 1.14161138]\n",
      " [ 0.793977  ]\n",
      " [ 1.15754657]\n",
      " [ 0.60029024]\n",
      " [-0.38295752]\n",
      " [ 0.34417505]\n",
      " [ 1.04761741]\n",
      " [ 0.84251198]\n",
      " [-0.7510292 ]\n",
      " [ 0.2717272 ]\n",
      " [ 0.21633547]\n",
      " [ 1.06290915]\n",
      " [-1.04003436]\n",
      " [ 1.0376404 ]\n",
      " [ 1.13070622]\n",
      " [ 0.78435566]\n",
      " [-0.9459764 ]\n",
      " [ 0.67096951]\n",
      " [-0.84371924]\n",
      " [ 0.78350271]\n",
      " [-0.8128538 ]\n",
      " [-1.18132845]\n",
      " [-0.28821428]\n",
      " [-0.00448137]\n",
      " [ 0.80925047]\n",
      " [ 1.18710713]\n",
      " [ 0.1915507 ]\n",
      " [ 0.43223389]\n",
      " [ 0.77050823]\n",
      " [ 0.56122236]\n",
      " [-0.66137709]\n",
      " [ 1.04198524]\n",
      " [-0.66092513]\n",
      " [-0.58677775]\n",
      " [ 0.72582218]\n",
      " [-0.63082736]\n",
      " [ 0.62473928]\n",
      " [ 0.02690165]\n",
      " [-0.73372343]\n",
      " [-0.56082759]\n",
      " [-1.08650618]\n",
      " [ 0.01648062]\n",
      " [-0.41693018]\n",
      " [-0.9213135 ]\n",
      " [-0.73608448]\n",
      " [ 1.13812924]\n",
      " [ 0.61755043]\n",
      " [ 0.28914461]\n",
      " [-0.78815886]\n",
      " [-1.03374486]\n",
      " [-1.02547549]\n",
      " [ 0.50925608]\n",
      " [-0.12611517]\n",
      " [ 0.15744986]\n",
      " [-0.64747505]\n",
      " [ 0.55990876]\n",
      " [-1.06526577]\n",
      " [ 0.25706133]\n",
      " [-0.64364519]\n",
      " [ 0.10134065]]\n",
      "delta [ 0.87035523  0.03601334  0.31992193  0.30827381 -0.16805956  0.04109513\n",
      " -0.28811292  0.14991103  0.38701383  0.16305354 -0.51673836 -0.04312591\n",
      " -0.06120488 -0.07071367  0.99976274 -0.17586792 -0.1865358  -0.30766423\n",
      "  0.05652439 -0.04554595 -0.03733538 -0.30673258 -0.35331334  0.1694144\n",
      "  0.08969551 -0.18344246  0.85047536  0.07504135  0.10878089 -0.27690198\n",
      " -0.24762126  0.34183039 -0.41834103 -0.4080268   0.08216482 -0.44663393\n",
      "  0.12079018 -0.04341289  0.27023681  0.1562659  -1.11093994  0.25205245\n",
      " -0.89937183 -0.41365266  0.54121812  0.78665518  0.16527457 -0.3632957\n",
      " -0.35682328 -0.32600311 -0.75339503  0.01001193  0.78288638 -0.02867013\n",
      " -0.35148768 -1.19577869 -0.20287981 -0.1594575   0.43565001  0.39309636\n",
      " -0.4330663   0.69252888  0.4341832  -0.31382723  0.221414   -0.4597703\n",
      "  0.3633177   0.278232    0.02313048 -0.47857555 -0.61847376 -0.5123779\n",
      "  0.03513093 -0.1985924   0.35237293  0.82091859 -0.20104349 -0.21770226\n",
      "  0.62472507  0.13147791  0.63309906 -0.04652845  0.42934196 -0.6107324\n",
      "  0.09266725  1.06027101  0.58513716 -0.5727791  -0.11341476  0.22404331\n",
      " -1.03678768  0.42946221 -0.13411914  0.33575624  0.38184593 -0.40997618\n",
      "  0.01592981 -0.24972969  0.18505649  0.0079607 ]\n",
      "weights [[-0.19956339  0.66160495 -0.46711361 -0.0341664   0.53689485 -0.02273223\n",
      "   0.67340737 -1.08034956 -1.01783357 -0.1767048   0.68638136 -0.72219981\n",
      "   0.98834239  0.96969926  0.60047432  0.48276167 -0.88119958 -0.57356354\n",
      "  -0.18739896  0.58222979 -0.98357376 -0.96099852  0.38711257  1.03014441\n",
      "   0.31853432  0.34465118 -0.3594594   0.27773957 -0.96357535 -0.15665491\n",
      "   0.79928608 -0.32773077 -0.89625156 -0.28735874  0.63853389 -0.02977175\n",
      "   0.53484119 -1.03014527 -0.90636198 -0.12665507  0.32750466 -0.53873781\n",
      "   0.23595149 -0.77035505  0.16765208  1.03215511 -0.81259668 -1.01288482\n",
      "  -1.19244041 -0.55838413 -0.23885632  0.59096289 -1.12552814 -0.51541296\n",
      "  -0.72140376  1.11369207 -1.14633247  0.71950882 -0.51767029  0.88155915\n",
      "   0.1926493  -1.0016824  -0.29367818  0.83224574  1.08687472 -0.39572056\n",
      "  -0.45091145  0.39416005 -0.60687258 -1.1379137  -0.45907716 -0.13682394\n",
      "   0.64706909 -0.47609265 -0.46464342  0.75216209  0.48705261  1.19850421\n",
      "  -0.06580333 -1.06854249 -0.28666626 -0.92454726 -1.00897622  0.49279564\n",
      "   0.04540637  0.1302042   1.10872704 -0.42558161  0.95732295  0.309488\n",
      "   0.36643527 -0.3833483  -0.94123843  0.92753341 -1.16305198  0.75475583\n",
      "  -0.05303406 -0.82246934  0.90515427  0.60121252]]\n",
      "delta [-0.08829024]\n",
      "weights [[ 0.88918517  0.7529813 ]\n",
      " [-1.18358761 -0.35361677]\n",
      " [ 0.48814621  0.34862676]\n",
      " [-1.12763691  0.87514984]\n",
      " [ 0.03312431 -0.41060865]\n",
      " [ 1.20437353 -0.42796837]\n",
      " [-0.94409098 -0.8338671 ]\n",
      " [ 0.76571402 -0.81278388]\n",
      " [-0.69748868  0.4435001 ]\n",
      " [ 0.46093014 -0.01184117]\n",
      " [-0.94454329 -0.54565466]\n",
      " [ 0.82546429 -1.08738877]\n",
      " [ 0.82752045 -1.1616428 ]\n",
      " [ 0.36886484  0.68562169]\n",
      " [ 0.03534545 -1.20076558]\n",
      " [-0.88255344  0.72773507]\n",
      " [-0.83595497  0.86878816]\n",
      " [ 0.286413   -0.67671365]\n",
      " [ 1.06455467 -0.28245304]\n",
      " [-0.60143829  0.19149174]\n",
      " [-0.58095865  0.7995102 ]\n",
      " [-0.92525389  0.03039572]\n",
      " [-0.0349489   0.35840223]\n",
      " [-0.78777349 -0.46301045]\n",
      " [ 0.899586    0.63653229]\n",
      " [-0.07293927  0.72613193]\n",
      " [-0.58922645  0.36119019]\n",
      " [-0.92218855  0.69549662]\n",
      " [-0.23429321 -0.47406012]\n",
      " [ 0.39882358  0.15865993]\n",
      " [ 0.97676081 -0.09173417]\n",
      " [ 1.10462115 -0.53079126]\n",
      " [-0.09048204  0.64167703]\n",
      " [-0.41643131 -0.98420496]\n",
      " [ 0.83246461 -0.79347046]\n",
      " [ 0.45752323  0.29857247]\n",
      " [ 0.00817431 -1.09499187]\n",
      " [ 0.42812281  0.22323301]\n",
      " [-0.59973814  0.45732191]\n",
      " [ 0.41759941  0.71624426]\n",
      " [ 0.69776067  0.26602087]\n",
      " [-0.26874972 -0.72803902]\n",
      " [ 0.54633771  0.44983825]\n",
      " [-0.28582541 -0.48205352]\n",
      " [ 0.56641369  0.06807267]\n",
      " [ 0.09768677 -0.9228971 ]\n",
      " [ 0.86031425  0.72784105]\n",
      " [-1.13361446 -0.17889253]\n",
      " [ 0.71124455 -0.3847053 ]\n",
      " [-0.43978369 -0.8915014 ]\n",
      " [ 0.33082363  0.39887967]\n",
      " [ 0.72234266  0.99464222]\n",
      " [-0.20774679  0.93636131]\n",
      " [-1.17147528 -0.0867075 ]\n",
      " [-0.38091442 -0.72399276]\n",
      " [-0.32811812  0.17442542]\n",
      " [ 1.15535471 -1.06062036]\n",
      " [-0.19948978  0.94888194]\n",
      " [ 0.36528917  0.89167654]\n",
      " [-0.08658885  0.70330196]\n",
      " [-0.79470985 -0.46760595]\n",
      " [ 0.13388555  0.31694424]\n",
      " [-0.43361389 -1.1458022 ]\n",
      " [ 0.09330493  0.06274863]\n",
      " [-1.1282588  -0.33111044]\n",
      " [ 0.62735567  0.23371318]\n",
      " [ 0.1006751   1.17448241]\n",
      " [-0.22992043 -1.01960292]\n",
      " [ 0.41915697 -0.84476378]\n",
      " [-0.89521854 -0.09313599]\n",
      " [-1.09870062  0.09053011]\n",
      " [ 0.45893224  0.90522855]\n",
      " [ 0.15176134 -0.03825219]\n",
      " [ 1.22406238 -0.9846789 ]\n",
      " [-1.16189326  0.25172751]\n",
      " [ 0.22319523  0.4876761 ]\n",
      " [-1.09711775 -1.21593252]\n",
      " [ 0.77189774 -0.49638325]\n",
      " [ 0.75003693  0.27424881]\n",
      " [ 1.13833023  1.13772596]\n",
      " [ 0.45804797 -0.9136695 ]\n",
      " [-0.18143818  0.53200714]\n",
      " [-0.34501112  0.68099398]\n",
      " [ 0.6864097   0.6866205 ]\n",
      " [-0.65283069 -0.30123314]\n",
      " [ 0.26360037  1.22447646]\n",
      " [ 0.70522425 -0.38011052]\n",
      " [ 0.87390239 -0.75414846]\n",
      " [-0.26502735 -0.24516415]\n",
      " [-0.25248763 -0.65730215]\n",
      " [-0.45472565  0.58713453]\n",
      " [ 0.98823375  0.44735652]\n",
      " [ 0.04082072  0.06131948]\n",
      " [ 0.27532844  0.00400372]\n",
      " [ 0.77368802 -0.94144657]\n",
      " [ 0.60936697 -0.48487719]\n",
      " [ 1.06108823  0.4134934 ]\n",
      " [ 0.16457128  0.50969859]\n",
      " [ 0.9154258   0.67368412]\n",
      " [-0.88270125  0.80388826]]\n",
      "delta [ 0.00432671 -0.01246453  0.01030931  0.00074062 -0.01120618  0.0004993\n",
      " -0.01200983  0.02276943  0.02187739  0.00386849 -0.01287396  0.01487001\n",
      " -0.02018325 -0.02136286 -0.01130035 -0.01047734  0.01928147  0.0118596\n",
      "  0.00412164 -0.01233745  0.02160129  0.01958748 -0.00848373 -0.0199086\n",
      " -0.00694517 -0.0076062   0.00772216 -0.00600716  0.01957476  0.00344385\n",
      " -0.01762404  0.00715239  0.01976146  0.00532314 -0.01353465  0.00065672\n",
      " -0.01020577  0.02269077  0.01958459  0.00278643 -0.00722881  0.01055349\n",
      " -0.00520603  0.0155671  -0.00368798 -0.02038317  0.01766109  0.01970757\n",
      "  0.02585986  0.01047689  0.00526948 -0.01271237  0.02483932  0.01012371\n",
      "  0.01398238 -0.02391388  0.0242049  -0.01587708  0.01134052 -0.01945121\n",
      " -0.00371792  0.02200566  0.00527631 -0.01806983 -0.02067602  0.00873279\n",
      "  0.00983729 -0.00741565  0.01244336  0.02290548  0.00929076  0.00298798\n",
      " -0.01400087  0.01015608  0.00953406 -0.01659584 -0.00786844 -0.02588424\n",
      "  0.00145223  0.02214984  0.00584951  0.02030972  0.0221866  -0.010789\n",
      " -0.00090924 -0.00281634 -0.02404501  0.00907086 -0.01990105 -0.00613203\n",
      " -0.00801186  0.00840245  0.02039344 -0.02020766  0.02422643 -0.01619176\n",
      "  0.00116174  0.01814408 -0.01968921 -0.01309925]\n",
      "weights [[-0.93995635 -0.91142893  0.72348732  0.84031349]\n",
      " [-0.32713922  0.54205253  1.16721515 -0.11440623]]\n",
      "delta [0.00328425 0.01555493]\n",
      "weights [[-8.80956460e-04 -1.24601050e-01]\n",
      " [-2.89710608e-01 -4.61663718e-01]\n",
      " [ 7.63504782e-01 -4.29636878e-03]\n",
      " [-1.01737998e+00  1.74541992e-01]]\n",
      "delta [-0.00199528  0.00124804  0.00512032  0.00024031]\n",
      "weights [[-0.93464389  0.65889126  0.87676519 -1.01868711]\n",
      " [ 0.59091807  0.93344216  0.68034723  1.12936284]]\n",
      "delta [ 4.65551223e-04 -6.69230210e-05]\n"
     ]
    },
    {
     "data": {
      "text/plain": [
       "[0.9826926579181234]"
      ]
     },
     "execution_count": 125,
     "metadata": {},
     "output_type": "execute_result"
    }
   ],
   "source": [
    "# input and output layers must be with equal numbers\n",
    "\n",
    "layers = [\n",
    "    Linear(4,13, activation=Sigmoid()),\n",
    "    Linear(13,4, activation=Sigmoid()),\n",
    "    Linear(4,2, activation=Sigmoid()),\n",
    "    Linear(2,4, activation=Sigmoid()),\n",
    "    Linear(4,2, activation=Sigmoid()),\n",
    "    Linear(2,100, activation=Sigmoid()),\n",
    "    Linear(100,1, activation=Sigmoid()),\n",
    "    Linear(1,100, activation=Sigmoid()),\n",
    "    Linear(100,100, activation=Softmax()),\n",
    "]\n",
    "\n",
    "model = Model(layers=layers, loss=MSELoss(), n_epoch=1, verbose=0)\n",
    "\n",
    "\n",
    "model.fit(dataset=train_dataset)"
   ]
  },
  {
   "cell_type": "code",
   "execution_count": 364,
   "metadata": {},
   "outputs": [
    {
     "data": {
      "text/plain": [
       "array([[ 0.87616528,  0.8770434 , -1.07185091, -0.3473528 ,  0.07240868,\n",
       "        -0.0397271 ,  0.04991074, -1.00090593,  0.99031344,  1.10922691,\n",
       "         0.56103235, -0.71546477,  1.19246648],\n",
       "       [ 0.29093634,  0.58343993,  0.06555826,  0.26530925, -0.87390265,\n",
       "        -0.76867888, -0.39083652, -0.94488054,  0.90105738,  0.65674802,\n",
       "         0.83505957, -0.72995415, -1.15744424],\n",
       "       [ 0.59840803,  0.97942934, -0.92458376, -1.03876575, -0.6212136 ,\n",
       "        -0.08884953,  0.68199734,  0.25303518, -0.47230019,  1.11874919,\n",
       "         0.13748123,  0.1428907 ,  0.72724899],\n",
       "       [-0.09438416, -0.39631527,  0.96266206,  0.61768845, -0.42897597,\n",
       "         1.05387946,  0.50110398,  1.00928054, -0.98790323,  0.02746748,\n",
       "         0.95923375, -0.06502083, -0.64327335]])"
      ]
     },
     "execution_count": 364,
     "metadata": {},
     "output_type": "execute_result"
    }
   ],
   "source": [
    "model.layers[1].weights"
   ]
  },
  {
   "cell_type": "code",
   "execution_count": 369,
   "metadata": {},
   "outputs": [
    {
     "name": "stdout",
     "output_type": "stream",
     "text": [
      "[0.9391043  0.00322892 0.00930119 0.94782751 0.91798714 0.01339995\n",
      " 0.00372608 0.00276383 0.03399139 0.96232475 0.86889642 0.67765143\n",
      " 0.00543836]\n",
      "\n",
      "[0. 0. 0. 0.]\n"
     ]
    },
    {
     "ename": "ValueError",
     "evalue": "shapes (13,) and (4,) not aligned: 13 (dim 0) != 4 (dim 0)",
     "output_type": "error",
     "traceback": [
      "\u001b[0;31m---------------------------------------------------------------------------\u001b[0m",
      "\u001b[0;31mValueError\u001b[0m                                Traceback (most recent call last)",
      "Cell \u001b[0;32mIn[369], line 1\u001b[0m\n\u001b[0;32m----> 1\u001b[0m \u001b[43mmodel\u001b[49m\u001b[38;5;241;43m.\u001b[39;49m\u001b[43mfit\u001b[49m\u001b[43m(\u001b[49m\u001b[43mdataset\u001b[49m\u001b[38;5;241;43m=\u001b[39;49m\u001b[43mtrain_dataset\u001b[49m\u001b[43m)\u001b[49m\n",
      "Cell \u001b[0;32mIn[366], line 58\u001b[0m, in \u001b[0;36mModel.fit\u001b[0;34m(self, dataset)\u001b[0m\n\u001b[1;32m     56\u001b[0m         \u001b[38;5;28mprint\u001b[39m()\n\u001b[1;32m     57\u001b[0m         \u001b[38;5;28mprint\u001b[39m(D[i])\n\u001b[0;32m---> 58\u001b[0m         \u001b[38;5;28mself\u001b[39m\u001b[38;5;241m.\u001b[39mlayers[i]\u001b[38;5;241m.\u001b[39mweights \u001b[38;5;241m+\u001b[39m\u001b[38;5;241m=\u001b[39m  \u001b[38;5;28;43mself\u001b[39;49m\u001b[38;5;241;43m.\u001b[39;49m\u001b[43mlayers\u001b[49m\u001b[43m[\u001b[49m\u001b[43mi\u001b[49m\u001b[43m]\u001b[49m\u001b[38;5;241;43m.\u001b[39;49m\u001b[43moutput\u001b[49m\u001b[38;5;241;43m.\u001b[39;49m\u001b[43mT\u001b[49m\u001b[38;5;241;43m.\u001b[39;49m\u001b[43mdot\u001b[49m\u001b[43m(\u001b[49m\u001b[43mD\u001b[49m\u001b[43m[\u001b[49m\u001b[43mi\u001b[49m\u001b[43m]\u001b[49m\u001b[43m)\u001b[49m \u001b[38;5;241m*\u001b[39m \u001b[38;5;241m-\u001b[39m\u001b[38;5;28mself\u001b[39m\u001b[38;5;241m.\u001b[39mlearning_rate\n\u001b[1;32m     61\u001b[0m mean_loss \u001b[38;5;241m=\u001b[39m np\u001b[38;5;241m.\u001b[39mmean(epoch_losses)\n\u001b[1;32m     62\u001b[0m losses_by_epoch\u001b[38;5;241m.\u001b[39mappend(mean_loss)\n",
      "\u001b[0;31mValueError\u001b[0m: shapes (13,) and (4,) not aligned: 13 (dim 0) != 4 (dim 0)"
     ]
    }
   ],
   "source": [
    "model.fit(dataset=train_dataset)"
   ]
  },
  {
   "cell_type": "markdown",
   "metadata": {},
   "source": [
    "# Load dataset"
   ]
  },
  {
   "cell_type": "code",
   "execution_count": 967,
   "metadata": {},
   "outputs": [],
   "source": [
    "dataset = load_iris()"
   ]
  },
  {
   "cell_type": "code",
   "execution_count": 970,
   "metadata": {},
   "outputs": [
    {
     "data": {
      "text/plain": [
       "dict_keys(['data', 'target', 'frame', 'target_names', 'DESCR', 'feature_names', 'filename', 'data_module'])"
      ]
     },
     "execution_count": 970,
     "metadata": {},
     "output_type": "execute_result"
    }
   ],
   "source": [
    "dataset.keys()"
   ]
  },
  {
   "cell_type": "code",
   "execution_count": 1089,
   "metadata": {},
   "outputs": [],
   "source": [
    "X, y = dataset['data'], dataset['target']"
   ]
  },
  {
   "cell_type": "code",
   "execution_count": null,
   "metadata": {},
   "outputs": [],
   "source": [
    "X"
   ]
  },
  {
   "cell_type": "code",
   "execution_count": 1091,
   "metadata": {},
   "outputs": [
    {
     "data": {
      "text/plain": [
       "array([0, 0, 0, 0, 0, 0, 0, 0, 0, 0, 0, 0, 0, 0, 0, 0, 0, 0, 0, 0, 0, 0,\n",
       "       0, 0, 0, 0, 0, 0, 0, 0, 0, 0, 0, 0, 0, 0, 0, 0, 0, 0, 0, 0, 0, 0,\n",
       "       0, 0, 0, 0, 0, 0, 1, 1, 1, 1, 1, 1, 1, 1, 1, 1, 1, 1, 1, 1, 1, 1,\n",
       "       1, 1, 1, 1, 1, 1, 1, 1, 1, 1, 1, 1, 1, 1, 1, 1, 1, 1, 1, 1, 1, 1,\n",
       "       1, 1, 1, 1, 1, 1, 1, 1, 1, 1, 1, 1, 2, 2, 2, 2, 2, 2, 2, 2, 2, 2,\n",
       "       2, 2, 2, 2, 2, 2, 2, 2, 2, 2, 2, 2, 2, 2, 2, 2, 2, 2, 2, 2, 2, 2,\n",
       "       2, 2, 2, 2, 2, 2, 2, 2, 2, 2, 2, 2, 2, 2, 2, 2, 2, 2])"
      ]
     },
     "execution_count": 1091,
     "metadata": {},
     "output_type": "execute_result"
    }
   ],
   "source": [
    "y"
   ]
  },
  {
   "cell_type": "markdown",
   "metadata": {},
   "source": [
    "# One-hot encoding"
   ]
  },
  {
   "cell_type": "code",
   "execution_count": 1093,
   "metadata": {},
   "outputs": [
    {
     "data": {
      "text/plain": [
       "{np.int64(0), np.int64(1), np.int64(2)}"
      ]
     },
     "execution_count": 1093,
     "metadata": {},
     "output_type": "execute_result"
    }
   ],
   "source": [
    "labels = set(y)\n",
    "labels_len = len(labels)\n",
    "\n",
    "labels"
   ]
  },
  {
   "cell_type": "code",
   "execution_count": 1094,
   "metadata": {},
   "outputs": [
    {
     "data": {
      "text/plain": [
       "[[1, 0, 0],\n",
       " [1, 0, 0],\n",
       " [1, 0, 0],\n",
       " [1, 0, 0],\n",
       " [1, 0, 0],\n",
       " [1, 0, 0],\n",
       " [1, 0, 0],\n",
       " [1, 0, 0],\n",
       " [1, 0, 0],\n",
       " [1, 0, 0],\n",
       " [1, 0, 0],\n",
       " [1, 0, 0],\n",
       " [1, 0, 0],\n",
       " [1, 0, 0],\n",
       " [1, 0, 0],\n",
       " [1, 0, 0],\n",
       " [1, 0, 0],\n",
       " [1, 0, 0],\n",
       " [1, 0, 0],\n",
       " [1, 0, 0],\n",
       " [1, 0, 0],\n",
       " [1, 0, 0],\n",
       " [1, 0, 0],\n",
       " [1, 0, 0],\n",
       " [1, 0, 0],\n",
       " [1, 0, 0],\n",
       " [1, 0, 0],\n",
       " [1, 0, 0],\n",
       " [1, 0, 0],\n",
       " [1, 0, 0],\n",
       " [1, 0, 0],\n",
       " [1, 0, 0],\n",
       " [1, 0, 0],\n",
       " [1, 0, 0],\n",
       " [1, 0, 0],\n",
       " [1, 0, 0],\n",
       " [1, 0, 0],\n",
       " [1, 0, 0],\n",
       " [1, 0, 0],\n",
       " [1, 0, 0],\n",
       " [1, 0, 0],\n",
       " [1, 0, 0],\n",
       " [1, 0, 0],\n",
       " [1, 0, 0],\n",
       " [1, 0, 0],\n",
       " [1, 0, 0],\n",
       " [1, 0, 0],\n",
       " [1, 0, 0],\n",
       " [1, 0, 0],\n",
       " [1, 0, 0],\n",
       " [0, 1, 0],\n",
       " [0, 1, 0],\n",
       " [0, 1, 0],\n",
       " [0, 1, 0],\n",
       " [0, 1, 0],\n",
       " [0, 1, 0],\n",
       " [0, 1, 0],\n",
       " [0, 1, 0],\n",
       " [0, 1, 0],\n",
       " [0, 1, 0],\n",
       " [0, 1, 0],\n",
       " [0, 1, 0],\n",
       " [0, 1, 0],\n",
       " [0, 1, 0],\n",
       " [0, 1, 0],\n",
       " [0, 1, 0],\n",
       " [0, 1, 0],\n",
       " [0, 1, 0],\n",
       " [0, 1, 0],\n",
       " [0, 1, 0],\n",
       " [0, 1, 0],\n",
       " [0, 1, 0],\n",
       " [0, 1, 0],\n",
       " [0, 1, 0],\n",
       " [0, 1, 0],\n",
       " [0, 1, 0],\n",
       " [0, 1, 0],\n",
       " [0, 1, 0],\n",
       " [0, 1, 0],\n",
       " [0, 1, 0],\n",
       " [0, 1, 0],\n",
       " [0, 1, 0],\n",
       " [0, 1, 0],\n",
       " [0, 1, 0],\n",
       " [0, 1, 0],\n",
       " [0, 1, 0],\n",
       " [0, 1, 0],\n",
       " [0, 1, 0],\n",
       " [0, 1, 0],\n",
       " [0, 1, 0],\n",
       " [0, 1, 0],\n",
       " [0, 1, 0],\n",
       " [0, 1, 0],\n",
       " [0, 1, 0],\n",
       " [0, 1, 0],\n",
       " [0, 1, 0],\n",
       " [0, 1, 0],\n",
       " [0, 1, 0],\n",
       " [0, 1, 0],\n",
       " [0, 1, 0],\n",
       " [0, 0, 1],\n",
       " [0, 0, 1],\n",
       " [0, 0, 1],\n",
       " [0, 0, 1],\n",
       " [0, 0, 1],\n",
       " [0, 0, 1],\n",
       " [0, 0, 1],\n",
       " [0, 0, 1],\n",
       " [0, 0, 1],\n",
       " [0, 0, 1],\n",
       " [0, 0, 1],\n",
       " [0, 0, 1],\n",
       " [0, 0, 1],\n",
       " [0, 0, 1],\n",
       " [0, 0, 1],\n",
       " [0, 0, 1],\n",
       " [0, 0, 1],\n",
       " [0, 0, 1],\n",
       " [0, 0, 1],\n",
       " [0, 0, 1],\n",
       " [0, 0, 1],\n",
       " [0, 0, 1],\n",
       " [0, 0, 1],\n",
       " [0, 0, 1],\n",
       " [0, 0, 1],\n",
       " [0, 0, 1],\n",
       " [0, 0, 1],\n",
       " [0, 0, 1],\n",
       " [0, 0, 1],\n",
       " [0, 0, 1],\n",
       " [0, 0, 1],\n",
       " [0, 0, 1],\n",
       " [0, 0, 1],\n",
       " [0, 0, 1],\n",
       " [0, 0, 1],\n",
       " [0, 0, 1],\n",
       " [0, 0, 1],\n",
       " [0, 0, 1],\n",
       " [0, 0, 1],\n",
       " [0, 0, 1],\n",
       " [0, 0, 1],\n",
       " [0, 0, 1],\n",
       " [0, 0, 1],\n",
       " [0, 0, 1],\n",
       " [0, 0, 1],\n",
       " [0, 0, 1],\n",
       " [0, 0, 1],\n",
       " [0, 0, 1],\n",
       " [0, 0, 1],\n",
       " [0, 0, 1]]"
      ]
     },
     "execution_count": 1094,
     "metadata": {},
     "output_type": "execute_result"
    }
   ],
   "source": [
    "y_1 = []\n",
    "\n",
    "for i in y:\n",
    "    l = [0] * labels_len\n",
    "    l[i] = 1\n",
    "    y_1.append(l)\n",
    "y_1"
   ]
  },
  {
   "cell_type": "markdown",
   "metadata": {},
   "source": [
    "# Split"
   ]
  },
  {
   "cell_type": "code",
   "execution_count": 1228,
   "metadata": {},
   "outputs": [],
   "source": [
    "X_train, X_val, y_train, y_val = train_test_split(X, y_1, train_size=0.8)"
   ]
  },
  {
   "cell_type": "code",
   "execution_count": 1229,
   "metadata": {},
   "outputs": [],
   "source": [
    "train_dataset = Dataset(data=X_train, targets=y_train)\n",
    "val_dataset = Dataset(data=X_val, targets=y_val)"
   ]
  },
  {
   "cell_type": "markdown",
   "metadata": {},
   "source": [
    "# Model"
   ]
  },
  {
   "cell_type": "code",
   "execution_count": 1267,
   "metadata": {},
   "outputs": [],
   "source": [
    "layers = [\n",
    "    Linear(4,10, activation=ReLU()),\n",
    "    Linear(10,20, activation=ReLU()),\n",
    "    Linear(20,100, activation=ReLU()),\n",
    "    Linear(100,10, activation=ReLU()),\n",
    "    Linear(10,3, activation=Softmax()),\n",
    "]\n",
    "\n",
    "model = Model(layers=layers, loss=MSELoss(), n_epoch=10, verbose=1)"
   ]
  },
  {
   "cell_type": "code",
   "execution_count": 1268,
   "metadata": {},
   "outputs": [
    {
     "name": "stderr",
     "output_type": "stream",
     "text": [
      "epochs: 100%|██████████| 10/10 [00:00<00:00, 41.55it/s]\n"
     ]
    }
   ],
   "source": [
    "losses = model.fit(dataset=train_dataset)"
   ]
  },
  {
   "cell_type": "markdown",
   "metadata": {},
   "source": [
    "# Plots"
   ]
  },
  {
   "cell_type": "code",
   "execution_count": 1269,
   "metadata": {},
   "outputs": [
    {
     "data": {
      "text/plain": [
       "<Axes: >"
      ]
     },
     "execution_count": 1269,
     "metadata": {},
     "output_type": "execute_result"
    },
    {
     "data": {
      "image/png": "[encoded data removed]",
      "text/plain": [
       "<Figure size 640x480 with 1 Axes>"
      ]
     },
     "metadata": {},
     "output_type": "display_data"
    }
   ],
   "source": [
    "sns.lineplot(losses)"
   ]
  },
  {
   "cell_type": "code",
   "execution_count": 1240,
   "metadata": {},
   "outputs": [
    {
     "data": {
      "text/plain": [
       "array([4.3, 3. , 1.1, 0.1])"
      ]
     },
     "execution_count": 1240,
     "metadata": {},
     "output_type": "execute_result"
    }
   ],
   "source": [
    "X_val[0]"
   ]
  },
  {
   "cell_type": "code",
   "execution_count": 1241,
   "metadata": {},
   "outputs": [
    {
     "data": {
      "text/plain": [
       "(array([[0.37434921, 0.37134219, 0.2543086 ]]), [1, 0, 0])"
      ]
     },
     "execution_count": 1241,
     "metadata": {},
     "output_type": "execute_result"
    }
   ],
   "source": [
    "model.predict(X_train[1]), y_train[1]"
   ]
  },
  {
   "cell_type": "code",
   "execution_count": 1242,
   "metadata": {},
   "outputs": [
    {
     "data": {
      "text/plain": [
       "(array([[0.23116393, 0.37761343, 0.39122264]]), [0, 1, 0])"
      ]
     },
     "execution_count": 1242,
     "metadata": {},
     "output_type": "execute_result"
    }
   ],
   "source": [
    "model.predict(X_val[1]), y_val[1]"
   ]
  },
  {
   "cell_type": "code",
   "execution_count": 1270,
   "metadata": {},
   "outputs": [
    {
     "data": {
      "text/plain": [
       "0.3416666666666667"
      ]
     },
     "execution_count": 1270,
     "metadata": {},
     "output_type": "execute_result"
    }
   ],
   "source": [
    "true_count = 0\n",
    "all_count = 0\n",
    "\n",
    "for sample,target in zip(X_train, y_train):\n",
    "    pred = model.predict(sample=sample)\n",
    "\n",
    "    pred = np.where(pred[0] >= max(pred[0]), 1, 0)\n",
    "    # print(pred)\n",
    "    # print(target)\n",
    "\n",
    "    if list(pred) == target:\n",
    "        true_count += 1\n",
    "    all_count += 1 \n",
    "\n",
    "\n",
    "acc = true_count / all_count\n",
    "acc"
   ]
  },
  {
   "cell_type": "code",
   "execution_count": 1215,
   "metadata": {},
   "outputs": [
    {
     "data": {
      "text/plain": [
       "np.int64(0)"
      ]
     },
     "execution_count": 1215,
     "metadata": {},
     "output_type": "execute_result"
    }
   ],
   "source": [
    "np.argmax([1,0,0])"
   ]
  }
 ],
 "metadata": {
  "kernelspec": {
   "display_name": "Python 3",
   "language": "python",
   "name": "python3"
  },
  "language_info": {
   "codemirror_mode": {
    "name": "ipython",
    "version": 3
   },
   "file_extension": ".py",
   "mimetype": "text/x-python",
   "name": "python",
   "nbconvert_exporter": "python",
   "pygments_lexer": "ipython3",
   "version": "3.12.2"
  }
 },
 "nbformat": 4,
 "nbformat_minor": 2
}
