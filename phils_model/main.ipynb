{
 "cells": [
  {
   "cell_type": "code",
   "execution_count": 41,
   "metadata": {},
   "outputs": [],
   "source": [
    "from typing import TypeAlias\n",
    "import math\n",
    "\n",
    "import numpy as np\n",
    "from sklearn.model_selection import train_test_split\n",
    "\n",
    "import seaborn as sns\n",
    "import matplotlib.pyplot as plt\n",
    "from tqdm import tqdm"
   ]
  },
  {
   "cell_type": "code",
   "execution_count": 42,
   "metadata": {},
   "outputs": [],
   "source": [
    "Sample: TypeAlias = list[int | float]\n",
    "Data: TypeAlias = list[Sample]\n",
    "\n",
    "Target: TypeAlias = int | float\n",
    "Targets: TypeAlias = list[Target]\n",
    "\n",
    "Weights: TypeAlias = list[list[float]]"
   ]
  },
  {
   "cell_type": "code",
   "execution_count": 43,
   "metadata": {},
   "outputs": [],
   "source": [
    "# Activation functions\n",
    "\n",
    "from abc import ABC, abstractmethod\n",
    "\n",
    "\n",
    "class ActivationBase(ABC):\n",
    "    @abstractmethod\n",
    "    def calc(self, x: Sample) -> list[float]:\n",
    "        \"\"\"Apply the activation function to an layer output\"\"\"\n",
    "        pass\n",
    "\n",
    "    @abstractmethod\n",
    "    def derivative(self, x: Sample):\n",
    "        pass\n",
    "\n",
    "#######################################\n",
    "\n",
    "\n",
    "class ReLU(ActivationBase):\n",
    "    def calc(self, x: Sample) -> list[float]:\n",
    "        return np.maximum(0, x)\n",
    "\n",
    "    def derivative(self, x: Sample):\n",
    "        return self.calc(x=x)\n",
    "\n",
    "\n",
    "class Sigmoid(ActivationBase):\n",
    "    def calc(self, x: Sample) -> list[float]:\n",
    "        return 1 / (1 + np.exp(-x))\n",
    "\n",
    "    def derivative(self, x: Sample):\n",
    "        return x * (1-x)"
   ]
  },
  {
   "cell_type": "code",
   "execution_count": 190,
   "metadata": {},
   "outputs": [],
   "source": [
    "# Loss functions\n",
    "\n",
    "\n",
    "class LossBase(ABC):\n",
    "    @abstractmethod\n",
    "    def calc(self, x: Sample, y: Target) -> float:\n",
    "        \"\"\"Apply the loss function to an output layer\"\"\"\n",
    "        pass\n",
    "\n",
    "\n",
    "class MSELoss(LossBase):\n",
    "    \"\"\"For regression\"\"\" \n",
    "    def calc(self, x: Sample, y: Target) -> float:\n",
    "        loss = (x - y) ** 2\n",
    "\n",
    "        # return np.mean(loss)\n",
    "        return loss\n"
   ]
  },
  {
   "cell_type": "code",
   "execution_count": 45,
   "metadata": {},
   "outputs": [
    {
     "name": "stdout",
     "output_type": "stream",
     "text": [
      "[7.39262147e-44 7.31058579e-01 9.74950551e-35 2.68941421e-01]\n",
      "1.0\n"
     ]
    }
   ],
   "source": [
    "a = [1, 100, 22, 99]\n",
    "\n",
    "f = Softmax()\n",
    "\n",
    "b = f.calc(a)\n",
    "print(b)\n",
    "print(sum(b))"
   ]
  },
  {
   "cell_type": "code",
   "execution_count": 46,
   "metadata": {},
   "outputs": [],
   "source": [
    "class Dataset:\n",
    "    def __init__(self, data: Data, targets: Targets) -> None:\n",
    "        self.data: Data = data\n",
    "        self._len = len(data)\n",
    "        self.targets: Targets = targets\n",
    "\n",
    "    def __len__(self) -> int:\n",
    "        return self._len\n",
    "    \n",
    "    def __getitem__(self, index) -> Sample:\n",
    "        return self.data[index]\n",
    "    \n",
    "    def __iter__(self):\n",
    "        return iter(self.data)\n"
   ]
  },
  {
   "cell_type": "code",
   "execution_count": 52,
   "metadata": {},
   "outputs": [],
   "source": [
    "class Linear:\n",
    "    def __init__(self, n_inputs: int, n_neurons: int, activation: ActivationBase = None) -> None:\n",
    "        self.n_inputs = n_inputs\n",
    "        self.n_neurons = n_neurons\n",
    "        \n",
    "        self.weights = self._init_weights()\n",
    "        self.bias = self._init_bias()\n",
    "        self.output = []\n",
    "\n",
    "        self.activation = activation\n",
    "    \n",
    "    def _init_weights(self) -> list[float]:\n",
    "        weights = np.random.randn(self.n_neurons, self.n_inputs) * 0.1\n",
    "        return weights\n",
    "    \n",
    "    def _init_bias(self) -> list[float]:\n",
    "        return np.random.randn(1)[0]\n",
    "    \n",
    "    def forward(self, inputs) -> None:\n",
    "        output = np.dot(self.weights, inputs)\n",
    "        output += self.bias\n",
    "        \n",
    "        if self.activation:\n",
    "            self.output = self.activation.calc(output)\n",
    "        else:\n",
    "            self.output = output\n",
    "\n",
    "\n",
    "Layers: TypeAlias = list[Linear]"
   ]
  },
  {
   "cell_type": "code",
   "execution_count": 264,
   "metadata": {},
   "outputs": [],
   "source": [
    "class Model:\n",
    "    def __init__(self, layers: Layers, loss: LossBase):\n",
    "        self.layers = layers\n",
    "        self._layers_len = len(layers)\n",
    "        self.loss = loss\n",
    "    \n",
    "    def fit(self, dataset: Dataset, n_epoch: int = 1, learning_rate: float = 0.01, verbose: bool = True) -> list[float]:\n",
    "        losses_by_epoch = []\n",
    "\n",
    "        range_epoch = range(n_epoch)\n",
    "        if verbose:\n",
    "            range_epoch = tqdm(range_epoch, desc=\"epochs\", position=0)\n",
    "\n",
    "        for epoch in range_epoch:\n",
    "            epoch_losses = []\n",
    "\n",
    "            for i,sample in enumerate(dataset):\n",
    "                sample = np.array(sample)\n",
    "\n",
    "                # Forward pass\n",
    "                self.layers[0].forward(inputs=sample) # input layer\n",
    "                for j in range(1, self._layers_len):\n",
    "                    self.layers[j].forward(inputs=self.layers[j-1].output)\n",
    "\n",
    "                target = dataset.targets[i]\n",
    "\n",
    "\n",
    "                # Calc loss\n",
    "                output_error = self.calc_loss(target=target)\n",
    "                epoch_losses.append(output_error)\n",
    "\n",
    "                # Backward pass\n",
    "                D = []\n",
    "                delta = output_error\n",
    "                D.append(delta)\n",
    "                for i in range(self._layers_len - 2, -1, -1):\n",
    "                    delta = np.dot(self.layers[i].weights, D[-1][0][0])\n",
    "                    delta *= self.layers[i].activation.derivative(self.layers[i].output)\n",
    "                    D.append(delta)\n",
    "                \n",
    "                # Update weights\n",
    "                D = D[::-1]\n",
    "                for i in range(self._layers_len):\n",
    "                    self.layers[i].weights += np.dot(D[i][0][0], self.layers[i].output) * learning_rate\n",
    "\n",
    "            mean_loss = np.mean(epoch_losses)\n",
    "            losses_by_epoch.append(mean_loss)\n",
    "        \n",
    "        return losses_by_epoch\n",
    "    \n",
    "    def predict(self, sample: Sample) -> list[float]:\n",
    "        sample = np.array(sample)\n",
    "\n",
    "        self.layers[0].forward(inputs=sample)\n",
    "                \n",
    "        for i in range(1, self._layers_len):\n",
    "            self.layers[i].forward(inputs=self.layers[i-1].output)\n",
    "        \n",
    "        predict = self.layers[-1].output\n",
    "        return predict\n",
    "    \n",
    "    def calc_loss(self, target: Target) -> float:\n",
    "        output_layer = self.layers[-1]\n",
    "        output = output_layer.output\n",
    "\n",
    "        loss = self.loss.calc(x=output, y=target)\n",
    "        return loss\n",
    "\n",
    "    \n",
    "    def set_weights(self, weights: Weights) -> None:\n",
    "        for w,layer in zip(weights, self.layers):\n",
    "            layer.weights = w\n",
    "\n",
    "    @property\n",
    "    def weights(self) -> Weights:\n",
    "        weights = [layer.weights for layer in self.layers]\n",
    "        return weights"
   ]
  },
  {
   "cell_type": "markdown",
   "metadata": {},
   "source": [
    "## Dataset"
   ]
  },
  {
   "cell_type": "code",
   "execution_count": 198,
   "metadata": {},
   "outputs": [],
   "source": [
    "X = sorted(np.random.uniform(0, 10, 500))\n",
    "y = [math.cos(x) for x in X]\n",
    "\n",
    "X_train, X_val, y_train, y_val = train_test_split(X, y, train_size=0.8)"
   ]
  },
  {
   "cell_type": "code",
   "execution_count": 199,
   "metadata": {},
   "outputs": [
    {
     "data": {
      "image/png": "[encoded data removed]",
      "text/plain": [
       "<Figure size 640x480 with 1 Axes>"
      ]
     },
     "metadata": {},
     "output_type": "display_data"
    }
   ],
   "source": [
    "plt.plot(X, y, 'o')\n",
    "plt.show()"
   ]
  },
  {
   "cell_type": "code",
   "execution_count": 282,
   "metadata": {},
   "outputs": [
    {
     "name": "stderr",
     "output_type": "stream",
     "text": [
      "epochs: 100%|██████████| 100/100 [00:02<00:00, 37.94it/s]\n"
     ]
    }
   ],
   "source": [
    "train_dataset = Dataset(data=X_train, targets=y_train)\n",
    "\n",
    "layers = [\n",
    "    Linear(1,100, activation=Sigmoid()),\n",
    "    Linear(100,20, activation=Sigmoid()),\n",
    "    Linear(20,1),\n",
    "]\n",
    "\n",
    "model = Model(layers=layers, loss=MSELoss())\n",
    "\n",
    "\n",
    "losses = model.fit(dataset=train_dataset, n_epoch=100, learning_rate=0.01, verbose=1)"
   ]
  },
  {
   "cell_type": "code",
   "execution_count": 283,
   "metadata": {},
   "outputs": [
    {
     "data": {
      "text/plain": [
       "[19.522252823732437,\n",
       " 0.9911294283347458,\n",
       " 0.9913674283262504,\n",
       " 0.991605627279763,\n",
       " 0.9918440254415044,\n",
       " 0.9920826230581077,\n",
       " 0.9923214203766129,\n",
       " 0.9925604176444733,\n",
       " 0.9927996151095526,\n",
       " 0.9930390130201298,\n",
       " 0.9932786116248932,\n",
       " 0.9935184111729494,\n",
       " 0.9937584119138202,\n",
       " 0.993998614097445,\n",
       " 0.9942390179741781,\n",
       " 0.9944796237947944,\n",
       " 0.9947204318104846,\n",
       " 0.9949614422728592,\n",
       " 0.9952026554339523,\n",
       " 0.9954440715462191,\n",
       " 0.9956856908625349,\n",
       " 0.995927513636198,\n",
       " 0.9961695401209361,\n",
       " 0.9964117705709008,\n",
       " 0.9966542052406667,\n",
       " 0.9968968443852383,\n",
       " 0.9971396882600431,\n",
       " 0.9973827371209408,\n",
       " 0.9976259912242234,\n",
       " 0.9978694508266099,\n",
       " 0.9981131161852539,\n",
       " 0.9983569875577359,\n",
       " 0.9986010652020767,\n",
       " 0.9988453493767276,\n",
       " 0.9990898403405751,\n",
       " 0.9993345383529387,\n",
       " 0.9995794436735789,\n",
       " 0.9998245565626946,\n",
       " 1.0000698772809238,\n",
       " 1.0003154060893427,\n",
       " 1.0005611432494659,\n",
       " 1.0008070890232534,\n",
       " 1.0010532436731077,\n",
       " 1.0012996074618734,\n",
       " 1.0015461806528412,\n",
       " 1.0017929635097413,\n",
       " 1.0020399562967572,\n",
       " 1.0022871592785172,\n",
       " 1.0025345727200972,\n",
       " 1.002782196887023,\n",
       " 1.0030300320452714,\n",
       " 1.0032780784612698,\n",
       " 1.0035263364018954,\n",
       " 1.0037748061344829,\n",
       " 1.0040234879268142,\n",
       " 1.0042723820471318,\n",
       " 1.004521488764133,\n",
       " 1.004770808346973,\n",
       " 1.0050203410652627,\n",
       " 1.0052700871890738,\n",
       " 1.0055200469889358,\n",
       " 1.0057702207358443,\n",
       " 1.006020608701248,\n",
       " 1.0062712111570622,\n",
       " 1.006522028375668,\n",
       " 1.00677306062991,\n",
       " 1.0070243081930987,\n",
       " 1.0072757713390112,\n",
       " 1.007527450341889,\n",
       " 1.007779345476449,\n",
       " 1.008031457017876,\n",
       " 1.0082837852418203,\n",
       " 1.0085363304244084,\n",
       " 1.0087890928422412,\n",
       " 1.0090420727723886,\n",
       " 1.0092952704923999,\n",
       " 1.009548686280297,\n",
       " 1.0098023204145783,\n",
       " 1.0100561731742252,\n",
       " 1.0103102448386947,\n",
       " 1.0105645356879231,\n",
       " 1.0108190460023274,\n",
       " 1.0110737760628072,\n",
       " 1.0113287261507438,\n",
       " 1.0115838965480064,\n",
       " 1.0118392875369475,\n",
       " 1.0120948994004069,\n",
       " 1.0123507324217076,\n",
       " 1.0126067868846667,\n",
       " 1.0128630630735858,\n",
       " 1.0131195612732578,\n",
       " 1.0133762817689698,\n",
       " 1.0136332248465016,\n",
       " 1.013890390792122,\n",
       " 1.0141477798925989,\n",
       " 1.01440539243519,\n",
       " 1.0146632287076567,\n",
       " 1.0149212889982586,\n",
       " 1.0151795735957507,\n",
       " 1.0154380827893836]"
      ]
     },
     "execution_count": 283,
     "metadata": {},
     "output_type": "execute_result"
    }
   ],
   "source": [
    "losses"
   ]
  },
  {
   "cell_type": "code",
   "execution_count": 284,
   "metadata": {},
   "outputs": [
    {
     "data": {
      "image/png": "[encoded data removed]",
      "text/plain": [
       "<Figure size 640x480 with 1 Axes>"
      ]
     },
     "metadata": {},
     "output_type": "display_data"
    }
   ],
   "source": [
    "plt.plot(losses)\n",
    "plt.show()"
   ]
  },
  {
   "cell_type": "code",
   "execution_count": 285,
   "metadata": {},
   "outputs": [],
   "source": [
    "preds = []\n",
    "for i in X_val:\n",
    "    pred = model.predict(i)[0][0]\n",
    "    preds.append(pred)"
   ]
  },
  {
   "cell_type": "code",
   "execution_count": 286,
   "metadata": {},
   "outputs": [
    {
     "data": {
      "image/png": "[encoded data removed]",
      "text/plain": [
       "<Figure size 640x480 with 1 Axes>"
      ]
     },
     "metadata": {},
     "output_type": "display_data"
    }
   ],
   "source": [
    "plt.plot(X_train, y_train, 'o')\n",
    "plt.plot(X_val, preds, 'o')\n",
    "plt.show()"
   ]
  }
 ],
 "metadata": {
  "kernelspec": {
   "display_name": "Python 3",
   "language": "python",
   "name": "python3"
  },
  "language_info": {
   "codemirror_mode": {
    "name": "ipython",
    "version": 3
   },
   "file_extension": ".py",
   "mimetype": "text/x-python",
   "name": "python",
   "nbconvert_exporter": "python",
   "pygments_lexer": "ipython3",
   "version": "3.12.2"
  }
 },
 "nbformat": 4,
 "nbformat_minor": 2
}
