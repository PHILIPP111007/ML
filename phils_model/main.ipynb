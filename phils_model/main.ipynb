{
 "cells": [
  {
   "cell_type": "code",
   "execution_count": 1,
   "metadata": {},
   "outputs": [],
   "source": [
    "from typing import Literal, TypeAlias\n",
    "from pprint import pprint\n",
    "import time\n",
    "\n",
    "import numpy as np\n",
    "import sklearn\n",
    "from sklearn.datasets import load_iris\n",
    "from sklearn.model_selection import train_test_split\n",
    "\n",
    "import seaborn as sns\n",
    "from tqdm import tqdm"
   ]
  },
  {
   "cell_type": "code",
   "execution_count": 2,
   "metadata": {},
   "outputs": [],
   "source": [
    "Sample: TypeAlias = list[int | float]\n",
    "Data: TypeAlias = list[Sample]\n",
    "\n",
    "Target: TypeAlias = int | float\n",
    "Targets: TypeAlias = list[Target]\n",
    "\n",
    "Weights: TypeAlias = list[list[float]]"
   ]
  },
  {
   "cell_type": "code",
   "execution_count": 5,
   "metadata": {},
   "outputs": [],
   "source": [
    "# Activation functions\n",
    "\n",
    "from abc import ABC, abstractmethod\n",
    "\n",
    "\n",
    "class ActivationBase(ABC):\n",
    "    @abstractmethod\n",
    "    def calc(self, x: Sample) -> list[float]:\n",
    "        \"\"\"Apply the activation function to an layer output\"\"\"\n",
    "        pass\n",
    "\n",
    "    @abstractmethod\n",
    "    def derivative(self, x: Sample):\n",
    "        pass\n",
    "\n",
    "#######################################\n",
    "\n",
    "\n",
    "class ReLU(ActivationBase):\n",
    "    def calc(self, x: Sample) -> list[float]:\n",
    "        return np.maximum(0, x)\n",
    "\n",
    "    def derivative(self, x: Sample):\n",
    "        return self.calc(x=x)\n",
    "\n",
    "\n",
    "class Sigmoid(ActivationBase):\n",
    "    def calc(self, x: Sample) -> list[float]:\n",
    "        return 1 / (1 + np.exp(-x))\n",
    "\n",
    "    def derivative(self, x: Sample):\n",
    "        return x * (1-x)\n",
    "\n",
    "\n",
    "class Softmax(ActivationBase):\n",
    "    \"\"\"returns model 'probabilities' for each class\"\"\"\n",
    "\n",
    "    def calc(self, x: Sample) -> list[float]:\n",
    "        \n",
    "        # optimization: make numbers in an array from -inf to 0 because of a np.exp growing\n",
    "        # and returns an array of floats from 0.0 to 1.0\n",
    "        max_value = np.max(x)\n",
    "        x -= max_value\n",
    "\n",
    "        exp_values = np.exp(x)\n",
    "        return exp_values / np.sum(exp_values)\n",
    "    \n",
    "    def derivative(self, x: Sample):\n",
    "        pass"
   ]
  },
  {
   "cell_type": "code",
   "execution_count": 6,
   "metadata": {},
   "outputs": [],
   "source": [
    "# Loss functions\n",
    "\n",
    "\n",
    "class LossBase(ABC):\n",
    "    @abstractmethod\n",
    "    def calc(self, x: Sample, y: Target) -> float:\n",
    "        \"\"\"Apply the loss function to an output layer\"\"\"\n",
    "        pass\n",
    "\n",
    "\n",
    "class MSELoss(LossBase):\n",
    "    \"\"\"For regression\"\"\" \n",
    "    def calc(self, x: Sample, y: Target) -> float:\n",
    "\n",
    "        loss = (y - x) ** 2\n",
    "\n",
    "        return np.mean(loss)\n",
    "\n",
    "\n",
    "class CrossEntropy(LossBase):\n",
    "    \"\"\"For classification\"\"\"\n",
    "    def calc(self, x: Sample, y: Target) -> float:\n",
    "        return -np.sum(y * np.log(x))\n"
   ]
  },
  {
   "cell_type": "code",
   "execution_count": 21,
   "metadata": {},
   "outputs": [
    {
     "name": "stdout",
     "output_type": "stream",
     "text": [
      "[7.39262147e-44 7.31058579e-01 9.74950551e-35 2.68941421e-01]\n",
      "1.0\n"
     ]
    }
   ],
   "source": [
    "a = [1, 100, 22, 99]\n",
    "\n",
    "f = Softmax()\n",
    "\n",
    "b = f.calc(a)\n",
    "print(b)\n",
    "print(sum(b))"
   ]
  },
  {
   "cell_type": "code",
   "execution_count": 7,
   "metadata": {},
   "outputs": [],
   "source": [
    "class Dataset:\n",
    "    def __init__(self, data: Data, targets: Targets) -> None:\n",
    "        self.data: Data = data\n",
    "        self._len = len(data)\n",
    "        self.targets: Targets = targets\n",
    "\n",
    "    def __len__(self) -> int:\n",
    "        return self._len\n",
    "    \n",
    "    def __getitem__(self, index) -> Sample:\n",
    "        return self.data[index]\n",
    "    \n",
    "    def __iter__(self):\n",
    "        return iter(self.data)\n"
   ]
  },
  {
   "cell_type": "code",
   "execution_count": 8,
   "metadata": {},
   "outputs": [],
   "source": [
    "class Linear:\n",
    "    def __init__(self, n_inputs: int, n_neurons: int, activation: ActivationBase) -> None:\n",
    "        self.n_inputs = n_inputs\n",
    "        self.n_neurons = n_neurons\n",
    "        \n",
    "        self.weights = self._init_weights()\n",
    "        self.bias = self._init_bias()\n",
    "        self.output = []\n",
    "\n",
    "        self.activation = activation\n",
    "    \n",
    "    def _init_weights(self) -> list[float]:\n",
    "        scale = 1/max(1., (2+2)/2.)\n",
    "        limit = np.sqrt(3.0 * scale)\n",
    "\n",
    "        # return np.random.randn(self.n_neurons, self.n_inputs) #* 0.1\n",
    "    \n",
    "        weights = np.random.uniform(-limit, limit, size=(self.n_neurons, self.n_inputs))\n",
    "        return weights\n",
    "    \n",
    "    def _init_bias(self) -> list[float]:\n",
    "        return np.random.randn(1)\n",
    "    \n",
    "    def forward(self, inputs) -> None:\n",
    "        # print(f\"{inputs = }\")\n",
    "        # print(f\"{self.weights = }\")\n",
    "\n",
    "        output = np.matmul( self.weights, inputs.T)\n",
    "\n",
    "        output += self.bias\n",
    "\n",
    "        self.output = self.activation.calc(output)\n",
    "        # print(f\"{self.output = }\")\n",
    "    \n",
    "\n",
    "    # def backward(self, grad, learning_rate: float, output):\n",
    "        \n",
    "    #     # print(f\"{self.weights = }\")\n",
    "    #     print(f\"{output = }\")\n",
    "    #     print(f\"{grad = }\")\n",
    "\n",
    "    #     print()\n",
    "\n",
    "    #     weights_new = self.weights - grad * output * learning_rate\n",
    "    #     # print(f\"{weights_new = }\")\n",
    "    #     # print('\\n\\n')\n",
    "\n",
    "    #     self.weights = weights_new\n",
    "\n",
    "\n",
    "Layers: TypeAlias = list[Linear]"
   ]
  },
  {
   "cell_type": "code",
   "execution_count": 153,
   "metadata": {},
   "outputs": [],
   "source": [
    "class Model:\n",
    "    def __init__(self, layers: Layers, loss: LossBase, n_epoch: int = 1, learning_rate: float = 0.01, verbose: bool = True):\n",
    "        self.layers = layers\n",
    "        self._layers_len = len(layers)\n",
    "        self.loss = loss\n",
    "        \n",
    "        self.n_epoch = n_epoch\n",
    "        self.learning_rate = learning_rate\n",
    "        self.verbose = verbose\n",
    "\n",
    "    def fit(self, dataset: Dataset) -> list[float]:\n",
    "        losses_by_epoch = []\n",
    "\n",
    "        range_epoch = range(self.n_epoch)\n",
    "        if self.verbose:\n",
    "            range_epoch = tqdm(range_epoch, desc=\"epochs\", position=0)\n",
    "\n",
    "        for epoch in range_epoch:\n",
    "            epoch_losses = []\n",
    "\n",
    "            for i,sample in enumerate(dataset):\n",
    "                sample = np.array(sample)\n",
    "                # sample = sample.reshape(1,len(sample))\n",
    "\n",
    "\n",
    "                # Forward pass\n",
    "                self.layers[0].forward(inputs=sample) # input layer\n",
    "                for j in range(1, self._layers_len):\n",
    "                    self.layers[j].forward(inputs=self.layers[j-1].output)\n",
    "\n",
    "                target = dataset.targets[i]\n",
    "                \n",
    "\n",
    "                # Calc loss\n",
    "                output_error = self.calc_loss(target=target)\n",
    "                epoch_losses.append(output_error)\n",
    "\n",
    "                \n",
    "\n",
    "\n",
    "                # Backward pass\n",
    "                # backward from output to input layer\n",
    "                # propagate gradients using chain rule\n",
    "\n",
    "                delta =  self.layers[-2].activation.derivative(x=self.layers[-1].output) * output_error\n",
    "\n",
    "                for i in range(self._layers_len - 2, 0, -1):\n",
    "                    print(\"weights\", self.layers[i+1].weights)\n",
    "                    print(\"delta\", delta)\n",
    "\n",
    "                    error = np.dot(self.layers[i+1].weights.T, delta)\n",
    "                    delta =  self.layers[i].activation.derivative(x=self.layers[i].output) * error\n",
    "\n",
    "                    # self.layers[i+1]\n",
    "                    \n",
    "            mean_loss = np.mean(epoch_losses)\n",
    "            losses_by_epoch.append(mean_loss)\n",
    "        \n",
    "        return losses_by_epoch\n",
    "    \n",
    "    def predict(self, sample: Sample) -> list[float]:\n",
    "        sample = np.array(sample)\n",
    "        sample = sample.reshape(1,len(sample))\n",
    "\n",
    "        self.layers[0].forward(inputs=sample)\n",
    "                \n",
    "        for j in range(1, self._layers_len):\n",
    "            self.layers[j].forward(inputs=self.layers[j-1].output)\n",
    "        \n",
    "        predict = self.layers[-1].output\n",
    "        return predict\n",
    "    \n",
    "    def calc_loss(self, target: Target) -> float:\n",
    "        output_layer = self.layers[-1]\n",
    "        output = output_layer.output\n",
    "\n",
    "        loss = self.loss.calc(x=output, y=target)\n",
    "        return loss\n",
    "\n",
    "    \n",
    "    def set_weights(self, weights: Weights) -> None:\n",
    "        for w,layer in zip(weights, self.layers):\n",
    "            layer.weights = w\n",
    "\n",
    "    @property\n",
    "    def weights(self) -> Weights:\n",
    "        weights = [layer.weights for layer in self.layers]\n",
    "        return weights"
   ]
  },
  {
   "cell_type": "code",
   "execution_count": 136,
   "metadata": {},
   "outputs": [],
   "source": [
    "X_train = [\n",
    "    # [1,2,3,4],\n",
    "    [4,3,2,1]\n",
    "]\n",
    "\n",
    "\n",
    "\n",
    "# X_train = [\n",
    "#     [[1,2,3], [1,2,3], [1,2,3]], # photo\n",
    "# ]\n",
    "\n",
    "y_train = [1,]\n",
    "\n",
    "\n",
    "\n",
    "train_dataset = Dataset(data=X_train, targets=y_train)\n",
    "# val_dataset = Dataset(data=X_val, targets=y_val)"
   ]
  },
  {
   "cell_type": "code",
   "execution_count": 154,
   "metadata": {},
   "outputs": [
    {
     "name": "stdout",
     "output_type": "stream",
     "text": [
      "weights [[0.98922012]]\n",
      "delta [0.]\n",
      "weights [[-1.1027246]]\n",
      "delta [0.]\n",
      "weights [[-0.71061908 -0.90337474 -0.26092541  0.75022038  0.19218836 -0.16157973\n",
      "  -0.86220984 -0.56044209  0.51798827 -0.04515772  0.42738035  0.43078864\n",
      "   1.1378959  -0.2155129  -0.69536619  0.61184062  0.7716131   0.23898331\n",
      "  -0.8490155  -0.11401803  1.18117661 -0.83250931  0.32595073 -1.07884529\n",
      "   0.9534285  -1.08374539  0.35926728  1.00532671 -1.08358968  0.27433708\n",
      "  -0.51998205 -0.70302348  0.61020996  0.36907327 -0.17858175  0.43997014\n",
      "   0.79547082 -0.34956048 -0.15004788  0.147363    0.96763968  0.5294663\n",
      "  -0.41667789 -0.12258554 -0.93361612  0.31398528 -0.2807096   0.67172133\n",
      "  -0.41391285 -0.14374035  0.01680576 -0.85726241  0.24078391 -0.72716076\n",
      "   1.2008945   0.19110736 -0.58107663 -0.66516595 -0.63747592 -1.1206695\n",
      "  -0.35505441  0.56215466  0.39363403  0.45298507 -0.46427331 -0.42338011\n",
      "   0.9882086  -0.20033137  0.75674208  0.33920965  0.02872272 -0.5219441\n",
      "  -0.39601342  0.00262892  0.78663189 -0.81190644 -0.96407452  0.69891204\n",
      "  -1.06707523 -0.30230652  0.068771   -0.54074609  0.68890445 -1.09308168\n",
      "  -0.07548989  0.24509284 -0.3847439  -0.64413839  1.03314089 -0.68132893\n",
      "   1.14952843 -0.37595139  0.23074869  0.89978336 -0.5196385   1.13020289\n",
      "   0.47875544  1.07925866  0.68705937  0.70129009]]\n",
      "delta [-0.]\n",
      "weights [[-0.76891901 -0.26100899]\n",
      " [ 0.20482754  0.21947357]\n",
      " [ 0.6086069  -0.97157332]\n",
      " [-0.23664676  1.08045231]\n",
      " [ 1.00955627 -0.50248347]\n",
      " [-1.19472331  1.06024623]\n",
      " [ 0.70556121  0.12705056]\n",
      " [ 0.67860248  1.13387662]\n",
      " [ 0.43740141  0.05949633]\n",
      " [ 0.60736714 -0.38595474]\n",
      " [-0.28680018 -0.33490958]\n",
      " [-0.78354592  0.77674301]\n",
      " [-0.17928184 -0.49610516]\n",
      " [-0.96750256  0.61897402]\n",
      " [-0.80868506  0.0996331 ]\n",
      " [-0.33120636  1.20452251]\n",
      " [ 0.22248601  1.07466395]\n",
      " [-0.4549131  -0.88616191]\n",
      " [ 0.76298867 -0.23016114]\n",
      " [ 1.00876201 -0.69034135]\n",
      " [ 0.94287657  0.94918776]\n",
      " [-0.18851664 -0.1737365 ]\n",
      " [-0.42451837 -0.29226861]\n",
      " [ 0.91445032  0.96396113]\n",
      " [ 0.37343893 -0.11614618]\n",
      " [-1.03665923  0.39361433]\n",
      " [-0.95143348 -0.13661848]\n",
      " [ 0.83647712  0.67932838]\n",
      " [-0.70774269 -0.45977981]\n",
      " [-0.19757743 -0.21846373]\n",
      " [ 0.46322927  1.11472543]\n",
      " [ 0.07795525 -0.77687829]\n",
      " [-1.06593376 -0.51807256]\n",
      " [-0.16371116 -0.98886644]\n",
      " [-0.40563295 -0.47341861]\n",
      " [ 0.72931755  1.03967633]\n",
      " [-0.92692981 -0.13760678]\n",
      " [-0.13395263  0.09440405]\n",
      " [ 0.95521825 -0.9193242 ]\n",
      " [-0.97072524  0.73733847]\n",
      " [ 0.75777328 -0.2850703 ]\n",
      " [ 1.01777967 -0.13175735]\n",
      " [-1.07619673  0.70556251]\n",
      " [ 0.07632875  0.11577094]\n",
      " [-0.35899977 -0.70705777]\n",
      " [-1.02183136  0.17945047]\n",
      " [-0.04651959  0.81505464]\n",
      " [-0.48075628  0.17654731]\n",
      " [-0.71313043  0.53461627]\n",
      " [-0.241468   -0.53647184]\n",
      " [ 1.08129665  0.26813123]\n",
      " [-0.81065098  0.59828539]\n",
      " [ 0.16434748 -0.47380985]\n",
      " [ 0.76306258  0.63199294]\n",
      " [ 1.07075119 -0.14535722]\n",
      " [-0.27017899 -0.36302013]\n",
      " [ 0.37400076  0.52537864]\n",
      " [ 0.1761448  -0.20442636]\n",
      " [-0.06631425  0.0522821 ]\n",
      " [-0.66671797 -1.10494286]\n",
      " [-0.26119091  0.77236131]\n",
      " [-0.55071496  0.08118338]\n",
      " [-0.71658064 -1.08531888]\n",
      " [ 0.9148669   0.46452537]\n",
      " [ 0.49934373 -0.86296703]\n",
      " [ 0.06804306 -0.63696171]\n",
      " [ 0.19321042  1.08360127]\n",
      " [ 0.09453938 -0.69793431]\n",
      " [ 0.68024409 -1.17209986]\n",
      " [-0.52114933  0.5848869 ]\n",
      " [ 0.3908243  -0.36133645]\n",
      " [ 0.50183847  0.5638168 ]\n",
      " [-0.29453685  0.66795644]\n",
      " [-0.68028937  0.22753354]\n",
      " [ 0.82214698 -0.22234984]\n",
      " [ 0.78592643  0.88628918]\n",
      " [ 0.79542593 -0.55364276]\n",
      " [-0.22311521  0.99388179]\n",
      " [-1.00927154 -0.68180767]\n",
      " [-0.61953135  0.81078812]\n",
      " [ 0.42753008  0.4313178 ]\n",
      " [-0.64075051 -0.71069242]\n",
      " [-0.92072328  0.05850605]\n",
      " [-0.37206782  0.53198674]\n",
      " [ 0.35987619 -1.02511912]\n",
      " [ 0.55996329  1.10873594]\n",
      " [ 0.80237538 -1.07943445]\n",
      " [-0.87161672 -1.04321944]\n",
      " [ 1.22178603 -0.58745228]\n",
      " [ 1.07997137 -1.06307317]\n",
      " [ 1.21893292  0.98488688]\n",
      " [-0.5938045  -0.0121268 ]\n",
      " [ 0.91992119  1.13984705]\n",
      " [ 0.90595345  0.89625339]\n",
      " [-0.52065572  0.4651039 ]\n",
      " [-0.25528326 -0.31609636]\n",
      " [-1.01945498  1.14841503]\n",
      " [-0.15624629 -0.52760103]\n",
      " [ 1.06973549  0.81770119]\n",
      " [ 0.65580143 -0.54864024]]\n",
      "delta [0. 0. 0. 0. 0. 0. 0. 0. 0. 0. 0. 0. 0. 0. 0. 0. 0. 0. 0. 0. 0. 0. 0. 0.\n",
      " 0. 0. 0. 0. 0. 0. 0. 0. 0. 0. 0. 0. 0. 0. 0. 0. 0. 0. 0. 0. 0. 0. 0. 0.\n",
      " 0. 0. 0. 0. 0. 0. 0. 0. 0. 0. 0. 0. 0. 0. 0. 0. 0. 0. 0. 0. 0. 0. 0. 0.\n",
      " 0. 0. 0. 0. 0. 0. 0. 0. 0. 0. 0. 0. 0. 0. 0. 0. 0. 0. 0. 0. 0. 0. 0. 0.\n",
      " 0. 0. 0. 0.]\n",
      "weights [[-0.52917959  0.8978584   0.53202206 -0.30065492]\n",
      " [-0.00140496  0.8801534  -0.45064033 -0.62988462]]\n",
      "delta [0. 0.]\n",
      "weights [[ 0.7884142   0.75053325]\n",
      " [-0.93052482  0.44785442]\n",
      " [ 0.51936389  0.86064379]\n",
      " [-0.91060742  0.00364752]]\n",
      "delta [0. 0. 0. 0.]\n",
      "weights [[ 0.91679288 -0.42889059  0.64482757 -0.44963618]\n",
      " [-0.77369134 -1.07115896 -0.94308914 -0.97603992]]\n",
      "delta [0. 0.]\n",
      "weights [[ 1.02485237e+00 -7.31797541e-01 -8.69370820e-01  1.93161325e-01\n",
      "   2.08431962e-01  9.21627423e-01 -1.61373408e-01  1.16633411e+00\n",
      "  -5.02703640e-01  8.84054880e-01 -6.95005331e-01 -1.20708406e+00\n",
      "  -9.61331161e-01]\n",
      " [-3.79030490e-01 -4.41168711e-01 -7.98785583e-01  7.67698402e-01\n",
      "   6.39057431e-01  2.18622572e-01 -4.34297498e-01  7.85038361e-01\n",
      "  -1.99040428e-01  1.04716158e+00 -8.43562668e-01  2.59844768e-01\n",
      "  -8.19068310e-01]\n",
      " [ 5.82541081e-01 -1.17339008e+00  3.67579711e-01 -1.06352526e+00\n",
      "  -4.91590113e-01  5.25138397e-01 -6.50555718e-01  4.96397378e-02\n",
      "  -5.17722107e-01 -8.34455080e-02 -1.04344375e-03  7.26207850e-02\n",
      "  -6.96869712e-01]\n",
      " [-4.71483429e-01 -1.09065696e-01 -9.10831337e-01 -2.07305649e-02\n",
      "   5.20947575e-01 -6.43395072e-01  3.29515294e-01 -7.92465072e-01\n",
      "   9.59168829e-01  1.07334008e+00  1.08592490e+00  1.13855504e+00\n",
      "   1.13659839e-01]]\n",
      "delta [0. 0. 0. 0.]\n"
     ]
    },
    {
     "data": {
      "text/plain": [
       "[0.0]"
      ]
     },
     "execution_count": 154,
     "metadata": {},
     "output_type": "execute_result"
    }
   ],
   "source": [
    "# input and output layers must be with equal numbers\n",
    "\n",
    "layers = [\n",
    "    Linear(4,13, activation=Sigmoid()),\n",
    "    Linear(13,4, activation=Sigmoid()),\n",
    "    Linear(4,2, activation=Sigmoid()),\n",
    "    Linear(2,4, activation=Sigmoid()),\n",
    "    Linear(4,2, activation=Sigmoid()),\n",
    "    Linear(2,100, activation=Sigmoid()),\n",
    "    Linear(100,1, activation=Sigmoid()),\n",
    "    Linear(1,1, activation=Sigmoid()),\n",
    "    Linear(1,1, activation=Softmax()),\n",
    "]\n",
    "\n",
    "model = Model(layers=layers, loss=MSELoss(), n_epoch=1, verbose=0)\n",
    "\n",
    "\n",
    "model.fit(dataset=train_dataset)"
   ]
  },
  {
   "cell_type": "code",
   "execution_count": 364,
   "metadata": {},
   "outputs": [
    {
     "data": {
      "text/plain": [
       "array([[ 0.87616528,  0.8770434 , -1.07185091, -0.3473528 ,  0.07240868,\n",
       "        -0.0397271 ,  0.04991074, -1.00090593,  0.99031344,  1.10922691,\n",
       "         0.56103235, -0.71546477,  1.19246648],\n",
       "       [ 0.29093634,  0.58343993,  0.06555826,  0.26530925, -0.87390265,\n",
       "        -0.76867888, -0.39083652, -0.94488054,  0.90105738,  0.65674802,\n",
       "         0.83505957, -0.72995415, -1.15744424],\n",
       "       [ 0.59840803,  0.97942934, -0.92458376, -1.03876575, -0.6212136 ,\n",
       "        -0.08884953,  0.68199734,  0.25303518, -0.47230019,  1.11874919,\n",
       "         0.13748123,  0.1428907 ,  0.72724899],\n",
       "       [-0.09438416, -0.39631527,  0.96266206,  0.61768845, -0.42897597,\n",
       "         1.05387946,  0.50110398,  1.00928054, -0.98790323,  0.02746748,\n",
       "         0.95923375, -0.06502083, -0.64327335]])"
      ]
     },
     "execution_count": 364,
     "metadata": {},
     "output_type": "execute_result"
    }
   ],
   "source": [
    "model.layers[1].weights"
   ]
  },
  {
   "cell_type": "code",
   "execution_count": 369,
   "metadata": {},
   "outputs": [
    {
     "name": "stdout",
     "output_type": "stream",
     "text": [
      "[0.9391043  0.00322892 0.00930119 0.94782751 0.91798714 0.01339995\n",
      " 0.00372608 0.00276383 0.03399139 0.96232475 0.86889642 0.67765143\n",
      " 0.00543836]\n",
      "\n",
      "[0. 0. 0. 0.]\n"
     ]
    },
    {
     "ename": "ValueError",
     "evalue": "shapes (13,) and (4,) not aligned: 13 (dim 0) != 4 (dim 0)",
     "output_type": "error",
     "traceback": [
      "\u001b[0;31m---------------------------------------------------------------------------\u001b[0m",
      "\u001b[0;31mValueError\u001b[0m                                Traceback (most recent call last)",
      "Cell \u001b[0;32mIn[369], line 1\u001b[0m\n\u001b[0;32m----> 1\u001b[0m \u001b[43mmodel\u001b[49m\u001b[38;5;241;43m.\u001b[39;49m\u001b[43mfit\u001b[49m\u001b[43m(\u001b[49m\u001b[43mdataset\u001b[49m\u001b[38;5;241;43m=\u001b[39;49m\u001b[43mtrain_dataset\u001b[49m\u001b[43m)\u001b[49m\n",
      "Cell \u001b[0;32mIn[366], line 58\u001b[0m, in \u001b[0;36mModel.fit\u001b[0;34m(self, dataset)\u001b[0m\n\u001b[1;32m     56\u001b[0m         \u001b[38;5;28mprint\u001b[39m()\n\u001b[1;32m     57\u001b[0m         \u001b[38;5;28mprint\u001b[39m(D[i])\n\u001b[0;32m---> 58\u001b[0m         \u001b[38;5;28mself\u001b[39m\u001b[38;5;241m.\u001b[39mlayers[i]\u001b[38;5;241m.\u001b[39mweights \u001b[38;5;241m+\u001b[39m\u001b[38;5;241m=\u001b[39m  \u001b[38;5;28;43mself\u001b[39;49m\u001b[38;5;241;43m.\u001b[39;49m\u001b[43mlayers\u001b[49m\u001b[43m[\u001b[49m\u001b[43mi\u001b[49m\u001b[43m]\u001b[49m\u001b[38;5;241;43m.\u001b[39;49m\u001b[43moutput\u001b[49m\u001b[38;5;241;43m.\u001b[39;49m\u001b[43mT\u001b[49m\u001b[38;5;241;43m.\u001b[39;49m\u001b[43mdot\u001b[49m\u001b[43m(\u001b[49m\u001b[43mD\u001b[49m\u001b[43m[\u001b[49m\u001b[43mi\u001b[49m\u001b[43m]\u001b[49m\u001b[43m)\u001b[49m \u001b[38;5;241m*\u001b[39m \u001b[38;5;241m-\u001b[39m\u001b[38;5;28mself\u001b[39m\u001b[38;5;241m.\u001b[39mlearning_rate\n\u001b[1;32m     61\u001b[0m mean_loss \u001b[38;5;241m=\u001b[39m np\u001b[38;5;241m.\u001b[39mmean(epoch_losses)\n\u001b[1;32m     62\u001b[0m losses_by_epoch\u001b[38;5;241m.\u001b[39mappend(mean_loss)\n",
      "\u001b[0;31mValueError\u001b[0m: shapes (13,) and (4,) not aligned: 13 (dim 0) != 4 (dim 0)"
     ]
    }
   ],
   "source": [
    "model.fit(dataset=train_dataset)"
   ]
  },
  {
   "cell_type": "markdown",
   "metadata": {},
   "source": [
    "# Load dataset"
   ]
  },
  {
   "cell_type": "code",
   "execution_count": 967,
   "metadata": {},
   "outputs": [],
   "source": [
    "dataset = load_iris()"
   ]
  },
  {
   "cell_type": "code",
   "execution_count": 970,
   "metadata": {},
   "outputs": [
    {
     "data": {
      "text/plain": [
       "dict_keys(['data', 'target', 'frame', 'target_names', 'DESCR', 'feature_names', 'filename', 'data_module'])"
      ]
     },
     "execution_count": 970,
     "metadata": {},
     "output_type": "execute_result"
    }
   ],
   "source": [
    "dataset.keys()"
   ]
  },
  {
   "cell_type": "code",
   "execution_count": 1089,
   "metadata": {},
   "outputs": [],
   "source": [
    "X, y = dataset['data'], dataset['target']"
   ]
  },
  {
   "cell_type": "code",
   "execution_count": null,
   "metadata": {},
   "outputs": [],
   "source": [
    "X"
   ]
  },
  {
   "cell_type": "code",
   "execution_count": 1091,
   "metadata": {},
   "outputs": [
    {
     "data": {
      "text/plain": [
       "array([0, 0, 0, 0, 0, 0, 0, 0, 0, 0, 0, 0, 0, 0, 0, 0, 0, 0, 0, 0, 0, 0,\n",
       "       0, 0, 0, 0, 0, 0, 0, 0, 0, 0, 0, 0, 0, 0, 0, 0, 0, 0, 0, 0, 0, 0,\n",
       "       0, 0, 0, 0, 0, 0, 1, 1, 1, 1, 1, 1, 1, 1, 1, 1, 1, 1, 1, 1, 1, 1,\n",
       "       1, 1, 1, 1, 1, 1, 1, 1, 1, 1, 1, 1, 1, 1, 1, 1, 1, 1, 1, 1, 1, 1,\n",
       "       1, 1, 1, 1, 1, 1, 1, 1, 1, 1, 1, 1, 2, 2, 2, 2, 2, 2, 2, 2, 2, 2,\n",
       "       2, 2, 2, 2, 2, 2, 2, 2, 2, 2, 2, 2, 2, 2, 2, 2, 2, 2, 2, 2, 2, 2,\n",
       "       2, 2, 2, 2, 2, 2, 2, 2, 2, 2, 2, 2, 2, 2, 2, 2, 2, 2])"
      ]
     },
     "execution_count": 1091,
     "metadata": {},
     "output_type": "execute_result"
    }
   ],
   "source": [
    "y"
   ]
  },
  {
   "cell_type": "markdown",
   "metadata": {},
   "source": [
    "# One-hot encoding"
   ]
  },
  {
   "cell_type": "code",
   "execution_count": 1093,
   "metadata": {},
   "outputs": [
    {
     "data": {
      "text/plain": [
       "{np.int64(0), np.int64(1), np.int64(2)}"
      ]
     },
     "execution_count": 1093,
     "metadata": {},
     "output_type": "execute_result"
    }
   ],
   "source": [
    "labels = set(y)\n",
    "labels_len = len(labels)\n",
    "\n",
    "labels"
   ]
  },
  {
   "cell_type": "code",
   "execution_count": 1094,
   "metadata": {},
   "outputs": [
    {
     "data": {
      "text/plain": [
       "[[1, 0, 0],\n",
       " [1, 0, 0],\n",
       " [1, 0, 0],\n",
       " [1, 0, 0],\n",
       " [1, 0, 0],\n",
       " [1, 0, 0],\n",
       " [1, 0, 0],\n",
       " [1, 0, 0],\n",
       " [1, 0, 0],\n",
       " [1, 0, 0],\n",
       " [1, 0, 0],\n",
       " [1, 0, 0],\n",
       " [1, 0, 0],\n",
       " [1, 0, 0],\n",
       " [1, 0, 0],\n",
       " [1, 0, 0],\n",
       " [1, 0, 0],\n",
       " [1, 0, 0],\n",
       " [1, 0, 0],\n",
       " [1, 0, 0],\n",
       " [1, 0, 0],\n",
       " [1, 0, 0],\n",
       " [1, 0, 0],\n",
       " [1, 0, 0],\n",
       " [1, 0, 0],\n",
       " [1, 0, 0],\n",
       " [1, 0, 0],\n",
       " [1, 0, 0],\n",
       " [1, 0, 0],\n",
       " [1, 0, 0],\n",
       " [1, 0, 0],\n",
       " [1, 0, 0],\n",
       " [1, 0, 0],\n",
       " [1, 0, 0],\n",
       " [1, 0, 0],\n",
       " [1, 0, 0],\n",
       " [1, 0, 0],\n",
       " [1, 0, 0],\n",
       " [1, 0, 0],\n",
       " [1, 0, 0],\n",
       " [1, 0, 0],\n",
       " [1, 0, 0],\n",
       " [1, 0, 0],\n",
       " [1, 0, 0],\n",
       " [1, 0, 0],\n",
       " [1, 0, 0],\n",
       " [1, 0, 0],\n",
       " [1, 0, 0],\n",
       " [1, 0, 0],\n",
       " [1, 0, 0],\n",
       " [0, 1, 0],\n",
       " [0, 1, 0],\n",
       " [0, 1, 0],\n",
       " [0, 1, 0],\n",
       " [0, 1, 0],\n",
       " [0, 1, 0],\n",
       " [0, 1, 0],\n",
       " [0, 1, 0],\n",
       " [0, 1, 0],\n",
       " [0, 1, 0],\n",
       " [0, 1, 0],\n",
       " [0, 1, 0],\n",
       " [0, 1, 0],\n",
       " [0, 1, 0],\n",
       " [0, 1, 0],\n",
       " [0, 1, 0],\n",
       " [0, 1, 0],\n",
       " [0, 1, 0],\n",
       " [0, 1, 0],\n",
       " [0, 1, 0],\n",
       " [0, 1, 0],\n",
       " [0, 1, 0],\n",
       " [0, 1, 0],\n",
       " [0, 1, 0],\n",
       " [0, 1, 0],\n",
       " [0, 1, 0],\n",
       " [0, 1, 0],\n",
       " [0, 1, 0],\n",
       " [0, 1, 0],\n",
       " [0, 1, 0],\n",
       " [0, 1, 0],\n",
       " [0, 1, 0],\n",
       " [0, 1, 0],\n",
       " [0, 1, 0],\n",
       " [0, 1, 0],\n",
       " [0, 1, 0],\n",
       " [0, 1, 0],\n",
       " [0, 1, 0],\n",
       " [0, 1, 0],\n",
       " [0, 1, 0],\n",
       " [0, 1, 0],\n",
       " [0, 1, 0],\n",
       " [0, 1, 0],\n",
       " [0, 1, 0],\n",
       " [0, 1, 0],\n",
       " [0, 1, 0],\n",
       " [0, 1, 0],\n",
       " [0, 1, 0],\n",
       " [0, 1, 0],\n",
       " [0, 1, 0],\n",
       " [0, 0, 1],\n",
       " [0, 0, 1],\n",
       " [0, 0, 1],\n",
       " [0, 0, 1],\n",
       " [0, 0, 1],\n",
       " [0, 0, 1],\n",
       " [0, 0, 1],\n",
       " [0, 0, 1],\n",
       " [0, 0, 1],\n",
       " [0, 0, 1],\n",
       " [0, 0, 1],\n",
       " [0, 0, 1],\n",
       " [0, 0, 1],\n",
       " [0, 0, 1],\n",
       " [0, 0, 1],\n",
       " [0, 0, 1],\n",
       " [0, 0, 1],\n",
       " [0, 0, 1],\n",
       " [0, 0, 1],\n",
       " [0, 0, 1],\n",
       " [0, 0, 1],\n",
       " [0, 0, 1],\n",
       " [0, 0, 1],\n",
       " [0, 0, 1],\n",
       " [0, 0, 1],\n",
       " [0, 0, 1],\n",
       " [0, 0, 1],\n",
       " [0, 0, 1],\n",
       " [0, 0, 1],\n",
       " [0, 0, 1],\n",
       " [0, 0, 1],\n",
       " [0, 0, 1],\n",
       " [0, 0, 1],\n",
       " [0, 0, 1],\n",
       " [0, 0, 1],\n",
       " [0, 0, 1],\n",
       " [0, 0, 1],\n",
       " [0, 0, 1],\n",
       " [0, 0, 1],\n",
       " [0, 0, 1],\n",
       " [0, 0, 1],\n",
       " [0, 0, 1],\n",
       " [0, 0, 1],\n",
       " [0, 0, 1],\n",
       " [0, 0, 1],\n",
       " [0, 0, 1],\n",
       " [0, 0, 1],\n",
       " [0, 0, 1],\n",
       " [0, 0, 1],\n",
       " [0, 0, 1]]"
      ]
     },
     "execution_count": 1094,
     "metadata": {},
     "output_type": "execute_result"
    }
   ],
   "source": [
    "y_1 = []\n",
    "\n",
    "for i in y:\n",
    "    l = [0] * labels_len\n",
    "    l[i] = 1\n",
    "    y_1.append(l)\n",
    "y_1"
   ]
  },
  {
   "cell_type": "markdown",
   "metadata": {},
   "source": [
    "# Split"
   ]
  },
  {
   "cell_type": "code",
   "execution_count": 1228,
   "metadata": {},
   "outputs": [],
   "source": [
    "X_train, X_val, y_train, y_val = train_test_split(X, y_1, train_size=0.8)"
   ]
  },
  {
   "cell_type": "code",
   "execution_count": 1229,
   "metadata": {},
   "outputs": [],
   "source": [
    "train_dataset = Dataset(data=X_train, targets=y_train)\n",
    "val_dataset = Dataset(data=X_val, targets=y_val)"
   ]
  },
  {
   "cell_type": "markdown",
   "metadata": {},
   "source": [
    "# Model"
   ]
  },
  {
   "cell_type": "code",
   "execution_count": 1267,
   "metadata": {},
   "outputs": [],
   "source": [
    "layers = [\n",
    "    Linear(4,10, activation=ReLU()),\n",
    "    Linear(10,20, activation=ReLU()),\n",
    "    Linear(20,100, activation=ReLU()),\n",
    "    Linear(100,10, activation=ReLU()),\n",
    "    Linear(10,3, activation=Softmax()),\n",
    "]\n",
    "\n",
    "model = Model(layers=layers, loss=MSELoss(), n_epoch=10, verbose=1)"
   ]
  },
  {
   "cell_type": "code",
   "execution_count": 1268,
   "metadata": {},
   "outputs": [
    {
     "name": "stderr",
     "output_type": "stream",
     "text": [
      "epochs: 100%|██████████| 10/10 [00:00<00:00, 41.55it/s]\n"
     ]
    }
   ],
   "source": [
    "losses = model.fit(dataset=train_dataset)"
   ]
  },
  {
   "cell_type": "markdown",
   "metadata": {},
   "source": [
    "# Plots"
   ]
  },
  {
   "cell_type": "code",
   "execution_count": 1269,
   "metadata": {},
   "outputs": [
    {
     "data": {
      "text/plain": [
       "<Axes: >"
      ]
     },
     "execution_count": 1269,
     "metadata": {},
     "output_type": "execute_result"
    },
    {
     "data": {
      "image/png": "[encoded data removed]",
      "text/plain": [
       "<Figure size 640x480 with 1 Axes>"
      ]
     },
     "metadata": {},
     "output_type": "display_data"
    }
   ],
   "source": [
    "sns.lineplot(losses)"
   ]
  },
  {
   "cell_type": "code",
   "execution_count": 1240,
   "metadata": {},
   "outputs": [
    {
     "data": {
      "text/plain": [
       "array([4.3, 3. , 1.1, 0.1])"
      ]
     },
     "execution_count": 1240,
     "metadata": {},
     "output_type": "execute_result"
    }
   ],
   "source": [
    "X_val[0]"
   ]
  },
  {
   "cell_type": "code",
   "execution_count": 1241,
   "metadata": {},
   "outputs": [
    {
     "data": {
      "text/plain": [
       "(array([[0.37434921, 0.37134219, 0.2543086 ]]), [1, 0, 0])"
      ]
     },
     "execution_count": 1241,
     "metadata": {},
     "output_type": "execute_result"
    }
   ],
   "source": [
    "model.predict(X_train[1]), y_train[1]"
   ]
  },
  {
   "cell_type": "code",
   "execution_count": 1242,
   "metadata": {},
   "outputs": [
    {
     "data": {
      "text/plain": [
       "(array([[0.23116393, 0.37761343, 0.39122264]]), [0, 1, 0])"
      ]
     },
     "execution_count": 1242,
     "metadata": {},
     "output_type": "execute_result"
    }
   ],
   "source": [
    "model.predict(X_val[1]), y_val[1]"
   ]
  },
  {
   "cell_type": "code",
   "execution_count": 1270,
   "metadata": {},
   "outputs": [
    {
     "data": {
      "text/plain": [
       "0.3416666666666667"
      ]
     },
     "execution_count": 1270,
     "metadata": {},
     "output_type": "execute_result"
    }
   ],
   "source": [
    "true_count = 0\n",
    "all_count = 0\n",
    "\n",
    "for sample,target in zip(X_train, y_train):\n",
    "    pred = model.predict(sample=sample)\n",
    "\n",
    "    pred = np.where(pred[0] >= max(pred[0]), 1, 0)\n",
    "    # print(pred)\n",
    "    # print(target)\n",
    "\n",
    "    if list(pred) == target:\n",
    "        true_count += 1\n",
    "    all_count += 1 \n",
    "\n",
    "\n",
    "acc = true_count / all_count\n",
    "acc"
   ]
  },
  {
   "cell_type": "code",
   "execution_count": 1215,
   "metadata": {},
   "outputs": [
    {
     "data": {
      "text/plain": [
       "np.int64(0)"
      ]
     },
     "execution_count": 1215,
     "metadata": {},
     "output_type": "execute_result"
    }
   ],
   "source": [
    "np.argmax([1,0,0])"
   ]
  }
 ],
 "metadata": {
  "kernelspec": {
   "display_name": "Python 3",
   "language": "python",
   "name": "python3"
  },
  "language_info": {
   "codemirror_mode": {
    "name": "ipython",
    "version": 3
   },
   "file_extension": ".py",
   "mimetype": "text/x-python",
   "name": "python",
   "nbconvert_exporter": "python",
   "pygments_lexer": "ipython3",
   "version": "3.12.2"
  }
 },
 "nbformat": 4,
 "nbformat_minor": 2
}
